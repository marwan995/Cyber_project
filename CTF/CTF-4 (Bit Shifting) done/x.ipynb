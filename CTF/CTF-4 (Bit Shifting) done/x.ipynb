{
 "cells": [
  {
   "cell_type": "code",
   "execution_count": 9,
   "metadata": {},
   "outputs": [
    {
     "name": "stdout",
     "output_type": "stream",
     "text": [
      "Bit stream: 0010010000110010101101100011011000110111100100000011000010110111001100100001000000111011101100101011011000110001101101111011011010110010100100000011101000110111100100000011001100110100101101100011001010011000100110001001000000110011001101111011100100110010101101110011100110110100101100011001000000110001101101000011000010110110001101100011001010110111001100111011001010010111000100000010101000110100001101001011100110010000001101001011100110010000001101010011101010111001101110100001000000110011001101001011011000110110001100101011100100010000001110100011001010111100001110100001000000111010001101111001000000110110101100001011010110110010100100000011010010111010000100000011011000110111101101110011001110110010101110010001011100000110100001010000011010000101001100110011000010111001101110100011000110111010001100110011110110110000101011111011000100110100101110100010111110111010001110010011010010110001101101011011110010111110\n"
     ]
    }
   ],
   "source": [
    "# Read the contents of the \"bits.txt\" file as bits\n",
    "with open(\"bits.txt\", \"rb\") as file:\n",
    "    # Read the file byte by byte and concatenate the bits into a single string\n",
    "    bit_stream = \"\"\n",
    "    byte = file.read(1)\n",
    "    while byte:\n",
    "        # Convert the byte to its binary representation\n",
    "        bits = bin(int.from_bytes(byte, \"big\"))[2:].zfill(8)\n",
    "        # Concatenate the binary representation to the bit stream\n",
    "        bit_stream += bits\n",
    "        # Read the next byte\n",
    "        byte = file.read(1)\n",
    "\n",
    "# Print the bit stream\n",
    "print(\"Bit stream:\", bit_stream)\n"
   ]
  },
  {
   "cell_type": "code",
   "execution_count": 10,
   "metadata": {},
   "outputs": [
    {
     "name": "stdout",
     "output_type": "stream",
     "text": [
      "Shifted characters: $2¶670·2\u0010;²¶1·¶²:734¶237¹2·9´±1´0¶62·3²\u0010*44¹4¹5:¹º\u001034¶62¹\u0010:2¼:\u0010:76°µ²4º\u001067·3²¹\u0017\u0006\u000630¹º1º3=°¯±4º/º94±µ¼¾\n",
      "Shifted characters: Hello and welcome to file11 forensic challenge. This is just filler text to make it longer.\n",
      "\n",
      "fastctf{a_bit_tricky|\n",
      "Shifted characters: ÊØØÞ@ÂÜÈ@îÊØÆÞÚÊ@èÞ@ÌÒØÊbb@ÌÞäÊÜæÒÆ@ÆÐÂØØÊÜÎÊ\\@¨ÐÒæ@Òæ@Ôêæè@ÌÒØØÊä@èÊðè@èÞ@ÚÂÖÊ@Òè@ØÞÜÎÊä\\\u001a\u0014\u001a\u0014ÌÂæèÆèÌöÂ¾ÄÒè¾èäÒÆÖòø\n",
      "Shifted characters: !±±¼¹Ý±½µÑ¼¥±ÄÄ½É¹Í¥¡±±¹¸Q¡¥Ì¥Ì©ÕÍÐ¥±±ÈÑáÐÑ¼µ­¥Ð±½¹È¸4(4)ÍÑÑí}¥Ñ}ÑÉ¥­åñ\n",
      "Shifted characters: C+ccy\u0003\u000bs!\u0003»+c\u001b{k)\u0003£y\u00033Kc)\u00033{+sK\u0019\u0003\u001bC\u000bcc+s;)q\u0002£CK\u0003K\u0003S«¡\u00033Kcc+\u0003£+Ã¡\u0003£y\u0003k\u000b[)\u0003K¡\u0003c{s;+phPhS3\u000b£\u001b£3Û\n",
      "û\u0013K¢û£K\u001b[Ëâ\n",
      "Shifted characters: VÆÆò\u0006\u0016æB\u0007vVÆ6öÖR\u0007Fò\u0006fÆS\u0013\u0012\u0006f÷&Vç62\u00066\u0016ÆÆVævRâ\u0005F2\u00062\u0006§W7B\u0006fÆÆW\"\u0007FWB\u0007Fò\u0006Ö\u0016¶R\u0006B\u0006ÆöævW\"àÐ Ð¦f\u00177F7Fg¶\u0015ö&E÷G&6·Ä\n",
      "Shifted characters: \f­ä\f-Ì\u000eì­mí¬¤\u000eä\fÍ-¦&$\fÍîL­Îm,d\fm\f-­Ìì¥Ä\n",
      "íÌì®EÁ¡A¡LÌ.nnÏl+ìM.îM,mo/\n",
      "Shifted characters: \u0019[\u001b\u001bÈ\u0018[\u001dÙ[\u0018ÛÛYH\u001d\u001bÈ\u0019[\u0019LLH\u0019Ü[ÚXÈ\u0018Ú\u0018[\u001b\u0019[ÙK\u0015\u001a\u001a\\È\u001a\\È\u001a\\\u0019[\u001b\u0019\\\u001d\u0019^\u001d\u001bÈ\u001bXZÙH\u001a\u001b\u001bÛÙ\\BB\\Ý\u0018Ý\u0019ØWØ]\u0017Ý\u001cXÚÞ_\u0012\n",
      "Shifted characters: 2¶670·2\u0010;²¶1·¶²:734¶237¹2·9´±1´0¶62·3²\u0010*44¹4¹5:¹º\u001034¶62¹\u0010:2¼:\u0010:76°µ²4º\u001067·3²¹\u0017\u0006\u000630¹º1º3=°¯±4º/º94±µ¼¾$\n",
      "Shifted characters: ello and welcome to file11 forensic challenge. This is just filler text to make it longer.\n",
      "\n",
      "fastctf{a_bit_tricky|H\n",
      "Shifted characters: ÊØØÞ@ÂÜÈ@îÊØÆÞÚÊ@èÞ@ÌÒØÊbb@ÌÞäÊÜæÒÆ@ÆÐÂØØÊÜÎÊ\\@¨ÐÒæ@Òæ@Ôêæè@ÌÒØØÊä@èÊðè@èÞ@ÚÂÖÊ@Òè@ØÞÜÎÊä\\\u001a\u0014\u001a\u0014ÌÂæèÆèÌöÂ¾ÄÒè¾èäÒÆÖòø\n",
      "Shifted characters: ±±¼¹Ý±½µÑ¼¥±ÄÄ½É¹Í¥¡±±¹¸Q¡¥Ì¥Ì©ÕÍÐ¥±±ÈÑáÐÑ¼µ­¥Ð±½¹È¸4(4)ÍÑÑí}¥Ñ}ÑÉ¥­åñ!\n",
      "Shifted characters: +ccy\u0003\u000bs!\u0003»+c\u001b{k)\u0003£y\u00033Kc)\u00033{+sK\u0019\u0003\u001bC\u000bcc+s;)q\u0002£CK\u0003K\u0003S«¡\u00033Kcc+\u0003£+Ã¡\u0003£y\u0003k\u000b[)\u0003K¡\u0003c{s;+phPhS3\u000b£\u001b£3Û\n",
      "û\u0013K¢û£K\u001b[ËâC\n",
      "Shifted characters: VÆÆò\u0006\u0016æB\u0007vVÆ6öÖR\u0007Fò\u0006fÆS\u0013\u0012\u0006f÷&Vç62\u00066\u0016ÆÆVævRâ\u0005F2\u00062\u0006§W7B\u0006fÆÆW\"\u0007FWB\u0007Fò\u0006Ö\u0016¶R\u0006B\u0006ÆöævW\"àÐ Ð¦f\u00177F7Fg¶\u0015ö&E÷G&6·Ä\n",
      "Shifted characters: ­ä\f-Ì\u000eì­mí¬¤\u000eä\fÍ-¦&$\fÍîL­Îm,d\fm\f-­Ìì¥Ä\n",
      "íÌì®EÁ¡A¡LÌ.nnÏl+ìM.îM,mo/\f\n",
      "Shifted characters: [\u001b\u001bÈ\u0018[\u001dÙ[\u0018ÛÛYH\u001d\u001bÈ\u0019[\u0019LLH\u0019Ü[ÚXÈ\u0018Ú\u0018[\u001b\u0019[ÙK\u0015\u001a\u001a\\È\u001a\\È\u001a\\\u0019[\u001b\u0019\\\u001d\u0019^\u001d\u001bÈ\u001bXZÙH\u001a\u001b\u001bÛÙ\\BB\\Ý\u0018Ý\u0019ØWØ]\u0017Ý\u001cXÚÞ_\u0012\u0019\n",
      "Shifted characters: ¶670·2\u0010;²¶1·¶²:734¶237¹2·9´±1´0¶62·3²\u0010*44¹4¹5:¹º\u001034¶62¹\u0010:2¼:\u0010:76°µ²4º\u001067·3²¹\u0017\u0006\u000630¹º1º3=°¯±4º/º94±µ¼¾$2\n",
      "Shifted characters: llo and welcome to file11 forensic challenge. This is just filler text to make it longer.\n",
      "\n",
      "fastctf{a_bit_tricky|He\n",
      "Shifted characters: ØØÞ@ÂÜÈ@îÊØÆÞÚÊ@èÞ@ÌÒØÊbb@ÌÞäÊÜæÒÆ@ÆÐÂØØÊÜÎÊ\\@¨ÐÒæ@Òæ@Ôêæè@ÌÒØØÊä@èÊðè@èÞ@ÚÂÖÊ@Òè@ØÞÜÎÊä\\\u001a\u0014\u001a\u0014ÌÂæèÆèÌöÂ¾ÄÒè¾èäÒÆÖòøÊ\n",
      "Shifted characters: ±±¼¹Ý±½µÑ¼¥±ÄÄ½É¹Í¥¡±±¹¸Q¡¥Ì¥Ì©ÕÍÐ¥±±ÈÑáÐÑ¼µ­¥Ð±½¹È¸4(4)ÍÑÑí}¥Ñ}ÑÉ¥­åñ!\n",
      "Shifted characters: ccy\u0003\u000bs!\u0003»+c\u001b{k)\u0003£y\u00033Kc)\u00033{+sK\u0019\u0003\u001bC\u000bcc+s;)q\u0002£CK\u0003K\u0003S«¡\u00033Kcc+\u0003£+Ã¡\u0003£y\u0003k\u000b[)\u0003K¡\u0003c{s;+phPhS3\u000b£\u001b£3Û\n",
      "û\u0013K¢û£K\u001b[ËâC+\n",
      "Shifted characters: ÆÆò\u0006\u0016æB\u0007vVÆ6öÖR\u0007Fò\u0006fÆS\u0013\u0012\u0006f÷&Vç62\u00066\u0016ÆÆVævRâ\u0005F2\u00062\u0006§W7B\u0006fÆÆW\"\u0007FWB\u0007Fò\u0006Ö\u0016¶R\u0006B\u0006ÆöævW\"àÐ Ð¦f\u00177F7Fg¶\u0015ö&E÷G&6·ÄV\n",
      "Shifted characters: ä\f-Ì\u000eì­mí¬¤\u000eä\fÍ-¦&$\fÍîL­Îm,d\fm\f-­Ìì¥Ä\n",
      "íÌì®EÁ¡A¡LÌ.nnÏl+ìM.îM,mo/\f­\n",
      "Shifted characters: \u001b\u001bÈ\u0018[\u001dÙ[\u0018ÛÛYH\u001d\u001bÈ\u0019[\u0019LLH\u0019Ü[ÚXÈ\u0018Ú\u0018[\u001b\u0019[ÙK\u0015\u001a\u001a\\È\u001a\\È\u001a\\\u0019[\u001b\u0019\\\u001d\u0019^\u001d\u001bÈ\u001bXZÙH\u001a\u001b\u001bÛÙ\\BB\\Ý\u0018Ý\u0019ØWØ]\u0017Ý\u001cXÚÞ_\u0012\u0019[\n",
      "Shifted characters: 670·2\u0010;²¶1·¶²:734¶237¹2·9´±1´0¶62·3²\u0010*44¹4¹5:¹º\u001034¶62¹\u0010:2¼:\u0010:76°µ²4º\u001067·3²¹\u0017\u0006\u000630¹º1º3=°¯±4º/º94±µ¼¾$2¶\n",
      "Shifted characters: lo and welcome to file11 forensic challenge. This is just filler text to make it longer.\n",
      "\n",
      "fastctf{a_bit_tricky|Hel\n",
      "Shifted characters: ØÞ@ÂÜÈ@îÊØÆÞÚÊ@èÞ@ÌÒØÊbb@ÌÞäÊÜæÒÆ@ÆÐÂØØÊÜÎÊ\\@¨ÐÒæ@Òæ@Ôêæè@ÌÒØØÊä@èÊðè@èÞ@ÚÂÖÊ@Òè@ØÞÜÎÊä\\\u001a\u0014\u001a\u0014ÌÂæèÆèÌöÂ¾ÄÒè¾èäÒÆÖòøÊØ\n",
      "Shifted characters: ±¼¹Ý±½µÑ¼¥±ÄÄ½É¹Í¥¡±±¹¸Q¡¥Ì¥Ì©ÕÍÐ¥±±ÈÑáÐÑ¼µ­¥Ð±½¹È¸4(4)ÍÑÑí}¥Ñ}ÑÉ¥­åñ!±\n",
      "Shifted characters: cy\u0003\u000bs!\u0003»+c\u001b{k)\u0003£y\u00033Kc)\u00033{+sK\u0019\u0003\u001bC\u000bcc+s;)q\u0002£CK\u0003K\u0003S«¡\u00033Kcc+\u0003£+Ã¡\u0003£y\u0003k\u000b[)\u0003K¡\u0003c{s;+phPhS3\u000b£\u001b£3Û\n",
      "û\u0013K¢û£K\u001b[ËâC+c\n",
      "Shifted characters: Æò\u0006\u0016æB\u0007vVÆ6öÖR\u0007Fò\u0006fÆS\u0013\u0012\u0006f÷&Vç62\u00066\u0016ÆÆVævRâ\u0005F2\u00062\u0006§W7B\u0006fÆÆW\"\u0007FWB\u0007Fò\u0006Ö\u0016¶R\u0006B\u0006ÆöævW\"àÐ Ð¦f\u00177F7Fg¶\u0015ö&E÷G&6·ÄVÆ\n",
      "Shifted characters: ä\f-Ì\u000eì­mí¬¤\u000eä\fÍ-¦&$\fÍîL­Îm,d\fm\f-­Ìì¥Ä\n",
      "íÌì®EÁ¡A¡LÌ.nnÏl+ìM.îM,mo/\f­\n",
      "Shifted characters: \u001bÈ\u0018[\u001dÙ[\u0018ÛÛYH\u001d\u001bÈ\u0019[\u0019LLH\u0019Ü[ÚXÈ\u0018Ú\u0018[\u001b\u0019[ÙK\u0015\u001a\u001a\\È\u001a\\È\u001a\\\u0019[\u001b\u0019\\\u001d\u0019^\u001d\u001bÈ\u001bXZÙH\u001a\u001b\u001bÛÙ\\BB\\Ý\u0018Ý\u0019ØWØ]\u0017Ý\u001cXÚÞ_\u0012\u0019[\u001b\n",
      "Shifted characters: 70·2\u0010;²¶1·¶²:734¶237¹2·9´±1´0¶62·3²\u0010*44¹4¹5:¹º\u001034¶62¹\u0010:2¼:\u0010:76°µ²4º\u001067·3²¹\u0017\u0006\u000630¹º1º3=°¯±4º/º94±µ¼¾$2¶6\n",
      "Shifted characters: o and welcome to file11 forensic challenge. This is just filler text to make it longer.\n",
      "\n",
      "fastctf{a_bit_tricky|Hell\n",
      "Shifted characters: Þ@ÂÜÈ@îÊØÆÞÚÊ@èÞ@ÌÒØÊbb@ÌÞäÊÜæÒÆ@ÆÐÂØØÊÜÎÊ\\@¨ÐÒæ@Òæ@Ôêæè@ÌÒØØÊä@èÊðè@èÞ@ÚÂÖÊ@Òè@ØÞÜÎÊä\\\u001a\u0014\u001a\u0014ÌÂæèÆèÌöÂ¾ÄÒè¾èäÒÆÖòøÊØØ\n",
      "Shifted characters: ¼¹Ý±½µÑ¼¥±ÄÄ½É¹Í¥¡±±¹¸Q¡¥Ì¥Ì©ÕÍÐ¥±±ÈÑáÐÑ¼µ­¥Ð±½¹È¸4(4)ÍÑÑí}¥Ñ}ÑÉ¥­åñ!±±\n",
      "Shifted characters: y\u0003\u000bs!\u0003»+c\u001b{k)\u0003£y\u00033Kc)\u00033{+sK\u0019\u0003\u001bC\u000bcc+s;)q\u0002£CK\u0003K\u0003S«¡\u00033Kcc+\u0003£+Ã¡\u0003£y\u0003k\u000b[)\u0003K¡\u0003c{s;+phPhS3\u000b£\u001b£3Û\n",
      "û\u0013K¢û£K\u001b[ËâC+cc\n",
      "Shifted characters: ò\u0006\u0016æB\u0007vVÆ6öÖR\u0007Fò\u0006fÆS\u0013\u0012\u0006f÷&Vç62\u00066\u0016ÆÆVævRâ\u0005F2\u00062\u0006§W7B\u0006fÆÆW\"\u0007FWB\u0007Fò\u0006Ö\u0016¶R\u0006B\u0006ÆöævW\"àÐ Ð¦f\u00177F7Fg¶\u0015ö&E÷G&6·ÄVÆÆ\n",
      "Shifted characters: ä\f-Ì\u000eì­mí¬¤\u000eä\fÍ-¦&$\fÍîL­Îm,d\fm\f-­Ìì¥Ä\n",
      "íÌì®EÁ¡A¡LÌ.nnÏl+ìM.îM,mo/\f­\n",
      "Shifted characters: È\u0018[\u001dÙ[\u0018ÛÛYH\u001d\u001bÈ\u0019[\u0019LLH\u0019Ü[ÚXÈ\u0018Ú\u0018[\u001b\u0019[ÙK\u0015\u001a\u001a\\È\u001a\\È\u001a\\\u0019[\u001b\u0019\\\u001d\u0019^\u001d\u001bÈ\u001bXZÙH\u001a\u001b\u001bÛÙ\\BB\\Ý\u0018Ý\u0019ØWØ]\u0017Ý\u001cXÚÞ_\u0012\u0019[\u001b\u001b\n",
      "Shifted characters: 0·2\u0010;²¶1·¶²:734¶237¹2·9´±1´0¶62·3²\u0010*44¹4¹5:¹º\u001034¶62¹\u0010:2¼:\u0010:76°µ²4º\u001067·3²¹\u0017\u0006\u000630¹º1º3=°¯±4º/º94±µ¼¾$2¶67\n",
      "Shifted characters:  and welcome to file11 forensic challenge. This is just filler text to make it longer.\n",
      "\n",
      "fastctf{a_bit_tricky|Hello\n",
      "Shifted characters: @ÂÜÈ@îÊØÆÞÚÊ@èÞ@ÌÒØÊbb@ÌÞäÊÜæÒÆ@ÆÐÂØØÊÜÎÊ\\@¨ÐÒæ@Òæ@Ôêæè@ÌÒØØÊä@èÊðè@èÞ@ÚÂÖÊ@Òè@ØÞÜÎÊä\\\u001a\u0014\u001a\u0014ÌÂæèÆèÌöÂ¾ÄÒè¾èäÒÆÖòøÊØØÞ\n",
      "Shifted characters: ¹Ý±½µÑ¼¥±ÄÄ½É¹Í¥¡±±¹¸Q¡¥Ì¥Ì©ÕÍÐ¥±±ÈÑáÐÑ¼µ­¥Ð±½¹È¸4(4)ÍÑÑí}¥Ñ}ÑÉ¥­åñ!±±¼\n",
      "Shifted characters: \u0003\u000bs!\u0003»+c\u001b{k)\u0003£y\u00033Kc)\u00033{+sK\u0019\u0003\u001bC\u000bcc+s;)q\u0002£CK\u0003K\u0003S«¡\u00033Kcc+\u0003£+Ã¡\u0003£y\u0003k\u000b[)\u0003K¡\u0003c{s;+phPhS3\u000b£\u001b£3Û\n",
      "û\u0013K¢û£K\u001b[ËâC+ccy\n",
      "Shifted characters: \u0006\u0016æB\u0007vVÆ6öÖR\u0007Fò\u0006fÆS\u0013\u0012\u0006f÷&Vç62\u00066\u0016ÆÆVævRâ\u0005F2\u00062\u0006§W7B\u0006fÆÆW\"\u0007FWB\u0007Fò\u0006Ö\u0016¶R\u0006B\u0006ÆöævW\"àÐ Ð¦f\u00177F7Fg¶\u0015ö&E÷G&6·ÄVÆÆò\n",
      "Shifted characters: \f-Ì\u000eì­mí¬¤\u000eä\fÍ-¦&$\fÍîL­Îm,d\fm\f-­Ìì¥Ä\n",
      "íÌì®EÁ¡A¡LÌ.nnÏl+ìM.îM,mo/\f­ä\n",
      "Shifted characters: \u0018[\u001dÙ[\u0018ÛÛYH\u001d\u001bÈ\u0019[\u0019LLH\u0019Ü[ÚXÈ\u0018Ú\u0018[\u001b\u0019[ÙK\u0015\u001a\u001a\\È\u001a\\È\u001a\\\u0019[\u001b\u0019\\\u001d\u0019^\u001d\u001bÈ\u001bXZÙH\u001a\u001b\u001bÛÙ\\BB\\Ý\u0018Ý\u0019ØWØ]\u0017Ý\u001cXÚÞ_\u0012\u0019[\u001b\u001bÈ\n",
      "Shifted characters: 0·2\u0010;²¶1·¶²:734¶237¹2·9´±1´0¶62·3²\u0010*44¹4¹5:¹º\u001034¶62¹\u0010:2¼:\u0010:76°µ²4º\u001067·3²¹\u0017\u0006\u000630¹º1º3=°¯±4º/º94±µ¼¾$2¶67\n",
      "Shifted characters: and welcome to file11 forensic challenge. This is just filler text to make it longer.\n",
      "\n",
      "fastctf{a_bit_tricky|Hello \n",
      "Shifted characters: ÂÜÈ@îÊØÆÞÚÊ@èÞ@ÌÒØÊbb@ÌÞäÊÜæÒÆ@ÆÐÂØØÊÜÎÊ\\@¨ÐÒæ@Òæ@Ôêæè@ÌÒØØÊä@èÊðè@èÞ@ÚÂÖÊ@Òè@ØÞÜÎÊä\\\u001a\u0014\u001a\u0014ÌÂæèÆèÌöÂ¾ÄÒè¾èäÒÆÖòøÊØØÞ@\n",
      "Shifted characters: ¹Ý±½µÑ¼¥±ÄÄ½É¹Í¥¡±±¹¸Q¡¥Ì¥Ì©ÕÍÐ¥±±ÈÑáÐÑ¼µ­¥Ð±½¹È¸4(4)ÍÑÑí}¥Ñ}ÑÉ¥­åñ!±±¼\n",
      "Shifted characters: \u000bs!\u0003»+c\u001b{k)\u0003£y\u00033Kc)\u00033{+sK\u0019\u0003\u001bC\u000bcc+s;)q\u0002£CK\u0003K\u0003S«¡\u00033Kcc+\u0003£+Ã¡\u0003£y\u0003k\u000b[)\u0003K¡\u0003c{s;+phPhS3\u000b£\u001b£3Û\n",
      "û\u0013K¢û£K\u001b[ËâC+ccy\u0003\n",
      "Shifted characters: \u0016æB\u0007vVÆ6öÖR\u0007Fò\u0006fÆS\u0013\u0012\u0006f÷&Vç62\u00066\u0016ÆÆVævRâ\u0005F2\u00062\u0006§W7B\u0006fÆÆW\"\u0007FWB\u0007Fò\u0006Ö\u0016¶R\u0006B\u0006ÆöævW\"àÐ Ð¦f\u00177F7Fg¶\u0015ö&E÷G&6·ÄVÆÆò\u0006\n",
      "Shifted characters: -Ì\u000eì­mí¬¤\u000eä\fÍ-¦&$\fÍîL­Îm,d\fm\f-­Ìì¥Ä\n",
      "íÌì®EÁ¡A¡LÌ.nnÏl+ìM.îM,mo/\f­ä\f\n",
      "Shifted characters: [\u001dÙ[\u0018ÛÛYH\u001d\u001bÈ\u0019[\u0019LLH\u0019Ü[ÚXÈ\u0018Ú\u0018[\u001b\u0019[ÙK\u0015\u001a\u001a\\È\u001a\\È\u001a\\\u0019[\u001b\u0019\\\u001d\u0019^\u001d\u001bÈ\u001bXZÙH\u001a\u001b\u001bÛÙ\\BB\\Ý\u0018Ý\u0019ØWØ]\u0017Ý\u001cXÚÞ_\u0012\u0019[\u001b\u001bÈ\u0018\n",
      "Shifted characters: ·2\u0010;²¶1·¶²:734¶237¹2·9´±1´0¶62·3²\u0010*44¹4¹5:¹º\u001034¶62¹\u0010:2¼:\u0010:76°µ²4º\u001067·3²¹\u0017\u0006\u000630¹º1º3=°¯±4º/º94±µ¼¾$2¶670\n",
      "Shifted characters: nd welcome to file11 forensic challenge. This is just filler text to make it longer.\n",
      "\n",
      "fastctf{a_bit_tricky|Hello a\n",
      "Shifted characters: ÜÈ@îÊØÆÞÚÊ@èÞ@ÌÒØÊbb@ÌÞäÊÜæÒÆ@ÆÐÂØØÊÜÎÊ\\@¨ÐÒæ@Òæ@Ôêæè@ÌÒØØÊä@èÊðè@èÞ@ÚÂÖÊ@Òè@ØÞÜÎÊä\\\u001a\u0014\u001a\u0014ÌÂæèÆèÌöÂ¾ÄÒè¾èäÒÆÖòøÊØØÞ@Â\n",
      "Shifted characters: ¹Ý±½µÑ¼¥±ÄÄ½É¹Í¥¡±±¹¸Q¡¥Ì¥Ì©ÕÍÐ¥±±ÈÑáÐÑ¼µ­¥Ð±½¹È¸4(4)ÍÑÑí}¥Ñ}ÑÉ¥­åñ!±±¼\n",
      "Shifted characters: s!\u0003»+c\u001b{k)\u0003£y\u00033Kc)\u00033{+sK\u0019\u0003\u001bC\u000bcc+s;)q\u0002£CK\u0003K\u0003S«¡\u00033Kcc+\u0003£+Ã¡\u0003£y\u0003k\u000b[)\u0003K¡\u0003c{s;+phPhS3\u000b£\u001b£3Û\n",
      "û\u0013K¢û£K\u001b[ËâC+ccy\u0003\u000b\n",
      "Shifted characters: æB\u0007vVÆ6öÖR\u0007Fò\u0006fÆS\u0013\u0012\u0006f÷&Vç62\u00066\u0016ÆÆVævRâ\u0005F2\u00062\u0006§W7B\u0006fÆÆW\"\u0007FWB\u0007Fò\u0006Ö\u0016¶R\u0006B\u0006ÆöævW\"àÐ Ð¦f\u00177F7Fg¶\u0015ö&E÷G&6·ÄVÆÆò\u0006\u0016\n",
      "Shifted characters: Ì\u000eì­mí¬¤\u000eä\fÍ-¦&$\fÍîL­Îm,d\fm\f-­Ìì¥Ä\n",
      "íÌì®EÁ¡A¡LÌ.nnÏl+ìM.îM,mo/\f­ä\f-\n",
      "Shifted characters: \u001dÙ[\u0018ÛÛYH\u001d\u001bÈ\u0019[\u0019LLH\u0019Ü[ÚXÈ\u0018Ú\u0018[\u001b\u0019[ÙK\u0015\u001a\u001a\\È\u001a\\È\u001a\\\u0019[\u001b\u0019\\\u001d\u0019^\u001d\u001bÈ\u001bXZÙH\u001a\u001b\u001bÛÙ\\BB\\Ý\u0018Ý\u0019ØWØ]\u0017Ý\u001cXÚÞ_\u0012\u0019[\u001b\u001bÈ\u0018[\n",
      "Shifted characters: 2\u0010;²¶1·¶²:734¶237¹2·9´±1´0¶62·3²\u0010*44¹4¹5:¹º\u001034¶62¹\u0010:2¼:\u0010:76°µ²4º\u001067·3²¹\u0017\u0006\u000630¹º1º3=°¯±4º/º94±µ¼¾$2¶670·\n",
      "Shifted characters: d welcome to file11 forensic challenge. This is just filler text to make it longer.\n",
      "\n",
      "fastctf{a_bit_tricky|Hello an\n",
      "Shifted characters: È@îÊØÆÞÚÊ@èÞ@ÌÒØÊbb@ÌÞäÊÜæÒÆ@ÆÐÂØØÊÜÎÊ\\@¨ÐÒæ@Òæ@Ôêæè@ÌÒØØÊä@èÊðè@èÞ@ÚÂÖÊ@Òè@ØÞÜÎÊä\\\u001a\u0014\u001a\u0014ÌÂæèÆèÌöÂ¾ÄÒè¾èäÒÆÖòøÊØØÞ@ÂÜ\n",
      "Shifted characters: Ý±½µÑ¼¥±ÄÄ½É¹Í¥¡±±¹¸Q¡¥Ì¥Ì©ÕÍÐ¥±±ÈÑáÐÑ¼µ­¥Ð±½¹È¸4(4)ÍÑÑí}¥Ñ}ÑÉ¥­åñ!±±¼¹\n",
      "Shifted characters: !\u0003»+c\u001b{k)\u0003£y\u00033Kc)\u00033{+sK\u0019\u0003\u001bC\u000bcc+s;)q\u0002£CK\u0003K\u0003S«¡\u00033Kcc+\u0003£+Ã¡\u0003£y\u0003k\u000b[)\u0003K¡\u0003c{s;+phPhS3\u000b£\u001b£3Û\n",
      "û\u0013K¢û£K\u001b[ËâC+ccy\u0003\u000bs\n",
      "Shifted characters: B\u0007vVÆ6öÖR\u0007Fò\u0006fÆS\u0013\u0012\u0006f÷&Vç62\u00066\u0016ÆÆVævRâ\u0005F2\u00062\u0006§W7B\u0006fÆÆW\"\u0007FWB\u0007Fò\u0006Ö\u0016¶R\u0006B\u0006ÆöævW\"àÐ Ð¦f\u00177F7Fg¶\u0015ö&E÷G&6·ÄVÆÆò\u0006\u0016æ\n",
      "Shifted characters: \u000eì­mí¬¤\u000eä\fÍ-¦&$\fÍîL­Îm,d\fm\f-­Ìì¥Ä\n",
      "íÌì®EÁ¡A¡LÌ.nnÏl+ìM.îM,mo/\f­ä\f-Ì\n",
      "Shifted characters:\u001dÙ[\u0018ÛÛYH\u001d\u001bÈ\u0019[\u0019LLH\u0019Ü[ÚXÈ\u0018Ú\u0018[\u001b\u0019[ÙK\u0015\u001a\u001a\\È\u001a\\È\u001a\\\u0019[\u001b\u0019\\\u001d\u0019^\u001d\u001bÈ\u001bXZÙH\u001a\u001b\u001bÛÙ\\BB\\Ý\u0018Ý\u0019ØWØ]\u0017Ý\u001cXÚÞ_\u0012\u0019[\u001b\u001bÈ\u0018[\n",
      "Shifted characters: \u0010;²¶1·¶²:734¶237¹2·9´±1´0¶62·3²\u0010*44¹4¹5:¹º\u001034¶62¹\u0010:2¼:\u0010:76°µ²4º\u001067·3²¹\u0017\u0006\u000630¹º1º3=°¯±4º/º94±µ¼¾$2¶670·2\n",
      "Shifted characters:  welcome to file11 forensic challenge. This is just filler text to make it longer.\n",
      "\n",
      "fastctf{a_bit_tricky|Hello and\n",
      "Shifted characters: @îÊØÆÞÚÊ@èÞ@ÌÒØÊbb@ÌÞäÊÜæÒÆ@ÆÐÂØØÊÜÎÊ\\@¨ÐÒæ@Òæ@Ôêæè@ÌÒØØÊä@èÊðè@èÞ@ÚÂÖÊ@Òè@ØÞÜÎÊä\\\u001a\u0014\u001a\u0014ÌÂæèÆèÌöÂ¾ÄÒè¾èäÒÆÖòøÊØØÞ@ÂÜÈ\n",
      "Shifted characters: Ý±½µÑ¼¥±ÄÄ½É¹Í¥¡±±¹¸Q¡¥Ì¥Ì©ÕÍÐ¥±±ÈÑáÐÑ¼µ­¥Ð±½¹È¸4(4)ÍÑÑí}¥Ñ}ÑÉ¥­åñ!±±¼¹\n",
      "Shifted characters: \u0003»+c\u001b{k)\u0003£y\u00033Kc)\u00033{+sK\u0019\u0003\u001bC\u000bcc+s;)q\u0002£CK\u0003K\u0003S«¡\u00033Kcc+\u0003£+Ã¡\u0003£y\u0003k\u000b[)\u0003K¡\u0003c{s;+phPhS3\u000b£\u001b£3Û\n",
      "û\u0013K¢û£K\u001b[ËâC+ccy\u0003\u000bs!\n",
      "Shifted characters: \u0007vVÆ6öÖR\u0007Fò\u0006fÆS\u0013\u0012\u0006f÷&Vç62\u00066\u0016ÆÆVævRâ\u0005F2\u00062\u0006§W7B\u0006fÆÆW\"\u0007FWB\u0007Fò\u0006Ö\u0016¶R\u0006B\u0006ÆöævW\"àÐ Ð¦f\u00177F7Fg¶\u0015ö&E÷G&6·ÄVÆÆò\u0006\u0016æB\n",
      "Shifted characters: \u000eì­mí¬¤\u000eä\fÍ-¦&$\fÍîL­Îm,d\fm\f-­Ìì¥Ä\n",
      "íÌì®EÁ¡A¡LÌ.nnÏl+ìM.îM,mo/\f­ä\f-Ì\n",
      "Shifted characters: \u001dÙ[\u0018ÛÛYH\u001d\u001bÈ\u0019[\u0019LLH\u0019Ü[ÚXÈ\u0018Ú\u0018[\u001b\u0019[ÙK\u0015\u001a\u001a\\È\u001a\\È\u001a\\\u0019[\u001b\u0019\\\u001d\u0019^\u001d\u001bÈ\u001bXZÙH\u001a\u001b\u001bÛÙ\\BB\\Ý\u0018Ý\u0019ØWØ]\u0017Ý\u001cXÚÞ_\u0012\u0019[\u001b\u001bÈ\u0018[\n",
      "Shifted characters: ;²¶1·¶²:734¶237¹2·9´±1´0¶62·3²\u0010*44¹4¹5:¹º\u001034¶62¹\u0010:2¼:\u0010:76°µ²4º\u001067·3²¹\u0017\u0006\u000630¹º1º3=°¯±4º/º94±µ¼¾$2¶670·2\u0010\n",
      "Shifted characters: welcome to file11 forensic challenge. This is just filler text to make it longer.\n",
      "\n",
      "fastctf{a_bit_tricky|Hello and \n",
      "Shifted characters: îÊØÆÞÚÊ@èÞ@ÌÒØÊbb@ÌÞäÊÜæÒÆ@ÆÐÂØØÊÜÎÊ\\@¨ÐÒæ@Òæ@Ôêæè@ÌÒØØÊä@èÊðè@èÞ@ÚÂÖÊ@Òè@ØÞÜÎÊä\\\u001a\u0014\u001a\u0014ÌÂæèÆèÌöÂ¾ÄÒè¾èäÒÆÖòøÊØØÞ@ÂÜÈ@\n",
      "Shifted characters: Ý±½µÑ¼¥±ÄÄ½É¹Í¥¡±±¹¸Q¡¥Ì¥Ì©ÕÍÐ¥±±ÈÑáÐÑ¼µ­¥Ð±½¹È¸4(4)ÍÑÑí}¥Ñ}ÑÉ¥­åñ!±±¼¹\n",
      "Shifted characters: »+c\u001b{k)\u0003£y\u00033Kc)\u00033{+sK\u0019\u0003\u001bC\u000bcc+s;)q\u0002£CK\u0003K\u0003S«¡\u00033Kcc+\u0003£+Ã¡\u0003£y\u0003k\u000b[)\u0003K¡\u0003c{s;+phPhS3\u000b£\u001b£3Û\n",
      "û\u0013K¢û£K\u001b[ËâC+ccy\u0003\u000bs!\u0003\n",
      "Shifted characters: vVÆ6öÖR\u0007Fò\u0006fÆS\u0013\u0012\u0006f÷&Vç62\u00066\u0016ÆÆVævRâ\u0005F2\u00062\u0006§W7B\u0006fÆÆW\"\u0007FWB\u0007Fò\u0006Ö\u0016¶R\u0006B\u0006ÆöævW\"àÐ Ð¦f\u00177F7Fg¶\u0015ö&E÷G&6·ÄVÆÆò\u0006\u0016æB\u0007\n",
      "Shifted characters: ì­mí¬¤\u000eä\fÍ-¦&$\fÍîL­Îm,d\fm\f-­Ìì¥Ä\n",
      "íÌì®EÁ¡A¡LÌ.nnÏl+ìM.îM,mo/\f­ä\f-Ì\u000e\n",
      "Shifted characters: Ù[\u0018ÛÛYH\u001d\u001bÈ\u0019[\u0019LLH\u0019Ü[ÚXÈ\u0018Ú\u0018[\u001b\u0019[ÙK\u0015\u001a\u001a\\È\u001a\\È\u001a\\\u0019[\u001b\u0019\\\u001d\u0019^\u001d\u001bÈ\u001bXZÙH\u001a\u001b\u001bÛÙ\\BB\\Ý\u0018Ý\u0019ØWØ]\u0017Ý\u001cXÚÞ_\u0012\u0019[\u001b\u001bÈ\u0018[\u001d\n",
      "Shifted characters: ²¶1·¶²:734¶237¹2·9´±1´0¶62·3²\u0010*44¹4¹5:¹º\u001034¶62¹\u0010:2¼:\u0010:76°µ²4º\u001067·3²¹\u0017\u0006\u000630¹º1º3=°¯±4º/º94±µ¼¾$2¶670·2\u0010;\n",
      "Shifted characters: elcome to file11 forensic challenge. This is just filler text to make it longer.\n",
      "\n",
      "fastctf{a_bit_tricky|Hello and w\n",
      "Shifted characters: ÊØÆÞÚÊ@èÞ@ÌÒØÊbb@ÌÞäÊÜæÒÆ@ÆÐÂØØÊÜÎÊ\\@¨ÐÒæ@Òæ@Ôêæè@ÌÒØØÊä@èÊðè@èÞ@ÚÂÖÊ@Òè@ØÞÜÎÊä\\\u001a\u0014\u001a\u0014ÌÂæèÆèÌöÂ¾ÄÒè¾èäÒÆÖòøÊØØÞ@ÂÜÈ@î\n",
      "Shifted characters: ±½µÑ¼¥±ÄÄ½É¹Í¥¡±±¹¸Q¡¥Ì¥Ì©ÕÍÐ¥±±ÈÑáÐÑ¼µ­¥Ð±½¹È¸4(4)ÍÑÑí}¥Ñ}ÑÉ¥­åñ!±±¼¹Ý\n",
      "Shifted characters: +c\u001b{k)\u0003£y\u00033Kc)\u00033{+sK\u0019\u0003\u001bC\u000bcc+s;)q\u0002£CK\u0003K\u0003S«¡\u00033Kcc+\u0003£+Ã¡\u0003£y\u0003k\u000b[)\u0003K¡\u0003c{s;+phPhS3\u000b£\u001b£3Û\n",
      "û\u0013K¢û£K\u001b[ËâC+ccy\u0003\u000bs!\u0003»\n",
      "Shifted characters: VÆ6öÖR\u0007Fò\u0006fÆS\u0013\u0012\u0006f÷&Vç62\u00066\u0016ÆÆVævRâ\u0005F2\u00062\u0006§W7B\u0006fÆÆW\"\u0007FWB\u0007Fò\u0006Ö\u0016¶R\u0006B\u0006ÆöævW\"àÐ Ð¦f\u00177F7Fg¶\u0015ö&E÷G&6·ÄVÆÆò\u0006\u0016æB\u0007v\n",
      "Shifted characters: ­mí¬¤\u000eä\fÍ-¦&$\fÍîL­Îm,d\fm\f-­Ìì¥Ä\n",
      "íÌì®EÁ¡A¡LÌ.nnÏl+ìM.îM,mo/\f­ä\f-Ì\u000eì\n",
      "Shifted characters: [\u0018ÛÛYH\u001d\u001bÈ\u0019[\u0019LLH\u0019Ü[ÚXÈ\u0018Ú\u0018[\u001b\u0019[ÙK\u0015\u001a\u001a\\È\u001a\\È\u001a\\\u0019[\u001b\u0019\\\u001d\u0019^\u001d\u001bÈ\u001bXZÙH\u001a\u001b\u001bÛÙ\\BB\\Ý\u0018Ý\u0019ØWØ]\u0017Ý\u001cXÚÞ_\u0012\u0019[\u001b\u001bÈ\u0018[\u001dÙ\n",
      "Shifted characters: ¶1·¶²:734¶237¹2·9´±1´0¶62·3²\u0010*44¹4¹5:¹º\u001034¶62¹\u0010:2¼:\u0010:76°µ²4º\u001067·3²¹\u0017\u0006\u000630¹º1º3=°¯±4º/º94±µ¼¾$2¶670·2\u0010;²\n",
      "Shifted characters: lcome to file11 forensic challenge. This is just filler text to make it longer.\n",
      "\n",
      "fastctf{a_bit_tricky|Hello and we\n",
      "Shifted characters: ØÆÞÚÊ@èÞ@ÌÒØÊbb@ÌÞäÊÜæÒÆ@ÆÐÂØØÊÜÎÊ\\@¨ÐÒæ@Òæ@Ôêæè@ÌÒØØÊä@èÊðè@èÞ@ÚÂÖÊ@Òè@ØÞÜÎÊä\\\u001a\u0014\u001a\u0014ÌÂæèÆèÌöÂ¾ÄÒè¾èäÒÆÖòøÊØØÞ@ÂÜÈ@îÊ\n",
      "Shifted characters: ±½µÑ¼¥±ÄÄ½É¹Í¥¡±±¹¸Q¡¥Ì¥Ì©ÕÍÐ¥±±ÈÑáÐÑ¼µ­¥Ð±½¹È¸4(4)ÍÑÑí}¥Ñ}ÑÉ¥­åñ!±±¼¹Ý\n",
      "Shifted characters: c\u001b{k)\u0003£y\u00033Kc)\u00033{+sK\u0019\u0003\u001bC\u000bcc+s;)q\u0002£CK\u0003K\u0003S«¡\u00033Kcc+\u0003£+Ã¡\u0003£y\u0003k\u000b[)\u0003K¡\u0003c{s;+phPhS3\u000b£\u001b£3Û\n",
      "û\u0013K¢û£K\u001b[ËâC+ccy\u0003\u000bs!\u0003»+\n",
      "Shifted characters: Æ6öÖR\u0007Fò\u0006fÆS\u0013\u0012\u0006f÷&Vç62\u00066\u0016ÆÆVævRâ\u0005F2\u00062\u0006§W7B\u0006fÆÆW\"\u0007FWB\u0007Fò\u0006Ö\u0016¶R\u0006B\u0006ÆöævW\"àÐ Ð¦f\u00177F7Fg¶\u0015ö&E÷G&6·ÄVÆÆò\u0006\u0016æB\u0007vV\n",
      "Shifted characters: mí¬¤\u000eä\fÍ-¦&$\fÍîL­Îm,d\fm\f-­Ìì¥Ä\n",
      "íÌì®EÁ¡A¡LÌ.nnÏl+ìM.îM,mo/\f­ä\f-Ì\u000eì­\n",
      "Shifted characters: \u0018ÛÛYH\u001d\u001bÈ\u0019[\u0019LLH\u0019Ü[ÚXÈ\u0018Ú\u0018[\u001b\u0019[ÙK\u0015\u001a\u001a\\È\u001a\\È\u001a\\\u0019[\u001b\u0019\\\u001d\u0019^\u001d\u001bÈ\u001bXZÙH\u001a\u001b\u001bÛÙ\\BB\\Ý\u0018Ý\u0019ØWØ]\u0017Ý\u001cXÚÞ_\u0012\u0019[\u001b\u001bÈ\u0018[\u001dÙ[\n",
      "Shifted characters: 1·¶²:734¶237¹2·9´±1´0¶62·3²\u0010*44¹4¹5:¹º\u001034¶62¹\u0010:2¼:\u0010:76°µ²4º\u001067·3²¹\u0017\u0006\u000630¹º1º3=°¯±4º/º94±µ¼¾$2¶670·2\u0010;²¶\n",
      "Shifted characters: come to file11 forensic challenge. This is just filler text to make it longer.\n",
      "\n",
      "fastctf{a_bit_tricky|Hello and wel\n",
      "Shifted characters: ÆÞÚÊ@èÞ@ÌÒØÊbb@ÌÞäÊÜæÒÆ@ÆÐÂØØÊÜÎÊ\\@¨ÐÒæ@Òæ@Ôêæè@ÌÒØØÊä@èÊðè@èÞ@ÚÂÖÊ@Òè@ØÞÜÎÊä\\\u001a\u0014\u001a\u0014ÌÂæèÆèÌöÂ¾ÄÒè¾èäÒÆÖòøÊØØÞ@ÂÜÈ@îÊØ\n",
      "Shifted characters: ½µÑ¼¥±ÄÄ½É¹Í¥¡±±¹¸Q¡¥Ì¥Ì©ÕÍÐ¥±±ÈÑáÐÑ¼µ­¥Ð±½¹È¸4(4)ÍÑÑí}¥Ñ}ÑÉ¥­åñ!±±¼¹Ý±\n",
      "Shifted characters: \u001b{k)\u0003£y\u00033Kc)\u00033{+sK\u0019\u0003\u001bC\u000bcc+s;)q\u0002£CK\u0003K\u0003S«¡\u00033Kcc+\u0003£+Ã¡\u0003£y\u0003k\u000b[)\u0003K¡\u0003c{s;+phPhS3\u000b£\u001b£3Û\n",
      "û\u0013K¢û£K\u001b[ËâC+ccy\u0003\u000bs!\u0003»+c\n",
      "Shifted characters: 6öÖR\u0007Fò\u0006fÆS\u0013\u0012\u0006f÷&Vç62\u00066\u0016ÆÆVævRâ\u0005F2\u00062\u0006§W7B\u0006fÆÆW\"\u0007FWB\u0007Fò\u0006Ö\u0016¶R\u0006B\u0006ÆöævW\"àÐ Ð¦f\u00177F7Fg¶\u0015ö&E÷G&6·ÄVÆÆò\u0006\u0016æB\u0007vVÆ\n",
      "Shifted characters: mí¬¤\u000eä\fÍ-¦&$\fÍîL­Îm,d\fm\f-­Ìì¥Ä\n",
      "íÌì®EÁ¡A¡LÌ.nnÏl+ìM.îM,mo/\f­ä\f-Ì\u000eì­\n",
      "Shifted characters: ÛÛYH\u001d\u001bÈ\u0019[\u0019LLH\u0019Ü[ÚXÈ\u0018Ú\u0018[\u001b\u0019[ÙK\u0015\u001a\u001a\\È\u001a\\È\u001a\\\u0019[\u001b\u0019\\\u001d\u0019^\u001d\u001bÈ\u001bXZÙH\u001a\u001b\u001bÛÙ\\BB\\Ý\u0018Ý\u0019ØWØ]\u0017Ý\u001cXÚÞ_\u0012\u0019[\u001b\u001bÈ\u0018[\u001dÙ[\u0018\n",
      "Shifted characters: ·¶²:734¶237¹2·9´±1´0¶62·3²\u0010*44¹4¹5:¹º\u001034¶62¹\u0010:2¼:\u0010:76°µ²4º\u001067·3²¹\u0017\u0006\u000630¹º1º3=°¯±4º/º94±µ¼¾$2¶670·2\u0010;²¶1\n",
      "Shifted characters: ome to file11 forensic challenge. This is just filler text to make it longer.\n",
      "\n",
      "fastctf{a_bit_tricky|Hello and welc\n",
      "Shifted characters: ÞÚÊ@èÞ@ÌÒØÊbb@ÌÞäÊÜæÒÆ@ÆÐÂØØÊÜÎÊ\\@¨ÐÒæ@Òæ@Ôêæè@ÌÒØØÊä@èÊðè@èÞ@ÚÂÖÊ@Òè@ØÞÜÎÊä\\\u001a\u0014\u001a\u0014ÌÂæèÆèÌöÂ¾ÄÒè¾èäÒÆÖòøÊØØÞ@ÂÜÈ@îÊØÆ\n",
      "Shifted characters: ½µÑ¼¥±ÄÄ½É¹Í¥¡±±¹¸Q¡¥Ì¥Ì©ÕÍÐ¥±±ÈÑáÐÑ¼µ­¥Ð±½¹È¸4(4)ÍÑÑí}¥Ñ}ÑÉ¥­åñ!±±¼¹Ý±\n",
      "Shifted characters: {k)\u0003£y\u00033Kc)\u00033{+sK\u0019\u0003\u001bC\u000bcc+s;)q\u0002£CK\u0003K\u0003S«¡\u00033Kcc+\u0003£+Ã¡\u0003£y\u0003k\u000b[)\u0003K¡\u0003c{s;+phPhS3\u000b£\u001b£3Û\n",
      "û\u0013K¢û£K\u001b[ËâC+ccy\u0003\u000bs!\u0003»+c\u001b\n",
      "Shifted characters: öÖR\u0007Fò\u0006fÆS\u0013\u0012\u0006f÷&Vç62\u00066\u0016ÆÆVævRâ\u0005F2\u00062\u0006§W7B\u0006fÆÆW\"\u0007FWB\u0007Fò\u0006Ö\u0016¶R\u0006B\u0006ÆöævW\"àÐ Ð¦f\u00177F7Fg¶\u0015ö&E÷G&6·ÄVÆÆò\u0006\u0016æB\u0007vVÆ6\n",
      "Shifted characters: í¬¤\u000eä\fÍ-¦&$\fÍîL­Îm,d\fm\f-­Ìì¥Ä\n",
      "íÌì®EÁ¡A¡LÌ.nnÏl+ìM.îM,mo/\f­ä\f-Ì\u000eì­m\n",
      "Shifted characters: ÛYH\u001d\u001bÈ\u0019[\u0019LLH\u0019Ü[ÚXÈ\u0018Ú\u0018[\u001b\u0019[ÙK\u0015\u001a\u001a\\È\u001a\\È\u001a\\\u0019[\u001b\u0019\\\u001d\u0019^\u001d\u001bÈ\u001bXZÙH\u001a\u001b\u001bÛÙ\\BB\\Ý\u0018Ý\u0019ØWØ]\u0017Ý\u001cXÚÞ_\u0012\u0019[\u001b\u001bÈ\u0018[\u001dÙ[\u0018Û\n",
      "Shifted characters: ¶²:734¶237¹2·9´±1´0¶62·3²\u0010*44¹4¹5:¹º\u001034¶62¹\u0010:2¼:\u0010:76°µ²4º\u001067·3²¹\u0017\u0006\u000630¹º1º3=°¯±4º/º94±µ¼¾$2¶670·2\u0010;²¶1·\n",
      "Shifted characters: me to file11 forensic challenge. This is just filler text to make it longer.\n",
      "\n",
      "fastctf{a_bit_tricky|Hello and welco\n",
      "Shifted characters: ÚÊ@èÞ@ÌÒØÊbb@ÌÞäÊÜæÒÆ@ÆÐÂØØÊÜÎÊ\\@¨ÐÒæ@Òæ@Ôêæè@ÌÒØØÊä@èÊðè@èÞ@ÚÂÖÊ@Òè@ØÞÜÎÊä\\\u001a\u0014\u001a\u0014ÌÂæèÆèÌöÂ¾ÄÒè¾èäÒÆÖòøÊØØÞ@ÂÜÈ@îÊØÆÞ\n",
      "Shifted characters: µÑ¼¥±ÄÄ½É¹Í¥¡±±¹¸Q¡¥Ì¥Ì©ÕÍÐ¥±±ÈÑáÐÑ¼µ­¥Ð±½¹È¸4(4)ÍÑÑí}¥Ñ}ÑÉ¥­åñ!±±¼¹Ý±½\n",
      "Shifted characters: k)\u0003£y\u00033Kc)\u00033{+sK\u0019\u0003\u001bC\u000bcc+s;)q\u0002£CK\u0003K\u0003S«¡\u00033Kcc+\u0003£+Ã¡\u0003£y\u0003k\u000b[)\u0003K¡\u0003c{s;+phPhS3\u000b£\u001b£3Û\n",
      "û\u0013K¢û£K\u001b[ËâC+ccy\u0003\u000bs!\u0003»+c\u001b{\n",
      "Shifted characters: ÖR\u0007Fò\u0006fÆS\u0013\u0012\u0006f÷&Vç62\u00066\u0016ÆÆVævRâ\u0005F2\u00062\u0006§W7B\u0006fÆÆW\"\u0007FWB\u0007Fò\u0006Ö\u0016¶R\u0006B\u0006ÆöævW\"àÐ Ð¦f\u00177F7Fg¶\u0015ö&E÷G&6·ÄVÆÆò\u0006\u0016æB\u0007vVÆ6ö\n",
      "Shifted characters: ¬¤\u000eä\fÍ-¦&$\fÍîL­Îm,d\fm\f-­Ìì¥Ä\n",
      "íÌì®EÁ¡A¡LÌ.nnÏl+ìM.îM,mo/\f­ä\f-Ì\u000eì­mí\n",
      "Shifted characters: YH\u001d\u001bÈ\u0019[\u0019LLH\u0019Ü[ÚXÈ\u0018Ú\u0018[\u001b\u0019[ÙK\u0015\u001a\u001a\\È\u001a\\È\u001a\\\u0019[\u001b\u0019\\\u001d\u0019^\u001d\u001bÈ\u001bXZÙH\u001a\u001b\u001bÛÙ\\BB\\Ý\u0018Ý\u0019ØWØ]\u0017Ý\u001cXÚÞ_\u0012\u0019[\u001b\u001bÈ\u0018[\u001dÙ[\u0018ÛÛ\n",
      "Shifted characters: ²:734¶237¹2·9´±1´0¶62·3²\u0010*44¹4¹5:¹º\u001034¶62¹\u0010:2¼:\u0010:76°µ²4º\u001067·3²¹\u0017\u0006\u000630¹º1º3=°¯±4º/º94±µ¼¾$2¶670·2\u0010;²¶1·¶\n",
      "Shifted characters: e to file11 forensic challenge. This is just filler text to make it longer.\n",
      "\n",
      "fastctf{a_bit_tricky|Hello and welcom\n",
      "Shifted characters: Ê@èÞ@ÌÒØÊbb@ÌÞäÊÜæÒÆ@ÆÐÂØØÊÜÎÊ\\@¨ÐÒæ@Òæ@Ôêæè@ÌÒØØÊä@èÊðè@èÞ@ÚÂÖÊ@Òè@ØÞÜÎÊä\\\u001a\u0014\u001a\u0014ÌÂæèÆèÌöÂ¾ÄÒè¾èäÒÆÖòøÊØØÞ@ÂÜÈ@îÊØÆÞÚ\n",
      "Shifted characters: Ñ¼¥±ÄÄ½É¹Í¥¡±±¹¸Q¡¥Ì¥Ì©ÕÍÐ¥±±ÈÑáÐÑ¼µ­¥Ð±½¹È¸4(4)ÍÑÑí}¥Ñ}ÑÉ¥­åñ!±±¼¹Ý±½µ\n",
      "Shifted characters: )\u0003£y\u00033Kc)\u00033{+sK\u0019\u0003\u001bC\u000bcc+s;)q\u0002£CK\u0003K\u0003S«¡\u00033Kcc+\u0003£+Ã¡\u0003£y\u0003k\u000b[)\u0003K¡\u0003c{s;+phPhS3\u000b£\u001b£3Û\n",
      "û\u0013K¢û£K\u001b[ËâC+ccy\u0003\u000bs!\u0003»+c\u001b{k\n",
      "Shifted characters: R\u0007Fò\u0006fÆS\u0013\u0012\u0006f÷&Vç62\u00066\u0016ÆÆVævRâ\u0005F2\u00062\u0006§W7B\u0006fÆÆW\"\u0007FWB\u0007Fò\u0006Ö\u0016¶R\u0006B\u0006ÆöævW\"àÐ Ð¦f\u00177F7Fg¶\u0015ö&E÷G&6·ÄVÆÆò\u0006\u0016æB\u0007vVÆ6öÖ\n",
      "Shifted characters: ¤\u000eä\fÍ-¦&$\fÍîL­Îm,d\fm\f-­Ìì¥Ä\n",
      "íÌì®EÁ¡A¡LÌ.nnÏl+ìM.îM,mo/\f­ä\f-Ì\u000eì­mí¬\n",
      "Shifted characters: H\u001d\u001bÈ\u0019[\u0019LLH\u0019Ü[ÚXÈ\u0018Ú\u0018[\u001b\u0019[ÙK\u0015\u001a\u001a\\È\u001a\\È\u001a\\\u0019[\u001b\u0019\\\u001d\u0019^\u001d\u001bÈ\u001bXZÙH\u001a\u001b\u001bÛÙ\\BB\\Ý\u0018Ý\u0019ØWØ]\u0017Ý\u001cXÚÞ_\u0012\u0019[\u001b\u001bÈ\u0018[\u001dÙ[\u0018ÛÛY\n",
      "Shifted characters: :734¶237¹2·9´±1´0¶62·3²\u0010*44¹4¹5:¹º\u001034¶62¹\u0010:2¼:\u0010:76°µ²4º\u001067·3²¹\u0017\u0006\u000630¹º1º3=°¯±4º/º94±µ¼¾$2¶670·2\u0010;²¶1·¶²\n",
      "Shifted characters:  to file11 forensic challenge. This is just filler text to make it longer.\n",
      "\n",
      "fastctf{a_bit_tricky|Hello and welcome\n",
      "Shifted characters: @èÞ@ÌÒØÊbb@ÌÞäÊÜæÒÆ@ÆÐÂØØÊÜÎÊ\\@¨ÐÒæ@Òæ@Ôêæè@ÌÒØØÊä@èÊðè@èÞ@ÚÂÖÊ@Òè@ØÞÜÎÊä\\\u001a\u0014\u001a\u0014ÌÂæèÆèÌöÂ¾ÄÒè¾èäÒÆÖòøÊØØÞ@ÂÜÈ@îÊØÆÞÚÊ\n",
      "Shifted characters: Ñ¼¥±ÄÄ½É¹Í¥¡±±¹¸Q¡¥Ì¥Ì©ÕÍÐ¥±±ÈÑáÐÑ¼µ­¥Ð±½¹È¸4(4)ÍÑÑí}¥Ñ}ÑÉ¥­åñ!±±¼¹Ý±½µ\n",
      "Shifted characters: \u0003£y\u00033Kc)\u00033{+sK\u0019\u0003\u001bC\u000bcc+s;)q\u0002£CK\u0003K\u0003S«¡\u00033Kcc+\u0003£+Ã¡\u0003£y\u0003k\u000b[)\u0003K¡\u0003c{s;+phPhS3\u000b£\u001b£3Û\n",
      "û\u0013K¢û£K\u001b[ËâC+ccy\u0003\u000bs!\u0003»+c\u001b{k)\n",
      "Shifted characters: \u0007Fò\u0006fÆS\u0013\u0012\u0006f÷&Vç62\u00066\u0016ÆÆVævRâ\u0005F2\u00062\u0006§W7B\u0006fÆÆW\"\u0007FWB\u0007Fò\u0006Ö\u0016¶R\u0006B\u0006ÆöævW\"àÐ Ð¦f\u00177F7Fg¶\u0015ö&E÷G&6·ÄVÆÆò\u0006\u0016æB\u0007vVÆ6öÖR\n",
      "Shifted characters: \u000eä\fÍ-¦&$\fÍîL­Îm,d\fm\f-­Ìì¥Ä\n",
      "íÌì®EÁ¡A¡LÌ.nnÏl+ìM.îM,mo/\f­ä\f-Ì\u000eì­mí¬¤\n",
      "Shifted characters: \u001d\u001bÈ\u0019[\u0019LLH\u0019Ü[ÚXÈ\u0018Ú\u0018[\u001b\u0019[ÙK\u0015\u001a\u001a\\È\u001a\\È\u001a\\\u0019[\u001b\u0019\\\u001d\u0019^\u001d\u001bÈ\u001bXZÙH\u001a\u001b\u001bÛÙ\\BB\\Ý\u0018Ý\u0019ØWØ]\u0017Ý\u001cXÚÞ_\u0012\u0019[\u001b\u001bÈ\u0018[\u001dÙ[\u0018ÛÛYH\n",
      "Shifted characters: :734¶237¹2·9´±1´0¶62·3²\u0010*44¹4¹5:¹º\u001034¶62¹\u0010:2¼:\u0010:76°µ²4º\u001067·3²¹\u0017\u0006\u000630¹º1º3=°¯±4º/º94±µ¼¾$2¶670·2\u0010;²¶1·¶²\n",
      "Shifted characters: to file11 forensic challenge. This is just filler text to make it longer.\n",
      "\n",
      "fastctf{a_bit_tricky|Hello and welcome \n",
      "Shifted characters: èÞ@ÌÒØÊbb@ÌÞäÊÜæÒÆ@ÆÐÂØØÊÜÎÊ\\@¨ÐÒæ@Òæ@Ôêæè@ÌÒØØÊä@èÊðè@èÞ@ÚÂÖÊ@Òè@ØÞÜÎÊä\\\u001a\u0014\u001a\u0014ÌÂæèÆèÌöÂ¾ÄÒè¾èäÒÆÖòøÊØØÞ@ÂÜÈ@îÊØÆÞÚÊ@\n",
      "Shifted characters: Ñ¼¥±ÄÄ½É¹Í¥¡±±¹¸Q¡¥Ì¥Ì©ÕÍÐ¥±±ÈÑáÐÑ¼µ­¥Ð±½¹È¸4(4)ÍÑÑí}¥Ñ}ÑÉ¥­åñ!±±¼¹Ý±½µ\n",
      "Shifted characters: £y\u00033Kc)\u00033{+sK\u0019\u0003\u001bC\u000bcc+s;)q\u0002£CK\u0003K\u0003S«¡\u00033Kcc+\u0003£+Ã¡\u0003£y\u0003k\u000b[)\u0003K¡\u0003c{s;+phPhS3\u000b£\u001b£3Û\n",
      "û\u0013K¢û£K\u001b[ËâC+ccy\u0003\u000bs!\u0003»+c\u001b{k)\u0003\n",
      "Shifted characters: Fò\u0006fÆS\u0013\u0012\u0006f÷&Vç62\u00066\u0016ÆÆVævRâ\u0005F2\u00062\u0006§W7B\u0006fÆÆW\"\u0007FWB\u0007Fò\u0006Ö\u0016¶R\u0006B\u0006ÆöævW\"àÐ Ð¦f\u00177F7Fg¶\u0015ö&E÷G&6·ÄVÆÆò\u0006\u0016æB\u0007vVÆ6öÖR\u0007\n",
      "Shifted characters: ä\fÍ-¦&$\fÍîL­Îm,d\fm\f-­Ìì¥Ä\n",
      "íÌì®EÁ¡A¡LÌ.nnÏl+ìM.îM,mo/\f­ä\f-Ì\u000eì­mí¬¤\u000e\n",
      "Shifted characters: \u001bÈ\u0019[\u0019LLH\u0019Ü[ÚXÈ\u0018Ú\u0018[\u001b\u0019[ÙK\u0015\u001a\u001a\\È\u001a\\È\u001a\\\u0019[\u001b\u0019\\\u001d\u0019^\u001d\u001bÈ\u001bXZÙH\u001a\u001b\u001bÛÙ\\BB\\Ý\u0018Ý\u0019ØWØ]\u0017Ý\u001cXÚÞ_\u0012\u0019[\u001b\u001bÈ\u0018[\u001dÙ[\u0018ÛÛYH\u001d\n",
      "Shifted characters: 734¶237¹2·9´±1´0¶62·3²\u0010*44¹4¹5:¹º\u001034¶62¹\u0010:2¼:\u0010:76°µ²4º\u001067·3²¹\u0017\u0006\u000630¹º1º3=°¯±4º/º94±µ¼¾$2¶670·2\u0010;²¶1·¶²:\n",
      "Shifted characters: o file11 forensic challenge. This is just filler text to make it longer.\n",
      "\n",
      "fastctf{a_bit_tricky|Hello and welcome t\n",
      "Shifted characters: Þ@ÌÒØÊbb@ÌÞäÊÜæÒÆ@ÆÐÂØØÊÜÎÊ\\@¨ÐÒæ@Òæ@Ôêæè@ÌÒØØÊä@èÊðè@èÞ@ÚÂÖÊ@Òè@ØÞÜÎÊä\\\u001a\u0014\u001a\u0014ÌÂæèÆèÌöÂ¾ÄÒè¾èäÒÆÖòøÊØØÞ@ÂÜÈ@îÊØÆÞÚÊ@è\n",
      "Shifted characters: ¼¥±ÄÄ½É¹Í¥¡±±¹¸Q¡¥Ì¥Ì©ÕÍÐ¥±±ÈÑáÐÑ¼µ­¥Ð±½¹È¸4(4)ÍÑÑí}¥Ñ}ÑÉ¥­åñ!±±¼¹Ý±½µÑ\n",
      "Shifted characters: y\u00033Kc)\u00033{+sK\u0019\u0003\u001bC\u000bcc+s;)q\u0002£CK\u0003K\u0003S«¡\u00033Kcc+\u0003£+Ã¡\u0003£y\u0003k\u000b[)\u0003K¡\u0003c{s;+phPhS3\u000b£\u001b£3Û\n",
      "û\u0013K¢û£K\u001b[ËâC+ccy\u0003\u000bs!\u0003»+c\u001b{k)\u0003£\n",
      "Shifted characters: ò\u0006fÆS\u0013\u0012\u0006f÷&Vç62\u00066\u0016ÆÆVævRâ\u0005F2\u00062\u0006§W7B\u0006fÆÆW\"\u0007FWB\u0007Fò\u0006Ö\u0016¶R\u0006B\u0006ÆöævW\"àÐ Ð¦f\u00177F7Fg¶\u0015ö&E÷G&6·ÄVÆÆò\u0006\u0016æB\u0007vVÆ6öÖR\u0007F\n",
      "Shifted characters: ä\fÍ-¦&$\fÍîL­Îm,d\fm\f-­Ìì¥Ä\n",
      "íÌì®EÁ¡A¡LÌ.nnÏl+ìM.îM,mo/\f­ä\f-Ì\u000eì­mí¬¤\u000e\n",
      "Shifted characters: È\u0019[\u0019LLH\u0019Ü[ÚXÈ\u0018Ú\u0018[\u001b\u0019[ÙK\u0015\u001a\u001a\\È\u001a\\È\u001a\\\u0019[\u001b\u0019\\\u001d\u0019^\u001d\u001bÈ\u001bXZÙH\u001a\u001b\u001bÛÙ\\BB\\Ý\u0018Ý\u0019ØWØ]\u0017Ý\u001cXÚÞ_\u0012\u0019[\u001b\u001bÈ\u0018[\u001dÙ[\u0018ÛÛYH\u001d\u001b\n",
      "Shifted characters: 34¶237¹2·9´±1´0¶62·3²\u0010*44¹4¹5:¹º\u001034¶62¹\u0010:2¼:\u0010:76°µ²4º\u001067·3²¹\u0017\u0006\u000630¹º1º3=°¯±4º/º94±µ¼¾$2¶670·2\u0010;²¶1·¶²:7\n",
      "Shifted characters:  file11 forensic challenge. This is just filler text to make it longer.\n",
      "\n",
      "fastctf{a_bit_tricky|Hello and welcome to\n",
      "Shifted characters: @ÌÒØÊbb@ÌÞäÊÜæÒÆ@ÆÐÂØØÊÜÎÊ\\@¨ÐÒæ@Òæ@Ôêæè@ÌÒØØÊä@èÊðè@èÞ@ÚÂÖÊ@Òè@ØÞÜÎÊä\\\u001a\u0014\u001a\u0014ÌÂæèÆèÌöÂ¾ÄÒè¾èäÒÆÖòøÊØØÞ@ÂÜÈ@îÊØÆÞÚÊ@èÞ\n",
      "Shifted characters: ¥±ÄÄ½É¹Í¥¡±±¹¸Q¡¥Ì¥Ì©ÕÍÐ¥±±ÈÑáÐÑ¼µ­¥Ð±½¹È¸4(4)ÍÑÑí}¥Ñ}ÑÉ¥­åñ!±±¼¹Ý±½µÑ¼\n",
      "Shifted characters: \u00033Kc)\u00033{+sK\u0019\u0003\u001bC\u000bcc+s;)q\u0002£CK\u0003K\u0003S«¡\u00033Kcc+\u0003£+Ã¡\u0003£y\u0003k\u000b[)\u0003K¡\u0003c{s;+phPhS3\u000b£\u001b£3Û\n",
      "û\u0013K¢û£K\u001b[ËâC+ccy\u0003\u000bs!\u0003»+c\u001b{k)\u0003£y\n",
      "Shifted characters: \u0006fÆS\u0013\u0012\u0006f÷&Vç62\u00066\u0016ÆÆVævRâ\u0005F2\u00062\u0006§W7B\u0006fÆÆW\"\u0007FWB\u0007Fò\u0006Ö\u0016¶R\u0006B\u0006ÆöævW\"àÐ Ð¦f\u00177F7Fg¶\u0015ö&E÷G&6·ÄVÆÆò\u0006\u0016æB\u0007vVÆ6öÖR\u0007Fò\n",
      "Shifted characters: \fÍ-¦&$\fÍîL­Îm,d\fm\f-­Ìì¥Ä\n",
      "íÌì®EÁ¡A¡LÌ.nnÏl+ìM.îM,mo/\f­ä\f-Ì\u000eì­mí¬¤\u000eä\n",
      "Shifted characters: \u0019[\u0019LLH\u0019Ü[ÚXÈ\u0018Ú\u0018[\u001b\u0019[ÙK\u0015\u001a\u001a\\È\u001a\\È\u001a\\\u0019[\u001b\u0019\\\u001d\u0019^\u001d\u001bÈ\u001bXZÙH\u001a\u001b\u001bÛÙ\\BB\\Ý\u0018Ý\u0019ØWØ]\u0017Ý\u001cXÚÞ_\u0012\u0019[\u001b\u001bÈ\u0018[\u001dÙ[\u0018ÛÛYH\u001d\u001bÈ\n",
      "Shifted characters: 34¶237¹2·9´±1´0¶62·3²\u0010*44¹4¹5:¹º\u001034¶62¹\u0010:2¼:\u0010:76°µ²4º\u001067·3²¹\u0017\u0006\u000630¹º1º3=°¯±4º/º94±µ¼¾$2¶670·2\u0010;²¶1·¶²:7\n",
      "Shifted characters: file11 forensic challenge. This is just filler text to make it longer.\n",
      "\n",
      "fastctf{a_bit_tricky|Hello and welcome to \n",
      "Shifted characters: ÌÒØÊbb@ÌÞäÊÜæÒÆ@ÆÐÂØØÊÜÎÊ\\@¨ÐÒæ@Òæ@Ôêæè@ÌÒØØÊä@èÊðè@èÞ@ÚÂÖÊ@Òè@ØÞÜÎÊä\\\u001a\u0014\u001a\u0014ÌÂæèÆèÌöÂ¾ÄÒè¾èäÒÆÖòøÊØØÞ@ÂÜÈ@îÊØÆÞÚÊ@èÞ@\n",
      "Shifted characters: ¥±ÄÄ½É¹Í¥¡±±¹¸Q¡¥Ì¥Ì©ÕÍÐ¥±±ÈÑáÐÑ¼µ­¥Ð±½¹È¸4(4)ÍÑÑí}¥Ñ}ÑÉ¥­åñ!±±¼¹Ý±½µÑ¼\n",
      "Shifted characters: 3Kc)\u00033{+sK\u0019\u0003\u001bC\u000bcc+s;)q\u0002£CK\u0003K\u0003S«¡\u00033Kcc+\u0003£+Ã¡\u0003£y\u0003k\u000b[)\u0003K¡\u0003c{s;+phPhS3\u000b£\u001b£3Û\n",
      "û\u0013K¢û£K\u001b[ËâC+ccy\u0003\u000bs!\u0003»+c\u001b{k)\u0003£y\u0003\n",
      "Shifted characters: fÆS\u0013\u0012\u0006f÷&Vç62\u00066\u0016ÆÆVævRâ\u0005F2\u00062\u0006§W7B\u0006fÆÆW\"\u0007FWB\u0007Fò\u0006Ö\u0016¶R\u0006B\u0006ÆöævW\"àÐ Ð¦f\u00177F7Fg¶\u0015ö&E÷G&6·ÄVÆÆò\u0006\u0016æB\u0007vVÆ6öÖR\u0007Fò\u0006\n",
      "Shifted characters: Í-¦&$\fÍîL­Îm,d\fm\f-­Ìì¥Ä\n",
      "íÌì®EÁ¡A¡LÌ.nnÏl+ìM.îM,mo/\f­ä\f-Ì\u000eì­mí¬¤\u000eä\f\n",
      "Shifted characters: [\u0019LLH\u0019Ü[ÚXÈ\u0018Ú\u0018[\u001b\u0019[ÙK\u0015\u001a\u001a\\È\u001a\\È\u001a\\\u0019[\u001b\u0019\\\u001d\u0019^\u001d\u001bÈ\u001bXZÙH\u001a\u001b\u001bÛÙ\\BB\\Ý\u0018Ý\u0019ØWØ]\u0017Ý\u001cXÚÞ_\u0012\u0019[\u001b\u001bÈ\u0018[\u001dÙ[\u0018ÛÛYH\u001d\u001bÈ\u0019\n",
      "Shifted characters: 4¶237¹2·9´±1´0¶62·3²\u0010*44¹4¹5:¹º\u001034¶62¹\u0010:2¼:\u0010:76°µ²4º\u001067·3²¹\u0017\u0006\u000630¹º1º3=°¯±4º/º94±µ¼¾$2¶670·2\u0010;²¶1·¶²:73\n",
      "Shifted characters: ile11 forensic challenge. This is just filler text to make it longer.\n",
      "\n",
      "fastctf{a_bit_tricky|Hello and welcome to f\n",
      "Shifted characters: ÒØÊbb@ÌÞäÊÜæÒÆ@ÆÐÂØØÊÜÎÊ\\@¨ÐÒæ@Òæ@Ôêæè@ÌÒØØÊä@èÊðè@èÞ@ÚÂÖÊ@Òè@ØÞÜÎÊä\\\u001a\u0014\u001a\u0014ÌÂæèÆèÌöÂ¾ÄÒè¾èäÒÆÖòøÊØØÞ@ÂÜÈ@îÊØÆÞÚÊ@èÞ@Ì\n",
      "Shifted characters: ¥±ÄÄ½É¹Í¥¡±±¹¸Q¡¥Ì¥Ì©ÕÍÐ¥±±ÈÑáÐÑ¼µ­¥Ð±½¹È¸4(4)ÍÑÑí}¥Ñ}ÑÉ¥­åñ!±±¼¹Ý±½µÑ¼\n",
      "Shifted characters: Kc)\u00033{+sK\u0019\u0003\u001bC\u000bcc+s;)q\u0002£CK\u0003K\u0003S«¡\u00033Kcc+\u0003£+Ã¡\u0003£y\u0003k\u000b[)\u0003K¡\u0003c{s;+phPhS3\u000b£\u001b£3Û\n",
      "û\u0013K¢û£K\u001b[ËâC+ccy\u0003\u000bs!\u0003»+c\u001b{k)\u0003£y\u00033\n",
      "Shifted characters: ÆS\u0013\u0012\u0006f÷&Vç62\u00066\u0016ÆÆVævRâ\u0005F2\u00062\u0006§W7B\u0006fÆÆW\"\u0007FWB\u0007Fò\u0006Ö\u0016¶R\u0006B\u0006ÆöævW\"àÐ Ð¦f\u00177F7Fg¶\u0015ö&E÷G&6·ÄVÆÆò\u0006\u0016æB\u0007vVÆ6öÖR\u0007Fò\u0006f\n",
      "Shifted characters: -¦&$\fÍîL­Îm,d\fm\f-­Ìì¥Ä\n",
      "íÌì®EÁ¡A¡LÌ.nnÏl+ìM.îM,mo/\f­ä\f-Ì\u000eì­mí¬¤\u000eä\fÍ\n",
      "Shifted characters: [\u0019LLH\u0019Ü[ÚXÈ\u0018Ú\u0018[\u001b\u0019[ÙK\u0015\u001a\u001a\\È\u001a\\È\u001a\\\u0019[\u001b\u0019\\\u001d\u0019^\u001d\u001bÈ\u001bXZÙH\u001a\u001b\u001bÛÙ\\BB\\Ý\u0018Ý\u0019ØWØ]\u0017Ý\u001cXÚÞ_\u0012\u0019[\u001b\u001bÈ\u0018[\u001dÙ[\u0018ÛÛYH\u001d\u001bÈ\u0019\n",
      "Shifted characters: ¶237¹2·9´±1´0¶62·3²\u0010*44¹4¹5:¹º\u001034¶62¹\u0010:2¼:\u0010:76°µ²4º\u001067·3²¹\u0017\u0006\u000630¹º1º3=°¯±4º/º94±µ¼¾$2¶670·2\u0010;²¶1·¶²:734\n",
      "Shifted characters: le11 forensic challenge. This is just filler text to make it longer.\n",
      "\n",
      "fastctf{a_bit_tricky|Hello and welcome to fi\n",
      "Shifted characters: ØÊbb@ÌÞäÊÜæÒÆ@ÆÐÂØØÊÜÎÊ\\@¨ÐÒæ@Òæ@Ôêæè@ÌÒØØÊä@èÊðè@èÞ@ÚÂÖÊ@Òè@ØÞÜÎÊä\\\u001a\u0014\u001a\u0014ÌÂæèÆèÌöÂ¾ÄÒè¾èäÒÆÖòøÊØØÞ@ÂÜÈ@îÊØÆÞÚÊ@èÞ@ÌÒ\n",
      "Shifted characters: ±ÄÄ½É¹Í¥¡±±¹¸Q¡¥Ì¥Ì©ÕÍÐ¥±±ÈÑáÐÑ¼µ­¥Ð±½¹È¸4(4)ÍÑÑí}¥Ñ}ÑÉ¥­åñ!±±¼¹Ý±½µÑ¼¥\n",
      "Shifted characters: c)\u00033{+sK\u0019\u0003\u001bC\u000bcc+s;)q\u0002£CK\u0003K\u0003S«¡\u00033Kcc+\u0003£+Ã¡\u0003£y\u0003k\u000b[)\u0003K¡\u0003c{s;+phPhS3\u000b£\u001b£3Û\n",
      "û\u0013K¢û£K\u001b[ËâC+ccy\u0003\u000bs!\u0003»+c\u001b{k)\u0003£y\u00033K\n",
      "Shifted characters: ÆS\u0013\u0012\u0006f÷&Vç62\u00066\u0016ÆÆVævRâ\u0005F2\u00062\u0006§W7B\u0006fÆÆW\"\u0007FWB\u0007Fò\u0006Ö\u0016¶R\u0006B\u0006ÆöævW\"àÐ Ð¦f\u00177F7Fg¶\u0015ö&E÷G&6·ÄVÆÆò\u0006\u0016æB\u0007vVÆ6öÖR\u0007Fò\u0006f\n",
      "Shifted characters: ¦&$\fÍîL­Îm,d\fm\f-­Ìì¥Ä\n",
      "íÌì®EÁ¡A¡LÌ.nnÏl+ìM.îM,mo/\f­ä\f-Ì\u000eì­mí¬¤\u000eä\fÍ-\n",
      "Shifted characters: \u0019LLH\u0019Ü[ÚXÈ\u0018Ú\u0018[\u001b\u0019[ÙK\u0015\u001a\u001a\\È\u001a\\È\u001a\\\u0019[\u001b\u0019\\\u001d\u0019^\u001d\u001bÈ\u001bXZÙH\u001a\u001b\u001bÛÙ\\BB\\Ý\u0018Ý\u0019ØWØ]\u0017Ý\u001cXÚÞ_\u0012\u0019[\u001b\u001bÈ\u0018[\u001dÙ[\u0018ÛÛYH\u001d\u001bÈ\u0019[\n",
      "Shifted characters: 237¹2·9´±1´0¶62·3²\u0010*44¹4¹5:¹º\u001034¶62¹\u0010:2¼:\u0010:76°µ²4º\u001067·3²¹\u0017\u0006\u000630¹º1º3=°¯±4º/º94±µ¼¾$2¶670·2\u0010;²¶1·¶²:734¶\n",
      "Shifted characters: e11 forensic challenge. This is just filler text to make it longer.\n",
      "\n",
      "fastctf{a_bit_tricky|Hello and welcome to fil\n",
      "Shifted characters: Êbb@ÌÞäÊÜæÒÆ@ÆÐÂØØÊÜÎÊ\\@¨ÐÒæ@Òæ@Ôêæè@ÌÒØØÊä@èÊðè@èÞ@ÚÂÖÊ@Òè@ØÞÜÎÊä\\\u001a\u0014\u001a\u0014ÌÂæèÆèÌöÂ¾ÄÒè¾èäÒÆÖòøÊØØÞ@ÂÜÈ@îÊØÆÞÚÊ@èÞ@ÌÒØ\n",
      "Shifted characters: ÄÄ½É¹Í¥¡±±¹¸Q¡¥Ì¥Ì©ÕÍÐ¥±±ÈÑáÐÑ¼µ­¥Ð±½¹È¸4(4)ÍÑÑí}¥Ñ}ÑÉ¥­åñ!±±¼¹Ý±½µÑ¼¥±\n",
      "Shifted characters: )\u00033{+sK\u0019\u0003\u001bC\u000bcc+s;)q\u0002£CK\u0003K\u0003S«¡\u00033Kcc+\u0003£+Ã¡\u0003£y\u0003k\u000b[)\u0003K¡\u0003c{s;+phPhS3\u000b£\u001b£3Û\n",
      "û\u0013K¢û£K\u001b[ËâC+ccy\u0003\u000bs!\u0003»+c\u001b{k)\u0003£y\u00033Kc\n",
      "Shifted characters: S\u0013\u0012\u0006f÷&Vç62\u00066\u0016ÆÆVævRâ\u0005F2\u00062\u0006§W7B\u0006fÆÆW\"\u0007FWB\u0007Fò\u0006Ö\u0016¶R\u0006B\u0006ÆöævW\"àÐ Ð¦f\u00177F7Fg¶\u0015ö&E÷G&6·ÄVÆÆò\u0006\u0016æB\u0007vVÆ6öÖR\u0007Fò\u0006fÆ\n",
      "Shifted characters: ¦&$\fÍîL­Îm,d\fm\f-­Ìì¥Ä\n",
      "íÌì®EÁ¡A¡LÌ.nnÏl+ìM.îM,mo/\f­ä\f-Ì\u000eì­mí¬¤\u000eä\fÍ-\n",
      "Shifted characters: LLH\u0019Ü[ÚXÈ\u0018Ú\u0018[\u001b\u0019[ÙK\u0015\u001a\u001a\\È\u001a\\È\u001a\\\u0019[\u001b\u0019\\\u001d\u0019^\u001d\u001bÈ\u001bXZÙH\u001a\u001b\u001bÛÙ\\BB\\Ý\u0018Ý\u0019ØWØ]\u0017Ý\u001cXÚÞ_\u0012\u0019[\u001b\u001bÈ\u0018[\u001dÙ[\u0018ÛÛYH\u001d\u001bÈ\u0019[\u0019\n",
      "Shifted characters: 37¹2·9´±1´0¶62·3²\u0010*44¹4¹5:¹º\u001034¶62¹\u0010:2¼:\u0010:76°µ²4º\u001067·3²¹\u0017\u0006\u000630¹º1º3=°¯±4º/º94±µ¼¾$2¶670·2\u0010;²¶1·¶²:734¶2\n",
      "Shifted characters: 11 forensic challenge. This is just filler text to make it longer.\n",
      "\n",
      "fastctf{a_bit_tricky|Hello and welcome to file\n",
      "Shifted characters: bb@ÌÞäÊÜæÒÆ@ÆÐÂØØÊÜÎÊ\\@¨ÐÒæ@Òæ@Ôêæè@ÌÒØØÊä@èÊðè@èÞ@ÚÂÖÊ@Òè@ØÞÜÎÊä\\\u001a\u0014\u001a\u0014ÌÂæèÆèÌöÂ¾ÄÒè¾èäÒÆÖòøÊØØÞ@ÂÜÈ@îÊØÆÞÚÊ@èÞ@ÌÒØÊ\n",
      "Shifted characters: ÄÄ½É¹Í¥¡±±¹¸Q¡¥Ì¥Ì©ÕÍÐ¥±±ÈÑáÐÑ¼µ­¥Ð±½¹È¸4(4)ÍÑÑí}¥Ñ}ÑÉ¥­åñ!±±¼¹Ý±½µÑ¼¥±\n",
      "Shifted characters: \u00033{+sK\u0019\u0003\u001bC\u000bcc+s;)q\u0002£CK\u0003K\u0003S«¡\u00033Kcc+\u0003£+Ã¡\u0003£y\u0003k\u000b[)\u0003K¡\u0003c{s;+phPhS3\u000b£\u001b£3Û\n",
      "û\u0013K¢û£K\u001b[ËâC+ccy\u0003\u000bs!\u0003»+c\u001b{k)\u0003£y\u00033Kc)\n",
      "Shifted characters: \u0013\u0012\u0006f÷&Vç62\u00066\u0016ÆÆVævRâ\u0005F2\u00062\u0006§W7B\u0006fÆÆW\"\u0007FWB\u0007Fò\u0006Ö\u0016¶R\u0006B\u0006ÆöævW\"àÐ Ð¦f\u00177F7Fg¶\u0015ö&E÷G&6·ÄVÆÆò\u0006\u0016æB\u0007vVÆ6öÖR\u0007Fò\u0006fÆS\n",
      "Shifted characters: &$\fÍîL­Îm,d\fm\f-­Ìì¥Ä\n",
      "íÌì®EÁ¡A¡LÌ.nnÏl+ìM.îM,mo/\f­ä\f-Ì\u000eì­mí¬¤\u000eä\fÍ-¦\n",
      "Shifted characters: LH\u0019Ü[ÚXÈ\u0018Ú\u0018[\u001b\u0019[ÙK\u0015\u001a\u001a\\È\u001a\\È\u001a\\\u0019[\u001b\u0019\\\u001d\u0019^\u001d\u001bÈ\u001bXZÙH\u001a\u001b\u001bÛÙ\\BB\\Ý\u0018Ý\u0019ØWØ]\u0017Ý\u001cXÚÞ_\u0012\u0019[\u001b\u001bÈ\u0018[\u001dÙ[\u0018ÛÛYH\u001d\u001bÈ\u0019[\u0019L\n",
      "Shifted characters: 37¹2·9´±1´0¶62·3²\u0010*44¹4¹5:¹º\u001034¶62¹\u0010:2¼:\u0010:76°µ²4º\u001067·3²¹\u0017\u0006\u000630¹º1º3=°¯±4º/º94±µ¼¾$2¶670·2\u0010;²¶1·¶²:734¶2\n",
      "Shifted characters: 1 forensic challenge. This is just filler text to make it longer.\n",
      "\n",
      "fastctf{a_bit_tricky|Hello and welcome to file1\n",
      "Shifted characters: b@ÌÞäÊÜæÒÆ@ÆÐÂØØÊÜÎÊ\\@¨ÐÒæ@Òæ@Ôêæè@ÌÒØØÊä@èÊðè@èÞ@ÚÂÖÊ@Òè@ØÞÜÎÊä\\\u001a\u0014\u001a\u0014ÌÂæèÆèÌöÂ¾ÄÒè¾èäÒÆÖòøÊØØÞ@ÂÜÈ@îÊØÆÞÚÊ@èÞ@ÌÒØÊb\n",
      "Shifted characters: Ä½É¹Í¥¡±±¹¸Q¡¥Ì¥Ì©ÕÍÐ¥±±ÈÑáÐÑ¼µ­¥Ð±½¹È¸4(4)ÍÑÑí}¥Ñ}ÑÉ¥­åñ!±±¼¹Ý±½µÑ¼¥±Ä\n",
      "Shifted characters: \u00033{+sK\u0019\u0003\u001bC\u000bcc+s;)q\u0002£CK\u0003K\u0003S«¡\u00033Kcc+\u0003£+Ã¡\u0003£y\u0003k\u000b[)\u0003K¡\u0003c{s;+phPhS3\u000b£\u001b£3Û\n",
      "û\u0013K¢û£K\u001b[ËâC+ccy\u0003\u000bs!\u0003»+c\u001b{k)\u0003£y\u00033Kc)\n",
      "Shifted characters: \u0012\u0006f÷&Vç62\u00066\u0016ÆÆVævRâ\u0005F2\u00062\u0006§W7B\u0006fÆÆW\"\u0007FWB\u0007Fò\u0006Ö\u0016¶R\u0006B\u0006ÆöævW\"àÐ Ð¦f\u00177F7Fg¶\u0015ö&E÷G&6·ÄVÆÆò\u0006\u0016æB\u0007vVÆ6öÖR\u0007Fò\u0006fÆS\u0013\n",
      "Shifted characters: $\fÍîL­Îm,d\fm\f-­Ìì¥Ä\n",
      "íÌì®EÁ¡A¡LÌ.nnÏl+ìM.îM,mo/\f­ä\f-Ì\u000eì­mí¬¤\u000eä\fÍ-¦&\n",
      "Shifted characters: H\u0019Ü[ÚXÈ\u0018Ú\u0018[\u001b\u0019[ÙK\u0015\u001a\u001a\\È\u001a\\È\u001a\\\u0019[\u001b\u0019\\\u001d\u0019^\u001d\u001bÈ\u001bXZÙH\u001a\u001b\u001bÛÙ\\BB\\Ý\u0018Ý\u0019ØWØ]\u0017Ý\u001cXÚÞ_\u0012\u0019[\u001b\u001bÈ\u0018[\u001dÙ[\u0018ÛÛYH\u001d\u001bÈ\u0019[\u0019LL\n",
      "Shifted characters: 37¹2·9´±1´0¶62·3²\u0010*44¹4¹5:¹º\u001034¶62¹\u0010:2¼:\u0010:76°µ²4º\u001067·3²¹\u0017\u0006\u000630¹º1º3=°¯±4º/º94±µ¼¾$2¶670·2\u0010;²¶1·¶²:734¶2\n",
      "Shifted characters:  forensic challenge. This is just filler text to make it longer.\n",
      "\n",
      "fastctf{a_bit_tricky|Hello and welcome to file11\n",
      "Shifted characters: @ÌÞäÊÜæÒÆ@ÆÐÂØØÊÜÎÊ\\@¨ÐÒæ@Òæ@Ôêæè@ÌÒØØÊä@èÊðè@èÞ@ÚÂÖÊ@Òè@ØÞÜÎÊä\\\u001a\u0014\u001a\u0014ÌÂæèÆèÌöÂ¾ÄÒè¾èäÒÆÖòøÊØØÞ@ÂÜÈ@îÊØÆÞÚÊ@èÞ@ÌÒØÊbb\n",
      "Shifted characters: ½É¹Í¥¡±±¹¸Q¡¥Ì¥Ì©ÕÍÐ¥±±ÈÑáÐÑ¼µ­¥Ð±½¹È¸4(4)ÍÑÑí}¥Ñ}ÑÉ¥­åñ!±±¼¹Ý±½µÑ¼¥±ÄÄ\n",
      "Shifted characters: \u00033{+sK\u0019\u0003\u001bC\u000bcc+s;)q\u0002£CK\u0003K\u0003S«¡\u00033Kcc+\u0003£+Ã¡\u0003£y\u0003k\u000b[)\u0003K¡\u0003c{s;+phPhS3\u000b£\u001b£3Û\n",
      "û\u0013K¢û£K\u001b[ËâC+ccy\u0003\u000bs!\u0003»+c\u001b{k)\u0003£y\u00033Kc)\n",
      "Shifted characters: \u0006f÷&Vç62\u00066\u0016ÆÆVævRâ\u0005F2\u00062\u0006§W7B\u0006fÆÆW\"\u0007FWB\u0007Fò\u0006Ö\u0016¶R\u0006B\u0006ÆöævW\"àÐ Ð¦f\u00177F7Fg¶\u0015ö&E÷G&6·ÄVÆÆò\u0006\u0016æB\u0007vVÆ6öÖR\u0007Fò\u0006fÆS\u0013\u0012\n",
      "Shifted characters: \fÍîL­Îm,d\fm\f-­Ìì¥Ä\n",
      "íÌì®EÁ¡A¡LÌ.nnÏl+ìM.îM,mo/\f­ä\f-Ì\u000eì­mí¬¤\u000eä\fÍ-¦&$\n",
      "Shifted characters: \u0019Ü[ÚXÈ\u0018Ú\u0018[\u001b\u0019[ÙK\u0015\u001a\u001a\\È\u001a\\È\u001a\\\u0019[\u001b\u0019\\\u001d\u0019^\u001d\u001bÈ\u001bXZÙH\u001a\u001b\u001bÛÙ\\BB\\Ý\u0018Ý\u0019ØWØ]\u0017Ý\u001cXÚÞ_\u0012\u0019[\u001b\u001bÈ\u0018[\u001dÙ[\u0018ÛÛYH\u001d\u001bÈ\u0019[\u0019LLH\n",
      "Shifted characters: 37¹2·9´±1´0¶62·3²\u0010*44¹4¹5:¹º\u001034¶62¹\u0010:2¼:\u0010:76°µ²4º\u001067·3²¹\u0017\u0006\u000630¹º1º3=°¯±4º/º94±µ¼¾$2¶670·2\u0010;²¶1·¶²:734¶2\n",
      "Shifted characters: forensic challenge. This is just filler text to make it longer.\n",
      "\n",
      "fastctf{a_bit_tricky|Hello and welcome to file11 \n",
      "Shifted characters: ÌÞäÊÜæÒÆ@ÆÐÂØØÊÜÎÊ\\@¨ÐÒæ@Òæ@Ôêæè@ÌÒØØÊä@èÊðè@èÞ@ÚÂÖÊ@Òè@ØÞÜÎÊä\\\u001a\u0014\u001a\u0014ÌÂæèÆèÌöÂ¾ÄÒè¾èäÒÆÖòøÊØØÞ@ÂÜÈ@îÊØÆÞÚÊ@èÞ@ÌÒØÊbb@\n",
      "Shifted characters: ½É¹Í¥¡±±¹¸Q¡¥Ì¥Ì©ÕÍÐ¥±±ÈÑáÐÑ¼µ­¥Ð±½¹È¸4(4)ÍÑÑí}¥Ñ}ÑÉ¥­åñ!±±¼¹Ý±½µÑ¼¥±ÄÄ\n",
      "Shifted characters: 3{+sK\u0019\u0003\u001bC\u000bcc+s;)q\u0002£CK\u0003K\u0003S«¡\u00033Kcc+\u0003£+Ã¡\u0003£y\u0003k\u000b[)\u0003K¡\u0003c{s;+phPhS3\u000b£\u001b£3Û\n",
      "û\u0013K¢û£K\u001b[ËâC+ccy\u0003\u000bs!\u0003»+c\u001b{k)\u0003£y\u00033Kc)\u0003\n",
      "Shifted characters: f÷&Vç62\u00066\u0016ÆÆVævRâ\u0005F2\u00062\u0006§W7B\u0006fÆÆW\"\u0007FWB\u0007Fò\u0006Ö\u0016¶R\u0006B\u0006ÆöævW\"àÐ Ð¦f\u00177F7Fg¶\u0015ö&E÷G&6·ÄVÆÆò\u0006\u0016æB\u0007vVÆ6öÖR\u0007Fò\u0006fÆS\u0013\u0012\u0006\n",
      "Shifted characters: ÍîL­Îm,d\fm\f-­Ìì¥Ä\n",
      "íÌì®EÁ¡A¡LÌ.nnÏl+ìM.îM,mo/\f­ä\f-Ì\u000eì­mí¬¤\u000eä\fÍ-¦&$\f\n",
      "Shifted characters: Ü[ÚXÈ\u0018Ú\u0018[\u001b\u0019[ÙK\u0015\u001a\u001a\\È\u001a\\È\u001a\\\u0019[\u001b\u0019\\\u001d\u0019^\u001d\u001bÈ\u001bXZÙH\u001a\u001b\u001bÛÙ\\BB\\Ý\u0018Ý\u0019ØWØ]\u0017Ý\u001cXÚÞ_\u0012\u0019[\u001b\u001bÈ\u0018[\u001dÙ[\u0018ÛÛYH\u001d\u001bÈ\u0019[\u0019LLH\u0019\n",
      "Shifted characters: 7¹2·9´±1´0¶62·3²\u0010*44¹4¹5:¹º\u001034¶62¹\u0010:2¼:\u0010:76°µ²4º\u001067·3²¹\u0017\u0006\u000630¹º1º3=°¯±4º/º94±µ¼¾$2¶670·2\u0010;²¶1·¶²:734¶23\n",
      "Shifted characters: orensic challenge. This is just filler text to make it longer.\n",
      "\n",
      "fastctf{a_bit_tricky|Hello and welcome to file11 f\n",
      "Shifted characters: ÞäÊÜæÒÆ@ÆÐÂØØÊÜÎÊ\\@¨ÐÒæ@Òæ@Ôêæè@ÌÒØØÊä@èÊðè@èÞ@ÚÂÖÊ@Òè@ØÞÜÎÊä\\\u001a\u0014\u001a\u0014ÌÂæèÆèÌöÂ¾ÄÒè¾èäÒÆÖòøÊØØÞ@ÂÜÈ@îÊØÆÞÚÊ@èÞ@ÌÒØÊbb@Ì\n",
      "Shifted characters: ½É¹Í¥¡±±¹¸Q¡¥Ì¥Ì©ÕÍÐ¥±±ÈÑáÐÑ¼µ­¥Ð±½¹È¸4(4)ÍÑÑí}¥Ñ}ÑÉ¥­åñ!±±¼¹Ý±½µÑ¼¥±ÄÄ\n",
      "Shifted characters: {+sK\u0019\u0003\u001bC\u000bcc+s;)q\u0002£CK\u0003K\u0003S«¡\u00033Kcc+\u0003£+Ã¡\u0003£y\u0003k\u000b[)\u0003K¡\u0003c{s;+phPhS3\u000b£\u001b£3Û\n",
      "û\u0013K¢û£K\u001b[ËâC+ccy\u0003\u000bs!\u0003»+c\u001b{k)\u0003£y\u00033Kc)\u00033\n",
      "Shifted characters: ÷&Vç62\u00066\u0016ÆÆVævRâ\u0005F2\u00062\u0006§W7B\u0006fÆÆW\"\u0007FWB\u0007Fò\u0006Ö\u0016¶R\u0006B\u0006ÆöævW\"àÐ Ð¦f\u00177F7Fg¶\u0015ö&E÷G&6·ÄVÆÆò\u0006\u0016æB\u0007vVÆ6öÖR\u0007Fò\u0006fÆS\u0013\u0012\u0006f\n",
      "Shifted characters: îL­Îm,d\fm\f-­Ìì¥Ä\n",
      "íÌì®EÁ¡A¡LÌ.nnÏl+ìM.îM,mo/\f­ä\f-Ì\u000eì­mí¬¤\u000eä\fÍ-¦&$\fÍ\n",
      "Shifted characters: Ü[ÚXÈ\u0018Ú\u0018[\u001b\u0019[ÙK\u0015\u001a\u001a\\È\u001a\\È\u001a\\\u0019[\u001b\u0019\\\u001d\u0019^\u001d\u001bÈ\u001bXZÙH\u001a\u001b\u001bÛÙ\\BB\\Ý\u0018Ý\u0019ØWØ]\u0017Ý\u001cXÚÞ_\u0012\u0019[\u001b\u001bÈ\u0018[\u001dÙ[\u0018ÛÛYH\u001d\u001bÈ\u0019[\u0019LLH\u0019\n",
      "Shifted characters: ¹2·9´±1´0¶62·3²\u0010*44¹4¹5:¹º\u001034¶62¹\u0010:2¼:\u0010:76°µ²4º\u001067·3²¹\u0017\u0006\u000630¹º1º3=°¯±4º/º94±µ¼¾$2¶670·2\u0010;²¶1·¶²:734¶237\n",
      "Shifted characters: rensic challenge. This is just filler text to make it longer.\n",
      "\n",
      "fastctf{a_bit_tricky|Hello and welcome to file11 fo\n",
      "Shifted characters: äÊÜæÒÆ@ÆÐÂØØÊÜÎÊ\\@¨ÐÒæ@Òæ@Ôêæè@ÌÒØØÊä@èÊðè@èÞ@ÚÂÖÊ@Òè@ØÞÜÎÊä\\\u001a\u0014\u001a\u0014ÌÂæèÆèÌöÂ¾ÄÒè¾èäÒÆÖòøÊØØÞ@ÂÜÈ@îÊØÆÞÚÊ@èÞ@ÌÒØÊbb@ÌÞ\n",
      "Shifted characters: É¹Í¥¡±±¹¸Q¡¥Ì¥Ì©ÕÍÐ¥±±ÈÑáÐÑ¼µ­¥Ð±½¹È¸4(4)ÍÑÑí}¥Ñ}ÑÉ¥­åñ!±±¼¹Ý±½µÑ¼¥±ÄÄ½\n",
      "Shifted characters: +sK\u0019\u0003\u001bC\u000bcc+s;)q\u0002£CK\u0003K\u0003S«¡\u00033Kcc+\u0003£+Ã¡\u0003£y\u0003k\u000b[)\u0003K¡\u0003c{s;+phPhS3\u000b£\u001b£3Û\n",
      "û\u0013K¢û£K\u001b[ËâC+ccy\u0003\u000bs!\u0003»+c\u001b{k)\u0003£y\u00033Kc)\u00033{\n",
      "Shifted characters: &Vç62\u00066\u0016ÆÆVævRâ\u0005F2\u00062\u0006§W7B\u0006fÆÆW\"\u0007FWB\u0007Fò\u0006Ö\u0016¶R\u0006B\u0006ÆöævW\"àÐ Ð¦f\u00177F7Fg¶\u0015ö&E÷G&6·ÄVÆÆò\u0006\u0016æB\u0007vVÆ6öÖR\u0007Fò\u0006fÆS\u0013\u0012\u0006f÷\n",
      "Shifted characters: L­Îm,d\fm\f-­Ìì¥Ä\n",
      "íÌì®EÁ¡A¡LÌ.nnÏl+ìM.îM,mo/\f­ä\f-Ì\u000eì­mí¬¤\u000eä\fÍ-¦&$\fÍî\n",
      "Shifted characters: [ÚXÈ\u0018Ú\u0018[\u001b\u0019[ÙK\u0015\u001a\u001a\\È\u001a\\È\u001a\\\u0019[\u001b\u0019\\\u001d\u0019^\u001d\u001bÈ\u001bXZÙH\u001a\u001b\u001bÛÙ\\BB\\Ý\u0018Ý\u0019ØWØ]\u0017Ý\u001cXÚÞ_\u0012\u0019[\u001b\u001bÈ\u0018[\u001dÙ[\u0018ÛÛYH\u001d\u001bÈ\u0019[\u0019LLH\u0019Ü\n",
      "Shifted characters: 2·9´±1´0¶62·3²\u0010*44¹4¹5:¹º\u001034¶62¹\u0010:2¼:\u0010:76°µ²4º\u001067·3²¹\u0017\u0006\u000630¹º1º3=°¯±4º/º94±µ¼¾$2¶670·2\u0010;²¶1·¶²:734¶237¹\n",
      "Shifted characters: ensic challenge. This is just filler text to make it longer.\n",
      "\n",
      "fastctf{a_bit_tricky|Hello and welcome to file11 for\n",
      "Shifted characters: ÊÜæÒÆ@ÆÐÂØØÊÜÎÊ\\@¨ÐÒæ@Òæ@Ôêæè@ÌÒØØÊä@èÊðè@èÞ@ÚÂÖÊ@Òè@ØÞÜÎÊä\\\u001a\u0014\u001a\u0014ÌÂæèÆèÌöÂ¾ÄÒè¾èäÒÆÖòøÊØØÞ@ÂÜÈ@îÊØÆÞÚÊ@èÞ@ÌÒØÊbb@ÌÞä\n",
      "Shifted characters: ¹Í¥¡±±¹¸Q¡¥Ì¥Ì©ÕÍÐ¥±±ÈÑáÐÑ¼µ­¥Ð±½¹È¸4(4)ÍÑÑí}¥Ñ}ÑÉ¥­åñ!±±¼¹Ý±½µÑ¼¥±ÄÄ½É\n",
      "Shifted characters: +sK\u0019\u0003\u001bC\u000bcc+s;)q\u0002£CK\u0003K\u0003S«¡\u00033Kcc+\u0003£+Ã¡\u0003£y\u0003k\u000b[)\u0003K¡\u0003c{s;+phPhS3\u000b£\u001b£3Û\n",
      "û\u0013K¢û£K\u001b[ËâC+ccy\u0003\u000bs!\u0003»+c\u001b{k)\u0003£y\u00033Kc)\u00033{\n",
      "Shifted characters: Vç62\u00066\u0016ÆÆVævRâ\u0005F2\u00062\u0006§W7B\u0006fÆÆW\"\u0007FWB\u0007Fò\u0006Ö\u0016¶R\u0006B\u0006ÆöævW\"àÐ Ð¦f\u00177F7Fg¶\u0015ö&E÷G&6·ÄVÆÆò\u0006\u0016æB\u0007vVÆ6öÖR\u0007Fò\u0006fÆS\u0013\u0012\u0006f÷&\n",
      "Shifted characters: ­Îm,d\fm\f-­Ìì¥Ä\n",
      "íÌì®EÁ¡A¡LÌ.nnÏl+ìM.îM,mo/\f­ä\f-Ì\u000eì­mí¬¤\u000eä\fÍ-¦&$\fÍîL\n",
      "Shifted characters: [ÚXÈ\u0018Ú\u0018[\u001b\u0019[ÙK\u0015\u001a\u001a\\È\u001a\\È\u001a\\\u0019[\u001b\u0019\\\u001d\u0019^\u001d\u001bÈ\u001bXZÙH\u001a\u001b\u001bÛÙ\\BB\\Ý\u0018Ý\u0019ØWØ]\u0017Ý\u001cXÚÞ_\u0012\u0019[\u001b\u001bÈ\u0018[\u001dÙ[\u0018ÛÛYH\u001d\u001bÈ\u0019[\u0019LLH\u0019Ü\n",
      "Shifted characters: ·9´±1´0¶62·3²\u0010*44¹4¹5:¹º\u001034¶62¹\u0010:2¼:\u0010:76°µ²4º\u001067·3²¹\u0017\u0006\u000630¹º1º3=°¯±4º/º94±µ¼¾$2¶670·2\u0010;²¶1·¶²:734¶237¹2\n",
      "Shifted characters: nsic challenge. This is just filler text to make it longer.\n",
      "\n",
      "fastctf{a_bit_tricky|Hello and welcome to file11 fore\n",
      "Shifted characters: ÜæÒÆ@ÆÐÂØØÊÜÎÊ\\@¨ÐÒæ@Òæ@Ôêæè@ÌÒØØÊä@èÊðè@èÞ@ÚÂÖÊ@Òè@ØÞÜÎÊä\\\u001a\u0014\u001a\u0014ÌÂæèÆèÌöÂ¾ÄÒè¾èäÒÆÖòøÊØØÞ@ÂÜÈ@îÊØÆÞÚÊ@èÞ@ÌÒØÊbb@ÌÞäÊ\n",
      "Shifted characters: ¹Í¥¡±±¹¸Q¡¥Ì¥Ì©ÕÍÐ¥±±ÈÑáÐÑ¼µ­¥Ð±½¹È¸4(4)ÍÑÑí}¥Ñ}ÑÉ¥­åñ!±±¼¹Ý±½µÑ¼¥±ÄÄ½É\n",
      "Shifted characters: sK\u0019\u0003\u001bC\u000bcc+s;)q\u0002£CK\u0003K\u0003S«¡\u00033Kcc+\u0003£+Ã¡\u0003£y\u0003k\u000b[)\u0003K¡\u0003c{s;+phPhS3\u000b£\u001b£3Û\n",
      "û\u0013K¢û£K\u001b[ËâC+ccy\u0003\u000bs!\u0003»+c\u001b{k)\u0003£y\u00033Kc)\u00033{+\n",
      "Shifted characters: ç62\u00066\u0016ÆÆVævRâ\u0005F2\u00062\u0006§W7B\u0006fÆÆW\"\u0007FWB\u0007Fò\u0006Ö\u0016¶R\u0006B\u0006ÆöævW\"àÐ Ð¦f\u00177F7Fg¶\u0015ö&E÷G&6·ÄVÆÆò\u0006\u0016æB\u0007vVÆ6öÖR\u0007Fò\u0006fÆS\u0013\u0012\u0006f÷&V\n",
      "Shifted characters: Îm,d\fm\f-­Ìì¥Ä\n",
      "íÌì®EÁ¡A¡LÌ.nnÏl+ìM.îM,mo/\f­ä\f-Ì\u000eì­mí¬¤\u000eä\fÍ-¦&$\fÍîL­\n",
      "Shifted characters: ÚXÈ\u0018Ú\u0018[\u001b\u0019[ÙK\u0015\u001a\u001a\\È\u001a\\È\u001a\\\u0019[\u001b\u0019\\\u001d\u0019^\u001d\u001bÈ\u001bXZÙH\u001a\u001b\u001bÛÙ\\BB\\Ý\u0018Ý\u0019ØWØ]\u0017Ý\u001cXÚÞ_\u0012\u0019[\u001b\u001bÈ\u0018[\u001dÙ[\u0018ÛÛYH\u001d\u001bÈ\u0019[\u0019LLH\u0019Ü[\n",
      "Shifted characters: 9´±1´0¶62·3²\u0010*44¹4¹5:¹º\u001034¶62¹\u0010:2¼:\u0010:76°µ²4º\u001067·3²¹\u0017\u0006\u000630¹º1º3=°¯±4º/º94±µ¼¾$2¶670·2\u0010;²¶1·¶²:734¶237¹2·\n",
      "Shifted characters: sic challenge. This is just filler text to make it longer.\n",
      "\n",
      "fastctf{a_bit_tricky|Hello and welcome to file11 foren\n",
      "Shifted characters: æÒÆ@ÆÐÂØØÊÜÎÊ\\@¨ÐÒæ@Òæ@Ôêæè@ÌÒØØÊä@èÊðè@èÞ@ÚÂÖÊ@Òè@ØÞÜÎÊä\\\u001a\u0014\u001a\u0014ÌÂæèÆèÌöÂ¾ÄÒè¾èäÒÆÖòøÊØØÞ@ÂÜÈ@îÊØÆÞÚÊ@èÞ@ÌÒØÊbb@ÌÞäÊÜ\n",
      "Shifted characters: Í¥¡±±¹¸Q¡¥Ì¥Ì©ÕÍÐ¥±±ÈÑáÐÑ¼µ­¥Ð±½¹È¸4(4)ÍÑÑí}¥Ñ}ÑÉ¥­åñ!±±¼¹Ý±½µÑ¼¥±ÄÄ½É¹\n",
      "Shifted characters: K\u0019\u0003\u001bC\u000bcc+s;)q\u0002£CK\u0003K\u0003S«¡\u00033Kcc+\u0003£+Ã¡\u0003£y\u0003k\u000b[)\u0003K¡\u0003c{s;+phPhS3\u000b£\u001b£3Û\n",
      "û\u0013K¢û£K\u001b[ËâC+ccy\u0003\u000bs!\u0003»+c\u001b{k)\u0003£y\u00033Kc)\u00033{+s\n",
      "Shifted characters: 62\u00066\u0016ÆÆVævRâ\u0005F2\u00062\u0006§W7B\u0006fÆÆW\"\u0007FWB\u0007Fò\u0006Ö\u0016¶R\u0006B\u0006ÆöævW\"àÐ Ð¦f\u00177F7Fg¶\u0015ö&E÷G&6·ÄVÆÆò\u0006\u0016æB\u0007vVÆ6öÖR\u0007Fò\u0006fÆS\u0013\u0012\u0006f÷&Vç\n",
      "Shifted characters: m,d\fm\f-­Ìì¥Ä\n",
      "íÌì®EÁ¡A¡LÌ.nnÏl+ìM.îM,mo/\f­ä\f-Ì\u000eì­mí¬¤\u000eä\fÍ-¦&$\fÍîL­Î\n",
      "Shifted characters: ÚXÈ\u0018Ú\u0018[\u001b\u0019[ÙK\u0015\u001a\u001a\\È\u001a\\È\u001a\\\u0019[\u001b\u0019\\\u001d\u0019^\u001d\u001bÈ\u001bXZÙH\u001a\u001b\u001bÛÙ\\BB\\Ý\u0018Ý\u0019ØWØ]\u0017Ý\u001cXÚÞ_\u0012\u0019[\u001b\u001bÈ\u0018[\u001dÙ[\u0018ÛÛYH\u001d\u001bÈ\u0019[\u0019LLH\u0019Ü[\n",
      "Shifted characters: ´±1´0¶62·3²\u0010*44¹4¹5:¹º\u001034¶62¹\u0010:2¼:\u0010:76°µ²4º\u001067·3²¹\u0017\u0006\u000630¹º1º3=°¯±4º/º94±µ¼¾$2¶670·2\u0010;²¶1·¶²:734¶237¹2·9\n",
      "Shifted characters: ic challenge. This is just filler text to make it longer.\n",
      "\n",
      "fastctf{a_bit_tricky|Hello and welcome to file11 forens\n",
      "Shifted characters: ÒÆ@ÆÐÂØØÊÜÎÊ\\@¨ÐÒæ@Òæ@Ôêæè@ÌÒØØÊä@èÊðè@èÞ@ÚÂÖÊ@Òè@ØÞÜÎÊä\\\u001a\u0014\u001a\u0014ÌÂæèÆèÌöÂ¾ÄÒè¾èäÒÆÖòøÊØØÞ@ÂÜÈ@îÊØÆÞÚÊ@èÞ@ÌÒØÊbb@ÌÞäÊÜæ\n",
      "Shifted characters: ¥¡±±¹¸Q¡¥Ì¥Ì©ÕÍÐ¥±±ÈÑáÐÑ¼µ­¥Ð±½¹È¸4(4)ÍÑÑí}¥Ñ}ÑÉ¥­åñ!±±¼¹Ý±½µÑ¼¥±ÄÄ½É¹Í\n",
      "Shifted characters: K\u0019\u0003\u001bC\u000bcc+s;)q\u0002£CK\u0003K\u0003S«¡\u00033Kcc+\u0003£+Ã¡\u0003£y\u0003k\u000b[)\u0003K¡\u0003c{s;+phPhS3\u000b£\u001b£3Û\n",
      "û\u0013K¢û£K\u001b[ËâC+ccy\u0003\u000bs!\u0003»+c\u001b{k)\u0003£y\u00033Kc)\u00033{+s\n",
      "Shifted characters: 2\u00066\u0016ÆÆVævRâ\u0005F2\u00062\u0006§W7B\u0006fÆÆW\"\u0007FWB\u0007Fò\u0006Ö\u0016¶R\u0006B\u0006ÆöævW\"àÐ Ð¦f\u00177F7Fg¶\u0015ö&E÷G&6·ÄVÆÆò\u0006\u0016æB\u0007vVÆ6öÖR\u0007Fò\u0006fÆS\u0013\u0012\u0006f÷&Vç6\n",
      "Shifted characters: ,d\fm\f-­Ìì¥Ä\n",
      "íÌì®EÁ¡A¡LÌ.nnÏl+ìM.îM,mo/\f­ä\f-Ì\u000eì­mí¬¤\u000eä\fÍ-¦&$\fÍîL­Îm\n",
      "Shifted characters: XÈ\u0018Ú\u0018[\u001b\u0019[ÙK\u0015\u001a\u001a\\È\u001a\\È\u001a\\\u0019[\u001b\u0019\\\u001d\u0019^\u001d\u001bÈ\u001bXZÙH\u001a\u001b\u001bÛÙ\\BB\\Ý\u0018Ý\u0019ØWØ]\u0017Ý\u001cXÚÞ_\u0012\u0019[\u001b\u001bÈ\u0018[\u001dÙ[\u0018ÛÛYH\u001d\u001bÈ\u0019[\u0019LLH\u0019Ü[Ú\n",
      "Shifted characters: ±1´0¶62·3²\u0010*44¹4¹5:¹º\u001034¶62¹\u0010:2¼:\u0010:76°µ²4º\u001067·3²¹\u0017\u0006\u000630¹º1º3=°¯±4º/º94±µ¼¾$2¶670·2\u0010;²¶1·¶²:734¶237¹2·9´\n",
      "Shifted characters: c challenge. This is just filler text to make it longer.\n",
      "\n",
      "fastctf{a_bit_tricky|Hello and welcome to file11 forensi\n",
      "Shifted characters: Æ@ÆÐÂØØÊÜÎÊ\\@¨ÐÒæ@Òæ@Ôêæè@ÌÒØØÊä@èÊðè@èÞ@ÚÂÖÊ@Òè@ØÞÜÎÊä\\\u001a\u0014\u001a\u0014ÌÂæèÆèÌöÂ¾ÄÒè¾èäÒÆÖòøÊØØÞ@ÂÜÈ@îÊØÆÞÚÊ@èÞ@ÌÒØÊbb@ÌÞäÊÜæÒ\n",
      "Shifted characters: ¡±±¹¸Q¡¥Ì¥Ì©ÕÍÐ¥±±ÈÑáÐÑ¼µ­¥Ð±½¹È¸4(4)ÍÑÑí}¥Ñ}ÑÉ¥­åñ!±±¼¹Ý±½µÑ¼¥±ÄÄ½É¹Í¥\n",
      "Shifted characters: \u0019\u0003\u001bC\u000bcc+s;)q\u0002£CK\u0003K\u0003S«¡\u00033Kcc+\u0003£+Ã¡\u0003£y\u0003k\u000b[)\u0003K¡\u0003c{s;+phPhS3\u000b£\u001b£3Û\n",
      "û\u0013K¢û£K\u001b[ËâC+ccy\u0003\u000bs!\u0003»+c\u001b{k)\u0003£y\u00033Kc)\u00033{+sK\n",
      "Shifted characters: 2\u00066\u0016ÆÆVævRâ\u0005F2\u00062\u0006§W7B\u0006fÆÆW\"\u0007FWB\u0007Fò\u0006Ö\u0016¶R\u0006B\u0006ÆöævW\"àÐ Ð¦f\u00177F7Fg¶\u0015ö&E÷G&6·ÄVÆÆò\u0006\u0016æB\u0007vVÆ6öÖR\u0007Fò\u0006fÆS\u0013\u0012\u0006f÷&Vç6\n",
      "Shifted characters: d\fm\f-­Ìì¥Ä\n",
      "íÌì®EÁ¡A¡LÌ.nnÏl+ìM.îM,mo/\f­ä\f-Ì\u000eì­mí¬¤\u000eä\fÍ-¦&$\fÍîL­Îm,\n",
      "Shifted characters: È\u0018Ú\u0018[\u001b\u0019[ÙK\u0015\u001a\u001a\\È\u001a\\È\u001a\\\u0019[\u001b\u0019\\\u001d\u0019^\u001d\u001bÈ\u001bXZÙH\u001a\u001b\u001bÛÙ\\BB\\Ý\u0018Ý\u0019ØWØ]\u0017Ý\u001cXÚÞ_\u0012\u0019[\u001b\u001bÈ\u0018[\u001dÙ[\u0018ÛÛYH\u001d\u001bÈ\u0019[\u0019LLH\u0019Ü[ÚX\n",
      "Shifted characters: 1´0¶62·3²\u0010*44¹4¹5:¹º\u001034¶62¹\u0010:2¼:\u0010:76°µ²4º\u001067·3²¹\u0017\u0006\u000630¹º1º3=°¯±4º/º94±µ¼¾$2¶670·2\u0010;²¶1·¶²:734¶237¹2·9´±\n",
      "Shifted characters:  challenge. This is just filler text to make it longer.\n",
      "\n",
      "fastctf{a_bit_tricky|Hello and welcome to file11 forensic\n",
      "Shifted characters: @ÆÐÂØØÊÜÎÊ\\@¨ÐÒæ@Òæ@Ôêæè@ÌÒØØÊä@èÊðè@èÞ@ÚÂÖÊ@Òè@ØÞÜÎÊä\\\u001a\u0014\u001a\u0014ÌÂæèÆèÌöÂ¾ÄÒè¾èäÒÆÖòøÊØØÞ@ÂÜÈ@îÊØÆÞÚÊ@èÞ@ÌÒØÊbb@ÌÞäÊÜæÒÆ\n",
      "Shifted characters: ¡±±¹¸Q¡¥Ì¥Ì©ÕÍÐ¥±±ÈÑáÐÑ¼µ­¥Ð±½¹È¸4(4)ÍÑÑí}¥Ñ}ÑÉ¥­åñ!±±¼¹Ý±½µÑ¼¥±ÄÄ½É¹Í¥\n",
      "Shifted characters: \u0003\u001bC\u000bcc+s;)q\u0002£CK\u0003K\u0003S«¡\u00033Kcc+\u0003£+Ã¡\u0003£y\u0003k\u000b[)\u0003K¡\u0003c{s;+phPhS3\u000b£\u001b£3Û\n",
      "û\u0013K¢û£K\u001b[ËâC+ccy\u0003\u000bs!\u0003»+c\u001b{k)\u0003£y\u00033Kc)\u00033{+sK\u0019\n",
      "Shifted characters: \u00066\u0016ÆÆVævRâ\u0005F2\u00062\u0006§W7B\u0006fÆÆW\"\u0007FWB\u0007Fò\u0006Ö\u0016¶R\u0006B\u0006ÆöævW\"àÐ Ð¦f\u00177F7Fg¶\u0015ö&E÷G&6·ÄVÆÆò\u0006\u0016æB\u0007vVÆ6öÖR\u0007Fò\u0006fÆS\u0013\u0012\u0006f÷&Vç62\n",
      "Shifted characters: \fm\f-­Ìì¥Ä\n",
      "íÌì®EÁ¡A¡LÌ.nnÏl+ìM.îM,mo/\f­ä\f-Ì\u000eì­mí¬¤\u000eä\fÍ-¦&$\fÍîL­Îm,d\n",
      "Shifted characters: \u0018Ú\u0018[\u001b\u0019[ÙK\u0015\u001a\u001a\\È\u001a\\È\u001a\\\u0019[\u001b\u0019\\\u001d\u0019^\u001d\u001bÈ\u001bXZÙH\u001a\u001b\u001bÛÙ\\BB\\Ý\u0018Ý\u0019ØWØ]\u0017Ý\u001cXÚÞ_\u0012\u0019[\u001b\u001bÈ\u0018[\u001dÙ[\u0018ÛÛYH\u001d\u001bÈ\u0019[\u0019LLH\u0019Ü[ÚXÈ\n",
      "Shifted characters: 1´0¶62·3²\u0010*44¹4¹5:¹º\u001034¶62¹\u0010:2¼:\u0010:76°µ²4º\u001067·3²¹\u0017\u0006\u000630¹º1º3=°¯±4º/º94±µ¼¾$2¶670·2\u0010;²¶1·¶²:734¶237¹2·9´±\n",
      "Shifted characters: challenge. This is just filler text to make it longer.\n",
      "\n",
      "fastctf{a_bit_tricky|Hello and welcome to file11 forensic \n",
      "Shifted characters: ÆÐÂØØÊÜÎÊ\\@¨ÐÒæ@Òæ@Ôêæè@ÌÒØØÊä@èÊðè@èÞ@ÚÂÖÊ@Òè@ØÞÜÎÊä\\\u001a\u0014\u001a\u0014ÌÂæèÆèÌöÂ¾ÄÒè¾èäÒÆÖòøÊØØÞ@ÂÜÈ@îÊØÆÞÚÊ@èÞ@ÌÒØÊbb@ÌÞäÊÜæÒÆ@\n",
      "Shifted characters: ¡±±¹¸Q¡¥Ì¥Ì©ÕÍÐ¥±±ÈÑáÐÑ¼µ­¥Ð±½¹È¸4(4)ÍÑÑí}¥Ñ}ÑÉ¥­åñ!±±¼¹Ý±½µÑ¼¥±ÄÄ½É¹Í¥\n",
      "Shifted characters: \u001bC\u000bcc+s;)q\u0002£CK\u0003K\u0003S«¡\u00033Kcc+\u0003£+Ã¡\u0003£y\u0003k\u000b[)\u0003K¡\u0003c{s;+phPhS3\u000b£\u001b£3Û\n",
      "û\u0013K¢û£K\u001b[ËâC+ccy\u0003\u000bs!\u0003»+c\u001b{k)\u0003£y\u00033Kc)\u00033{+sK\u0019\u0003\n",
      "Shifted characters: 6\u0016ÆÆVævRâ\u0005F2\u00062\u0006§W7B\u0006fÆÆW\"\u0007FWB\u0007Fò\u0006Ö\u0016¶R\u0006B\u0006ÆöævW\"àÐ Ð¦f\u00177F7Fg¶\u0015ö&E÷G&6·ÄVÆÆò\u0006\u0016æB\u0007vVÆ6öÖR\u0007Fò\u0006fÆS\u0013\u0012\u0006f÷&Vç62\u0006\n",
      "Shifted characters: m\f-­Ìì¥Ä\n",
      "íÌì®EÁ¡A¡LÌ.nnÏl+ìM.îM,mo/\f­ä\f-Ì\u000eì­mí¬¤\u000eä\fÍ-¦&$\fÍîL­Îm,d\f\n",
      "Shifted characters: Ú\u0018[\u001b\u0019[ÙK\u0015\u001a\u001a\\È\u001a\\È\u001a\\\u0019[\u001b\u0019\\\u001d\u0019^\u001d\u001bÈ\u001bXZÙH\u001a\u001b\u001bÛÙ\\BB\\Ý\u0018Ý\u0019ØWØ]\u0017Ý\u001cXÚÞ_\u0012\u0019[\u001b\u001bÈ\u0018[\u001dÙ[\u0018ÛÛYH\u001d\u001bÈ\u0019[\u0019LLH\u0019Ü[ÚXÈ\u0018\n",
      "Shifted characters: ´0¶62·3²\u0010*44¹4¹5:¹º\u001034¶62¹\u0010:2¼:\u0010:76°µ²4º\u001067·3²¹\u0017\u0006\u000630¹º1º3=°¯±4º/º94±µ¼¾$2¶670·2\u0010;²¶1·¶²:734¶237¹2·9´±1\n",
      "Shifted characters: hallenge. This is just filler text to make it longer.\n",
      "\n",
      "fastctf{a_bit_tricky|Hello and welcome to file11 forensic c\n",
      "Shifted characters: ÐÂØØÊÜÎÊ\\@¨ÐÒæ@Òæ@Ôêæè@ÌÒØØÊä@èÊðè@èÞ@ÚÂÖÊ@Òè@ØÞÜÎÊä\\\u001a\u0014\u001a\u0014ÌÂæèÆèÌöÂ¾ÄÒè¾èäÒÆÖòøÊØØÞ@ÂÜÈ@îÊØÆÞÚÊ@èÞ@ÌÒØÊbb@ÌÞäÊÜæÒÆ@Æ\n",
      "Shifted characters: ¡±±¹¸Q¡¥Ì¥Ì©ÕÍÐ¥±±ÈÑáÐÑ¼µ­¥Ð±½¹È¸4(4)ÍÑÑí}¥Ñ}ÑÉ¥­åñ!±±¼¹Ý±½µÑ¼¥±ÄÄ½É¹Í¥\n",
      "Shifted characters: C\u000bcc+s;)q\u0002£CK\u0003K\u0003S«¡\u00033Kcc+\u0003£+Ã¡\u0003£y\u0003k\u000b[)\u0003K¡\u0003c{s;+phPhS3\u000b£\u001b£3Û\n",
      "û\u0013K¢û£K\u001b[ËâC+ccy\u0003\u000bs!\u0003»+c\u001b{k)\u0003£y\u00033Kc)\u00033{+sK\u0019\u0003\u001b\n",
      "Shifted characters: \u0016ÆÆVævRâ\u0005F2\u00062\u0006§W7B\u0006fÆÆW\"\u0007FWB\u0007Fò\u0006Ö\u0016¶R\u0006B\u0006ÆöævW\"àÐ Ð¦f\u00177F7Fg¶\u0015ö&E÷G&6·ÄVÆÆò\u0006\u0016æB\u0007vVÆ6öÖR\u0007Fò\u0006fÆS\u0013\u0012\u0006f÷&Vç62\u00066\n",
      "Shifted characters: \f-­Ìì¥Ä\n",
      "íÌì®EÁ¡A¡LÌ.nnÏl+ìM.îM,mo/\f­ä\f-Ì\u000eì­mí¬¤\u000eä\fÍ-¦&$\fÍîL­Îm,d\fm\n",
      "Shifted characters: \u0018[\u001b\u0019[ÙK\u0015\u001a\u001a\\È\u001a\\È\u001a\\\u0019[\u001b\u0019\\\u001d\u0019^\u001d\u001bÈ\u001bXZÙH\u001a\u001b\u001bÛÙ\\BB\\Ý\u0018Ý\u0019ØWØ]\u0017Ý\u001cXÚÞ_\u0012\u0019[\u001b\u001bÈ\u0018[\u001dÙ[\u0018ÛÛYH\u001d\u001bÈ\u0019[\u0019LLH\u0019Ü[ÚXÈ\u0018Ú\n",
      "Shifted characters: 0¶62·3²\u0010*44¹4¹5:¹º\u001034¶62¹\u0010:2¼:\u0010:76°µ²4º\u001067·3²¹\u0017\u0006\u000630¹º1º3=°¯±4º/º94±µ¼¾$2¶670·2\u0010;²¶1·¶²:734¶237¹2·9´±1´\n",
      "Shifted characters: allenge. This is just filler text to make it longer.\n",
      "\n",
      "fastctf{a_bit_tricky|Hello and welcome to file11 forensic ch\n",
      "Shifted characters: ÂØØÊÜÎÊ\\@¨ÐÒæ@Òæ@Ôêæè@ÌÒØØÊä@èÊðè@èÞ@ÚÂÖÊ@Òè@ØÞÜÎÊä\\\u001a\u0014\u001a\u0014ÌÂæèÆèÌöÂ¾ÄÒè¾èäÒÆÖòøÊØØÞ@ÂÜÈ@îÊØÆÞÚÊ@èÞ@ÌÒØÊbb@ÌÞäÊÜæÒÆ@ÆÐ\n",
      "Shifted characters: ±±¹¸Q¡¥Ì¥Ì©ÕÍÐ¥±±ÈÑáÐÑ¼µ­¥Ð±½¹È¸4(4)ÍÑÑí}¥Ñ}ÑÉ¥­åñ!±±¼¹Ý±½µÑ¼¥±ÄÄ½É¹Í¥¡\n",
      "Shifted characters: \u000bcc+s;)q\u0002£CK\u0003K\u0003S«¡\u00033Kcc+\u0003£+Ã¡\u0003£y\u0003k\u000b[)\u0003K¡\u0003c{s;+phPhS3\u000b£\u001b£3Û\n",
      "û\u0013K¢û£K\u001b[ËâC+ccy\u0003\u000bs!\u0003»+c\u001b{k)\u0003£y\u00033Kc)\u00033{+sK\u0019\u0003\u001bC\n",
      "Shifted characters: \u0016ÆÆVævRâ\u0005F2\u00062\u0006§W7B\u0006fÆÆW\"\u0007FWB\u0007Fò\u0006Ö\u0016¶R\u0006B\u0006ÆöævW\"àÐ Ð¦f\u00177F7Fg¶\u0015ö&E÷G&6·ÄVÆÆò\u0006\u0016æB\u0007vVÆ6öÖR\u0007Fò\u0006fÆS\u0013\u0012\u0006f÷&Vç62\u00066\n",
      "Shifted characters: -­Ìì¥Ä\n",
      "íÌì®EÁ¡A¡LÌ.nnÏl+ìM.îM,mo/\f­ä\f-Ì\u000eì­mí¬¤\u000eä\fÍ-¦&$\fÍîL­Îm,d\fm\f\n",
      "Shifted characters: [\u001b\u0019[ÙK\u0015\u001a\u001a\\È\u001a\\È\u001a\\\u0019[\u001b\u0019\\\u001d\u0019^\u001d\u001bÈ\u001bXZÙH\u001a\u001b\u001bÛÙ\\BB\\Ý\u0018Ý\u0019ØWØ]\u0017Ý\u001cXÚÞ_\u0012\u0019[\u001b\u001bÈ\u0018[\u001dÙ[\u0018ÛÛYH\u001d\u001bÈ\u0019[\u0019LLH\u0019Ü[ÚXÈ\u0018Ú\u0018\n",
      "Shifted characters: ¶62·3²\u0010*44¹4¹5:¹º\u001034¶62¹\u0010:2¼:\u0010:76°µ²4º\u001067·3²¹\u0017\u0006\u000630¹º1º3=°¯±4º/º94±µ¼¾$2¶670·2\u0010;²¶1·¶²:734¶237¹2·9´±1´0\n",
      "Shifted characters: llenge. This is just filler text to make it longer.\n",
      "\n",
      "fastctf{a_bit_tricky|Hello and welcome to file11 forensic cha\n",
      "Shifted characters: ØØÊÜÎÊ\\@¨ÐÒæ@Òæ@Ôêæè@ÌÒØØÊä@èÊðè@èÞ@ÚÂÖÊ@Òè@ØÞÜÎÊä\\\u001a\u0014\u001a\u0014ÌÂæèÆèÌöÂ¾ÄÒè¾èäÒÆÖòøÊØØÞ@ÂÜÈ@îÊØÆÞÚÊ@èÞ@ÌÒØÊbb@ÌÞäÊÜæÒÆ@ÆÐÂ\n",
      "Shifted characters: ±±¹¸Q¡¥Ì¥Ì©ÕÍÐ¥±±ÈÑáÐÑ¼µ­¥Ð±½¹È¸4(4)ÍÑÑí}¥Ñ}ÑÉ¥­åñ!±±¼¹Ý±½µÑ¼¥±ÄÄ½É¹Í¥¡\n",
      "Shifted characters: cc+s;)q\u0002£CK\u0003K\u0003S«¡\u00033Kcc+\u0003£+Ã¡\u0003£y\u0003k\u000b[)\u0003K¡\u0003c{s;+phPhS3\u000b£\u001b£3Û\n",
      "û\u0013K¢û£K\u001b[ËâC+ccy\u0003\u000bs!\u0003»+c\u001b{k)\u0003£y\u00033Kc)\u00033{+sK\u0019\u0003\u001bC\u000b\n",
      "Shifted characters: ÆÆVævRâ\u0005F2\u00062\u0006§W7B\u0006fÆÆW\"\u0007FWB\u0007Fò\u0006Ö\u0016¶R\u0006B\u0006ÆöævW\"àÐ Ð¦f\u00177F7Fg¶\u0015ö&E÷G&6·ÄVÆÆò\u0006\u0016æB\u0007vVÆ6öÖR\u0007Fò\u0006fÆS\u0013\u0012\u0006f÷&Vç62\u00066\u0016\n",
      "Shifted characters: ­Ìì¥Ä\n",
      "íÌì®EÁ¡A¡LÌ.nnÏl+ìM.îM,mo/\f­ä\f-Ì\u000eì­mí¬¤\u000eä\fÍ-¦&$\fÍîL­Îm,d\fm\f-\n",
      "Shifted characters: \u001b\u0019[ÙK\u0015\u001a\u001a\\È\u001a\\È\u001a\\\u0019[\u001b\u0019\\\u001d\u0019^\u001d\u001bÈ\u001bXZÙH\u001a\u001b\u001bÛÙ\\BB\\Ý\u0018Ý\u0019ØWØ]\u0017Ý\u001cXÚÞ_\u0012\u0019[\u001b\u001bÈ\u0018[\u001dÙ[\u0018ÛÛYH\u001d\u001bÈ\u0019[\u0019LLH\u0019Ü[ÚXÈ\u0018Ú\u0018[\n",
      "Shifted characters: 62·3²\u0010*44¹4¹5:¹º\u001034¶62¹\u0010:2¼:\u0010:76°µ²4º\u001067·3²¹\u0017\u0006\u000630¹º1º3=°¯±4º/º94±µ¼¾$2¶670·2\u0010;²¶1·¶²:734¶237¹2·9´±1´0¶\n",
      "Shifted characters: lenge. This is just filler text to make it longer.\n",
      "\n",
      "fastctf{a_bit_tricky|Hello and welcome to file11 forensic chal\n",
      "Shifted characters: ØÊÜÎÊ\\@¨ÐÒæ@Òæ@Ôêæè@ÌÒØØÊä@èÊðè@èÞ@ÚÂÖÊ@Òè@ØÞÜÎÊä\\\u001a\u0014\u001a\u0014ÌÂæèÆèÌöÂ¾ÄÒè¾èäÒÆÖòøÊØØÞ@ÂÜÈ@îÊØÆÞÚÊ@èÞ@ÌÒØÊbb@ÌÞäÊÜæÒÆ@ÆÐÂØ\n",
      "Shifted characters: ±¹¸Q¡¥Ì¥Ì©ÕÍÐ¥±±ÈÑáÐÑ¼µ­¥Ð±½¹È¸4(4)ÍÑÑí}¥Ñ}ÑÉ¥­åñ!±±¼¹Ý±½µÑ¼¥±ÄÄ½É¹Í¥¡±\n",
      "Shifted characters: c+s;)q\u0002£CK\u0003K\u0003S«¡\u00033Kcc+\u0003£+Ã¡\u0003£y\u0003k\u000b[)\u0003K¡\u0003c{s;+phPhS3\u000b£\u001b£3Û\n",
      "û\u0013K¢û£K\u001b[ËâC+ccy\u0003\u000bs!\u0003»+c\u001b{k)\u0003£y\u00033Kc)\u00033{+sK\u0019\u0003\u001bC\u000bc\n",
      "Shifted characters: ÆVævRâ\u0005F2\u00062\u0006§W7B\u0006fÆÆW\"\u0007FWB\u0007Fò\u0006Ö\u0016¶R\u0006B\u0006ÆöævW\"àÐ Ð¦f\u00177F7Fg¶\u0015ö&E÷G&6·ÄVÆÆò\u0006\u0016æB\u0007vVÆ6öÖR\u0007Fò\u0006fÆS\u0013\u0012\u0006f÷&Vç62\u00066\u0016Æ\n",
      "Shifted characters: ­Ìì¥Ä\n",
      "íÌì®EÁ¡A¡LÌ.nnÏl+ìM.îM,mo/\f­ä\f-Ì\u000eì­mí¬¤\u000eä\fÍ-¦&$\fÍîL­Îm,d\fm\f-\n",
      "Shifted characters: \u0019[ÙK\u0015\u001a\u001a\\È\u001a\\È\u001a\\\u0019[\u001b\u0019\\\u001d\u0019^\u001d\u001bÈ\u001bXZÙH\u001a\u001b\u001bÛÙ\\BB\\Ý\u0018Ý\u0019ØWØ]\u0017Ý\u001cXÚÞ_\u0012\u0019[\u001b\u001bÈ\u0018[\u001dÙ[\u0018ÛÛYH\u001d\u001bÈ\u0019[\u0019LLH\u0019Ü[ÚXÈ\u0018Ú\u0018[\u001b\n",
      "Shifted characters: 2·3²\u0010*44¹4¹5:¹º\u001034¶62¹\u0010:2¼:\u0010:76°µ²4º\u001067·3²¹\u0017\u0006\u000630¹º1º3=°¯±4º/º94±µ¼¾$2¶670·2\u0010;²¶1·¶²:734¶237¹2·9´±1´0¶6\n",
      "Shifted characters: enge. This is just filler text to make it longer.\n",
      "\n",
      "fastctf{a_bit_tricky|Hello and welcome to file11 forensic chall\n",
      "Shifted characters: ÊÜÎÊ\\@¨ÐÒæ@Òæ@Ôêæè@ÌÒØØÊä@èÊðè@èÞ@ÚÂÖÊ@Òè@ØÞÜÎÊä\\\u001a\u0014\u001a\u0014ÌÂæèÆèÌöÂ¾ÄÒè¾èäÒÆÖòøÊØØÞ@ÂÜÈ@îÊØÆÞÚÊ@èÞ@ÌÒØÊbb@ÌÞäÊÜæÒÆ@ÆÐÂØØ\n",
      "Shifted characters: ¹¸Q¡¥Ì¥Ì©ÕÍÐ¥±±ÈÑáÐÑ¼µ­¥Ð±½¹È¸4(4)ÍÑÑí}¥Ñ}ÑÉ¥­åñ!±±¼¹Ý±½µÑ¼¥±ÄÄ½É¹Í¥¡±±\n",
      "Shifted characters: +s;)q\u0002£CK\u0003K\u0003S«¡\u00033Kcc+\u0003£+Ã¡\u0003£y\u0003k\u000b[)\u0003K¡\u0003c{s;+phPhS3\u000b£\u001b£3Û\n",
      "û\u0013K¢û£K\u001b[ËâC+ccy\u0003\u000bs!\u0003»+c\u001b{k)\u0003£y\u00033Kc)\u00033{+sK\u0019\u0003\u001bC\u000bcc\n",
      "Shifted characters: VævRâ\u0005F2\u00062\u0006§W7B\u0006fÆÆW\"\u0007FWB\u0007Fò\u0006Ö\u0016¶R\u0006B\u0006ÆöævW\"àÐ Ð¦f\u00177F7Fg¶\u0015ö&E÷G&6·ÄVÆÆò\u0006\u0016æB\u0007vVÆ6öÖR\u0007Fò\u0006fÆS\u0013\u0012\u0006f÷&Vç62\u00066\u0016ÆÆ\n",
      "Shifted characters: ­Ìì¥Ä\n",
      "íÌì®EÁ¡A¡LÌ.nnÏl+ìM.îM,mo/\f­ä\f-Ì\u000eì­mí¬¤\u000eä\fÍ-¦&$\fÍîL­Îm,d\fm\f-\n",
      "Shifted characters: [ÙK\u0015\u001a\u001a\\È\u001a\\È\u001a\\\u0019[\u001b\u0019\\\u001d\u0019^\u001d\u001bÈ\u001bXZÙH\u001a\u001b\u001bÛÙ\\BB\\Ý\u0018Ý\u0019ØWØ]\u0017Ý\u001cXÚÞ_\u0012\u0019[\u001b\u001bÈ\u0018[\u001dÙ[\u0018ÛÛYH\u001d\u001bÈ\u0019[\u0019LLH\u0019Ü[ÚXÈ\u0018Ú\u0018[\u001b\u0019\n",
      "Shifted characters: ·3²\u0010*44¹4¹5:¹º\u001034¶62¹\u0010:2¼:\u0010:76°µ²4º\u001067·3²¹\u0017\u0006\u000630¹º1º3=°¯±4º/º94±µ¼¾$2¶670·2\u0010;²¶1·¶²:734¶237¹2·9´±1´0¶62\n",
      "Shifted characters: nge. This is just filler text to make it longer.\n",
      "\n",
      "fastctf{a_bit_tricky|Hello and welcome to file11 forensic challe\n",
      "Shifted characters: ÜÎÊ\\@¨ÐÒæ@Òæ@Ôêæè@ÌÒØØÊä@èÊðè@èÞ@ÚÂÖÊ@Òè@ØÞÜÎÊä\\\u001a\u0014\u001a\u0014ÌÂæèÆèÌöÂ¾ÄÒè¾èäÒÆÖòøÊØØÞ@ÂÜÈ@îÊØÆÞÚÊ@èÞ@ÌÒØÊbb@ÌÞäÊÜæÒÆ@ÆÐÂØØÊ\n",
      "Shifted characters: ¹¸Q¡¥Ì¥Ì©ÕÍÐ¥±±ÈÑáÐÑ¼µ­¥Ð±½¹È¸4(4)ÍÑÑí}¥Ñ}ÑÉ¥­åñ!±±¼¹Ý±½µÑ¼¥±ÄÄ½É¹Í¥¡±±\n",
      "Shifted characters: s;)q\u0002£CK\u0003K\u0003S«¡\u00033Kcc+\u0003£+Ã¡\u0003£y\u0003k\u000b[)\u0003K¡\u0003c{s;+phPhS3\u000b£\u001b£3Û\n",
      "û\u0013K¢û£K\u001b[ËâC+ccy\u0003\u000bs!\u0003»+c\u001b{k)\u0003£y\u00033Kc)\u00033{+sK\u0019\u0003\u001bC\u000bcc+\n",
      "Shifted characters: ævRâ\u0005F2\u00062\u0006§W7B\u0006fÆÆW\"\u0007FWB\u0007Fò\u0006Ö\u0016¶R\u0006B\u0006ÆöævW\"àÐ Ð¦f\u00177F7Fg¶\u0015ö&E÷G&6·ÄVÆÆò\u0006\u0016æB\u0007vVÆ6öÖR\u0007Fò\u0006fÆS\u0013\u0012\u0006f÷&Vç62\u00066\u0016ÆÆV\n",
      "Shifted characters: Ìì¥Ä\n",
      "íÌì®EÁ¡A¡LÌ.nnÏl+ìM.îM,mo/\f­ä\f-Ì\u000eì­mí¬¤\u000eä\fÍ-¦&$\fÍîL­Îm,d\fm\f-­\n",
      "Shifted characters: ÙK\u0015\u001a\u001a\\È\u001a\\È\u001a\\\u0019[\u001b\u0019\\\u001d\u0019^\u001d\u001bÈ\u001bXZÙH\u001a\u001b\u001bÛÙ\\BB\\Ý\u0018Ý\u0019ØWØ]\u0017Ý\u001cXÚÞ_\u0012\u0019[\u001b\u001bÈ\u0018[\u001dÙ[\u0018ÛÛYH\u001d\u001bÈ\u0019[\u0019LLH\u0019Ü[ÚXÈ\u0018Ú\u0018[\u001b\u0019[\n",
      "Shifted characters: 3²\u0010*44¹4¹5:¹º\u001034¶62¹\u0010:2¼:\u0010:76°µ²4º\u001067·3²¹\u0017\u0006\u000630¹º1º3=°¯±4º/º94±µ¼¾$2¶670·2\u0010;²¶1·¶²:734¶237¹2·9´±1´0¶62·\n",
      "Shifted characters: ge. This is just filler text to make it longer.\n",
      "\n",
      "fastctf{a_bit_tricky|Hello and welcome to file11 forensic challen\n",
      "Shifted characters: ÎÊ\\@¨ÐÒæ@Òæ@Ôêæè@ÌÒØØÊä@èÊðè@èÞ@ÚÂÖÊ@Òè@ØÞÜÎÊä\\\u001a\u0014\u001a\u0014ÌÂæèÆèÌöÂ¾ÄÒè¾èäÒÆÖòøÊØØÞ@ÂÜÈ@îÊØÆÞÚÊ@èÞ@ÌÒØÊbb@ÌÞäÊÜæÒÆ@ÆÐÂØØÊÜ\n",
      "Shifted characters: ¸Q¡¥Ì¥Ì©ÕÍÐ¥±±ÈÑáÐÑ¼µ­¥Ð±½¹È¸4(4)ÍÑÑí}¥Ñ}ÑÉ¥­åñ!±±¼¹Ý±½µÑ¼¥±ÄÄ½É¹Í¥¡±±¹\n",
      "Shifted characters: ;)q\u0002£CK\u0003K\u0003S«¡\u00033Kcc+\u0003£+Ã¡\u0003£y\u0003k\u000b[)\u0003K¡\u0003c{s;+phPhS3\u000b£\u001b£3Û\n",
      "û\u0013K¢û£K\u001b[ËâC+ccy\u0003\u000bs!\u0003»+c\u001b{k)\u0003£y\u00033Kc)\u00033{+sK\u0019\u0003\u001bC\u000bcc+s\n",
      "Shifted characters: vRâ\u0005F2\u00062\u0006§W7B\u0006fÆÆW\"\u0007FWB\u0007Fò\u0006Ö\u0016¶R\u0006B\u0006ÆöævW\"àÐ Ð¦f\u00177F7Fg¶\u0015ö&E÷G&6·ÄVÆÆò\u0006\u0016æB\u0007vVÆ6öÖR\u0007Fò\u0006fÆS\u0013\u0012\u0006f÷&Vç62\u00066\u0016ÆÆVæ\n",
      "Shifted characters: ì¥Ä\n",
      "íÌì®EÁ¡A¡LÌ.nnÏl+ìM.îM,mo/\f­ä\f-Ì\u000eì­mí¬¤\u000eä\fÍ-¦&$\fÍîL­Îm,d\fm\f-­Ì\n",
      "Shifted characters: ÙK\u0015\u001a\u001a\\È\u001a\\È\u001a\\\u0019[\u001b\u0019\\\u001d\u0019^\u001d\u001bÈ\u001bXZÙH\u001a\u001b\u001bÛÙ\\BB\\Ý\u0018Ý\u0019ØWØ]\u0017Ý\u001cXÚÞ_\u0012\u0019[\u001b\u001bÈ\u0018[\u001dÙ[\u0018ÛÛYH\u001d\u001bÈ\u0019[\u0019LLH\u0019Ü[ÚXÈ\u0018Ú\u0018[\u001b\u0019[\n",
      "Shifted characters: ²\u0010*44¹4¹5:¹º\u001034¶62¹\u0010:2¼:\u0010:76°µ²4º\u001067·3²¹\u0017\u0006\u000630¹º1º3=°¯±4º/º94±µ¼¾$2¶670·2\u0010;²¶1·¶²:734¶237¹2·9´±1´0¶62·3\n",
      "Shifted characters: e. This is just filler text to make it longer.\n",
      "\n",
      "fastctf{a_bit_tricky|Hello and welcome to file11 forensic challeng\n",
      "Shifted characters: Ê\\@¨ÐÒæ@Òæ@Ôêæè@ÌÒØØÊä@èÊðè@èÞ@ÚÂÖÊ@Òè@ØÞÜÎÊä\\\u001a\u0014\u001a\u0014ÌÂæèÆèÌöÂ¾ÄÒè¾èäÒÆÖòøÊØØÞ@ÂÜÈ@îÊØÆÞÚÊ@èÞ@ÌÒØÊbb@ÌÞäÊÜæÒÆ@ÆÐÂØØÊÜÎ\n",
      "Shifted characters: ¸Q¡¥Ì¥Ì©ÕÍÐ¥±±ÈÑáÐÑ¼µ­¥Ð±½¹È¸4(4)ÍÑÑí}¥Ñ}ÑÉ¥­åñ!±±¼¹Ý±½µÑ¼¥±ÄÄ½É¹Í¥¡±±¹\n",
      "Shifted characters: )q\u0002£CK\u0003K\u0003S«¡\u00033Kcc+\u0003£+Ã¡\u0003£y\u0003k\u000b[)\u0003K¡\u0003c{s;+phPhS3\u000b£\u001b£3Û\n",
      "û\u0013K¢û£K\u001b[ËâC+ccy\u0003\u000bs!\u0003»+c\u001b{k)\u0003£y\u00033Kc)\u00033{+sK\u0019\u0003\u001bC\u000bcc+s;\n",
      "Shifted characters: Râ\u0005F2\u00062\u0006§W7B\u0006fÆÆW\"\u0007FWB\u0007Fò\u0006Ö\u0016¶R\u0006B\u0006ÆöævW\"àÐ Ð¦f\u00177F7Fg¶\u0015ö&E÷G&6·ÄVÆÆò\u0006\u0016æB\u0007vVÆ6öÖR\u0007Fò\u0006fÆS\u0013\u0012\u0006f÷&Vç62\u00066\u0016ÆÆVæv\n",
      "Shifted characters: ¥Ä\n",
      "íÌì®EÁ¡A¡LÌ.nnÏl+ìM.îM,mo/\f­ä\f-Ì\u000eì­mí¬¤\u000eä\fÍ-¦&$\fÍîL­Îm,d\fm\f-­Ìì\n",
      "Shifted characters: K\u0015\u001a\u001a\\È\u001a\\È\u001a\\\u0019[\u001b\u0019\\\u001d\u0019^\u001d\u001bÈ\u001bXZÙH\u001a\u001b\u001bÛÙ\\BB\\Ý\u0018Ý\u0019ØWØ]\u0017Ý\u001cXÚÞ_\u0012\u0019[\u001b\u001bÈ\u0018[\u001dÙ[\u0018ÛÛYH\u001d\u001bÈ\u0019[\u0019LLH\u0019Ü[ÚXÈ\u0018Ú\u0018[\u001b\u0019[Ù\n",
      "Shifted characters: \u0010*44¹4¹5:¹º\u001034¶62¹\u0010:2¼:\u0010:76°µ²4º\u001067·3²¹\u0017\u0006\u000630¹º1º3=°¯±4º/º94±µ¼¾$2¶670·2\u0010;²¶1·¶²:734¶237¹2·9´±1´0¶62·3²\n",
      "Shifted characters: . This is just filler text to make it longer.\n",
      "\n",
      "fastctf{a_bit_tricky|Hello and welcome to file11 forensic challenge\n",
      "Shifted characters: \\@¨ÐÒæ@Òæ@Ôêæè@ÌÒØØÊä@èÊðè@èÞ@ÚÂÖÊ@Òè@ØÞÜÎÊä\\\u001a\u0014\u001a\u0014ÌÂæèÆèÌöÂ¾ÄÒè¾èäÒÆÖòøÊØØÞ@ÂÜÈ@îÊØÆÞÚÊ@èÞ@ÌÒØÊbb@ÌÞäÊÜæÒÆ@ÆÐÂØØÊÜÎÊ\n",
      "Shifted characters: ¸Q¡¥Ì¥Ì©ÕÍÐ¥±±ÈÑáÐÑ¼µ­¥Ð±½¹È¸4(4)ÍÑÑí}¥Ñ}ÑÉ¥­åñ!±±¼¹Ý±½µÑ¼¥±ÄÄ½É¹Í¥¡±±¹\n",
      "Shifted characters: q\u0002£CK\u0003K\u0003S«¡\u00033Kcc+\u0003£+Ã¡\u0003£y\u0003k\u000b[)\u0003K¡\u0003c{s;+phPhS3\u000b£\u001b£3Û\n",
      "û\u0013K¢û£K\u001b[ËâC+ccy\u0003\u000bs!\u0003»+c\u001b{k)\u0003£y\u00033Kc)\u00033{+sK\u0019\u0003\u001bC\u000bcc+s;)\n",
      "Shifted characters: â\u0005F2\u00062\u0006§W7B\u0006fÆÆW\"\u0007FWB\u0007Fò\u0006Ö\u0016¶R\u0006B\u0006ÆöævW\"àÐ Ð¦f\u00177F7Fg¶\u0015ö&E÷G&6·ÄVÆÆò\u0006\u0016æB\u0007vVÆ6öÖR\u0007Fò\u0006fÆS\u0013\u0012\u0006f÷&Vç62\u00066\u0016ÆÆVævR\n",
      "Shifted characters: Ä\n",
      "íÌì®EÁ¡A¡LÌ.nnÏl+ìM.îM,mo/\f­ä\f-Ì\u000eì­mí¬¤\u000eä\fÍ-¦&$\fÍîL­Îm,d\fm\f-­Ìì¥\n",
      "Shifted characters: \u0015\u001a\u001a\\È\u001a\\È\u001a\\\u0019[\u001b\u0019\\\u001d\u0019^\u001d\u001bÈ\u001bXZÙH\u001a\u001b\u001bÛÙ\\BB\\Ý\u0018Ý\u0019ØWØ]\u0017Ý\u001cXÚÞ_\u0012\u0019[\u001b\u001bÈ\u0018[\u001dÙ[\u0018ÛÛYH\u001d\u001bÈ\u0019[\u0019LLH\u0019Ü[ÚXÈ\u0018Ú\u0018[\u001b\u0019[ÙK\n",
      "Shifted characters: \u0010*44¹4¹5:¹º\u001034¶62¹\u0010:2¼:\u0010:76°µ²4º\u001067·3²¹\u0017\u0006\u000630¹º1º3=°¯±4º/º94±µ¼¾$2¶670·2\u0010;²¶1·¶²:734¶237¹2·9´±1´0¶62·3²\n",
      "Shifted characters:  This is just filler text to make it longer.\n",
      "\n",
      "fastctf{a_bit_tricky|Hello and welcome to file11 forensic challenge.\n",
      "Shifted characters: @¨ÐÒæ@Òæ@Ôêæè@ÌÒØØÊä@èÊðè@èÞ@ÚÂÖÊ@Òè@ØÞÜÎÊä\\\u001a\u0014\u001a\u0014ÌÂæèÆèÌöÂ¾ÄÒè¾èäÒÆÖòøÊØØÞ@ÂÜÈ@îÊØÆÞÚÊ@èÞ@ÌÒØÊbb@ÌÞäÊÜæÒÆ@ÆÐÂØØÊÜÎÊ\\\n",
      "Shifted characters: Q¡¥Ì¥Ì©ÕÍÐ¥±±ÈÑáÐÑ¼µ­¥Ð±½¹È¸4(4)ÍÑÑí}¥Ñ}ÑÉ¥­åñ!±±¼¹Ý±½µÑ¼¥±ÄÄ½É¹Í¥¡±±¹¸\n",
      "Shifted characters: \u0002£CK\u0003K\u0003S«¡\u00033Kcc+\u0003£+Ã¡\u0003£y\u0003k\u000b[)\u0003K¡\u0003c{s;+phPhS3\u000b£\u001b£3Û\n",
      "û\u0013K¢û£K\u001b[ËâC+ccy\u0003\u000bs!\u0003»+c\u001b{k)\u0003£y\u00033Kc)\u00033{+sK\u0019\u0003\u001bC\u000bcc+s;)q\n",
      "Shifted characters: \u0005F2\u00062\u0006§W7B\u0006fÆÆW\"\u0007FWB\u0007Fò\u0006Ö\u0016¶R\u0006B\u0006ÆöævW\"àÐ Ð¦f\u00177F7Fg¶\u0015ö&E÷G&6·ÄVÆÆò\u0006\u0016æB\u0007vVÆ6öÖR\u0007Fò\u0006fÆS\u0013\u0012\u0006f÷&Vç62\u00066\u0016ÆÆVævRâ\n",
      "Shifted characters: \n",
      "íÌì®EÁ¡A¡LÌ.nnÏl+ìM.îM,mo/\f­ä\f-Ì\u000eì­mí¬¤\u000eä\fÍ-¦&$\fÍîL­Îm,d\fm\f-­Ìì¥Ä\n",
      "Shifted characters: \u0015\u001a\u001a\\È\u001a\\È\u001a\\\u0019[\u001b\u0019\\\u001d\u0019^\u001d\u001bÈ\u001bXZÙH\u001a\u001b\u001bÛÙ\\BB\\Ý\u0018Ý\u0019ØWØ]\u0017Ý\u001cXÚÞ_\u0012\u0019[\u001b\u001bÈ\u0018[\u001dÙ[\u0018ÛÛYH\u001d\u001bÈ\u0019[\u0019LLH\u0019Ü[ÚXÈ\u0018Ú\u0018[\u001b\u0019[ÙK\n",
      "Shifted characters: *44¹4¹5:¹º\u001034¶62¹\u0010:2¼:\u0010:76°µ²4º\u001067·3²¹\u0017\u0006\u000630¹º1º3=°¯±4º/º94±µ¼¾$2¶670·2\u0010;²¶1·¶²:734¶237¹2·9´±1´0¶62·3²\u0010\n",
      "Shifted characters: This is just filler text to make it longer.\n",
      "\n",
      "fastctf{a_bit_tricky|Hello and welcome to file11 forensic challenge. \n",
      "Shifted characters: ¨ÐÒæ@Òæ@Ôêæè@ÌÒØØÊä@èÊðè@èÞ@ÚÂÖÊ@Òè@ØÞÜÎÊä\\\u001a\u0014\u001a\u0014ÌÂæèÆèÌöÂ¾ÄÒè¾èäÒÆÖòøÊØØÞ@ÂÜÈ@îÊØÆÞÚÊ@èÞ@ÌÒØÊbb@ÌÞäÊÜæÒÆ@ÆÐÂØØÊÜÎÊ\\@\n",
      "Shifted characters: Q¡¥Ì¥Ì©ÕÍÐ¥±±ÈÑáÐÑ¼µ­¥Ð±½¹È¸4(4)ÍÑÑí}¥Ñ}ÑÉ¥­åñ!±±¼¹Ý±½µÑ¼¥±ÄÄ½É¹Í¥¡±±¹¸\n",
      "Shifted characters: £CK\u0003K\u0003S«¡\u00033Kcc+\u0003£+Ã¡\u0003£y\u0003k\u000b[)\u0003K¡\u0003c{s;+phPhS3\u000b£\u001b£3Û\n",
      "û\u0013K¢û£K\u001b[ËâC+ccy\u0003\u000bs!\u0003»+c\u001b{k)\u0003£y\u00033Kc)\u00033{+sK\u0019\u0003\u001bC\u000bcc+s;)q\u0002\n",
      "Shifted characters: F2\u00062\u0006§W7B\u0006fÆÆW\"\u0007FWB\u0007Fò\u0006Ö\u0016¶R\u0006B\u0006ÆöævW\"àÐ Ð¦f\u00177F7Fg¶\u0015ö&E÷G&6·ÄVÆÆò\u0006\u0016æB\u0007vVÆ6öÖR\u0007Fò\u0006fÆS\u0013\u0012\u0006f÷&Vç62\u00066\u0016ÆÆVævRâ\u0005\n",
      "íÌì®EÁ¡A¡LÌ.nnÏl+ìM.îM,mo/\f­ä\f-Ì\u000eì­mí¬¤\u000eä\fÍ-¦&$\fÍîL­Îm,d\fm\f-­Ìì¥Ä\n",
      "\n",
      "Shifted characters: \u001a\u001a\\È\u001a\\È\u001a\\\u0019[\u001b\u0019\\\u001d\u0019^\u001d\u001bÈ\u001bXZÙH\u001a\u001b\u001bÛÙ\\BB\\Ý\u0018Ý\u0019ØWØ]\u0017Ý\u001cXÚÞ_\u0012\u0019[\u001b\u001bÈ\u0018[\u001dÙ[\u0018ÛÛYH\u001d\u001bÈ\u0019[\u0019LLH\u0019Ü[ÚXÈ\u0018Ú\u0018[\u001b\u0019[ÙK\u0015\n",
      "Shifted characters: 44¹4¹5:¹º\u001034¶62¹\u0010:2¼:\u0010:76°µ²4º\u001067·3²¹\u0017\u0006\u000630¹º1º3=°¯±4º/º94±µ¼¾$2¶670·2\u0010;²¶1·¶²:734¶237¹2·9´±1´0¶62·3²\u0010*\n",
      "Shifted characters: his is just filler text to make it longer.\n",
      "\n",
      "fastctf{a_bit_tricky|Hello and welcome to file11 forensic challenge. T\n",
      "Shifted characters: ÐÒæ@Òæ@Ôêæè@ÌÒØØÊä@èÊðè@èÞ@ÚÂÖÊ@Òè@ØÞÜÎÊä\\\u001a\u0014\u001a\u0014ÌÂæèÆèÌöÂ¾ÄÒè¾èäÒÆÖòøÊØØÞ@ÂÜÈ@îÊØÆÞÚÊ@èÞ@ÌÒØÊbb@ÌÞäÊÜæÒÆ@ÆÐÂØØÊÜÎÊ\\@¨\n",
      "Shifted characters: ¡¥Ì¥Ì©ÕÍÐ¥±±ÈÑáÐÑ¼µ­¥Ð±½¹È¸4(4)ÍÑÑí}¥Ñ}ÑÉ¥­åñ!±±¼¹Ý±½µÑ¼¥±ÄÄ½É¹Í¥¡±±¹¸Q\n",
      "Shifted characters: CK\u0003K\u0003S«¡\u00033Kcc+\u0003£+Ã¡\u0003£y\u0003k\u000b[)\u0003K¡\u0003c{s;+phPhS3\u000b£\u001b£3Û\n",
      "û\u0013K¢û£K\u001b[ËâC+ccy\u0003\u000bs!\u0003»+c\u001b{k)\u0003£y\u00033Kc)\u00033{+sK\u0019\u0003\u001bC\u000bcc+s;)q\u0002£\n",
      "Shifted characters: 2\u00062\u0006§W7B\u0006fÆÆW\"\u0007FWB\u0007Fò\u0006Ö\u0016¶R\u0006B\u0006ÆöævW\"àÐ Ð¦f\u00177F7Fg¶\u0015ö&E÷G&6·ÄVÆÆò\u0006\u0016æB\u0007vVÆ6öÖR\u0007Fò\u0006fÆS\u0013\u0012\u0006f÷&Vç62\u00066\u0016ÆÆVævRâ\u0005F\n",
      "íÌì®EÁ¡A¡LÌ.nnÏl+ìM.îM,mo/\f­ä\f-Ì\u000eì­mí¬¤\u000eä\fÍ-¦&$\fÍîL­Îm,d\fm\f-­Ìì¥Ä\n",
      "\n",
      "Shifted characters: \u001a\\È\u001a\\È\u001a\\\u0019[\u001b\u0019\\\u001d\u0019^\u001d\u001bÈ\u001bXZÙH\u001a\u001b\u001bÛÙ\\BB\\Ý\u0018Ý\u0019ØWØ]\u0017Ý\u001cXÚÞ_\u0012\u0019[\u001b\u001bÈ\u0018[\u001dÙ[\u0018ÛÛYH\u001d\u001bÈ\u0019[\u0019LLH\u0019Ü[ÚXÈ\u0018Ú\u0018[\u001b\u0019[ÙK\u0015\u001a\n",
      "Shifted characters: 4¹4¹5:¹º\u001034¶62¹\u0010:2¼:\u0010:76°µ²4º\u001067·3²¹\u0017\u0006\u000630¹º1º3=°¯±4º/º94±µ¼¾$2¶670·2\u0010;²¶1·¶²:734¶237¹2·9´±1´0¶62·3²\u0010*4\n",
      "Shifted characters: is is just filler text to make it longer.\n",
      "\n",
      "fastctf{a_bit_tricky|Hello and welcome to file11 forensic challenge. Th\n",
      "Shifted characters: Òæ@Òæ@Ôêæè@ÌÒØØÊä@èÊðè@èÞ@ÚÂÖÊ@Òè@ØÞÜÎÊä\\\u001a\u0014\u001a\u0014ÌÂæèÆèÌöÂ¾ÄÒè¾èäÒÆÖòøÊØØÞ@ÂÜÈ@îÊØÆÞÚÊ@èÞ@ÌÒØÊbb@ÌÞäÊÜæÒÆ@ÆÐÂØØÊÜÎÊ\\@¨Ð\n",
      "Shifted characters: ¥Ì¥Ì©ÕÍÐ¥±±ÈÑáÐÑ¼µ­¥Ð±½¹È¸4(4)ÍÑÑí}¥Ñ}ÑÉ¥­åñ!±±¼¹Ý±½µÑ¼¥±ÄÄ½É¹Í¥¡±±¹¸Q¡\n",
      "Shifted characters: K\u0003K\u0003S«¡\u00033Kcc+\u0003£+Ã¡\u0003£y\u0003k\u000b[)\u0003K¡\u0003c{s;+phPhS3\u000b£\u001b£3Û\n",
      "û\u0013K¢û£K\u001b[ËâC+ccy\u0003\u000bs!\u0003»+c\u001b{k)\u0003£y\u00033Kc)\u00033{+sK\u0019\u0003\u001bC\u000bcc+s;)q\u0002£C\n",
      "Shifted characters: 2\u00062\u0006§W7B\u0006fÆÆW\"\u0007FWB\u0007Fò\u0006Ö\u0016¶R\u0006B\u0006ÆöævW\"àÐ Ð¦f\u00177F7Fg¶\u0015ö&E÷G&6·ÄVÆÆò\u0006\u0016æB\u0007vVÆ6öÖR\u0007Fò\u0006fÆS\u0013\u0012\u0006f÷&Vç62\u00066\u0016ÆÆVævRâ\u0005F\n",
      "íÌì®EÁ¡A¡LÌ.nnÏl+ìM.îM,mo/\f­ä\f-Ì\u000eì­mí¬¤\u000eä\fÍ-¦&$\fÍîL­Îm,d\fm\f-­Ìì¥Ä\n",
      "\n",
      "Shifted characters: \\È\u001a\\È\u001a\\\u0019[\u001b\u0019\\\u001d\u0019^\u001d\u001bÈ\u001bXZÙH\u001a\u001b\u001bÛÙ\\BB\\Ý\u0018Ý\u0019ØWØ]\u0017Ý\u001cXÚÞ_\u0012\u0019[\u001b\u001bÈ\u0018[\u001dÙ[\u0018ÛÛYH\u001d\u001bÈ\u0019[\u0019LLH\u0019Ü[ÚXÈ\u0018Ú\u0018[\u001b\u0019[ÙK\u0015\u001a\u001a\n",
      "Shifted characters: ¹4¹5:¹º\u001034¶62¹\u0010:2¼:\u0010:76°µ²4º\u001067·3²¹\u0017\u0006\u000630¹º1º3=°¯±4º/º94±µ¼¾$2¶670·2\u0010;²¶1·¶²:734¶237¹2·9´±1´0¶62·3²\u0010*44\n",
      "Shifted characters: s is just filler text to make it longer.\n",
      "\n",
      "fastctf{a_bit_tricky|Hello and welcome to file11 forensic challenge. Thi\n",
      "Shifted characters: æ@Òæ@Ôêæè@ÌÒØØÊä@èÊðè@èÞ@ÚÂÖÊ@Òè@ØÞÜÎÊä\\\u001a\u0014\u001a\u0014ÌÂæèÆèÌöÂ¾ÄÒè¾èäÒÆÖòøÊØØÞ@ÂÜÈ@îÊØÆÞÚÊ@èÞ@ÌÒØÊbb@ÌÞäÊÜæÒÆ@ÆÐÂØØÊÜÎÊ\\@¨ÐÒ\n",
      "Shifted characters: Ì¥Ì©ÕÍÐ¥±±ÈÑáÐÑ¼µ­¥Ð±½¹È¸4(4)ÍÑÑí}¥Ñ}ÑÉ¥­åñ!±±¼¹Ý±½µÑ¼¥±ÄÄ½É¹Í¥¡±±¹¸Q¡¥\n",
      "Shifted characters: \u0003K\u0003S«¡\u00033Kcc+\u0003£+Ã¡\u0003£y\u0003k\u000b[)\u0003K¡\u0003c{s;+phPhS3\u000b£\u001b£3Û\n",
      "û\u0013K¢û£K\u001b[ËâC+ccy\u0003\u000bs!\u0003»+c\u001b{k)\u0003£y\u00033Kc)\u00033{+sK\u0019\u0003\u001bC\u000bcc+s;)q\u0002£CK\n",
      "Shifted characters: 2\u00062\u0006§W7B\u0006fÆÆW\"\u0007FWB\u0007Fò\u0006Ö\u0016¶R\u0006B\u0006ÆöævW\"àÐ Ð¦f\u00177F7Fg¶\u0015ö&E÷G&6·ÄVÆÆò\u0006\u0016æB\u0007vVÆ6öÖR\u0007Fò\u0006fÆS\u0013\u0012\u0006f÷&Vç62\u00066\u0016ÆÆVævRâ\u0005F\n",
      "íÌì®EÁ¡A¡LÌ.nnÏl+ìM.îM,mo/\f­ä\f-Ì\u000eì­mí¬¤\u000eä\fÍ-¦&$\fÍîL­Îm,d\fm\f-­Ìì¥Ä\n",
      ".\n",
      "Shifted characters: È\u001a\\È\u001a\\\u0019[\u001b\u0019\\\u001d\u0019^\u001d\u001bÈ\u001bXZÙH\u001a\u001b\u001bÛÙ\\BB\\Ý\u0018Ý\u0019ØWØ]\u0017Ý\u001cXÚÞ_\u0012\u0019[\u001b\u001bÈ\u0018[\u001dÙ[\u0018ÛÛYH\u001d\u001bÈ\u0019[\u0019LLH\u0019Ü[ÚXÈ\u0018Ú\u0018[\u001b\u0019[ÙK\u0015\u001a\u001a\\\n",
      "Shifted characters: 4¹5:¹º\u001034¶62¹\u0010:2¼:\u0010:76°µ²4º\u001067·3²¹\u0017\u0006\u000630¹º1º3=°¯±4º/º94±µ¼¾$2¶670·2\u0010;²¶1·¶²:734¶237¹2·9´±1´0¶62·3²\u0010*44¹\n",
      "Shifted characters:  is just filler text to make it longer.\n",
      "\n",
      "fastctf{a_bit_tricky|Hello and welcome to file11 forensic challenge. This\n",
      "Shifted characters: @Òæ@Ôêæè@ÌÒØØÊä@èÊðè@èÞ@ÚÂÖÊ@Òè@ØÞÜÎÊä\\\u001a\u0014\u001a\u0014ÌÂæèÆèÌöÂ¾ÄÒè¾èäÒÆÖòøÊØØÞ@ÂÜÈ@îÊØÆÞÚÊ@èÞ@ÌÒØÊbb@ÌÞäÊÜæÒÆ@ÆÐÂØØÊÜÎÊ\\@¨ÐÒæ\n",
      "Shifted characters: ¥Ì©ÕÍÐ¥±±ÈÑáÐÑ¼µ­¥Ð±½¹È¸4(4)ÍÑÑí}¥Ñ}ÑÉ¥­åñ!±±¼¹Ý±½µÑ¼¥±ÄÄ½É¹Í¥¡±±¹¸Q¡¥Ì\n",
      "Shifted characters: \u0003K\u0003S«¡\u00033Kcc+\u0003£+Ã¡\u0003£y\u0003k\u000b[)\u0003K¡\u0003c{s;+phPhS3\u000b£\u001b£3Û\n",
      "û\u0013K¢û£K\u001b[ËâC+ccy\u0003\u000bs!\u0003»+c\u001b{k)\u0003£y\u00033Kc)\u00033{+sK\u0019\u0003\u001bC\u000bcc+s;)q\u0002£CK\n",
      "Shifted characters: \u00062\u0006§W7B\u0006fÆÆW\"\u0007FWB\u0007Fò\u0006Ö\u0016¶R\u0006B\u0006ÆöævW\"àÐ Ð¦f\u00177F7Fg¶\u0015ö&E÷G&6·ÄVÆÆò\u0006\u0016æB\u0007vVÆ6öÖR\u0007Fò\u0006fÆS\u0013\u0012\u0006f÷&Vç62\u00066\u0016ÆÆVævRâ\u0005F2\n",
      "íÌì®EÁ¡A¡LÌ.nnÏl+ìM.îM,mo/\f­ä\f-Ì\u000eì­mí¬¤\u000eä\fÍ-¦&$\fÍîL­Îm,d\fm\f-­Ìì¥Ä\n",
      ".d\n",
      "Shifted characters: \u001a\\È\u001a\\\u0019[\u001b\u0019\\\u001d\u0019^\u001d\u001bÈ\u001bXZÙH\u001a\u001b\u001bÛÙ\\BB\\Ý\u0018Ý\u0019ØWØ]\u0017Ý\u001cXÚÞ_\u0012\u0019[\u001b\u001bÈ\u0018[\u001dÙ[\u0018ÛÛYH\u001d\u001bÈ\u0019[\u0019LLH\u0019Ü[ÚXÈ\u0018Ú\u0018[\u001b\u0019[ÙK\u0015\u001a\u001a\\È\n",
      "Shifted characters: 4¹5:¹º\u001034¶62¹\u0010:2¼:\u0010:76°µ²4º\u001067·3²¹\u0017\u0006\u000630¹º1º3=°¯±4º/º94±µ¼¾$2¶670·2\u0010;²¶1·¶²:734¶237¹2·9´±1´0¶62·3²\u0010*44¹\n",
      "Shifted characters: is just filler text to make it longer.\n",
      "\n",
      "fastctf{a_bit_tricky|Hello and welcome to file11 forensic challenge. This \n",
      "Shifted characters: Òæ@Ôêæè@ÌÒØØÊä@èÊðè@èÞ@ÚÂÖÊ@Òè@ØÞÜÎÊä\\\u001a\u0014\u001a\u0014ÌÂæèÆèÌöÂ¾ÄÒè¾èäÒÆÖòøÊØØÞ@ÂÜÈ@îÊØÆÞÚÊ@èÞ@ÌÒØÊbb@ÌÞäÊÜæÒÆ@ÆÐÂØØÊÜÎÊ\\@¨ÐÒæ@\n",
      "Shifted characters: ¥Ì©ÕÍÐ¥±±ÈÑáÐÑ¼µ­¥Ð±½¹È¸4(4)ÍÑÑí}¥Ñ}ÑÉ¥­åñ!±±¼¹Ý±½µÑ¼¥±ÄÄ½É¹Í¥¡±±¹¸Q¡¥Ì\n",
      "Shifted characters: K\u0003S«¡\u00033Kcc+\u0003£+Ã¡\u0003£y\u0003k\u000b[)\u0003K¡\u0003c{s;+phPhS3\u000b£\u001b£3Û\n",
      "û\u0013K¢û£K\u001b[ËâC+ccy\u0003\u000bs!\u0003»+c\u001b{k)\u0003£y\u00033Kc)\u00033{+sK\u0019\u0003\u001bC\u000bcc+s;)q\u0002£CK\u0003\n",
      "Shifted characters: 2\u0006§W7B\u0006fÆÆW\"\u0007FWB\u0007Fò\u0006Ö\u0016¶R\u0006B\u0006ÆöævW\"àÐ Ð¦f\u00177F7Fg¶\u0015ö&E÷G&6·ÄVÆÆò\u0006\u0016æB\u0007vVÆ6öÖR\u0007Fò\u0006fÆS\u0013\u0012\u0006f÷&Vç62\u00066\u0016ÆÆVævRâ\u0005F2\u0006\n",
      "íÌì®EÁ¡A¡LÌ.nnÏl+ìM.îM,mo/\f­ä\f-Ì\u000eì­mí¬¤\u000eä\fÍ-¦&$\fÍîL­Îm,d\fm\f-­Ìì¥Ä\n",
      ".d\n",
      "Shifted characters: \\È\u001a\\\u0019[\u001b\u0019\\\u001d\u0019^\u001d\u001bÈ\u001bXZÙH\u001a\u001b\u001bÛÙ\\BB\\Ý\u0018Ý\u0019ØWØ]\u0017Ý\u001cXÚÞ_\u0012\u0019[\u001b\u001bÈ\u0018[\u001dÙ[\u0018ÛÛYH\u001d\u001bÈ\u0019[\u0019LLH\u0019Ü[ÚXÈ\u0018Ú\u0018[\u001b\u0019[ÙK\u0015\u001a\u001a\\È\u001a\n",
      "Shifted characters: ¹5:¹º\u001034¶62¹\u0010:2¼:\u0010:76°µ²4º\u001067·3²¹\u0017\u0006\u000630¹º1º3=°¯±4º/º94±µ¼¾$2¶670·2\u0010;²¶1·¶²:734¶237¹2·9´±1´0¶62·3²\u0010*44¹4\n",
      "Shifted characters: s just filler text to make it longer.\n",
      "\n",
      "fastctf{a_bit_tricky|Hello and welcome to file11 forensic challenge. This i\n",
      "Shifted characters: æ@Ôêæè@ÌÒØØÊä@èÊðè@èÞ@ÚÂÖÊ@Òè@ØÞÜÎÊä\\\u001a\u0014\u001a\u0014ÌÂæèÆèÌöÂ¾ÄÒè¾èäÒÆÖòøÊØØÞ@ÂÜÈ@îÊØÆÞÚÊ@èÞ@ÌÒØÊbb@ÌÞäÊÜæÒÆ@ÆÐÂØØÊÜÎÊ\\@¨ÐÒæ@Ò\n",
      "Shifted characters: Ì©ÕÍÐ¥±±ÈÑáÐÑ¼µ­¥Ð±½¹È¸4(4)ÍÑÑí}¥Ñ}ÑÉ¥­åñ!±±¼¹Ý±½µÑ¼¥±ÄÄ½É¹Í¥¡±±¹¸Q¡¥Ì¥\n",
      "Shifted characters: \u0003S«¡\u00033Kcc+\u0003£+Ã¡\u0003£y\u0003k\u000b[)\u0003K¡\u0003c{s;+phPhS3\u000b£\u001b£3Û\n",
      "û\u0013K¢û£K\u001b[ËâC+ccy\u0003\u000bs!\u0003»+c\u001b{k)\u0003£y\u00033Kc)\u00033{+sK\u0019\u0003\u001bC\u000bcc+s;)q\u0002£CK\u0003K\n",
      "Shifted characters: 2\u0006§W7B\u0006fÆÆW\"\u0007FWB\u0007Fò\u0006Ö\u0016¶R\u0006B\u0006ÆöævW\"àÐ Ð¦f\u00177F7Fg¶\u0015ö&E÷G&6·ÄVÆÆò\u0006\u0016æB\u0007vVÆ6öÖR\u0007Fò\u0006fÆS\u0013\u0012\u0006f÷&Vç62\u00066\u0016ÆÆVævRâ\u0005F2\u0006\n",
      "íÌì®EÁ¡A¡LÌ.nnÏl+ìM.îM,mo/\f­ä\f-Ì\u000eì­mí¬¤\u000eä\fÍ-¦&$\fÍîL­Îm,d\fm\f-­Ìì¥Ä\n",
      ".d\n",
      "Shifted characters: È\u001a\\\u0019[\u001b\u0019\\\u001d\u0019^\u001d\u001bÈ\u001bXZÙH\u001a\u001b\u001bÛÙ\\BB\\Ý\u0018Ý\u0019ØWØ]\u0017Ý\u001cXÚÞ_\u0012\u0019[\u001b\u001bÈ\u0018[\u001dÙ[\u0018ÛÛYH\u001d\u001bÈ\u0019[\u0019LLH\u0019Ü[ÚXÈ\u0018Ú\u0018[\u001b\u0019[ÙK\u0015\u001a\u001a\\È\u001a\\\n",
      "Shifted characters: 5:¹º\u001034¶62¹\u0010:2¼:\u0010:76°µ²4º\u001067·3²¹\u0017\u0006\u000630¹º1º3=°¯±4º/º94±µ¼¾$2¶670·2\u0010;²¶1·¶²:734¶237¹2·9´±1´0¶62·3²\u0010*44¹4¹\n",
      "Shifted characters:  just filler text to make it longer.\n",
      "\n",
      "fastctf{a_bit_tricky|Hello and welcome to file11 forensic challenge. This is\n",
      "Shifted characters: @Ôêæè@ÌÒØØÊä@èÊðè@èÞ@ÚÂÖÊ@Òè@ØÞÜÎÊä\\\u001a\u0014\u001a\u0014ÌÂæèÆèÌöÂ¾ÄÒè¾èäÒÆÖòøÊØØÞ@ÂÜÈ@îÊØÆÞÚÊ@èÞ@ÌÒØÊbb@ÌÞäÊÜæÒÆ@ÆÐÂØØÊÜÎÊ\\@¨ÐÒæ@Òæ\n",
      "Shifted characters: ©ÕÍÐ¥±±ÈÑáÐÑ¼µ­¥Ð±½¹È¸4(4)ÍÑÑí}¥Ñ}ÑÉ¥­åñ!±±¼¹Ý±½µÑ¼¥±ÄÄ½É¹Í¥¡±±¹¸Q¡¥Ì¥Ì\n",
      "Shifted characters: \u0003S«¡\u00033Kcc+\u0003£+Ã¡\u0003£y\u0003k\u000b[)\u0003K¡\u0003c{s;+phPhS3\u000b£\u001b£3Û\n",
      "û\u0013K¢û£K\u001b[ËâC+ccy\u0003\u000bs!\u0003»+c\u001b{k)\u0003£y\u00033Kc)\u00033{+sK\u0019\u0003\u001bC\u000bcc+s;)q\u0002£CK\u0003K\n",
      "Shifted characters: \u0006§W7B\u0006fÆÆW\"\u0007FWB\u0007Fò\u0006Ö\u0016¶R\u0006B\u0006ÆöævW\"àÐ Ð¦f\u00177F7Fg¶\u0015ö&E÷G&6·ÄVÆÆò\u0006\u0016æB\u0007vVÆ6öÖR\u0007Fò\u0006fÆS\u0013\u0012\u0006f÷&Vç62\u00066\u0016ÆÆVævRâ\u0005F2\u00062\n",
      "íÌì®EÁ¡A¡LÌ.nnÏl+ìM.îM,mo/\f­ä\f-Ì\u000eì­mí¬¤\u000eä\fÍ-¦&$\fÍîL­Îm,d\fm\f-­Ìì¥Ä\n",
      ".d\n",
      "Shifted characters: \u001a\\\u0019[\u001b\u0019\\\u001d\u0019^\u001d\u001bÈ\u001bXZÙH\u001a\u001b\u001bÛÙ\\BB\\Ý\u0018Ý\u0019ØWØ]\u0017Ý\u001cXÚÞ_\u0012\u0019[\u001b\u001bÈ\u0018[\u001dÙ[\u0018ÛÛYH\u001d\u001bÈ\u0019[\u0019LLH\u0019Ü[ÚXÈ\u0018Ú\u0018[\u001b\u0019[ÙK\u0015\u001a\u001a\\È\u001a\\È\n",
      "Shifted characters: 5:¹º\u001034¶62¹\u0010:2¼:\u0010:76°µ²4º\u001067·3²¹\u0017\u0006\u000630¹º1º3=°¯±4º/º94±µ¼¾$2¶670·2\u0010;²¶1·¶²:734¶237¹2·9´±1´0¶62·3²\u0010*44¹4¹\n",
      "Shifted characters: just filler text to make it longer.\n",
      "\n",
      "fastctf{a_bit_tricky|Hello and welcome to file11 forensic challenge. This is \n",
      "Shifted characters: Ôêæè@ÌÒØØÊä@èÊðè@èÞ@ÚÂÖÊ@Òè@ØÞÜÎÊä\\\u001a\u0014\u001a\u0014ÌÂæèÆèÌöÂ¾ÄÒè¾èäÒÆÖòøÊØØÞ@ÂÜÈ@îÊØÆÞÚÊ@èÞ@ÌÒØÊbb@ÌÞäÊÜæÒÆ@ÆÐÂØØÊÜÎÊ\\@¨ÐÒæ@Òæ@\n",
      "Shifted characters: ©ÕÍÐ¥±±ÈÑáÐÑ¼µ­¥Ð±½¹È¸4(4)ÍÑÑí}¥Ñ}ÑÉ¥­åñ!±±¼¹Ý±½µÑ¼¥±ÄÄ½É¹Í¥¡±±¹¸Q¡¥Ì¥Ì\n",
      "Shifted characters: S«¡\u00033Kcc+\u0003£+Ã¡\u0003£y\u0003k\u000b[)\u0003K¡\u0003c{s;+phPhS3\u000b£\u001b£3Û\n",
      "û\u0013K¢û£K\u001b[ËâC+ccy\u0003\u000bs!\u0003»+c\u001b{k)\u0003£y\u00033Kc)\u00033{+sK\u0019\u0003\u001bC\u000bcc+s;)q\u0002£CK\u0003K\u0003\n",
      "Shifted characters: §W7B\u0006fÆÆW\"\u0007FWB\u0007Fò\u0006Ö\u0016¶R\u0006B\u0006ÆöævW\"àÐ Ð¦f\u00177F7Fg¶\u0015ö&E÷G&6·ÄVÆÆò\u0006\u0016æB\u0007vVÆ6öÖR\u0007Fò\u0006fÆS\u0013\u0012\u0006f÷&Vç62\u00066\u0016ÆÆVævRâ\u0005F2\u00062\u0006\n",
      "íÌì®EÁ¡A¡LÌ.nnÏl+ìM.îM,mo/\f­ä\f-Ì\u000eì­mí¬¤\u000eä\fÍ-¦&$\fÍîL­Îm,d\fm\f-­Ìì¥Ä\n",
      ".d\n",
      "Shifted characters: \\\u0019[\u001b\u0019\\\u001d\u0019^\u001d\u001bÈ\u001bXZÙH\u001a\u001b\u001bÛÙ\\BB\\Ý\u0018Ý\u0019ØWØ]\u0017Ý\u001cXÚÞ_\u0012\u0019[\u001b\u001bÈ\u0018[\u001dÙ[\u0018ÛÛYH\u001d\u001bÈ\u0019[\u0019LLH\u0019Ü[ÚXÈ\u0018Ú\u0018[\u001b\u0019[ÙK\u0015\u001a\u001a\\È\u001a\\È\u001a\n",
      "Shifted characters: :¹º\u001034¶62¹\u0010:2¼:\u0010:76°µ²4º\u001067·3²¹\u0017\u0006\u000630¹º1º3=°¯±4º/º94±µ¼¾$2¶670·2\u0010;²¶1·¶²:734¶237¹2·9´±1´0¶62·3²\u0010*44¹4¹5\n",
      "Shifted characters: ust filler text to make it longer.\n",
      "\n",
      "fastctf{a_bit_tricky|Hello and welcome to file11 forensic challenge. This is j\n",
      "Shifted characters: êæè@ÌÒØØÊä@èÊðè@èÞ@ÚÂÖÊ@Òè@ØÞÜÎÊä\\\u001a\u0014\u001a\u0014ÌÂæèÆèÌöÂ¾ÄÒè¾èäÒÆÖòøÊØØÞ@ÂÜÈ@îÊØÆÞÚÊ@èÞ@ÌÒØÊbb@ÌÞäÊÜæÒÆ@ÆÐÂØØÊÜÎÊ\\@¨ÐÒæ@Òæ@Ô\n",
      "Shifted characters: ÕÍÐ¥±±ÈÑáÐÑ¼µ­¥Ð±½¹È¸4(4)ÍÑÑí}¥Ñ}ÑÉ¥­åñ!±±¼¹Ý±½µÑ¼¥±ÄÄ½É¹Í¥¡±±¹¸Q¡¥Ì¥Ì©\n",
      "Shifted characters: «¡\u00033Kcc+\u0003£+Ã¡\u0003£y\u0003k\u000b[)\u0003K¡\u0003c{s;+phPhS3\u000b£\u001b£3Û\n",
      "û\u0013K¢û£K\u001b[ËâC+ccy\u0003\u000bs!\u0003»+c\u001b{k)\u0003£y\u00033Kc)\u00033{+sK\u0019\u0003\u001bC\u000bcc+s;)q\u0002£CK\u0003K\u0003S\n",
      "Shifted characters: W7B\u0006fÆÆW\"\u0007FWB\u0007Fò\u0006Ö\u0016¶R\u0006B\u0006ÆöævW\"àÐ Ð¦f\u00177F7Fg¶\u0015ö&E÷G&6·ÄVÆÆò\u0006\u0016æB\u0007vVÆ6öÖR\u0007Fò\u0006fÆS\u0013\u0012\u0006f÷&Vç62\u00066\u0016ÆÆVævRâ\u0005F2\u00062\u0006§\n",
      "íÌì®EÁ¡A¡LÌ.nnÏl+ìM.îM,mo/\f­ä\f-Ì\u000eì­mí¬¤\u000eä\fÍ-¦&$\fÍîL­Îm,d\fm\f-­Ìì¥Ä\n",
      "Nd\n",
      "Shifted characters: \\\u0019[\u001b\u0019\\\u001d\u0019^\u001d\u001bÈ\u001bXZÙH\u001a\u001b\u001bÛÙ\\BB\\Ý\u0018Ý\u0019ØWØ]\u0017Ý\u001cXÚÞ_\u0012\u0019[\u001b\u001bÈ\u0018[\u001dÙ[\u0018ÛÛYH\u001d\u001bÈ\u0019[\u0019LLH\u0019Ü[ÚXÈ\u0018Ú\u0018[\u001b\u0019[ÙK\u0015\u001a\u001a\\È\u001a\\È\u001a\n",
      "Shifted characters: ¹º\u001034¶62¹\u0010:2¼:\u0010:76°µ²4º\u001067·3²¹\u0017\u0006\u000630¹º1º3=°¯±4º/º94±µ¼¾$2¶670·2\u0010;²¶1·¶²:734¶237¹2·9´±1´0¶62·3²\u0010*44¹4¹5:\n",
      "Shifted characters: st filler text to make it longer.\n",
      "\n",
      "fastctf{a_bit_tricky|Hello and welcome to file11 forensic challenge. This is ju\n",
      "Shifted characters: æè@ÌÒØØÊä@èÊðè@èÞ@ÚÂÖÊ@Òè@ØÞÜÎÊä\\\u001a\u0014\u001a\u0014ÌÂæèÆèÌöÂ¾ÄÒè¾èäÒÆÖòøÊØØÞ@ÂÜÈ@îÊØÆÞÚÊ@èÞ@ÌÒØÊbb@ÌÞäÊÜæÒÆ@ÆÐÂØØÊÜÎÊ\\@¨ÐÒæ@Òæ@Ôê\n",
      "Shifted characters: ÍÐ¥±±ÈÑáÐÑ¼µ­¥Ð±½¹È¸4(4)ÍÑÑí}¥Ñ}ÑÉ¥­åñ!±±¼¹Ý±½µÑ¼¥±ÄÄ½É¹Í¥¡±±¹¸Q¡¥Ì¥Ì©Õ\n",
      "Shifted characters: ¡\u00033Kcc+\u0003£+Ã¡\u0003£y\u0003k\u000b[)\u0003K¡\u0003c{s;+phPhS3\u000b£\u001b£3Û\n",
      "û\u0013K¢û£K\u001b[ËâC+ccy\u0003\u000bs!\u0003»+c\u001b{k)\u0003£y\u00033Kc)\u00033{+sK\u0019\u0003\u001bC\u000bcc+s;)q\u0002£CK\u0003K\u0003S«\n",
      "Shifted characters: 7B\u0006fÆÆW\"\u0007FWB\u0007Fò\u0006Ö\u0016¶R\u0006B\u0006ÆöævW\"àÐ Ð¦f\u00177F7Fg¶\u0015ö&E÷G&6·ÄVÆÆò\u0006\u0016æB\u0007vVÆ6öÖR\u0007Fò\u0006fÆS\u0013\u0012\u0006f÷&Vç62\u00066\u0016ÆÆVævRâ\u0005F2\u00062\u0006§W\n",
      "íÌì®EÁ¡A¡LÌ.nnÏl+ìM.îM,mo/\f­ä\f-Ì\u000eì­mí¬¤\u000eä\fÍ-¦&$\fÍîL­Îm,d\fm\f-­Ìì¥Ä\n",
      "N®\n",
      "Shifted characters: \u0019[\u001b\u0019\\\u001d\u0019^\u001d\u001bÈ\u001bXZÙH\u001a\u001b\u001bÛÙ\\BB\\Ý\u0018Ý\u0019ØWØ]\u0017Ý\u001cXÚÞ_\u0012\u0019[\u001b\u001bÈ\u0018[\u001dÙ[\u0018ÛÛYH\u001d\u001bÈ\u0019[\u0019LLH\u0019Ü[ÚXÈ\u0018Ú\u0018[\u001b\u0019[ÙK\u0015\u001a\u001a\\È\u001a\\È\u001a\\\n",
      "Shifted characters: º\u001034¶62¹\u0010:2¼:\u0010:76°µ²4º\u001067·3²¹\u0017\u0006\u000630¹º1º3=°¯±4º/º94±µ¼¾$2¶670·2\u0010;²¶1·¶²:734¶237¹2·9´±1´0¶62·3²\u0010*44¹4¹5:¹\n",
      "Shifted characters: t filler text to make it longer.\n",
      "\n",
      "fastctf{a_bit_tricky|Hello and welcome to file11 forensic challenge. This is jus\n",
      "Shifted characters: è@ÌÒØØÊä@èÊðè@èÞ@ÚÂÖÊ@Òè@ØÞÜÎÊä\\\u001a\u0014\u001a\u0014ÌÂæèÆèÌöÂ¾ÄÒè¾èäÒÆÖòøÊØØÞ@ÂÜÈ@îÊØÆÞÚÊ@èÞ@ÌÒØÊbb@ÌÞäÊÜæÒÆ@ÆÐÂØØÊÜÎÊ\\@¨ÐÒæ@Òæ@Ôêæ\n",
      "Shifted characters: Ð¥±±ÈÑáÐÑ¼µ­¥Ð±½¹È¸4(4)ÍÑÑí}¥Ñ}ÑÉ¥­åñ!±±¼¹Ý±½µÑ¼¥±ÄÄ½É¹Í¥¡±±¹¸Q¡¥Ì¥Ì©ÕÍ\n",
      "Shifted characters: ¡\u00033Kcc+\u0003£+Ã¡\u0003£y\u0003k\u000b[)\u0003K¡\u0003c{s;+phPhS3\u000b£\u001b£3Û\n",
      "û\u0013K¢û£K\u001b[ËâC+ccy\u0003\u000bs!\u0003»+c\u001b{k)\u0003£y\u00033Kc)\u00033{+sK\u0019\u0003\u001bC\u000bcc+s;)q\u0002£CK\u0003K\u0003S«\n",
      "Shifted characters: B\u0006fÆÆW\"\u0007FWB\u0007Fò\u0006Ö\u0016¶R\u0006B\u0006ÆöævW\"àÐ Ð¦f\u00177F7Fg¶\u0015ö&E÷G&6·ÄVÆÆò\u0006\u0016æB\u0007vVÆ6öÖR\u0007Fò\u0006fÆS\u0013\u0012\u0006f÷&Vç62\u00066\u0016ÆÆVævRâ\u0005F2\u00062\u0006§W7\n",
      "íÌì®EÁ¡A¡LÌ.nnÏl+ìM.îM,mo/\f­ä\f-Ì\u000eì­mí¬¤\u000eä\fÍ-¦&$\fÍîL­Îm,d\fm\f-­Ìì¥Ä\n",
      "N®n\n",
      "Shifted characters:\u0019[\u001b\u0019\\\u001d\u0019^\u001d\u001bÈ\u001bXZÙH\u001a\u001b\u001bÛÙ\\BB\\Ý\u0018Ý\u0019ØWØ]\u0017Ý\u001cXÚÞ_\u0012\u0019[\u001b\u001bÈ\u0018[\u001dÙ[\u0018ÛÛYH\u001d\u001bÈ\u0019[\u0019LLH\u0019Ü[ÚXÈ\u0018Ú\u0018[\u001b\u0019[ÙK\u0015\u001a\u001a\\È\u001a\\È\u001a\\Ý\n",
      "Shifted characters: \u001034¶62¹\u0010:2¼:\u0010:76°µ²4º\u001067·3²¹\u0017\u0006\u000630¹º1º3=°¯±4º/º94±µ¼¾$2¶670·2\u0010;²¶1·¶²:734¶237¹2·9´±1´0¶62·3²\u0010*44¹4¹5:¹º\n",
      "Shifted characters:  filler text to make it longer.\n",
      "\n",
      "fastctf{a_bit_tricky|Hello and welcome to file11 forensic challenge. This is just\n",
      "Shifted characters: @ÌÒØØÊä@èÊðè@èÞ@ÚÂÖÊ@Òè@ØÞÜÎÊä\\\u001a\u0014\u001a\u0014ÌÂæèÆèÌöÂ¾ÄÒè¾èäÒÆÖòøÊØØÞ@ÂÜÈ@îÊØÆÞÚÊ@èÞ@ÌÒØÊbb@ÌÞäÊÜæÒÆ@ÆÐÂØØÊÜÎÊ\\@¨ÐÒæ@Òæ@Ôêæè\n",
      "Shifted characters: ¥±±ÈÑáÐÑ¼µ­¥Ð±½¹È¸4(4)ÍÑÑí}¥Ñ}ÑÉ¥­åñ!±±¼¹Ý±½µÑ¼¥±ÄÄ½É¹Í¥¡±±¹¸Q¡¥Ì¥Ì©ÕÍÐ\n",
      "Shifted characters: \u00033Kcc+\u0003£+Ã¡\u0003£y\u0003k\u000b[)\u0003K¡\u0003c{s;+phPhS3\u000b£\u001b£3Û\n",
      "û\u0013K¢û£K\u001b[ËâC+ccy\u0003\u000bs!\u0003»+c\u001b{k)\u0003£y\u00033Kc)\u00033{+sK\u0019\u0003\u001bC\u000bcc+s;)q\u0002£CK\u0003K\u0003S«¡\n",
      "Shifted characters: \u0006fÆÆW\"\u0007FWB\u0007Fò\u0006Ö\u0016¶R\u0006B\u0006ÆöævW\"àÐ Ð¦f\u00177F7Fg¶\u0015ö&E÷G&6·ÄVÆÆò\u0006\u0016æB\u0007vVÆ6öÖR\u0007Fò\u0006fÆS\u0013\u0012\u0006f÷&Vç62\u00066\u0016ÆÆVævRâ\u0005F2\u00062\u0006§W7B\n",
      "íÌì®EÁ¡A¡LÌ.nnÏl+ìM.îM,mo/\f­ä\f-Ì\u000eì­mí¬¤\u000eä\fÍ-¦&$\fÍîL­Îm,d\fm\f-­Ìì¥Ä\n",
      "N®n\n",
      "Shifted characters: \u0019[\u001b\u0019\\\u001d\u0019^\u001d\u001bÈ\u001bXZÙH\u001a\u001b\u001bÛÙ\\BB\\Ý\u0018Ý\u0019ØWØ]\u0017Ý\u001cXÚÞ_\u0012\u0019[\u001b\u001bÈ\u0018[\u001dÙ[\u0018ÛÛYH\u001d\u001bÈ\u0019[\u0019LLH\u0019Ü[ÚXÈ\u0018Ú\u0018[\u001b\u0019[ÙK\u0015\u001a\u001a\\È\u001a\\È\u001a\\\n",
      "Shifted characters: 34¶62¹\u0010:2¼:\u0010:76°µ²4º\u001067·3²¹\u0017\u0006\u000630¹º1º3=°¯±4º/º94±µ¼¾$2¶670·2\u0010;²¶1·¶²:734¶237¹2·9´±1´0¶62·3²\u0010*44¹4¹5:¹º\u0010\n",
      "Shifted characters: filler text to make it longer.\n",
      "\n",
      "fastctf{a_bit_tricky|Hello and welcome to file11 forensic challenge. This is just \n",
      "Shifted characters: ÌÒØØÊä@èÊðè@èÞ@ÚÂÖÊ@Òè@ØÞÜÎÊä\\\u001a\u0014\u001a\u0014ÌÂæèÆèÌöÂ¾ÄÒè¾èäÒÆÖòøÊØØÞ@ÂÜÈ@îÊØÆÞÚÊ@èÞ@ÌÒØÊbb@ÌÞäÊÜæÒÆ@ÆÐÂØØÊÜÎÊ\\@¨ÐÒæ@Òæ@Ôêæè@\n",
      "Shifted characters: ¥±±ÈÑáÐÑ¼µ­¥Ð±½¹È¸4(4)ÍÑÑí}¥Ñ}ÑÉ¥­åñ!±±¼¹Ý±½µÑ¼¥±ÄÄ½É¹Í¥¡±±¹¸Q¡¥Ì¥Ì©ÕÍÐ\n",
      "Shifted characters: 3Kcc+\u0003£+Ã¡\u0003£y\u0003k\u000b[)\u0003K¡\u0003c{s;+phPhS3\u000b£\u001b£3Û\n",
      "û\u0013K¢û£K\u001b[ËâC+ccy\u0003\u000bs!\u0003»+c\u001b{k)\u0003£y\u00033Kc)\u00033{+sK\u0019\u0003\u001bC\u000bcc+s;)q\u0002£CK\u0003K\u0003S«¡\u0003\n",
      "Shifted characters: fÆÆW\"\u0007FWB\u0007Fò\u0006Ö\u0016¶R\u0006B\u0006ÆöævW\"àÐ Ð¦f\u00177F7Fg¶\u0015ö&E÷G&6·ÄVÆÆò\u0006\u0016æB\u0007vVÆ6öÖR\u0007Fò\u0006fÆS\u0013\u0012\u0006f÷&Vç62\u00066\u0016ÆÆVævRâ\u0005F2\u00062\u0006§W7B\u0006\n",
      "íÌì®EÁ¡A¡LÌ.nnÏl+ìM.îM,mo/\f­ä\f-Ì\u000eì­mí¬¤\u000eä\fÍ-¦&$\fÍîL­Îm,d\fm\f-­Ìì¥Ä\n",
      "N®n\f\n",
      "Shifted characters: [\u001b\u0019\\\u001d\u0019^\u001d\u001bÈ\u001bXZÙH\u001a\u001b\u001bÛÙ\\BB\\Ý\u0018Ý\u0019ØWØ]\u0017Ý\u001cXÚÞ_\u0012\u0019[\u001b\u001bÈ\u0018[\u001dÙ[\u0018ÛÛYH\u001d\u001bÈ\u0019[\u0019LLH\u0019Ü[ÚXÈ\u0018Ú\u0018[\u001b\u0019[ÙK\u0015\u001a\u001a\\È\u001a\\È\u001a\\\u0019\n",
      "Shifted characters: 4¶62¹\u0010:2¼:\u0010:76°µ²4º\u001067·3²¹\u0017\u0006\u000630¹º1º3=°¯±4º/º94±µ¼¾$2¶670·2\u0010;²¶1·¶²:734¶237¹2·9´±1´0¶62·3²\u0010*44¹4¹5:¹º\u00103\n",
      "Shifted characters: iller text to make it longer.\n",
      "\n",
      "fastctf{a_bit_tricky|Hello and welcome to file11 forensic challenge. This is just f\n",
      "Shifted characters: ÒØØÊä@èÊðè@èÞ@ÚÂÖÊ@Òè@ØÞÜÎÊä\\\u001a\u0014\u001a\u0014ÌÂæèÆèÌöÂ¾ÄÒè¾èäÒÆÖòøÊØØÞ@ÂÜÈ@îÊØÆÞÚÊ@èÞ@ÌÒØÊbb@ÌÞäÊÜæÒÆ@ÆÐÂØØÊÜÎÊ\\@¨ÐÒæ@Òæ@Ôêæè@Ì\n",
      "Shifted characters: ¥±±ÈÑáÐÑ¼µ­¥Ð±½¹È¸4(4)ÍÑÑí}¥Ñ}ÑÉ¥­åñ!±±¼¹Ý±½µÑ¼¥±ÄÄ½É¹Í¥¡±±¹¸Q¡¥Ì¥Ì©ÕÍÐ\n",
      "Shifted characters: Kcc+\u0003£+Ã¡\u0003£y\u0003k\u000b[)\u0003K¡\u0003c{s;+phPhS3\u000b£\u001b£3Û\n",
      "û\u0013K¢û£K\u001b[ËâC+ccy\u0003\u000bs!\u0003»+c\u001b{k)\u0003£y\u00033Kc)\u00033{+sK\u0019\u0003\u001bC\u000bcc+s;)q\u0002£CK\u0003K\u0003S«¡\u00033\n",
      "Shifted characters: ÆÆW\"\u0007FWB\u0007Fò\u0006Ö\u0016¶R\u0006B\u0006ÆöævW\"àÐ Ð¦f\u00177F7Fg¶\u0015ö&E÷G&6·ÄVÆÆò\u0006\u0016æB\u0007vVÆ6öÖR\u0007Fò\u0006fÆS\u0013\u0012\u0006f÷&Vç62\u00066\u0016ÆÆVævRâ\u0005F2\u00062\u0006§W7B\u0006f\n",
      "íÌì®EÁ¡A¡LÌ.nnÏl+ìM.îM,mo/\f­ä\f-Ì\u000eì­mí¬¤\u000eä\fÍ-¦&$\fÍîL­Îm,d\fm\f-­Ìì¥Ä\n",
      "N®n\fÍ\n",
      "Shifted characters: [\u001b\u0019\\\u001d\u0019^\u001d\u001bÈ\u001bXZÙH\u001a\u001b\u001bÛÙ\\BB\\Ý\u0018Ý\u0019ØWØ]\u0017Ý\u001cXÚÞ_\u0012\u0019[\u001b\u001bÈ\u0018[\u001dÙ[\u0018ÛÛYH\u001d\u001bÈ\u0019[\u0019LLH\u0019Ü[ÚXÈ\u0018Ú\u0018[\u001b\u0019[ÙK\u0015\u001a\u001a\\È\u001a\\È\u001a\\\u0019\n",
      "Shifted characters: ¶62¹\u0010:2¼:\u0010:76°µ²4º\u001067·3²¹\u0017\u0006\u000630¹º1º3=°¯±4º/º94±µ¼¾$2¶670·2\u0010;²¶1·¶²:734¶237¹2·9´±1´0¶62·3²\u0010*44¹4¹5:¹º\u001034\n",
      "Shifted characters: ller text to make it longer.\n",
      "\n",
      "fastctf{a_bit_tricky|Hello and welcome to file11 forensic challenge. This is just fi\n",
      "Shifted characters: ØØÊä@èÊðè@èÞ@ÚÂÖÊ@Òè@ØÞÜÎÊä\\\u001a\u0014\u001a\u0014ÌÂæèÆèÌöÂ¾ÄÒè¾èäÒÆÖòøÊØØÞ@ÂÜÈ@îÊØÆÞÚÊ@èÞ@ÌÒØÊbb@ÌÞäÊÜæÒÆ@ÆÐÂØØÊÜÎÊ\\@¨ÐÒæ@Òæ@Ôêæè@ÌÒ\n",
      "Shifted characters: ±±ÈÑáÐÑ¼µ­¥Ð±½¹È¸4(4)ÍÑÑí}¥Ñ}ÑÉ¥­åñ!±±¼¹Ý±½µÑ¼¥±ÄÄ½É¹Í¥¡±±¹¸Q¡¥Ì¥Ì©ÕÍÐ¥\n",
      "Shifted characters: cc+\u0003£+Ã¡\u0003£y\u0003k\u000b[)\u0003K¡\u0003c{s;+phPhS3\u000b£\u001b£3Û\n",
      "û\u0013K¢û£K\u001b[ËâC+ccy\u0003\u000bs!\u0003»+c\u001b{k)\u0003£y\u00033Kc)\u00033{+sK\u0019\u0003\u001bC\u000bcc+s;)q\u0002£CK\u0003K\u0003S«¡\u00033K\n",
      "Shifted characters: ÆÆW\"\u0007FWB\u0007Fò\u0006Ö\u0016¶R\u0006B\u0006ÆöævW\"àÐ Ð¦f\u00177F7Fg¶\u0015ö&E÷G&6·ÄVÆÆò\u0006\u0016æB\u0007vVÆ6öÖR\u0007Fò\u0006fÆS\u0013\u0012\u0006f÷&Vç62\u00066\u0016ÆÆVævRâ\u0005F2\u00062\u0006§W7B\u0006f\n",
      "íÌì®EÁ¡A¡LÌ.nnÏl+ìM.îM,mo/\f­ä\f-Ì\u000eì­mí¬¤\u000eä\fÍ-¦&$\fÍîL­Îm,d\fm\f-­Ìì¥Ä\n",
      "N®n\fÍ-\n",
      "Shifted characters: \u001b\u0019\\\u001d\u0019^\u001d\u001bÈ\u001bXZÙH\u001a\u001b\u001bÛÙ\\BB\\Ý\u0018Ý\u0019ØWØ]\u0017Ý\u001cXÚÞ_\u0012\u0019[\u001b\u001bÈ\u0018[\u001dÙ[\u0018ÛÛYH\u001d\u001bÈ\u0019[\u0019LLH\u0019Ü[ÚXÈ\u0018Ú\u0018[\u001b\u0019[ÙK\u0015\u001a\u001a\\È\u001a\\È\u001a\\\u0019[\n",
      "Shifted characters: 62¹\u0010:2¼:\u0010:76°µ²4º\u001067·3²¹\u0017\u0006\u000630¹º1º3=°¯±4º/º94±µ¼¾$2¶670·2\u0010;²¶1·¶²:734¶237¹2·9´±1´0¶62·3²\u0010*44¹4¹5:¹º\u001034¶\n",
      "Shifted characters: ler text to make it longer.\n",
      "\n",
      "fastctf{a_bit_tricky|Hello and welcome to file11 forensic challenge. This is just fil\n",
      "Shifted characters: ØÊä@èÊðè@èÞ@ÚÂÖÊ@Òè@ØÞÜÎÊä\\\u001a\u0014\u001a\u0014ÌÂæèÆèÌöÂ¾ÄÒè¾èäÒÆÖòøÊØØÞ@ÂÜÈ@îÊØÆÞÚÊ@èÞ@ÌÒØÊbb@ÌÞäÊÜæÒÆ@ÆÐÂØØÊÜÎÊ\\@¨ÐÒæ@Òæ@Ôêæè@ÌÒØ\n",
      "Shifted characters: ±ÈÑáÐÑ¼µ­¥Ð±½¹È¸4(4)ÍÑÑí}¥Ñ}ÑÉ¥­åñ!±±¼¹Ý±½µÑ¼¥±ÄÄ½É¹Í¥¡±±¹¸Q¡¥Ì¥Ì©ÕÍÐ¥±\n",
      "Shifted characters: c+\u0003£+Ã¡\u0003£y\u0003k\u000b[)\u0003K¡\u0003c{s;+phPhS3\u000b£\u001b£3Û\n",
      "û\u0013K¢û£K\u001b[ËâC+ccy\u0003\u000bs!\u0003»+c\u001b{k)\u0003£y\u00033Kc)\u00033{+sK\u0019\u0003\u001bC\u000bcc+s;)q\u0002£CK\u0003K\u0003S«¡\u00033Kc\n",
      "Shifted characters: ÆW\"\u0007FWB\u0007Fò\u0006Ö\u0016¶R\u0006B\u0006ÆöævW\"àÐ Ð¦f\u00177F7Fg¶\u0015ö&E÷G&6·ÄVÆÆò\u0006\u0016æB\u0007vVÆ6öÖR\u0007Fò\u0006fÆS\u0013\u0012\u0006f÷&Vç62\u00066\u0016ÆÆVævRâ\u0005F2\u00062\u0006§W7B\u0006fÆ\n",
      "íÌì®EÁ¡A¡LÌ.nnÏl+ìM.îM,mo/\f­ä\f-Ì\u000eì­mí¬¤\u000eä\fÍ-¦&$\fÍîL­Îm,d\fm\f-­Ìì¥Ä\n",
      "N®n\fÍ-\n",
      "Shifted characters: \u0019\\\u001d\u0019^\u001d\u001bÈ\u001bXZÙH\u001a\u001b\u001bÛÙ\\BB\\Ý\u0018Ý\u0019ØWØ]\u0017Ý\u001cXÚÞ_\u0012\u0019[\u001b\u001bÈ\u0018[\u001dÙ[\u0018ÛÛYH\u001d\u001bÈ\u0019[\u0019LLH\u0019Ü[ÚXÈ\u0018Ú\u0018[\u001b\u0019[ÙK\u0015\u001a\u001a\\È\u001a\\È\u001a\\\u0019[\u001b\n",
      "Shifted characters: 2¹\u0010:2¼:\u0010:76°µ²4º\u001067·3²¹\u0017\u0006\u000630¹º1º3=°¯±4º/º94±µ¼¾$2¶670·2\u0010;²¶1·¶²:734¶237¹2·9´±1´0¶62·3²\u0010*44¹4¹5:¹º\u001034¶6\n",
      "Shifted characters: er text to make it longer.\n",
      "\n",
      "fastctf{a_bit_tricky|Hello and welcome to file11 forensic challenge. This is just fill\n",
      "Shifted characters: Êä@èÊðè@èÞ@ÚÂÖÊ@Òè@ØÞÜÎÊä\\\u001a\u0014\u001a\u0014ÌÂæèÆèÌöÂ¾ÄÒè¾èäÒÆÖòøÊØØÞ@ÂÜÈ@îÊØÆÞÚÊ@èÞ@ÌÒØÊbb@ÌÞäÊÜæÒÆ@ÆÐÂØØÊÜÎÊ\\@¨ÐÒæ@Òæ@Ôêæè@ÌÒØØ\n",
      "Shifted characters: ÈÑáÐÑ¼µ­¥Ð±½¹È¸4(4)ÍÑÑí}¥Ñ}ÑÉ¥­åñ!±±¼¹Ý±½µÑ¼¥±ÄÄ½É¹Í¥¡±±¹¸Q¡¥Ì¥Ì©ÕÍÐ¥±±\n",
      "Shifted characters: +\u0003£+Ã¡\u0003£y\u0003k\u000b[)\u0003K¡\u0003c{s;+phPhS3\u000b£\u001b£3Û\n",
      "û\u0013K¢û£K\u001b[ËâC+ccy\u0003\u000bs!\u0003»+c\u001b{k)\u0003£y\u00033Kc)\u00033{+sK\u0019\u0003\u001bC\u000bcc+s;)q\u0002£CK\u0003K\u0003S«¡\u00033Kcc\n",
      "Shifted characters: W\"\u0007FWB\u0007Fò\u0006Ö\u0016¶R\u0006B\u0006ÆöævW\"àÐ Ð¦f\u00177F7Fg¶\u0015ö&E÷G&6·ÄVÆÆò\u0006\u0016æB\u0007vVÆ6öÖR\u0007Fò\u0006fÆS\u0013\u0012\u0006f÷&Vç62\u00066\u0016ÆÆVævRâ\u0005F2\u00062\u0006§W7B\u0006fÆÆ\n",
      "íÌì®EÁ¡A¡LÌ.nnÏl+ìM.îM,mo/\f­ä\f-Ì\u000eì­mí¬¤\u000eä\fÍ-¦&$\fÍîL­Îm,d\fm\f-­Ìì¥Ä\n",
      "N®n\fÍ-\n",
      "Shifted characters: \\\u001d\u0019^\u001d\u001bÈ\u001bXZÙH\u001a\u001b\u001bÛÙ\\BB\\Ý\u0018Ý\u0019ØWØ]\u0017Ý\u001cXÚÞ_\u0012\u0019[\u001b\u001bÈ\u0018[\u001dÙ[\u0018ÛÛYH\u001d\u001bÈ\u0019[\u0019LLH\u0019Ü[ÚXÈ\u0018Ú\u0018[\u001b\u0019[ÙK\u0015\u001a\u001a\\È\u001a\\È\u001a\\\u0019[\u001b\u0019\n",
      "Shifted characters: ¹\u0010:2¼:\u0010:76°µ²4º\u001067·3²¹\u0017\u0006\u000630¹º1º3=°¯±4º/º94±µ¼¾$2¶670·2\u0010;²¶1·¶²:734¶237¹2·9´±1´0¶62·3²\u0010*44¹4¹5:¹º\u001034¶62\n",
      "Shifted characters: r text to make it longer.\n",
      "\n",
      "fastctf{a_bit_tricky|Hello and welcome to file11 forensic challenge. This is just fille\n",
      "Shifted characters: ä@èÊðè@èÞ@ÚÂÖÊ@Òè@ØÞÜÎÊä\\\u001a\u0014\u001a\u0014ÌÂæèÆèÌöÂ¾ÄÒè¾èäÒÆÖòøÊØØÞ@ÂÜÈ@îÊØÆÞÚÊ@èÞ@ÌÒØÊbb@ÌÞäÊÜæÒÆ@ÆÐÂØØÊÜÎÊ\\@¨ÐÒæ@Òæ@Ôêæè@ÌÒØØÊ\n",
      "Shifted characters: ÈÑáÐÑ¼µ­¥Ð±½¹È¸4(4)ÍÑÑí}¥Ñ}ÑÉ¥­åñ!±±¼¹Ý±½µÑ¼¥±ÄÄ½É¹Í¥¡±±¹¸Q¡¥Ì¥Ì©ÕÍÐ¥±±\n",
      "Shifted characters: \u0003£+Ã¡\u0003£y\u0003k\u000b[)\u0003K¡\u0003c{s;+phPhS3\u000b£\u001b£3Û\n",
      "û\u0013K¢û£K\u001b[ËâC+ccy\u0003\u000bs!\u0003»+c\u001b{k)\u0003£y\u00033Kc)\u00033{+sK\u0019\u0003\u001bC\u000bcc+s;)q\u0002£CK\u0003K\u0003S«¡\u00033Kcc+\n",
      "Shifted characters: \"\u0007FWB\u0007Fò\u0006Ö\u0016¶R\u0006B\u0006ÆöævW\"àÐ Ð¦f\u00177F7Fg¶\u0015ö&E÷G&6·ÄVÆÆò\u0006\u0016æB\u0007vVÆ6öÖR\u0007Fò\u0006fÆS\u0013\u0012\u0006f÷&Vç62\u00066\u0016ÆÆVævRâ\u0005F2\u00062\u0006§W7B\u0006fÆÆW\n",
      "íÌì®EÁ¡A¡LÌ.nnÏl+ìM.îM,mo/\f­ä\f-Ì\u000eì­mí¬¤\u000eä\fÍ-¦&$\fÍîL­Îm,d\fm\f-­Ìì¥Ä\n",
      "N®n\fÍ-®\n",
      "Shifted characters: \u001d\u0019^\u001d\u001bÈ\u001bXZÙH\u001a\u001b\u001bÛÙ\\BB\\Ý\u0018Ý\u0019ØWØ]\u0017Ý\u001cXÚÞ_\u0012\u0019[\u001b\u001bÈ\u0018[\u001dÙ[\u0018ÛÛYH\u001d\u001bÈ\u0019[\u0019LLH\u0019Ü[ÚXÈ\u0018Ú\u0018[\u001b\u0019[ÙK\u0015\u001a\u001a\\È\u001a\\È\u001a\\\u0019[\u001b\u0019\\\n",
      "Shifted characters: \u0010:2¼:\u0010:76°µ²4º\u001067·3²¹\u0017\u0006\u000630¹º1º3=°¯±4º/º94±µ¼¾$2¶670·2\u0010;²¶1·¶²:734¶237¹2·9´±1´0¶62·3²\u0010*44¹4¹5:¹º\u001034¶62¹\n",
      "Shifted characters:  text to make it longer.\n",
      "\n",
      "fastctf{a_bit_tricky|Hello and welcome to file11 forensic challenge. This is just filler\n",
      "Shifted characters: @èÊðè@èÞ@ÚÂÖÊ@Òè@ØÞÜÎÊä\\\u001a\u0014\u001a\u0014ÌÂæèÆèÌöÂ¾ÄÒè¾èäÒÆÖòøÊØØÞ@ÂÜÈ@îÊØÆÞÚÊ@èÞ@ÌÒØÊbb@ÌÞäÊÜæÒÆ@ÆÐÂØØÊÜÎÊ\\@¨ÐÒæ@Òæ@Ôêæè@ÌÒØØÊä\n",
      "Shifted characters: ÑáÐÑ¼µ­¥Ð±½¹È¸4(4)ÍÑÑí}¥Ñ}ÑÉ¥­åñ!±±¼¹Ý±½µÑ¼¥±ÄÄ½É¹Í¥¡±±¹¸Q¡¥Ì¥Ì©ÕÍÐ¥±±È\n",
      "Shifted characters: \u0003£+Ã¡\u0003£y\u0003k\u000b[)\u0003K¡\u0003c{s;+phPhS3\u000b£\u001b£3Û\n",
      "û\u0013K¢û£K\u001b[ËâC+ccy\u0003\u000bs!\u0003»+c\u001b{k)\u0003£y\u00033Kc)\u00033{+sK\u0019\u0003\u001bC\u000bcc+s;)q\u0002£CK\u0003K\u0003S«¡\u00033Kcc+\n",
      "Shifted characters: \u0007FWB\u0007Fò\u0006Ö\u0016¶R\u0006B\u0006ÆöævW\"àÐ Ð¦f\u00177F7Fg¶\u0015ö&E÷G&6·ÄVÆÆò\u0006\u0016æB\u0007vVÆ6öÖR\u0007Fò\u0006fÆS\u0013\u0012\u0006f÷&Vç62\u00066\u0016ÆÆVævRâ\u0005F2\u00062\u0006§W7B\u0006fÆÆW\"\n",
      "íÌì®EÁ¡A¡LÌ.nnÏl+ìM.îM,mo/\f­ä\f-Ì\u000eì­mí¬¤\u000eä\fÍ-¦&$\fÍîL­Îm,d\fm\f-­Ìì¥Ä\n",
      "N®n\fÍ-®D\n",
      "Shifted characters: \u001d\u0019^\u001d\u001bÈ\u001bXZÙH\u001a\u001b\u001bÛÙ\\BB\\Ý\u0018Ý\u0019ØWØ]\u0017Ý\u001cXÚÞ_\u0012\u0019[\u001b\u001bÈ\u0018[\u001dÙ[\u0018ÛÛYH\u001d\u001bÈ\u0019[\u0019LLH\u0019Ü[ÚXÈ\u0018Ú\u0018[\u001b\u0019[ÙK\u0015\u001a\u001a\\È\u001a\\È\u001a\\\u0019[\u001b\u0019\\\n",
      "Shifted characters: :2¼:\u0010:76°µ²4º\u001067·3²¹\u0017\u0006\u000630¹º1º3=°¯±4º/º94±µ¼¾$2¶670·2\u0010;²¶1·¶²:734¶237¹2·9´±1´0¶62·3²\u0010*44¹4¹5:¹º\u001034¶62¹\u0010\n",
      "Shifted characters: text to make it longer.\n",
      "\n",
      "fastctf{a_bit_tricky|Hello and welcome to file11 forensic challenge. This is just filler \n",
      "Shifted characters: èÊðè@èÞ@ÚÂÖÊ@Òè@ØÞÜÎÊä\\\u001a\u0014\u001a\u0014ÌÂæèÆèÌöÂ¾ÄÒè¾èäÒÆÖòøÊØØÞ@ÂÜÈ@îÊØÆÞÚÊ@èÞ@ÌÒØÊbb@ÌÞäÊÜæÒÆ@ÆÐÂØØÊÜÎÊ\\@¨ÐÒæ@Òæ@Ôêæè@ÌÒØØÊä@\n",
      "Shifted characters: ÑáÐÑ¼µ­¥Ð±½¹È¸4(4)ÍÑÑí}¥Ñ}ÑÉ¥­åñ!±±¼¹Ý±½µÑ¼¥±ÄÄ½É¹Í¥¡±±¹¸Q¡¥Ì¥Ì©ÕÍÐ¥±±È\n",
      "Shifted characters: £+Ã¡\u0003£y\u0003k\u000b[)\u0003K¡\u0003c{s;+phPhS3\u000b£\u001b£3Û\n",
      "û\u0013K¢û£K\u001b[ËâC+ccy\u0003\u000bs!\u0003»+c\u001b{k)\u0003£y\u00033Kc)\u00033{+sK\u0019\u0003\u001bC\u000bcc+s;)q\u0002£CK\u0003K\u0003S«¡\u00033Kcc+\u0003\n",
      "Shifted characters: FWB\u0007Fò\u0006Ö\u0016¶R\u0006B\u0006ÆöævW\"àÐ Ð¦f\u00177F7Fg¶\u0015ö&E÷G&6·ÄVÆÆò\u0006\u0016æB\u0007vVÆ6öÖR\u0007Fò\u0006fÆS\u0013\u0012\u0006f÷&Vç62\u00066\u0016ÆÆVævRâ\u0005F2\u00062\u0006§W7B\u0006fÆÆW\"\u0007\n",
      "íÌì®EÁ¡A¡LÌ.nnÏl+ìM.îM,mo/\f­ä\f-Ì\u000eì­mí¬¤\u000eä\fÍ-¦&$\fÍîL­Îm,d\fm\f-­Ìì¥Ä\n",
      "N®n\fÍ-®D\u000e\n",
      "Shifted characters: \u0019^\u001d\u001bÈ\u001bXZÙH\u001a\u001b\u001bÛÙ\\BB\\Ý\u0018Ý\u0019ØWØ]\u0017Ý\u001cXÚÞ_\u0012\u0019[\u001b\u001bÈ\u0018[\u001dÙ[\u0018ÛÛYH\u001d\u001bÈ\u0019[\u0019LLH\u0019Ü[ÚXÈ\u0018Ú\u0018[\u001b\u0019[ÙK\u0015\u001a\u001a\\È\u001a\\È\u001a\\\u0019[\u001b\u0019\\\u001d\n",
      "Shifted characters: 2¼:\u0010:76°µ²4º\u001067·3²¹\u0017\u0006\u000630¹º1º3=°¯±4º/º94±µ¼¾$2¶670·2\u0010;²¶1·¶²:734¶237¹2·9´±1´0¶62·3²\u0010*44¹4¹5:¹º\u001034¶62¹\u0010:\n",
      "Shifted characters: ext to make it longer.\n",
      "\n",
      "fastctf{a_bit_tricky|Hello and welcome to file11 forensic challenge. This is just filler t\n",
      "Shifted characters: Êðè@èÞ@ÚÂÖÊ@Òè@ØÞÜÎÊä\\\u001a\u0014\u001a\u0014ÌÂæèÆèÌöÂ¾ÄÒè¾èäÒÆÖòøÊØØÞ@ÂÜÈ@îÊØÆÞÚÊ@èÞ@ÌÒØÊbb@ÌÞäÊÜæÒÆ@ÆÐÂØØÊÜÎÊ\\@¨ÐÒæ@Òæ@Ôêæè@ÌÒØØÊä@è\n",
      "Shifted characters: áÐÑ¼µ­¥Ð±½¹È¸4(4)ÍÑÑí}¥Ñ}ÑÉ¥­åñ!±±¼¹Ý±½µÑ¼¥±ÄÄ½É¹Í¥¡±±¹¸Q¡¥Ì¥Ì©ÕÍÐ¥±±ÈÑ\n",
      "Shifted characters: +Ã¡\u0003£y\u0003k\u000b[)\u0003K¡\u0003c{s;+phPhS3\u000b£\u001b£3Û\n",
      "û\u0013K¢û£K\u001b[ËâC+ccy\u0003\u000bs!\u0003»+c\u001b{k)\u0003£y\u00033Kc)\u00033{+sK\u0019\u0003\u001bC\u000bcc+s;)q\u0002£CK\u0003K\u0003S«¡\u00033Kcc+\u0003£\n",
      "Shifted characters: WB\u0007Fò\u0006Ö\u0016¶R\u0006B\u0006ÆöævW\"àÐ Ð¦f\u00177F7Fg¶\u0015ö&E÷G&6·ÄVÆÆò\u0006\u0016æB\u0007vVÆ6öÖR\u0007Fò\u0006fÆS\u0013\u0012\u0006f÷&Vç62\u00066\u0016ÆÆVævRâ\u0005F2\u00062\u0006§W7B\u0006fÆÆW\"\u0007F\n",
      "íÌì®EÁ¡A¡LÌ.nnÏl+ìM.îM,mo/\f­ä\f-Ì\u000eì­mí¬¤\u000eä\fÍ-¦&$\fÍîL­Îm,d\fm\f-­Ìì¥Ä\n",
      "N®n\fÍ-®D\u000e\n",
      "Shifted characters: ^\u001d\u001bÈ\u001bXZÙH\u001a\u001b\u001bÛÙ\\BB\\Ý\u0018Ý\u0019ØWØ]\u0017Ý\u001cXÚÞ_\u0012\u0019[\u001b\u001bÈ\u0018[\u001dÙ[\u0018ÛÛYH\u001d\u001bÈ\u0019[\u0019LLH\u0019Ü[ÚXÈ\u0018Ú\u0018[\u001b\u0019[ÙK\u0015\u001a\u001a\\È\u001a\\È\u001a\\\u0019[\u001b\u0019\\\u001d\u0019\n",
      "Shifted characters: ¼:\u0010:76°µ²4º\u001067·3²¹\u0017\u0006\u000630¹º1º3=°¯±4º/º94±µ¼¾$2¶670·2\u0010;²¶1·¶²:734¶237¹2·9´±1´0¶62·3²\u0010*44¹4¹5:¹º\u001034¶62¹\u0010:2\n",
      "Shifted characters: xt to make it longer.\n",
      "\n",
      "fastctf{a_bit_tricky|Hello and welcome to file11 forensic challenge. This is just filler te\n",
      "Shifted characters: ðè@èÞ@ÚÂÖÊ@Òè@ØÞÜÎÊä\\\u001a\u0014\u001a\u0014ÌÂæèÆèÌöÂ¾ÄÒè¾èäÒÆÖòøÊØØÞ@ÂÜÈ@îÊØÆÞÚÊ@èÞ@ÌÒØÊbb@ÌÞäÊÜæÒÆ@ÆÐÂØØÊÜÎÊ\\@¨ÐÒæ@Òæ@Ôêæè@ÌÒØØÊä@èÊ\n",
      "Shifted characters: áÐÑ¼µ­¥Ð±½¹È¸4(4)ÍÑÑí}¥Ñ}ÑÉ¥­åñ!±±¼¹Ý±½µÑ¼¥±ÄÄ½É¹Í¥¡±±¹¸Q¡¥Ì¥Ì©ÕÍÐ¥±±ÈÑ\n",
      "Shifted characters: Ã¡\u0003£y\u0003k\u000b[)\u0003K¡\u0003c{s;+phPhS3\u000b£\u001b£3Û\n",
      "û\u0013K¢û£K\u001b[ËâC+ccy\u0003\u000bs!\u0003»+c\u001b{k)\u0003£y\u00033Kc)\u00033{+sK\u0019\u0003\u001bC\u000bcc+s;)q\u0002£CK\u0003K\u0003S«¡\u00033Kcc+\u0003£+\n",
      "Shifted characters: B\u0007Fò\u0006Ö\u0016¶R\u0006B\u0006ÆöævW\"àÐ Ð¦f\u00177F7Fg¶\u0015ö&E÷G&6·ÄVÆÆò\u0006\u0016æB\u0007vVÆ6öÖR\u0007Fò\u0006fÆS\u0013\u0012\u0006f÷&Vç62\u00066\u0016ÆÆVævRâ\u0005F2\u00062\u0006§W7B\u0006fÆÆW\"\u0007FW\n",
      "íÌì®EÁ¡A¡LÌ.nnÏl+ìM.îM,mo/\f­ä\f-Ì\u000eì­mí¬¤\u000eä\fÍ-¦&$\fÍîL­Îm,d\fm\f-­Ìì¥Ä\n",
      "N®n\fÍ-®D\u000e¯\n",
      "Shifted characters: \u001d\u001bÈ\u001bXZÙH\u001a\u001b\u001bÛÙ\\BB\\Ý\u0018Ý\u0019ØWØ]\u0017Ý\u001cXÚÞ_\u0012\u0019[\u001b\u001bÈ\u0018[\u001dÙ[\u0018ÛÛYH\u001d\u001bÈ\u0019[\u0019LLH\u0019Ü[ÚXÈ\u0018Ú\u0018[\u001b\u0019[ÙK\u0015\u001a\u001a\\È\u001a\\È\u001a\\\u0019[\u001b\u0019\\\u001d\u0019^\n",
      "Shifted characters: :\u0010:76°µ²4º\u001067·3²¹\u0017\u0006\u000630¹º1º3=°¯±4º/º94±µ¼¾$2¶670·2\u0010;²¶1·¶²:734¶237¹2·9´±1´0¶62·3²\u0010*44¹4¹5:¹º\u001034¶62¹\u0010:2¼\n",
      "Shifted characters: t to make it longer.\n",
      "\n",
      "fastctf{a_bit_tricky|Hello and welcome to file11 forensic challenge. This is just filler tex\n",
      "Shifted characters: è@èÞ@ÚÂÖÊ@Òè@ØÞÜÎÊä\\\u001a\u0014\u001a\u0014ÌÂæèÆèÌöÂ¾ÄÒè¾èäÒÆÖòøÊØØÞ@ÂÜÈ@îÊØÆÞÚÊ@èÞ@ÌÒØÊbb@ÌÞäÊÜæÒÆ@ÆÐÂØØÊÜÎÊ\\@¨ÐÒæ@Òæ@Ôêæè@ÌÒØØÊä@èÊð\n",
      "Shifted characters: ÐÑ¼µ­¥Ð±½¹È¸4(4)ÍÑÑí}¥Ñ}ÑÉ¥­åñ!±±¼¹Ý±½µÑ¼¥±ÄÄ½É¹Í¥¡±±¹¸Q¡¥Ì¥Ì©ÕÍÐ¥±±ÈÑá\n",
      "Shifted characters: ¡\u0003£y\u0003k\u000b[)\u0003K¡\u0003c{s;+phPhS3\u000b£\u001b£3Û\n",
      "û\u0013K¢û£K\u001b[ËâC+ccy\u0003\u000bs!\u0003»+c\u001b{k)\u0003£y\u00033Kc)\u00033{+sK\u0019\u0003\u001bC\u000bcc+s;)q\u0002£CK\u0003K\u0003S«¡\u00033Kcc+\u0003£+Ã\n",
      "Shifted characters: B\u0007Fò\u0006Ö\u0016¶R\u0006B\u0006ÆöævW\"àÐ Ð¦f\u00177F7Fg¶\u0015ö&E÷G&6·ÄVÆÆò\u0006\u0016æB\u0007vVÆ6öÖR\u0007Fò\u0006fÆS\u0013\u0012\u0006f÷&Vç62\u00066\u0016ÆÆVævRâ\u0005F2\u00062\u0006§W7B\u0006fÆÆW\"\u0007FW\n",
      "íÌì®EÁ¡A¡LÌ.nnÏl+ìM.îM,mo/\f­ä\f-Ì\u000eì­mí¬¤\u000eä\fÍ-¦&$\fÍîL­Îm,d\fm\f-­Ìì¥Ä\n",
      "N®n\fÍ-®D\u000e¯\u000e\n",
      "Shifted characters:\u001d\u001bÈ\u001bXZÙH\u001a\u001b\u001bÛÙ\\BB\\Ý\u0018Ý\u0019ØWØ]\u0017Ý\u001cXÚÞ_\u0012\u0019[\u001b\u001bÈ\u0018[\u001dÙ[\u0018ÛÛYH\u001d\u001bÈ\u0019[\u0019LLH\u0019Ü[ÚXÈ\u0018Ú\u0018[\u001b\u0019[ÙK\u0015\u001a\u001a\\È\u001a\\È\u001a\\\u0019[\u001b\u0019\\\u001d\u0019^\u001d\n",
      "Shifted characters: \u0010:76°µ²4º\u001067·3²¹\u0017\u0006\u000630¹º1º3=°¯±4º/º94±µ¼¾$2¶670·2\u0010;²¶1·¶²:734¶237¹2·9´±1´0¶62·3²\u0010*44¹4¹5:¹º\u001034¶62¹\u0010:2¼:\n",
      "Shifted characters:  to make it longer.\n",
      "\n",
      "fastctf{a_bit_tricky|Hello and welcome to file11 forensic challenge. This is just filler text\n",
      "Shifted characters: @èÞ@ÚÂÖÊ@Òè@ØÞÜÎÊä\\\u001a\u0014\u001a\u0014ÌÂæèÆèÌöÂ¾ÄÒè¾èäÒÆÖòøÊØØÞ@ÂÜÈ@îÊØÆÞÚÊ@èÞ@ÌÒØÊbb@ÌÞäÊÜæÒÆ@ÆÐÂØØÊÜÎÊ\\@¨ÐÒæ@Òæ@Ôêæè@ÌÒØØÊä@èÊðè\n",
      "Shifted characters: Ñ¼µ­¥Ð±½¹È¸4(4)ÍÑÑí}¥Ñ}ÑÉ¥­åñ!±±¼¹Ý±½µÑ¼¥±ÄÄ½É¹Í¥¡±±¹¸Q¡¥Ì¥Ì©ÕÍÐ¥±±ÈÑáÐ\n",
      "Shifted characters: \u0003£y\u0003k\u000b[)\u0003K¡\u0003c{s;+phPhS3\u000b£\u001b£3Û\n",
      "û\u0013K¢û£K\u001b[ËâC+ccy\u0003\u000bs!\u0003»+c\u001b{k)\u0003£y\u00033Kc)\u00033{+sK\u0019\u0003\u001bC\u000bcc+s;)q\u0002£CK\u0003K\u0003S«¡\u00033Kcc+\u0003£+Ã¡\n",
      "Shifted characters: \u0007Fò\u0006Ö\u0016¶R\u0006B\u0006ÆöævW\"àÐ Ð¦f\u00177F7Fg¶\u0015ö&E÷G&6·ÄVÆÆò\u0006\u0016æB\u0007vVÆ6öÖR\u0007Fò\u0006fÆS\u0013\u0012\u0006f÷&Vç62\u00066\u0016ÆÆVævRâ\u0005F2\u00062\u0006§W7B\u0006fÆÆW\"\u0007FWB\n",
      "íÌì®EÁ¡A¡LÌ.nnÏl+ìM.îM,mo/\f­ä\f-Ì\u000eì­mí¬¤\u000eä\fÍ-¦&$\fÍîL­Îm,d\fm\f-­Ìì¥Ä\n",
      "N®n\fÍ-®D\u000e¯\u000e\n",
      "Shifted characters: \u001d\u001bÈ\u001bXZÙH\u001a\u001b\u001bÛÙ\\BB\\Ý\u0018Ý\u0019ØWØ]\u0017Ý\u001cXÚÞ_\u0012\u0019[\u001b\u001bÈ\u0018[\u001dÙ[\u0018ÛÛYH\u001d\u001bÈ\u0019[\u0019LLH\u0019Ü[ÚXÈ\u0018Ú\u0018[\u001b\u0019[ÙK\u0015\u001a\u001a\\È\u001a\\È\u001a\\\u0019[\u001b\u0019\\\u001d\u0019^\n",
      "Shifted characters: :76°µ²4º\u001067·3²¹\u0017\u0006\u000630¹º1º3=°¯±4º/º94±µ¼¾$2¶670·2\u0010;²¶1·¶²:734¶237¹2·9´±1´0¶62·3²\u0010*44¹4¹5:¹º\u001034¶62¹\u0010:2¼:\u0010\n",
      "Shifted characters: to make it longer.\n",
      "\n",
      "fastctf{a_bit_tricky|Hello and welcome to file11 forensic challenge. This is just filler text \n",
      "Shifted characters: èÞ@ÚÂÖÊ@Òè@ØÞÜÎÊä\\\u001a\u0014\u001a\u0014ÌÂæèÆèÌöÂ¾ÄÒè¾èäÒÆÖòøÊØØÞ@ÂÜÈ@îÊØÆÞÚÊ@èÞ@ÌÒØÊbb@ÌÞäÊÜæÒÆ@ÆÐÂØØÊÜÎÊ\\@¨ÐÒæ@Òæ@Ôêæè@ÌÒØØÊä@èÊðè@\n",
      "Shifted characters: Ñ¼µ­¥Ð±½¹È¸4(4)ÍÑÑí}¥Ñ}ÑÉ¥­åñ!±±¼¹Ý±½µÑ¼¥±ÄÄ½É¹Í¥¡±±¹¸Q¡¥Ì¥Ì©ÕÍÐ¥±±ÈÑáÐ\n",
      "Shifted characters: £y\u0003k\u000b[)\u0003K¡\u0003c{s;+phPhS3\u000b£\u001b£3Û\n",
      "û\u0013K¢û£K\u001b[ËâC+ccy\u0003\u000bs!\u0003»+c\u001b{k)\u0003£y\u00033Kc)\u00033{+sK\u0019\u0003\u001bC\u000bcc+s;)q\u0002£CK\u0003K\u0003S«¡\u00033Kcc+\u0003£+Ã¡\u0003\n",
      "Shifted characters: Fò\u0006Ö\u0016¶R\u0006B\u0006ÆöævW\"àÐ Ð¦f\u00177F7Fg¶\u0015ö&E÷G&6·ÄVÆÆò\u0006\u0016æB\u0007vVÆ6öÖR\u0007Fò\u0006fÆS\u0013\u0012\u0006f÷&Vç62\u00066\u0016ÆÆVævRâ\u0005F2\u00062\u0006§W7B\u0006fÆÆW\"\u0007FWB\u0007\n",
      "íÌì®EÁ¡A¡LÌ.nnÏl+ìM.îM,mo/\f­ä\f-Ì\u000eì­mí¬¤\u000eä\fÍ-¦&$\fÍîL­Îm,d\fm\f-­Ìì¥Ä\n",
      "N®n\fÍ-®D\u000e¯\u000e\u000e\n",
      "Shifted characters: \u001bÈ\u001bXZÙH\u001a\u001b\u001bÛÙ\\BB\\Ý\u0018Ý\u0019ØWØ]\u0017Ý\u001cXÚÞ_\u0012\u0019[\u001b\u001bÈ\u0018[\u001dÙ[\u0018ÛÛYH\u001d\u001bÈ\u0019[\u0019LLH\u0019Ü[ÚXÈ\u0018Ú\u0018[\u001b\u0019[ÙK\u0015\u001a\u001a\\È\u001a\\È\u001a\\\u0019[\u001b\u0019\\\u001d\u0019^\u001d\n",
      "Shifted characters: 76°µ²4º\u001067·3²¹\u0017\u0006\u000630¹º1º3=°¯±4º/º94±µ¼¾$2¶670·2\u0010;²¶1·¶²:734¶237¹2·9´±1´0¶62·3²\u0010*44¹4¹5:¹º\u001034¶62¹\u0010:2¼:\u0010:\n",
      "Shifted characters: o make it longer.\n",
      "\n",
      "fastctf{a_bit_tricky|Hello and welcome to file11 forensic challenge. This is just filler text t\n",
      "Shifted characters: Þ@ÚÂÖÊ@Òè@ØÞÜÎÊä\\\u001a\u0014\u001a\u0014ÌÂæèÆèÌöÂ¾ÄÒè¾èäÒÆÖòøÊØØÞ@ÂÜÈ@îÊØÆÞÚÊ@èÞ@ÌÒØÊbb@ÌÞäÊÜæÒÆ@ÆÐÂØØÊÜÎÊ\\@¨ÐÒæ@Òæ@Ôêæè@ÌÒØØÊä@èÊðè@è\n",
      "Shifted characters: ¼µ­¥Ð±½¹È¸4(4)ÍÑÑí}¥Ñ}ÑÉ¥­åñ!±±¼¹Ý±½µÑ¼¥±ÄÄ½É¹Í¥¡±±¹¸Q¡¥Ì¥Ì©ÕÍÐ¥±±ÈÑáÐÑ\n",
      "Shifted characters: y\u0003k\u000b[)\u0003K¡\u0003c{s;+phPhS3\u000b£\u001b£3Û\n",
      "û\u0013K¢û£K\u001b[ËâC+ccy\u0003\u000bs!\u0003»+c\u001b{k)\u0003£y\u00033Kc)\u00033{+sK\u0019\u0003\u001bC\u000bcc+s;)q\u0002£CK\u0003K\u0003S«¡\u00033Kcc+\u0003£+Ã¡\u0003£\n",
      "Shifted characters: ò\u0006Ö\u0016¶R\u0006B\u0006ÆöævW\"àÐ Ð¦f\u00177F7Fg¶\u0015ö&E÷G&6·ÄVÆÆò\u0006\u0016æB\u0007vVÆ6öÖR\u0007Fò\u0006fÆS\u0013\u0012\u0006f÷&Vç62\u00066\u0016ÆÆVævRâ\u0005F2\u00062\u0006§W7B\u0006fÆÆW\"\u0007FWB\u0007F\n",
      "íÌì®EÁ¡A¡LÌ.nnÏl+ìM.îM,mo/\f­ä\f-Ì\u000eì­mí¬¤\u000eä\fÍ-¦&$\fÍîL­Îm,d\fm\f-­Ìì¥Ä\n",
      "N®n\fÍ-®D\u000e¯\u000e\u000e\n",
      "Shifted characters: È\u001bXZÙH\u001a\u001b\u001bÛÙ\\BB\\Ý\u0018Ý\u0019ØWØ]\u0017Ý\u001cXÚÞ_\u0012\u0019[\u001b\u001bÈ\u0018[\u001dÙ[\u0018ÛÛYH\u001d\u001bÈ\u0019[\u0019LLH\u0019Ü[ÚXÈ\u0018Ú\u0018[\u001b\u0019[ÙK\u0015\u001a\u001a\\È\u001a\\È\u001a\\\u0019[\u001b\u0019\\\u001d\u0019^\u001d\u001b\n",
      "Shifted characters: 6°µ²4º\u001067·3²¹\u0017\u0006\u000630¹º1º3=°¯±4º/º94±µ¼¾$2¶670·2\u0010;²¶1·¶²:734¶237¹2·9´±1´0¶62·3²\u0010*44¹4¹5:¹º\u001034¶62¹\u0010:2¼:\u0010:7\n",
      "Shifted characters:  make it longer.\n",
      "\n",
      "fastctf{a_bit_tricky|Hello and welcome to file11 forensic challenge. This is just filler text to\n",
      "Shifted characters: @ÚÂÖÊ@Òè@ØÞÜÎÊä\\\u001a\u0014\u001a\u0014ÌÂæèÆèÌöÂ¾ÄÒè¾èäÒÆÖòøÊØØÞ@ÂÜÈ@îÊØÆÞÚÊ@èÞ@ÌÒØÊbb@ÌÞäÊÜæÒÆ@ÆÐÂØØÊÜÎÊ\\@¨ÐÒæ@Òæ@Ôêæè@ÌÒØØÊä@èÊðè@èÞ\n",
      "Shifted characters: µ­¥Ð±½¹È¸4(4)ÍÑÑí}¥Ñ}ÑÉ¥­åñ!±±¼¹Ý±½µÑ¼¥±ÄÄ½É¹Í¥¡±±¹¸Q¡¥Ì¥Ì©ÕÍÐ¥±±ÈÑáÐÑ¼\n",
      "Shifted characters: \u0003k\u000b[)\u0003K¡\u0003c{s;+phPhS3\u000b£\u001b£3Û\n",
      "û\u0013K¢û£K\u001b[ËâC+ccy\u0003\u000bs!\u0003»+c\u001b{k)\u0003£y\u00033Kc)\u00033{+sK\u0019\u0003\u001bC\u000bcc+s;)q\u0002£CK\u0003K\u0003S«¡\u00033Kcc+\u0003£+Ã¡\u0003£y\n",
      "Shifted characters: \u0006Ö\u0016¶R\u0006B\u0006ÆöævW\"àÐ Ð¦f\u00177F7Fg¶\u0015ö&E÷G&6·ÄVÆÆò\u0006\u0016æB\u0007vVÆ6öÖR\u0007Fò\u0006fÆS\u0013\u0012\u0006f÷&Vç62\u00066\u0016ÆÆVævRâ\u0005F2\u00062\u0006§W7B\u0006fÆÆW\"\u0007FWB\u0007Fò\n",
      "íÌì®EÁ¡A¡LÌ.nnÏl+ìM.îM,mo/\f­ä\f-Ì\u000eì­mí¬¤\u000eä\fÍ-¦&$\fÍîL­Îm,d\fm\f-­Ìì¥Ä\n",
      "N®n\fÍ-®D\u000e¯\u000e\u000eä\n",
      "Shifted characters: \u001bXZÙH\u001a\u001b\u001bÛÙ\\BB\\Ý\u0018Ý\u0019ØWØ]\u0017Ý\u001cXÚÞ_\u0012\u0019[\u001b\u001bÈ\u0018[\u001dÙ[\u0018ÛÛYH\u001d\u001bÈ\u0019[\u0019LLH\u0019Ü[ÚXÈ\u0018Ú\u0018[\u001b\u0019[ÙK\u0015\u001a\u001a\\È\u001a\\È\u001a\\\u0019[\u001b\u0019\\\u001d\u0019^\u001d\u001bÈ\n",
      "Shifted characters: 6°µ²4º\u001067·3²¹\u0017\u0006\u000630¹º1º3=°¯±4º/º94±µ¼¾$2¶670·2\u0010;²¶1·¶²:734¶237¹2·9´±1´0¶62·3²\u0010*44¹4¹5:¹º\u001034¶62¹\u0010:2¼:\u0010:7\n",
      "Shifted characters: make it longer.\n",
      "\n",
      "fastctf{a_bit_tricky|Hello and welcome to file11 forensic challenge. This is just filler text to \n",
      "Shifted characters: ÚÂÖÊ@Òè@ØÞÜÎÊä\\\u001a\u0014\u001a\u0014ÌÂæèÆèÌöÂ¾ÄÒè¾èäÒÆÖòøÊØØÞ@ÂÜÈ@îÊØÆÞÚÊ@èÞ@ÌÒØÊbb@ÌÞäÊÜæÒÆ@ÆÐÂØØÊÜÎÊ\\@¨ÐÒæ@Òæ@Ôêæè@ÌÒØØÊä@èÊðè@èÞ@\n",
      "Shifted characters: µ­¥Ð±½¹È¸4(4)ÍÑÑí}¥Ñ}ÑÉ¥­åñ!±±¼¹Ý±½µÑ¼¥±ÄÄ½É¹Í¥¡±±¹¸Q¡¥Ì¥Ì©ÕÍÐ¥±±ÈÑáÐÑ¼\n",
      "Shifted characters: k\u000b[)\u0003K¡\u0003c{s;+phPhS3\u000b£\u001b£3Û\n",
      "û\u0013K¢û£K\u001b[ËâC+ccy\u0003\u000bs!\u0003»+c\u001b{k)\u0003£y\u00033Kc)\u00033{+sK\u0019\u0003\u001bC\u000bcc+s;)q\u0002£CK\u0003K\u0003S«¡\u00033Kcc+\u0003£+Ã¡\u0003£y\u0003\n",
      "Shifted characters: Ö\u0016¶R\u0006B\u0006ÆöævW\"àÐ Ð¦f\u00177F7Fg¶\u0015ö&E÷G&6·ÄVÆÆò\u0006\u0016æB\u0007vVÆ6öÖR\u0007Fò\u0006fÆS\u0013\u0012\u0006f÷&Vç62\u00066\u0016ÆÆVævRâ\u0005F2\u00062\u0006§W7B\u0006fÆÆW\"\u0007FWB\u0007Fò\u0006\n",
      "íÌì®EÁ¡A¡LÌ.nnÏl+ìM.îM,mo/\f­ä\f-Ì\u000eì­mí¬¤\u000eä\fÍ-¦&$\fÍîL­Îm,d\fm\f-­Ìì¥Ä\n",
      "N®n\fÍ-®D\u000e¯\u000e\u000eä\n",
      "Shifted characters: XZÙH\u001a\u001b\u001bÛÙ\\BB\\Ý\u0018Ý\u0019ØWØ]\u0017Ý\u001cXÚÞ_\u0012\u0019[\u001b\u001bÈ\u0018[\u001dÙ[\u0018ÛÛYH\u001d\u001bÈ\u0019[\u0019LLH\u0019Ü[ÚXÈ\u0018Ú\u0018[\u001b\u0019[ÙK\u0015\u001a\u001a\\È\u001a\\È\u001a\\\u0019[\u001b\u0019\\\u001d\u0019^\u001d\u001bÈ\u001b\n",
      "Shifted characters: °µ²4º\u001067·3²¹\u0017\u0006\u000630¹º1º3=°¯±4º/º94±µ¼¾$2¶670·2\u0010;²¶1·¶²:734¶237¹2·9´±1´0¶62·3²\u0010*44¹4¹5:¹º\u001034¶62¹\u0010:2¼:\u0010:76\n",
      "Shifted characters: ake it longer.\n",
      "\n",
      "fastctf{a_bit_tricky|Hello and welcome to file11 forensic challenge. This is just filler text to m\n",
      "Shifted characters: ÂÖÊ@Òè@ØÞÜÎÊä\\\u001a\u0014\u001a\u0014ÌÂæèÆèÌöÂ¾ÄÒè¾èäÒÆÖòøÊØØÞ@ÂÜÈ@îÊØÆÞÚÊ@èÞ@ÌÒØÊbb@ÌÞäÊÜæÒÆ@ÆÐÂØØÊÜÎÊ\\@¨ÐÒæ@Òæ@Ôêæè@ÌÒØØÊä@èÊðè@èÞ@Ú\n",
      "Shifted characters: ­¥Ð±½¹È¸4(4)ÍÑÑí}¥Ñ}ÑÉ¥­åñ!±±¼¹Ý±½µÑ¼¥±ÄÄ½É¹Í¥¡±±¹¸Q¡¥Ì¥Ì©ÕÍÐ¥±±ÈÑáÐÑ¼µ\n",
      "Shifted characters: \u000b[)\u0003K¡\u0003c{s;+phPhS3\u000b£\u001b£3Û\n",
      "û\u0013K¢û£K\u001b[ËâC+ccy\u0003\u000bs!\u0003»+c\u001b{k)\u0003£y\u00033Kc)\u00033{+sK\u0019\u0003\u001bC\u000bcc+s;)q\u0002£CK\u0003K\u0003S«¡\u00033Kcc+\u0003£+Ã¡\u0003£y\u0003k\n",
      "Shifted characters: \u0016¶R\u0006B\u0006ÆöævW\"àÐ Ð¦f\u00177F7Fg¶\u0015ö&E÷G&6·ÄVÆÆò\u0006\u0016æB\u0007vVÆ6öÖR\u0007Fò\u0006fÆS\u0013\u0012\u0006f÷&Vç62\u00066\u0016ÆÆVævRâ\u0005F2\u00062\u0006§W7B\u0006fÆÆW\"\u0007FWB\u0007Fò\u0006Ö\n",
      "íÌì®EÁ¡A¡LÌ.nnÏl+ìM.îM,mo/\f­ä\f-Ì\u000eì­mí¬¤\u000eä\fÍ-¦&$\fÍîL­Îm,d\fm\f-­Ìì¥Ä\n",
      "¬®n\fÍ-®D\u000e¯\u000e\u000eä\n",
      "Shifted characters: ZÙH\u001a\u001b\u001bÛÙ\\BB\\Ý\u0018Ý\u0019ØWØ]\u0017Ý\u001cXÚÞ_\u0012\u0019[\u001b\u001bÈ\u0018[\u001dÙ[\u0018ÛÛYH\u001d\u001bÈ\u0019[\u0019LLH\u0019Ü[ÚXÈ\u0018Ú\u0018[\u001b\u0019[ÙK\u0015\u001a\u001a\\È\u001a\\È\u001a\\\u0019[\u001b\u0019\\\u001d\u0019^\u001d\u001bÈ\u001bX\n",
      "Shifted characters: µ²4º\u001067·3²¹\u0017\u0006\u000630¹º1º3=°¯±4º/º94±µ¼¾$2¶670·2\u0010;²¶1·¶²:734¶237¹2·9´±1´0¶62·3²\u0010*44¹4¹5:¹º\u001034¶62¹\u0010:2¼:\u0010:76°\n",
      "Shifted characters: ke it longer.\n",
      "\n",
      "fastctf{a_bit_tricky|Hello and welcome to file11 forensic challenge. This is just filler text to ma\n",
      "Shifted characters: ÖÊ@Òè@ØÞÜÎÊä\\\u001a\u0014\u001a\u0014ÌÂæèÆèÌöÂ¾ÄÒè¾èäÒÆÖòøÊØØÞ@ÂÜÈ@îÊØÆÞÚÊ@èÞ@ÌÒØÊbb@ÌÞäÊÜæÒÆ@ÆÐÂØØÊÜÎÊ\\@¨ÐÒæ@Òæ@Ôêæè@ÌÒØØÊä@èÊðè@èÞ@ÚÂ\n",
      "Shifted characters: ­¥Ð±½¹È¸4(4)ÍÑÑí}¥Ñ}ÑÉ¥­åñ!±±¼¹Ý±½µÑ¼¥±ÄÄ½É¹Í¥¡±±¹¸Q¡¥Ì¥Ì©ÕÍÐ¥±±ÈÑáÐÑ¼µ\n",
      "Shifted characters: [)\u0003K¡\u0003c{s;+phPhS3\u000b£\u001b£3Û\n",
      "û\u0013K¢û£K\u001b[ËâC+ccy\u0003\u000bs!\u0003»+c\u001b{k)\u0003£y\u00033Kc)\u00033{+sK\u0019\u0003\u001bC\u000bcc+s;)q\u0002£CK\u0003K\u0003S«¡\u00033Kcc+\u0003£+Ã¡\u0003£y\u0003k\u000b\n",
      "Shifted characters: ¶R\u0006B\u0006ÆöævW\"àÐ Ð¦f\u00177F7Fg¶\u0015ö&E÷G&6·ÄVÆÆò\u0006\u0016æB\u0007vVÆ6öÖR\u0007Fò\u0006fÆS\u0013\u0012\u0006f÷&Vç62\u00066\u0016ÆÆVævRâ\u0005F2\u00062\u0006§W7B\u0006fÆÆW\"\u0007FWB\u0007Fò\u0006Ö\u0016\n",
      "íÌì®EÁ¡A¡LÌ.nnÏl+ìM.îM,mo/\f­ä\f-Ì\u000eì­mí¬¤\u000eä\fÍ-¦&$\fÍîL­Îm,d\fm\f-­Ìì¥Ä\n",
      "¬-n\fÍ-®D\u000e¯\u000e\u000eä\n",
      "Shifted characters: ÙH\u001a\u001b\u001bÛÙ\\BB\\Ý\u0018Ý\u0019ØWØ]\u0017Ý\u001cXÚÞ_\u0012\u0019[\u001b\u001bÈ\u0018[\u001dÙ[\u0018ÛÛYH\u001d\u001bÈ\u0019[\u0019LLH\u0019Ü[ÚXÈ\u0018Ú\u0018[\u001b\u0019[ÙK\u0015\u001a\u001a\\È\u001a\\È\u001a\\\u0019[\u001b\u0019\\\u001d\u0019^\u001d\u001bÈ\u001bXZ\n",
      "Shifted characters: ²4º\u001067·3²¹\u0017\u0006\u000630¹º1º3=°¯±4º/º94±µ¼¾$2¶670·2\u0010;²¶1·¶²:734¶237¹2·9´±1´0¶62·3²\u0010*44¹4¹5:¹º\u001034¶62¹\u0010:2¼:\u0010:76°µ\n",
      "Shifted characters: e it longer.\n",
      "\n",
      "fastctf{a_bit_tricky|Hello and welcome to file11 forensic challenge. This is just filler text to mak\n",
      "Shifted characters: Ê@Òè@ØÞÜÎÊä\\\u001a\u0014\u001a\u0014ÌÂæèÆèÌöÂ¾ÄÒè¾èäÒÆÖòøÊØØÞ@ÂÜÈ@îÊØÆÞÚÊ@èÞ@ÌÒØÊbb@ÌÞäÊÜæÒÆ@ÆÐÂØØÊÜÎÊ\\@¨ÐÒæ@Òæ@Ôêæè@ÌÒØØÊä@èÊðè@èÞ@ÚÂÖ\n",
      "Shifted characters: ¥Ð±½¹È¸4(4)ÍÑÑí}¥Ñ}ÑÉ¥­åñ!±±¼¹Ý±½µÑ¼¥±ÄÄ½É¹Í¥¡±±¹¸Q¡¥Ì¥Ì©ÕÍÐ¥±±ÈÑáÐÑ¼µ­\n",
      "Shifted characters: )\u0003K¡\u0003c{s;+phPhS3\u000b£\u001b£3Û\n",
      "û\u0013K¢û£K\u001b[ËâC+ccy\u0003\u000bs!\u0003»+c\u001b{k)\u0003£y\u00033Kc)\u00033{+sK\u0019\u0003\u001bC\u000bcc+s;)q\u0002£CK\u0003K\u0003S«¡\u00033Kcc+\u0003£+Ã¡\u0003£y\u0003k\u000b[\n",
      "Shifted characters: R\u0006B\u0006ÆöævW\"àÐ Ð¦f\u00177F7Fg¶\u0015ö&E÷G&6·ÄVÆÆò\u0006\u0016æB\u0007vVÆ6öÖR\u0007Fò\u0006fÆS\u0013\u0012\u0006f÷&Vç62\u00066\u0016ÆÆVævRâ\u0005F2\u00062\u0006§W7B\u0006fÆÆW\"\u0007FWB\u0007Fò\u0006Ö\u0016¶\n",
      "íÌì®EÁ¡A¡LÌ.nnÏl+ìM.îM,mo/\f­ä\f-Ì\u000eì­mí¬¤\u000eä\fÍ-¦&$\fÍîL­Îm,d\fm\f-­Ìì¥Ä\n",
      "¬-l\fÍ-®D\u000e¯\u000e\u000eä\n",
      "Shifted characters: H\u001a\u001b\u001bÛÙ\\BB\\Ý\u0018Ý\u0019ØWØ]\u0017Ý\u001cXÚÞ_\u0012\u0019[\u001b\u001bÈ\u0018[\u001dÙ[\u0018ÛÛYH\u001d\u001bÈ\u0019[\u0019LLH\u0019Ü[ÚXÈ\u0018Ú\u0018[\u001b\u0019[ÙK\u0015\u001a\u001a\\È\u001a\\È\u001a\\\u0019[\u001b\u0019\\\u001d\u0019^\u001d\u001bÈ\u001bXZÙ\n",
      "Shifted characters: 4º\u001067·3²¹\u0017\u0006\u000630¹º1º3=°¯±4º/º94±µ¼¾$2¶670·2\u0010;²¶1·¶²:734¶237¹2·9´±1´0¶62·3²\u0010*44¹4¹5:¹º\u001034¶62¹\u0010:2¼:\u0010:76°µ²\n",
      "Shifted characters:  it longer.\n",
      "\n",
      "fastctf{a_bit_tricky|Hello and welcome to file11 forensic challenge. This is just filler text to make\n",
      "Shifted characters: @Òè@ØÞÜÎÊä\\\u001a\u0014\u001a\u0014ÌÂæèÆèÌöÂ¾ÄÒè¾èäÒÆÖòøÊØØÞ@ÂÜÈ@îÊØÆÞÚÊ@èÞ@ÌÒØÊbb@ÌÞäÊÜæÒÆ@ÆÐÂØØÊÜÎÊ\\@¨ÐÒæ@Òæ@Ôêæè@ÌÒØØÊä@èÊðè@èÞ@ÚÂÖÊ\n",
      "Shifted characters: ¥Ð±½¹È¸4(4)ÍÑÑí}¥Ñ}ÑÉ¥­åñ!±±¼¹Ý±½µÑ¼¥±ÄÄ½É¹Í¥¡±±¹¸Q¡¥Ì¥Ì©ÕÍÐ¥±±ÈÑáÐÑ¼µ­\n",
      "Shifted characters: \u0003K¡\u0003c{s;+phPhS3\u000b£\u001b£3Û\n",
      "û\u0013K¢û£K\u001b[ËâC+ccy\u0003\u000bs!\u0003»+c\u001b{k)\u0003£y\u00033Kc)\u00033{+sK\u0019\u0003\u001bC\u000bcc+s;)q\u0002£CK\u0003K\u0003S«¡\u00033Kcc+\u0003£+Ã¡\u0003£y\u0003k\u000b[)\n",
      "Shifted characters: \u0006B\u0006ÆöævW\"àÐ Ð¦f\u00177F7Fg¶\u0015ö&E÷G&6·ÄVÆÆò\u0006\u0016æB\u0007vVÆ6öÖR\u0007Fò\u0006fÆS\u0013\u0012\u0006f÷&Vç62\u00066\u0016ÆÆVævRâ\u0005F2\u00062\u0006§W7B\u0006fÆÆW\"\u0007FWB\u0007Fò\u0006Ö\u0016¶R\n",
      "íÌì®EÁ¡A¡LÌ.nnÏl+ìM.îM,mo/\f­ä\f-Ì\u000eì­mí¬¤\u000eä\fÍ-¦&$\fÍîL­Îm,d\fm\f-­Ìì¥Ä\n",
      "¬-l¤\fÍ-®D\u000e¯\u000e\u000eä\n",
      "Shifted characters: \u001a\u001b\u001bÛÙ\\BB\\Ý\u0018Ý\u0019ØWØ]\u0017Ý\u001cXÚÞ_\u0012\u0019[\u001b\u001bÈ\u0018[\u001dÙ[\u0018ÛÛYH\u001d\u001bÈ\u0019[\u0019LLH\u0019Ü[ÚXÈ\u0018Ú\u0018[\u001b\u0019[ÙK\u0015\u001a\u001a\\È\u001a\\È\u001a\\\u0019[\u001b\u0019\\\u001d\u0019^\u001d\u001bÈ\u001bXZÙH\n",
      "Shifted characters: 4º\u001067·3²¹\u0017\u0006\u000630¹º1º3=°¯±4º/º94±µ¼¾$2¶670·2\u0010;²¶1·¶²:734¶237¹2·9´±1´0¶62·3²\u0010*44¹4¹5:¹º\u001034¶62¹\u0010:2¼:\u0010:76°µ²\n",
      "Shifted characters: it longer.\n",
      "\n",
      "fastctf{a_bit_tricky|Hello and welcome to file11 forensic challenge. This is just filler text to make \n",
      "Shifted characters: Òè@ØÞÜÎÊä\\\u001a\u0014\u001a\u0014ÌÂæèÆèÌöÂ¾ÄÒè¾èäÒÆÖòøÊØØÞ@ÂÜÈ@îÊØÆÞÚÊ@èÞ@ÌÒØÊbb@ÌÞäÊÜæÒÆ@ÆÐÂØØÊÜÎÊ\\@¨ÐÒæ@Òæ@Ôêæè@ÌÒØØÊä@èÊðè@èÞ@ÚÂÖÊ@\n",
      "Shifted characters: ¥Ð±½¹È¸4(4)ÍÑÑí}¥Ñ}ÑÉ¥­åñ!±±¼¹Ý±½µÑ¼¥±ÄÄ½É¹Í¥¡±±¹¸Q¡¥Ì¥Ì©ÕÍÐ¥±±ÈÑáÐÑ¼µ­\n",
      "Shifted characters: K¡\u0003c{s;+phPhS3\u000b£\u001b£3Û\n",
      "û\u0013K¢û£K\u001b[ËâC+ccy\u0003\u000bs!\u0003»+c\u001b{k)\u0003£y\u00033Kc)\u00033{+sK\u0019\u0003\u001bC\u000bcc+s;)q\u0002£CK\u0003K\u0003S«¡\u00033Kcc+\u0003£+Ã¡\u0003£y\u0003k\u000b[)\u0003\n",
      "Shifted characters: B\u0006ÆöævW\"àÐ Ð¦f\u00177F7Fg¶\u0015ö&E÷G&6·ÄVÆÆò\u0006\u0016æB\u0007vVÆ6öÖR\u0007Fò\u0006fÆS\u0013\u0012\u0006f÷&Vç62\u00066\u0016ÆÆVævRâ\u0005F2\u00062\u0006§W7B\u0006fÆÆW\"\u0007FWB\u0007Fò\u0006Ö\u0016¶R\u0006\n",
      "íÌì®EÁ¡A¡LÌ.nnÏl+ìM.îM,mo/\f­ä\f-Ì\u000eì­mí¬¤\u000eä\fÍ-¦&$\fÍîL­Îm,d\fm\f-­Ìì¥Ä\n",
      "¬-l¤\fÍ-®D\u000e¯\u000e\u000eä\n",
      "Shifted characters: \u001b\u001bÛÙ\\BB\\Ý\u0018Ý\u0019ØWØ]\u0017Ý\u001cXÚÞ_\u0012\u0019[\u001b\u001bÈ\u0018[\u001dÙ[\u0018ÛÛYH\u001d\u001bÈ\u0019[\u0019LLH\u0019Ü[ÚXÈ\u0018Ú\u0018[\u001b\u0019[ÙK\u0015\u001a\u001a\\È\u001a\\È\u001a\\\u0019[\u001b\u0019\\\u001d\u0019^\u001d\u001bÈ\u001bXZÙH\u001a\n",
      "Shifted characters: º\u001067·3²¹\u0017\u0006\u000630¹º1º3=°¯±4º/º94±µ¼¾$2¶670·2\u0010;²¶1·¶²:734¶237¹2·9´±1´0¶62·3²\u0010*44¹4¹5:¹º\u001034¶62¹\u0010:2¼:\u0010:76°µ²4\n",
      "Shifted characters: t longer.\n",
      "\n",
      "fastctf{a_bit_tricky|Hello and welcome to file11 forensic challenge. This is just filler text to make i\n",
      "Shifted characters: è@ØÞÜÎÊä\\\u001a\u0014\u001a\u0014ÌÂæèÆèÌöÂ¾ÄÒè¾èäÒÆÖòøÊØØÞ@ÂÜÈ@îÊØÆÞÚÊ@èÞ@ÌÒØÊbb@ÌÞäÊÜæÒÆ@ÆÐÂØØÊÜÎÊ\\@¨ÐÒæ@Òæ@Ôêæè@ÌÒØØÊä@èÊðè@èÞ@ÚÂÖÊ@Ò\n",
      "Shifted characters: Ð±½¹È¸4(4)ÍÑÑí}¥Ñ}ÑÉ¥­åñ!±±¼¹Ý±½µÑ¼¥±ÄÄ½É¹Í¥¡±±¹¸Q¡¥Ì¥Ì©ÕÍÐ¥±±ÈÑáÐÑ¼µ­¥\n",
      "Shifted characters: ¡\u0003c{s;+phPhS3\u000b£\u001b£3Û\n",
      "û\u0013K¢û£K\u001b[ËâC+ccy\u0003\u000bs!\u0003»+c\u001b{k)\u0003£y\u00033Kc)\u00033{+sK\u0019\u0003\u001bC\u000bcc+s;)q\u0002£CK\u0003K\u0003S«¡\u00033Kcc+\u0003£+Ã¡\u0003£y\u0003k\u000b[)\u0003K\n",
      "Shifted characters: B\u0006ÆöævW\"àÐ Ð¦f\u00177F7Fg¶\u0015ö&E÷G&6·ÄVÆÆò\u0006\u0016æB\u0007vVÆ6öÖR\u0007Fò\u0006fÆS\u0013\u0012\u0006f÷&Vç62\u00066\u0016ÆÆVævRâ\u0005F2\u00062\u0006§W7B\u0006fÆÆW\"\u0007FWB\u0007Fò\u0006Ö\u0016¶R\u0006\n",
      "íÌì®EÁ¡A¡LÌ.nnÏl+ìM.îM,mo/\f­ä\f-Ì\u000eì­mí¬¤\u000eä\fÍ-¦&$\fÍîL­Îm,d\fm\f-­Ìì¥Ä\n",
      ".-l¤\fÍ-®D\u000e¯\u000e\u000eä\n",
      "Shifted characters:\u001b\u001bÛÙ\\BB\\Ý\u0018Ý\u0019ØWØ]\u0017Ý\u001cXÚÞ_\u0012\u0019[\u001b\u001bÈ\u0018[\u001dÙ[\u0018ÛÛYH\u001d\u001bÈ\u0019[\u0019LLH\u0019Ü[ÚXÈ\u0018Ú\u0018[\u001b\u0019[ÙK\u0015\u001a\u001a\\È\u001a\\È\u001a\\\u0019[\u001b\u0019\\\u001d\u0019^\u001d\u001bÈ\u001bXZÙH\u001a]\n",
      "Shifted characters: \u001067·3²¹\u0017\u0006\u000630¹º1º3=°¯±4º/º94±µ¼¾$2¶670·2\u0010;²¶1·¶²:734¶237¹2·9´±1´0¶62·3²\u0010*44¹4¹5:¹º\u001034¶62¹\u0010:2¼:\u0010:76°µ²4º\n",
      "Shifted characters:  longer.\n",
      "\n",
      "fastctf{a_bit_tricky|Hello and welcome to file11 forensic challenge. This is just filler text to make it\n",
      "Shifted characters: @ØÞÜÎÊä\\\u001a\u0014\u001a\u0014ÌÂæèÆèÌöÂ¾ÄÒè¾èäÒÆÖòøÊØØÞ@ÂÜÈ@îÊØÆÞÚÊ@èÞ@ÌÒØÊbb@ÌÞäÊÜæÒÆ@ÆÐÂØØÊÜÎÊ\\@¨ÐÒæ@Òæ@Ôêæè@ÌÒØØÊä@èÊðè@èÞ@ÚÂÖÊ@Òè\n",
      "Shifted characters: ±½¹È¸4(4)ÍÑÑí}¥Ñ}ÑÉ¥­åñ!±±¼¹Ý±½µÑ¼¥±ÄÄ½É¹Í¥¡±±¹¸Q¡¥Ì¥Ì©ÕÍÐ¥±±ÈÑáÐÑ¼µ­¥Ð\n",
      "Shifted characters: \u0003c{s;+phPhS3\u000b£\u001b£3Û\n",
      "û\u0013K¢û£K\u001b[ËâC+ccy\u0003\u000bs!\u0003»+c\u001b{k)\u0003£y\u00033Kc)\u00033{+sK\u0019\u0003\u001bC\u000bcc+s;)q\u0002£CK\u0003K\u0003S«¡\u00033Kcc+\u0003£+Ã¡\u0003£y\u0003k\u000b[)\u0003K¡\n",
      "Shifted characters: \u0006ÆöævW\"àÐ Ð¦f\u00177F7Fg¶\u0015ö&E÷G&6·ÄVÆÆò\u0006\u0016æB\u0007vVÆ6öÖR\u0007Fò\u0006fÆS\u0013\u0012\u0006f÷&Vç62\u00066\u0016ÆÆVævRâ\u0005F2\u00062\u0006§W7B\u0006fÆÆW\"\u0007FWB\u0007Fò\u0006Ö\u0016¶R\u0006B\n",
      "íÌì®EÁ¡A¡LÌ.nnÏl+ìM.îM,mo/\f­ä\f-Ì\u000eì­mí¬¤\u000eä\fÍ-¦&$\fÍîL­Îm,d\fm\f-­Ìì¥Ä\n",
      ".l¤\fÍ-®D\u000e¯\u000e\u000eä\n",
      "Shifted characters: \u001b\u001bÛÙ\\BB\\Ý\u0018Ý\u0019ØWØ]\u0017Ý\u001cXÚÞ_\u0012\u0019[\u001b\u001bÈ\u0018[\u001dÙ[\u0018ÛÛYH\u001d\u001bÈ\u0019[\u0019LLH\u0019Ü[ÚXÈ\u0018Ú\u0018[\u001b\u0019[ÙK\u0015\u001a\u001a\\È\u001a\\È\u001a\\\u0019[\u001b\u0019\\\u001d\u0019^\u001d\u001bÈ\u001bXZÙH\u001a\n",
      "Shifted characters: 67·3²¹\u0017\u0006\u000630¹º1º3=°¯±4º/º94±µ¼¾$2¶670·2\u0010;²¶1·¶²:734¶237¹2·9´±1´0¶62·3²\u0010*44¹4¹5:¹º\u001034¶62¹\u0010:2¼:\u0010:76°µ²4º\u0010\n",
      "Shifted characters: longer.\n",
      "\n",
      "fastctf{a_bit_tricky|Hello and welcome to file11 forensic challenge. This is just filler text to make it \n",
      "Shifted characters: ØÞÜÎÊä\\\u001a\u0014\u001a\u0014ÌÂæèÆèÌöÂ¾ÄÒè¾èäÒÆÖòøÊØØÞ@ÂÜÈ@îÊØÆÞÚÊ@èÞ@ÌÒØÊbb@ÌÞäÊÜæÒÆ@ÆÐÂØØÊÜÎÊ\\@¨ÐÒæ@Òæ@Ôêæè@ÌÒØØÊä@èÊðè@èÞ@ÚÂÖÊ@Òè@\n",
      "Shifted characters: ±½¹È¸4(4)ÍÑÑí}¥Ñ}ÑÉ¥­åñ!±±¼¹Ý±½µÑ¼¥±ÄÄ½É¹Í¥¡±±¹¸Q¡¥Ì¥Ì©ÕÍÐ¥±±ÈÑáÐÑ¼µ­¥Ð\n",
      "Shifted characters: c{s;+phPhS3\u000b£\u001b£3Û\n",
      "û\u0013K¢û£K\u001b[ËâC+ccy\u0003\u000bs!\u0003»+c\u001b{k)\u0003£y\u00033Kc)\u00033{+sK\u0019\u0003\u001bC\u000bcc+s;)q\u0002£CK\u0003K\u0003S«¡\u00033Kcc+\u0003£+Ã¡\u0003£y\u0003k\u000b[)\u0003K¡\u0003\n",
      "Shifted characters: ÆöævW\"àÐ Ð¦f\u00177F7Fg¶\u0015ö&E÷G&6·ÄVÆÆò\u0006\u0016æB\u0007vVÆ6öÖR\u0007Fò\u0006fÆS\u0013\u0012\u0006f÷&Vç62\u00066\u0016ÆÆVævRâ\u0005F2\u00062\u0006§W7B\u0006fÆÆW\"\u0007FWB\u0007Fò\u0006Ö\u0016¶R\u0006B\u0006\n",
      "Shifted characters: íÌì®EÁ¡A¡LÌ.nnÏl+ìM.îM,mo/\f­ä\f-Ì\u000eì­mí¬¤\u000eä\fÍ-¦&$\fÍîL­Îm,d\fm\f-­Ìì¥Ä\n",
      ".l¤\fÍ-®D\u000e¯\u000e\u000eä\n",
      "Shifted characters: \u001bÛÙ\\BB\\Ý\u0018Ý\u0019ØWØ]\u0017Ý\u001cXÚÞ_\u0012\u0019[\u001b\u001bÈ\u0018[\u001dÙ[\u0018ÛÛYH\u001d\u001bÈ\u0019[\u0019LLH\u0019Ü[ÚXÈ\u0018Ú\u0018[\u001b\u0019[ÙK\u0015\u001a\u001a\\È\u001a\\È\u001a\\\u0019[\u001b\u0019\\\u001d\u0019^\u001d\u001bÈ\u001bXZÙH\u001a\u001b\n",
      "Shifted characters: 7·3²¹\u0017\u0006\u000630¹º1º3=°¯±4º/º94±µ¼¾$2¶670·2\u0010;²¶1·¶²:734¶237¹2·9´±1´0¶62·3²\u0010*44¹4¹5:¹º\u001034¶62¹\u0010:2¼:\u0010:76°µ²4º\u00106\n",
      "Shifted characters: onger.\n",
      "\n",
      "fastctf{a_bit_tricky|Hello and welcome to file11 forensic challenge. This is just filler text to make it l\n",
      "Shifted characters: ÞÜÎÊä\\\u001a\u0014\u001a\u0014ÌÂæèÆèÌöÂ¾ÄÒè¾èäÒÆÖòøÊØØÞ@ÂÜÈ@îÊØÆÞÚÊ@èÞ@ÌÒØÊbb@ÌÞäÊÜæÒÆ@ÆÐÂØØÊÜÎÊ\\@¨ÐÒæ@Òæ@Ôêæè@ÌÒØØÊä@èÊðè@èÞ@ÚÂÖÊ@Òè@Ø\n",
      "Shifted characters: ½¹È¸4(4)ÍÑÑí}¥Ñ}ÑÉ¥­åñ!±±¼¹Ý±½µÑ¼¥±ÄÄ½É¹Í¥¡±±¹¸Q¡¥Ì¥Ì©ÕÍÐ¥±±ÈÑáÐÑ¼µ­¥Ð±\n",
      "Shifted characters: {s;+phPhS3\u000b£\u001b£3Û\n",
      "û\u0013K¢û£K\u001b[ËâC+ccy\u0003\u000bs!\u0003»+c\u001b{k)\u0003£y\u00033Kc)\u00033{+sK\u0019\u0003\u001bC\u000bcc+s;)q\u0002£CK\u0003K\u0003S«¡\u00033Kcc+\u0003£+Ã¡\u0003£y\u0003k\u000b[)\u0003K¡\u0003c\n",
      "Shifted characters: öævW\"àÐ Ð¦f\u00177F7Fg¶\u0015ö&E÷G&6·ÄVÆÆò\u0006\u0016æB\u0007vVÆ6öÖR\u0007Fò\u0006fÆS\u0013\u0012\u0006f÷&Vç62\u00066\u0016ÆÆVævRâ\u0005F2\u00062\u0006§W7B\u0006fÆÆW\"\u0007FWB\u0007Fò\u0006Ö\u0016¶R\u0006B\u0006Æ\n",
      "Shifted characters: íÌì®EÁ¡A¡LÌ.nnÏl+ìM.îM,mo/\f­ä\f-Ì\u000eì­mí¬¤\u000eä\fÍ-¦&$\fÍîL­Îm,d\fm\f-­Ìì¥Ä\n",
      "l¤\fÍ-®D\u000e¯\u000e\u000eä\n",
      "Shifted characters: ÛÙ\\BB\\Ý\u0018Ý\u0019ØWØ]\u0017Ý\u001cXÚÞ_\u0012\u0019[\u001b\u001bÈ\u0018[\u001dÙ[\u0018ÛÛYH\u001d\u001bÈ\u0019[\u0019LLH\u0019Ü[ÚXÈ\u0018Ú\u0018[\u001b\u0019[ÙK\u0015\u001a\u001a\\È\u001a\\È\u001a\\\u0019[\u001b\u0019\\\u001d\u0019^\u001d\u001bÈ\u001bXZÙH\u001a\u001b\u001b\n",
      "Shifted characters: ·3²¹\u0017\u0006\u000630¹º1º3=°¯±4º/º94±µ¼¾$2¶670·2\u0010;²¶1·¶²:734¶237¹2·9´±1´0¶62·3²\u0010*44¹4¹5:¹º\u001034¶62¹\u0010:2¼:\u0010:76°µ²4º\u001067\n",
      "Shifted characters: nger.\n",
      "\n",
      "fastctf{a_bit_tricky|Hello and welcome to file11 forensic challenge. This is just filler text to make it lo\n",
      "Shifted characters: ÜÎÊä\\\u001a\u0014\u001a\u0014ÌÂæèÆèÌöÂ¾ÄÒè¾èäÒÆÖòøÊØØÞ@ÂÜÈ@îÊØÆÞÚÊ@èÞ@ÌÒØÊbb@ÌÞäÊÜæÒÆ@ÆÐÂØØÊÜÎÊ\\@¨ÐÒæ@Òæ@Ôêæè@ÌÒØØÊä@èÊðè@èÞ@ÚÂÖÊ@Òè@ØÞ\n",
      "Shifted characters: ¹È¸4(4)ÍÑÑí}¥Ñ}ÑÉ¥­åñ!±±¼¹Ý±½µÑ¼¥±ÄÄ½É¹Í¥¡±±¹¸Q¡¥Ì¥Ì©ÕÍÐ¥±±ÈÑáÐÑ¼µ­¥Ð±½\n",
      "Shifted characters: s;+phPhS3\u000b£\u001b£3Û\n",
      "û\u0013K¢û£K\u001b[ËâC+ccy\u0003\u000bs!\u0003»+c\u001b{k)\u0003£y\u00033Kc)\u00033{+sK\u0019\u0003\u001bC\u000bcc+s;)q\u0002£CK\u0003K\u0003S«¡\u00033Kcc+\u0003£+Ã¡\u0003£y\u0003k\u000b[)\u0003K¡\u0003c{\n",
      "Shifted characters: ævW\"àÐ Ð¦f\u00177F7Fg¶\u0015ö&E÷G&6·ÄVÆÆò\u0006\u0016æB\u0007vVÆ6öÖR\u0007Fò\u0006fÆS\u0013\u0012\u0006f÷&Vç62\u00066\u0016ÆÆVævRâ\u0005F2\u00062\u0006§W7B\u0006fÆÆW\"\u0007FWB\u0007Fò\u0006Ö\u0016¶R\u0006B\u0006Æö\n",
      "Shifted characters: Ìì®EÁ¡A¡LÌ.nnÏl+ìM.îM,mo/\f­ä\f-Ì\u000eì­mí¬¤\u000eä\fÍ-¦&$\fÍîL­Îm,d\fm\f-­Ìì¥Ä\n",
      "íl¤\fÍ-®D\u000e¯\u000e\u000eä\n",
      "Shifted characters: Ù\\BB\\Ý\u0018Ý\u0019ØWØ]\u0017Ý\u001cXÚÞ_\u0012\u0019[\u001b\u001bÈ\u0018[\u001dÙ[\u0018ÛÛYH\u001d\u001bÈ\u0019[\u0019LLH\u0019Ü[ÚXÈ\u0018Ú\u0018[\u001b\u0019[ÙK\u0015\u001a\u001a\\È\u001a\\È\u001a\\\u0019[\u001b\u0019\\\u001d\u0019^\u001d\u001bÈ\u001bXZÙH\u001a\u001b\u001bÛ\n",
      "Shifted characters: 3²¹\u0017\u0006\u000630¹º1º3=°¯±4º/º94±µ¼¾$2¶670·2\u0010;²¶1·¶²:734¶237¹2·9´±1´0¶62·3²\u0010*44¹4¹5:¹º\u001034¶62¹\u0010:2¼:\u0010:76°µ²4º\u001067·\n",
      "Shifted characters: ger.\n",
      "\n",
      "fastctf{a_bit_tricky|Hello and welcome to file11 forensic challenge. This is just filler text to make it lon\n",
      "Shifted characters: ÎÊä\\\u001a\u0014\u001a\u0014ÌÂæèÆèÌöÂ¾ÄÒè¾èäÒÆÖòøÊØØÞ@ÂÜÈ@îÊØÆÞÚÊ@èÞ@ÌÒØÊbb@ÌÞäÊÜæÒÆ@ÆÐÂØØÊÜÎÊ\\@¨ÐÒæ@Òæ@Ôêæè@ÌÒØØÊä@èÊðè@èÞ@ÚÂÖÊ@Òè@ØÞÜ\n",
      "Shifted characters: È¸4(4)ÍÑÑí}¥Ñ}ÑÉ¥­åñ!±±¼¹Ý±½µÑ¼¥±ÄÄ½É¹Í¥¡±±¹¸Q¡¥Ì¥Ì©ÕÍÐ¥±±ÈÑáÐÑ¼µ­¥Ð±½¹\n",
      "Shifted characters: ;+phPhS3\u000b£\u001b£3Û\n",
      "û\u0013K¢û£K\u001b[ËâC+ccy\u0003\u000bs!\u0003»+c\u001b{k)\u0003£y\u00033Kc)\u00033{+sK\u0019\u0003\u001bC\u000bcc+s;)q\u0002£CK\u0003K\u0003S«¡\u00033Kcc+\u0003£+Ã¡\u0003£y\u0003k\u000b[)\u0003K¡\u0003c{s\n",
      "Shifted characters: vW\"àÐ Ð¦f\u00177F7Fg¶\u0015ö&E÷G&6·ÄVÆÆò\u0006\u0016æB\u0007vVÆ6öÖR\u0007Fò\u0006fÆS\u0013\u0012\u0006f÷&Vç62\u00066\u0016ÆÆVævRâ\u0005F2\u00062\u0006§W7B\u0006fÆÆW\"\u0007FWB\u0007Fò\u0006Ö\u0016¶R\u0006B\u0006Æöæ\n",
      "Shifted characters: ì®EÁ¡A¡LÌ.nnÏl+ìM.îM,mo/\f­ä\f-Ì\u000eì­mí¬¤\u000eä\fÍ-¦&$\fÍîL­Îm,d\fm\f-­Ìì¥Ä\n",
      "íÌ¤\fÍ-®D\u000e¯\u000e\u000eä\n",
      "Shifted characters: Ù\\BB\\Ý\u0018Ý\u0019ØWØ]\u0017Ý\u001cXÚÞ_\u0012\u0019[\u001b\u001bÈ\u0018[\u001dÙ[\u0018ÛÛYH\u001d\u001bÈ\u0019[\u0019LLH\u0019Ü[ÚXÈ\u0018Ú\u0018[\u001b\u0019[ÙK\u0015\u001a\u001a\\È\u001a\\È\u001a\\\u0019[\u001b\u0019\\\u001d\u0019^\u001d\u001bÈ\u001bXZÙH\u001a\u001b\u001bÛ\n",
      "Shifted characters: ²¹\u0017\u0006\u000630¹º1º3=°¯±4º/º94±µ¼¾$2¶670·2\u0010;²¶1·¶²:734¶237¹2·9´±1´0¶62·3²\u0010*44¹4¹5:¹º\u001034¶62¹\u0010:2¼:\u0010:76°µ²4º\u001067·3\n",
      "Shifted characters: er.\n",
      "\n",
      "fastctf{a_bit_tricky|Hello and welcome to file11 forensic challenge. This is just filler text to make it long\n",
      "Shifted characters: Êä\\\u001a\u0014\u001a\u0014ÌÂæèÆèÌöÂ¾ÄÒè¾èäÒÆÖòøÊØØÞ@ÂÜÈ@îÊØÆÞÚÊ@èÞ@ÌÒØÊbb@ÌÞäÊÜæÒÆ@ÆÐÂØØÊÜÎÊ\\@¨ÐÒæ@Òæ@Ôêæè@ÌÒØØÊä@èÊðè@èÞ@ÚÂÖÊ@Òè@ØÞÜÎ\n",
      "Shifted characters: È¸4(4)ÍÑÑí}¥Ñ}ÑÉ¥­åñ!±±¼¹Ý±½µÑ¼¥±ÄÄ½É¹Í¥¡±±¹¸Q¡¥Ì¥Ì©ÕÍÐ¥±±ÈÑáÐÑ¼µ­¥Ð±½¹\n",
      "Shifted characters: +phPhS3\u000b£\u001b£3Û\n",
      "û\u0013K¢û£K\u001b[ËâC+ccy\u0003\u000bs!\u0003»+c\u001b{k)\u0003£y\u00033Kc)\u00033{+sK\u0019\u0003\u001bC\u000bcc+s;)q\u0002£CK\u0003K\u0003S«¡\u00033Kcc+\u0003£+Ã¡\u0003£y\u0003k\u000b[)\u0003K¡\u0003c{s;\n",
      "Shifted characters: W\"àÐ Ð¦f\u00177F7Fg¶\u0015ö&E÷G&6·ÄVÆÆò\u0006\u0016æB\u0007vVÆ6öÖR\u0007Fò\u0006fÆS\u0013\u0012\u0006f÷&Vç62\u00066\u0016ÆÆVævRâ\u0005F2\u00062\u0006§W7B\u0006fÆÆW\"\u0007FWB\u0007Fò\u0006Ö\u0016¶R\u0006B\u0006Æöæv\n",
      "Shifted characters: ®EÁ¡A¡LÌ.nnÏl+ìM.îM,mo/\f­ä\f-Ì\u000eì­mí¬¤\u000eä\fÍ-¦&$\fÍîL­Îm,d\fm\f-­Ìì¥Ä\n",
      "íÌì\fÍ-®D\u000e¯\u000e\u000eä\n",
      "Shifted characters: \\BB\\Ý\u0018Ý\u0019ØWØ]\u0017Ý\u001cXÚÞ_\u0012\u0019[\u001b\u001bÈ\u0018[\u001dÙ[\u0018ÛÛYH\u001d\u001bÈ\u0019[\u0019LLH\u0019Ü[ÚXÈ\u0018Ú\u0018[\u001b\u0019[ÙK\u0015\u001a\u001a\\È\u001a\\È\u001a\\\u0019[\u001b\u0019\\\u001d\u0019^\u001d\u001bÈ\u001bXZÙH\u001a\u001b\u001bÛÙ\n",
      "Shifted characters: ¹\u0017\u0006\u000630¹º1º3=°¯±4º/º94±µ¼¾$2¶670·2\u0010;²¶1·¶²:734¶237¹2·9´±1´0¶62·3²\u0010*44¹4¹5:¹º\u001034¶62¹\u0010:2¼:\u0010:76°µ²4º\u001067·3²\n",
      "Shifted characters: r.\n",
      "\n",
      "fastctf{a_bit_tricky|Hello and welcome to file11 forensic challenge. This is just filler text to make it longe\n",
      "Shifted characters: ä\\\u001a\u0014\u001a\u0014ÌÂæèÆèÌöÂ¾ÄÒè¾èäÒÆÖòøÊØØÞ@ÂÜÈ@îÊØÆÞÚÊ@èÞ@ÌÒØÊbb@ÌÞäÊÜæÒÆ@ÆÐÂØØÊÜÎÊ\\@¨ÐÒæ@Òæ@Ôêæè@ÌÒØØÊä@èÊðè@èÞ@ÚÂÖÊ@Òè@ØÞÜÎÊ\n",
      "Shifted characters: È¸4(4)ÍÑÑí}¥Ñ}ÑÉ¥­åñ!±±¼¹Ý±½µÑ¼¥±ÄÄ½É¹Í¥¡±±¹¸Q¡¥Ì¥Ì©ÕÍÐ¥±±ÈÑáÐÑ¼µ­¥Ð±½¹\n",
      "Shifted characters: phPhS3\u000b£\u001b£3Û\n",
      "û\u0013K¢û£K\u001b[ËâC+ccy\u0003\u000bs!\u0003»+c\u001b{k)\u0003£y\u00033Kc)\u00033{+sK\u0019\u0003\u001bC\u000bcc+s;)q\u0002£CK\u0003K\u0003S«¡\u00033Kcc+\u0003£+Ã¡\u0003£y\u0003k\u000b[)\u0003K¡\u0003c{s;+\n",
      "Shifted characters: \"àÐ Ð¦f\u00177F7Fg¶\u0015ö&E÷G&6·ÄVÆÆò\u0006\u0016æB\u0007vVÆ6öÖR\u0007Fò\u0006fÆS\u0013\u0012\u0006f÷&Vç62\u00066\u0016ÆÆVævRâ\u0005F2\u00062\u0006§W7B\u0006fÆÆW\"\u0007FWB\u0007Fò\u0006Ö\u0016¶R\u0006B\u0006ÆöævW\n",
      "Shifted characters: EÁ¡A¡LÌ.nnÏl+ìM.îM,mo/\f­ä\f-Ì\u000eì­mí¬¤\u000eä\fÍ-¦&$\fÍîL­Îm,d\fm\f-­Ìì¥Ä\n",
      "íÌì®Í-®D\u000e¯\u000e\u000eä\n",
      "Shifted characters: BB\\Ý\u0018Ý\u0019ØWØ]\u0017Ý\u001cXÚÞ_\u0012\u0019[\u001b\u001bÈ\u0018[\u001dÙ[\u0018ÛÛYH\u001d\u001bÈ\u0019[\u0019LLH\u0019Ü[ÚXÈ\u0018Ú\u0018[\u001b\u0019[ÙK\u0015\u001a\u001a\\È\u001a\\È\u001a\\\u0019[\u001b\u0019\\\u001d\u0019^\u001d\u001bÈ\u001bXZÙH\u001a\u001b\u001bÛÙ\\\n",
      "Shifted characters: \u0017\u0006\u000630¹º1º3=°¯±4º/º94±µ¼¾$2¶670·2\u0010;²¶1·¶²:734¶237¹2·9´±1´0¶62·3²\u0010*44¹4¹5:¹º\u001034¶62¹\u0010:2¼:\u0010:76°µ²4º\u001067·3²¹\n",
      "Shifted characters: .\n",
      "\n",
      "fastctf{a_bit_tricky|Hello and welcome to file11 forensic challenge. This is just filler text to make it longer\n",
      "Shifted characters: \\\u001a\u0014\u001a\u0014ÌÂæèÆèÌöÂ¾ÄÒè¾èäÒÆÖòøÊØØÞ@ÂÜÈ@îÊØÆÞÚÊ@èÞ@ÌÒØÊbb@ÌÞäÊÜæÒÆ@ÆÐÂØØÊÜÎÊ\\@¨ÐÒæ@Òæ@Ôêæè@ÌÒØØÊä@èÊðè@èÞ@ÚÂÖÊ@Òè@ØÞÜÎÊä\n",
      "Shifted characters: ¸4(4)ÍÑÑí}¥Ñ}ÑÉ¥­åñ!±±¼¹Ý±½µÑ¼¥±ÄÄ½É¹Í¥¡±±¹¸Q¡¥Ì¥Ì©ÕÍÐ¥±±ÈÑáÐÑ¼µ­¥Ð±½¹È\n",
      "Shifted characters: phPhS3\u000b£\u001b£3Û\n",
      "û\u0013K¢û£K\u001b[ËâC+ccy\u0003\u000bs!\u0003»+c\u001b{k)\u0003£y\u00033Kc)\u00033{+sK\u0019\u0003\u001bC\u000bcc+s;)q\u0002£CK\u0003K\u0003S«¡\u00033Kcc+\u0003£+Ã¡\u0003£y\u0003k\u000b[)\u0003K¡\u0003c{s;+\n",
      "Shifted characters: àÐ Ð¦f\u00177F7Fg¶\u0015ö&E÷G&6·ÄVÆÆò\u0006\u0016æB\u0007vVÆ6öÖR\u0007Fò\u0006fÆS\u0013\u0012\u0006f÷&Vç62\u00066\u0016ÆÆVævRâ\u0005F2\u00062\u0006§W7B\u0006fÆÆW\"\u0007FWB\u0007Fò\u0006Ö\u0016¶R\u0006B\u0006ÆöævW\"\n",
      "Shifted characters: Á¡A¡LÌ.nnÏl+ìM.îM,mo/\f­ä\f-Ì\u000eì­mí¬¤\u000eä\fÍ-¦&$\fÍîL­Îm,d\fm\f-­Ìì¥Ä\n",
      "íÌì®E-®D\u000e¯\u000e\u000eä\n",
      "Shifted characters: BB\\Ý\u0018Ý\u0019ØWØ]\u0017Ý\u001cXÚÞ_\u0012\u0019[\u001b\u001bÈ\u0018[\u001dÙ[\u0018ÛÛYH\u001d\u001bÈ\u0019[\u0019LLH\u0019Ü[ÚXÈ\u0018Ú\u0018[\u001b\u0019[ÙK\u0015\u001a\u001a\\È\u001a\\È\u001a\\\u0019[\u001b\u0019\\\u001d\u0019^\u001d\u001bÈ\u001bXZÙH\u001a\u001b\u001bÛÙ\\\n",
      "Shifted characters: \u0006\u000630¹º1º3=°¯±4º/º94±µ¼¾$2¶670·2\u0010;²¶1·¶²:734¶237¹2·9´±1´0¶62·3²\u0010*44¹4¹5:¹º\u001034¶62¹\u0010:2¼:\u0010:76°µ²4º\u001067·3²¹\u0017\n",
      "Shifted characters: \n",
      "\n",
      "fastctf{a_bit_tricky|Hello and welcome to file11 forensic challenge. This is just filler text to make it longer.\n",
      "Shifted characters: \u001a\u0014\u001a\u0014ÌÂæèÆèÌöÂ¾ÄÒè¾èäÒÆÖòøÊØØÞ@ÂÜÈ@îÊØÆÞÚÊ@èÞ@ÌÒØÊbb@ÌÞäÊÜæÒÆ@ÆÐÂØØÊÜÎÊ\\@¨ÐÒæ@Òæ@Ôêæè@ÌÒØØÊä@èÊðè@èÞ@ÚÂÖÊ@Òè@ØÞÜÎÊä\\\n",
      "Shifted characters: 4(4)ÍÑÑí}¥Ñ}ÑÉ¥­åñ!±±¼¹Ý±½µÑ¼¥±ÄÄ½É¹Í¥¡±±¹¸Q¡¥Ì¥Ì©ÕÍÐ¥±±ÈÑáÐÑ¼µ­¥Ð±½¹È¸\n",
      "Shifted characters: hPhS3\u000b£\u001b£3Û\n",
      "û\u0013K¢û£K\u001b[ËâC+ccy\u0003\u000bs!\u0003»+c\u001b{k)\u0003£y\u00033Kc)\u00033{+sK\u0019\u0003\u001bC\u000bcc+s;)q\u0002£CK\u0003K\u0003S«¡\u00033Kcc+\u0003£+Ã¡\u0003£y\u0003k\u000b[)\u0003K¡\u0003c{s;+p\n",
      "Shifted characters: Ð Ð¦f\u00177F7Fg¶\u0015ö&E÷G&6·ÄVÆÆò\u0006\u0016æB\u0007vVÆ6öÖR\u0007Fò\u0006fÆS\u0013\u0012\u0006f÷&Vç62\u00066\u0016ÆÆVævRâ\u0005F2\u00062\u0006§W7B\u0006fÆÆW\"\u0007FWB\u0007Fò\u0006Ö\u0016¶R\u0006B\u0006ÆöævW\"à\n",
      "Shifted characters: ¡A¡LÌ.nnÏl+ìM.îM,mo/\f­ä\f-Ì\u000eì­mí¬¤\u000eä\fÍ-¦&$\fÍîL­Îm,d\fm\f-­Ìì¥Ä\n",
      "íÌì®EÁ®D\u000e¯\u000e\u000eä\n",
      "Shifted characters: BB\\Ý\u0018Ý\u0019ØWØ]\u0017Ý\u001cXÚÞ_\u0012\u0019[\u001b\u001bÈ\u0018[\u001dÙ[\u0018ÛÛYH\u001d\u001bÈ\u0019[\u0019LLH\u0019Ü[ÚXÈ\u0018Ú\u0018[\u001b\u0019[ÙK\u0015\u001a\u001a\\È\u001a\\È\u001a\\\u0019[\u001b\u0019\\\u001d\u0019^\u001d\u001bÈ\u001bXZÙH\u001a\u001b\u001bÛÙ\\\n",
      "Shifted characters: \u000630¹º1º3=°¯±4º/º94±µ¼¾$2¶670·2\u0010;²¶1·¶²:734¶237¹2·9´±1´0¶62·3²\u0010*44¹4¹5:¹º\u001034¶62¹\u0010:2¼:\u0010:76°µ²4º\u001067·3²¹\u0017\u0006\n",
      "Shifted characters: \n",
      "\n",
      "fastctf{a_bit_tricky|Hello and welcome to file11 forensic challenge. This is just filler text to make it longer.\n",
      "Shifted characters: \u0014\u001a\u0014ÌÂæèÆèÌöÂ¾ÄÒè¾èäÒÆÖòøÊØØÞ@ÂÜÈ@îÊØÆÞÚÊ@èÞ@ÌÒØÊbb@ÌÞäÊÜæÒÆ@ÆÐÂØØÊÜÎÊ\\@¨ÐÒæ@Òæ@Ôêæè@ÌÒØØÊä@èÊðè@èÞ@ÚÂÖÊ@Òè@ØÞÜÎÊä\\\u001a\n",
      "Shifted characters: (4)ÍÑÑí}¥Ñ}ÑÉ¥­åñ!±±¼¹Ý±½µÑ¼¥±ÄÄ½É¹Í¥¡±±¹¸Q¡¥Ì¥Ì©ÕÍÐ¥±±ÈÑáÐÑ¼µ­¥Ð±½¹È¸4\n",
      "Shifted characters: PhS3\u000b£\u001b£3Û\n",
      "û\u0013K¢û£K\u001b[ËâC+ccy\u0003\u000bs!\u0003»+c\u001b{k)\u0003£y\u00033Kc)\u00033{+sK\u0019\u0003\u001bC\u000bcc+s;)q\u0002£CK\u0003K\u0003S«¡\u00033Kcc+\u0003£+Ã¡\u0003£y\u0003k\u000b[)\u0003K¡\u0003c{s;+ph\n",
      "Shifted characters:  Ð¦f\u00177F7Fg¶\u0015ö&E÷G&6·ÄVÆÆò\u0006\u0016æB\u0007vVÆ6öÖR\u0007Fò\u0006fÆS\u0013\u0012\u0006f÷&Vç62\u00066\u0016ÆÆVævRâ\u0005F2\u00062\u0006§W7B\u0006fÆÆW\"\u0007FWB\u0007Fò\u0006Ö\u0016¶R\u0006B\u0006ÆöævW\"àÐ\n",
      "Shifted characters: A¡LÌ.nnÏl+ìM.îM,mo/\f­ä\f-Ì\u000eì­mí¬¤\u000eä\fÍ-¦&$\fÍîL­Îm,d\fm\f-­Ìì¥Ä\n",
      "íÌì®EÁ¡®D\u000e¯\u000e\u000eä\n",
      "Shifted characters: B\\Ý\u0018Ý\u0019ØWØ]\u0017Ý\u001cXÚÞ_\u0012\u0019[\u001b\u001bÈ\u0018[\u001dÙ[\u0018ÛÛYH\u001d\u001bÈ\u0019[\u0019LLH\u0019Ü[ÚXÈ\u0018Ú\u0018[\u001b\u0019[ÙK\u0015\u001a\u001a\\È\u001a\\È\u001a\\\u0019[\u001b\u0019\\\u001d\u0019^\u001d\u001bÈ\u001bXZÙH\u001a\u001b\u001bÛÙ\\B\n",
      "Shifted characters: \u000630¹º1º3=°¯±4º/º94±µ¼¾$2¶670·2\u0010;²¶1·¶²:734¶237¹2·9´±1´0¶62·3²\u0010*44¹4¹5:¹º\u001034¶62¹\u0010:2¼:\u0010:76°µ²4º\u001067·3²¹\u0017\u0006\n",
      "Shifted characters: \n",
      "fastctf{a_bit_tricky|Hello and welcome to file11 forensic challenge. This is just filler text to make it longer.\n",
      "\n",
      "Shifted characters: \u001a\u0014ÌÂæèÆèÌöÂ¾ÄÒè¾èäÒÆÖòøÊØØÞ@ÂÜÈ@îÊØÆÞÚÊ@èÞ@ÌÒØÊbb@ÌÞäÊÜæÒÆ@ÆÐÂØØÊÜÎÊ\\@¨ÐÒæ@Òæ@Ôêæè@ÌÒØØÊä@èÊðè@èÞ@ÚÂÖÊ@Òè@ØÞÜÎÊä\\\u001a\u0014\n",
      "Shifted characters: 4)ÍÑÑí}¥Ñ}ÑÉ¥­åñ!±±¼¹Ý±½µÑ¼¥±ÄÄ½É¹Í¥¡±±¹¸Q¡¥Ì¥Ì©ÕÍÐ¥±±ÈÑáÐÑ¼µ­¥Ð±½¹È¸4(\n",
      "Shifted characters: hS3\u000b£\u001b£3Û\n",
      "û\u0013K¢û£K\u001b[ËâC+ccy\u0003\u000bs!\u0003»+c\u001b{k)\u0003£y\u00033Kc)\u00033{+sK\u0019\u0003\u001bC\u000bcc+s;)q\u0002£CK\u0003K\u0003S«¡\u00033Kcc+\u0003£+Ã¡\u0003£y\u0003k\u000b[)\u0003K¡\u0003c{s;+phP\n",
      "Shifted characters: Ð¦f\u00177F7Fg¶\u0015ö&E÷G&6·ÄVÆÆò\u0006\u0016æB\u0007vVÆ6öÖR\u0007Fò\u0006fÆS\u0013\u0012\u0006f÷&Vç62\u00066\u0016ÆÆVævRâ\u0005F2\u00062\u0006§W7B\u0006fÆÆW\"\u0007FWB\u0007Fò\u0006Ö\u0016¶R\u0006B\u0006ÆöævW\"àÐ \n",
      "Shifted characters: ¡LÌ.nnÏl+ìM.îM,mo/\f­ä\f-Ì\u000eì­mí¬¤\u000eä\fÍ-¦&$\fÍîL­Îm,d\fm\f-­Ìì¥Ä\n",
      "íÌì®EÁ¡A®D\u000e¯\u000e\u000eä\n",
      "Shifted characters: B\\Ý\u0018Ý\u0019ØWØ]\u0017Ý\u001cXÚÞ_\u0012\u0019[\u001b\u001bÈ\u0018[\u001dÙ[\u0018ÛÛYH\u001d\u001bÈ\u0019[\u0019LLH\u0019Ü[ÚXÈ\u0018Ú\u0018[\u001b\u0019[ÙK\u0015\u001a\u001a\\È\u001a\\È\u001a\\\u0019[\u001b\u0019\\\u001d\u0019^\u001d\u001bÈ\u001bXZÙH\u001a\u001b\u001bÛÙ\\B\n",
      "Shifted characters: 30¹º1º3=°¯±4º/º94±µ¼¾$2¶670·2\u0010;²¶1·¶²:734¶237¹2·9´±1´0¶62·3²\u0010*44¹4¹5:¹º\u001034¶62¹\u0010:2¼:\u0010:76°µ²4º\u001067·3²¹\u0017\u0006\u0006\n",
      "Shifted characters: \n",
      "fastctf{a_bit_tricky|Hello and welcome to file11 forensic challenge. This is just filler text to make it longer.\n",
      "\n",
      "Shifted characters: \u0014ÌÂæèÆèÌöÂ¾ÄÒè¾èäÒÆÖòøÊØØÞ@ÂÜÈ@îÊØÆÞÚÊ@èÞ@ÌÒØÊbb@ÌÞäÊÜæÒÆ@ÆÐÂØØÊÜÎÊ\\@¨ÐÒæ@Òæ@Ôêæè@ÌÒØØÊä@èÊðè@èÞ@ÚÂÖÊ@Òè@ØÞÜÎÊä\\\u001a\u0014\u001a\n",
      "Shifted characters: )ÍÑÑí}¥Ñ}ÑÉ¥­åñ!±±¼¹Ý±½µÑ¼¥±ÄÄ½É¹Í¥¡±±¹¸Q¡¥Ì¥Ì©ÕÍÐ¥±±ÈÑáÐÑ¼µ­¥Ð±½¹È¸4(4\n",
      "Shifted characters: S3\u000b£\u001b£3Û\n",
      "û\u0013K¢û£K\u001b[ËâC+ccy\u0003\u000bs!\u0003»+c\u001b{k)\u0003£y\u00033Kc)\u00033{+sK\u0019\u0003\u001bC\u000bcc+s;)q\u0002£CK\u0003K\u0003S«¡\u00033Kcc+\u0003£+Ã¡\u0003£y\u0003k\u000b[)\u0003K¡\u0003c{s;+phPh\n",
      "Shifted characters: ¦f\u00177F7Fg¶\u0015ö&E÷G&6·ÄVÆÆò\u0006\u0016æB\u0007vVÆ6öÖR\u0007Fò\u0006fÆS\u0013\u0012\u0006f÷&Vç62\u00066\u0016ÆÆVævRâ\u0005F2\u00062\u0006§W7B\u0006fÆÆW\"\u0007FWB\u0007Fò\u0006Ö\u0016¶R\u0006B\u0006ÆöævW\"àÐ Ð\n",
      "Shifted characters: LÌ.nnÏl+ìM.îM,mo/\f­ä\f-Ì\u000eì­mí¬¤\u000eä\fÍ-¦&$\fÍîL­Îm,d\fm\f-­Ìì¥Ä\n",
      "íÌì®EÁ¡A¡D\u000e¯\u000e\u000eä\n",
      "Shifted characters: \\Ý\u0018Ý\u0019ØWØ]\u0017Ý\u001cXÚÞ_\u0012\u0019[\u001b\u001bÈ\u0018[\u001dÙ[\u0018ÛÛYH\u001d\u001bÈ\u0019[\u0019LLH\u0019Ü[ÚXÈ\u0018Ú\u0018[\u001b\u0019[ÙK\u0015\u001a\u001a\\È\u001a\\È\u001a\\\u0019[\u001b\u0019\\\u001d\u0019^\u001d\u001bÈ\u001bXZÙH\u001a\u001b\u001bÛÙ\\BB\n",
      "Shifted characters: 30¹º1º3=°¯±4º/º94±µ¼¾$2¶670·2\u0010;²¶1·¶²:734¶237¹2·9´±1´0¶62·3²\u0010*44¹4¹5:¹º\u001034¶62¹\u0010:2¼:\u0010:76°µ²4º\u001067·3²¹\u0017\u0006\u0006\n",
      "Shifted characters: fastctf{a_bit_tricky|Hello and welcome to file11 forensic challenge. This is just filler text to make it longer.\n",
      "\n",
      "\n",
      "Shifted characters: ÌÂæèÆèÌöÂ¾ÄÒè¾èäÒÆÖòøÊØØÞ@ÂÜÈ@îÊØÆÞÚÊ@èÞ@ÌÒØÊbb@ÌÞäÊÜæÒÆ@ÆÐÂØØÊÜÎÊ\\@¨ÐÒæ@Òæ@Ôêæè@ÌÒØØÊä@èÊðè@èÞ@ÚÂÖÊ@Òè@ØÞÜÎÊä\\\u001a\u0014\u001a\u0014\n",
      "Shifted characters: ÍÑÑí}¥Ñ}ÑÉ¥­åñ!±±¼¹Ý±½µÑ¼¥±ÄÄ½É¹Í¥¡±±¹¸Q¡¥Ì¥Ì©ÕÍÐ¥±±ÈÑáÐÑ¼µ­¥Ð±½¹È¸4(4)\n",
      "Shifted characters: 3\u000b£\u001b£3Û\n",
      "û\u0013K¢û£K\u001b[ËâC+ccy\u0003\u000bs!\u0003»+c\u001b{k)\u0003£y\u00033Kc)\u00033{+sK\u0019\u0003\u001bC\u000bcc+s;)q\u0002£CK\u0003K\u0003S«¡\u00033Kcc+\u0003£+Ã¡\u0003£y\u0003k\u000b[)\u0003K¡\u0003c{s;+phPhS\n",
      "Shifted characters: f\u00177F7Fg¶\u0015ö&E÷G&6·ÄVÆÆò\u0006\u0016æB\u0007vVÆ6öÖR\u0007Fò\u0006fÆS\u0013\u0012\u0006f÷&Vç62\u00066\u0016ÆÆVævRâ\u0005F2\u00062\u0006§W7B\u0006fÆÆW\"\u0007FWB\u0007Fò\u0006Ö\u0016¶R\u0006B\u0006ÆöævW\"àÐ Ð¦\n",
      "Shifted characters: Ì.nnÏl+ìM.îM,mo/\f­ä\f-Ì\u000eì­mí¬¤\u000eä\fÍ-¦&$\fÍîL­Îm,d\fm\f-­Ìì¥Ä\n",
      "íÌì®EÁ¡A¡L\u000e¯\u000e\u000eä\n",
      "Shifted characters: \\Ý\u0018Ý\u0019ØWØ]\u0017Ý\u001cXÚÞ_\u0012\u0019[\u001b\u001bÈ\u0018[\u001dÙ[\u0018ÛÛYH\u001d\u001bÈ\u0019[\u0019LLH\u0019Ü[ÚXÈ\u0018Ú\u0018[\u001b\u0019[ÙK\u0015\u001a\u001a\\È\u001a\\È\u001a\\\u0019[\u001b\u0019\\\u001d\u0019^\u001d\u001bÈ\u001bXZÙH\u001a\u001b\u001bÛÙ\\BB\n",
      "Shifted characters: 0¹º1º3=°¯±4º/º94±µ¼¾$2¶670·2\u0010;²¶1·¶²:734¶237¹2·9´±1´0¶62·3²\u0010*44¹4¹5:¹º\u001034¶62¹\u0010:2¼:\u0010:76°µ²4º\u001067·3²¹\u0017\u0006\u00063\n",
      "Shifted characters: astctf{a_bit_tricky|Hello and welcome to file11 forensic challenge. This is just filler text to make it longer.\n",
      "\n",
      "f\n",
      "Shifted characters: ÂæèÆèÌöÂ¾ÄÒè¾èäÒÆÖòøÊØØÞ@ÂÜÈ@îÊØÆÞÚÊ@èÞ@ÌÒØÊbb@ÌÞäÊÜæÒÆ@ÆÐÂØØÊÜÎÊ\\@¨ÐÒæ@Òæ@Ôêæè@ÌÒØØÊä@èÊðè@èÞ@ÚÂÖÊ@Òè@ØÞÜÎÊä\\\u001a\u0014\u001a\u0014Ì\n",
      "Shifted characters: ÍÑÑí}¥Ñ}ÑÉ¥­åñ!±±¼¹Ý±½µÑ¼¥±ÄÄ½É¹Í¥¡±±¹¸Q¡¥Ì¥Ì©ÕÍÐ¥±±ÈÑáÐÑ¼µ­¥Ð±½¹È¸4(4)\n",
      "Shifted characters: \u000b£\u001b£3Û\n",
      "û\u0013K¢û£K\u001b[ËâC+ccy\u0003\u000bs!\u0003»+c\u001b{k)\u0003£y\u00033Kc)\u00033{+sK\u0019\u0003\u001bC\u000bcc+s;)q\u0002£CK\u0003K\u0003S«¡\u00033Kcc+\u0003£+Ã¡\u0003£y\u0003k\u000b[)\u0003K¡\u0003c{s;+phPhS3\n",
      "Shifted characters: \u00177F7Fg¶\u0015ö&E÷G&6·ÄVÆÆò\u0006\u0016æB\u0007vVÆ6öÖR\u0007Fò\u0006fÆS\u0013\u0012\u0006f÷&Vç62\u00066\u0016ÆÆVævRâ\u0005F2\u00062\u0006§W7B\u0006fÆÆW\"\u0007FWB\u0007Fò\u0006Ö\u0016¶R\u0006B\u0006ÆöævW\"àÐ Ð¦f\n",
      "Shifted characters: .nnÏl+ìM.îM,mo/\f­ä\f-Ì\u000eì­mí¬¤\u000eä\fÍ-¦&$\fÍîL­Îm,d\fm\f-­Ìì¥Ä\n",
      "íÌì®EÁ¡A¡LÌ¯\u000e\u000eä\n",
      "Shifted characters: \\Ý\u0018Ý\u0019ØWØ]\u0017Ý\u001cXÚÞ_\u0012\u0019[\u001b\u001bÈ\u0018[\u001dÙ[\u0018ÛÛYH\u001d\u001bÈ\u0019[\u0019LLH\u0019Ü[ÚXÈ\u0018Ú\u0018[\u001b\u0019[ÙK\u0015\u001a\u001a\\È\u001a\\È\u001a\\\u0019[\u001b\u0019\\\u001d\u0019^\u001d\u001bÈ\u001bXZÙH\u001a\u001b\u001bÛÙ\\BB\n",
      "Shifted characters: ¹º1º3=°¯±4º/º94±µ¼¾$2¶670·2\u0010;²¶1·¶²:734¶237¹2·9´±1´0¶62·3²\u0010*44¹4¹5:¹º\u001034¶62¹\u0010:2¼:\u0010:76°µ²4º\u001067·3²¹\u0017\u0006\u000630\n",
      "Shifted characters: stctf{a_bit_tricky|Hello and welcome to file11 forensic challenge. This is just filler text to make it longer.\n",
      "\n",
      "fa\n",
      "Shifted characters: æèÆèÌöÂ¾ÄÒè¾èäÒÆÖòøÊØØÞ@ÂÜÈ@îÊØÆÞÚÊ@èÞ@ÌÒØÊbb@ÌÞäÊÜæÒÆ@ÆÐÂØØÊÜÎÊ\\@¨ÐÒæ@Òæ@Ôêæè@ÌÒØØÊä@èÊðè@èÞ@ÚÂÖÊ@Òè@ØÞÜÎÊä\\\u001a\u0014\u001a\u0014ÌÂ\n",
      "Shifted characters: ÍÑÑí}¥Ñ}ÑÉ¥­åñ!±±¼¹Ý±½µÑ¼¥±ÄÄ½É¹Í¥¡±±¹¸Q¡¥Ì¥Ì©ÕÍÐ¥±±ÈÑáÐÑ¼µ­¥Ð±½¹È¸4(4)\n",
      "Shifted characters: £\u001b£3Û\n",
      "û\u0013K¢û£K\u001b[ËâC+ccy\u0003\u000bs!\u0003»+c\u001b{k)\u0003£y\u00033Kc)\u00033{+sK\u0019\u0003\u001bC\u000bcc+s;)q\u0002£CK\u0003K\u0003S«¡\u00033Kcc+\u0003£+Ã¡\u0003£y\u0003k\u000b[)\u0003K¡\u0003c{s;+phPhS3\u000b\n",
      "Shifted characters: 7F7Fg¶\u0015ö&E÷G&6·ÄVÆÆò\u0006\u0016æB\u0007vVÆ6öÖR\u0007Fò\u0006fÆS\u0013\u0012\u0006f÷&Vç62\u00066\u0016ÆÆVævRâ\u0005F2\u00062\u0006§W7B\u0006fÆÆW\"\u0007FWB\u0007Fò\u0006Ö\u0016¶R\u0006B\u0006ÆöævW\"àÐ Ð¦f\u0017\n",
      "Shifted characters: nnÏl+ìM.îM,mo/\f­ä\f-Ì\u000eì­mí¬¤\u000eä\fÍ-¦&$\fÍîL­Îm,d\fm\f-­Ìì¥Ä\n",
      "íÌì®EÁ¡A¡LÌ.¯\u000e\u000eä\n",
      "Shifted characters: Ý\u0018Ý\u0019ØWØ]\u0017Ý\u001cXÚÞ_\u0012\u0019[\u001b\u001bÈ\u0018[\u001dÙ[\u0018ÛÛYH\u001d\u001bÈ\u0019[\u0019LLH\u0019Ü[ÚXÈ\u0018Ú\u0018[\u001b\u0019[ÙK\u0015\u001a\u001a\\È\u001a\\È\u001a\\\u0019[\u001b\u0019\\\u001d\u0019^\u001d\u001bÈ\u001bXZÙH\u001a\u001b\u001bÛÙ\\BB\\\n",
      "Shifted characters: º1º3=°¯±4º/º94±µ¼¾$2¶670·2\u0010;²¶1·¶²:734¶237¹2·9´±1´0¶62·3²\u0010*44¹4¹5:¹º\u001034¶62¹\u0010:2¼:\u0010:76°µ²4º\u001067·3²¹\u0017\u0006\u000630¹\n",
      "Shifted characters: tctf{a_bit_tricky|Hello and welcome to file11 forensic challenge. This is just filler text to make it longer.\n",
      "\n",
      "fas\n",
      "Shifted characters: èÆèÌöÂ¾ÄÒè¾èäÒÆÖòøÊØØÞ@ÂÜÈ@îÊØÆÞÚÊ@èÞ@ÌÒØÊbb@ÌÞäÊÜæÒÆ@ÆÐÂØØÊÜÎÊ\\@¨ÐÒæ@Òæ@Ôêæè@ÌÒØØÊä@èÊðè@èÞ@ÚÂÖÊ@Òè@ØÞÜÎÊä\\\u001a\u0014\u001a\u0014ÌÂæ\n",
      "Shifted characters: ÑÑí}¥Ñ}ÑÉ¥­åñ!±±¼¹Ý±½µÑ¼¥±ÄÄ½É¹Í¥¡±±¹¸Q¡¥Ì¥Ì©ÕÍÐ¥±±ÈÑáÐÑ¼µ­¥Ð±½¹È¸4(4)Í\n",
      "Shifted characters: £\u001b£3Û\n",
      "û\u0013K¢û£K\u001b[ËâC+ccy\u0003\u000bs!\u0003»+c\u001b{k)\u0003£y\u00033Kc)\u00033{+sK\u0019\u0003\u001bC\u000bcc+s;)q\u0002£CK\u0003K\u0003S«¡\u00033Kcc+\u0003£+Ã¡\u0003£y\u0003k\u000b[)\u0003K¡\u0003c{s;+phPhS3\u000b\n",
      "Shifted characters: F7Fg¶\u0015ö&E÷G&6·ÄVÆÆò\u0006\u0016æB\u0007vVÆ6öÖR\u0007Fò\u0006fÆS\u0013\u0012\u0006f÷&Vç62\u00066\u0016ÆÆVævRâ\u0005F2\u00062\u0006§W7B\u0006fÆÆW\"\u0007FWB\u0007Fò\u0006Ö\u0016¶R\u0006B\u0006ÆöævW\"àÐ Ð¦f\u00177\n",
      "Shifted characters: nÏl+ìM.îM,mo/\f­ä\f-Ì\u000eì­mí¬¤\u000eä\fÍ-¦&$\fÍîL­Îm,d\fm\f-­Ìì¥Ä\n",
      "íÌì®EÁ¡A¡LÌ.n\u000e\u000eä\n",
      "Shifted characters: \u0018Ý\u0019ØWØ]\u0017Ý\u001cXÚÞ_\u0012\u0019[\u001b\u001bÈ\u0018[\u001dÙ[\u0018ÛÛYH\u001d\u001bÈ\u0019[\u0019LLH\u0019Ü[ÚXÈ\u0018Ú\u0018[\u001b\u0019[ÙK\u0015\u001a\u001a\\È\u001a\\È\u001a\\\u0019[\u001b\u0019\\\u001d\u0019^\u001d\u001bÈ\u001bXZÙH\u001a\u001b\u001bÛÙ\\BB\\Ý\n",
      "Shifted characters: 1º3=°¯±4º/º94±µ¼¾$2¶670·2\u0010;²¶1·¶²:734¶237¹2·9´±1´0¶62·3²\u0010*44¹4¹5:¹º\u001034¶62¹\u0010:2¼:\u0010:76°µ²4º\u001067·3²¹\u0017\u0006\u000630¹º\n",
      "Shifted characters: ctf{a_bit_tricky|Hello and welcome to file11 forensic challenge. This is just filler text to make it longer.\n",
      "\n",
      "fast\n",
      "Shifted characters: ÆèÌöÂ¾ÄÒè¾èäÒÆÖòøÊØØÞ@ÂÜÈ@îÊØÆÞÚÊ@èÞ@ÌÒØÊbb@ÌÞäÊÜæÒÆ@ÆÐÂØØÊÜÎÊ\\@¨ÐÒæ@Òæ@Ôêæè@ÌÒØØÊä@èÊðè@èÞ@ÚÂÖÊ@Òè@ØÞÜÎÊä\\\u001a\u0014\u001a\u0014ÌÂæè\n",
      "Shifted characters: Ñí}¥Ñ}ÑÉ¥­åñ!±±¼¹Ý±½µÑ¼¥±ÄÄ½É¹Í¥¡±±¹¸Q¡¥Ì¥Ì©ÕÍÐ¥±±ÈÑáÐÑ¼µ­¥Ð±½¹È¸4(4)ÍÑ\n",
      "Shifted characters: \u001b£3Û\n",
      "û\u0013K¢û£K\u001b[ËâC+ccy\u0003\u000bs!\u0003»+c\u001b{k)\u0003£y\u00033Kc)\u00033{+sK\u0019\u0003\u001bC\u000bcc+s;)q\u0002£CK\u0003K\u0003S«¡\u00033Kcc+\u0003£+Ã¡\u0003£y\u0003k\u000b[)\u0003K¡\u0003c{s;+phPhS3\u000b£\n",
      "Shifted characters: 7Fg¶\u0015ö&E÷G&6·ÄVÆÆò\u0006\u0016æB\u0007vVÆ6öÖR\u0007Fò\u0006fÆS\u0013\u0012\u0006f÷&Vç62\u00066\u0016ÆÆVævRâ\u0005F2\u00062\u0006§W7B\u0006fÆÆW\"\u0007FWB\u0007Fò\u0006Ö\u0016¶R\u0006B\u0006ÆöævW\"àÐ Ð¦f\u00177F\n",
      "Shifted characters: nÏl+ìM.îM,mo/\f­ä\f-Ì\u000eì­mí¬¤\u000eä\fÍ-¦&$\fÍîL­Îm,d\fm\f-­Ìì¥Ä\n",
      "íÌì®EÁ¡A¡LÌ.n\u000eä\n",
      "Shifted characters: Ý\u0019ØWØ]\u0017Ý\u001cXÚÞ_\u0012\u0019[\u001b\u001bÈ\u0018[\u001dÙ[\u0018ÛÛYH\u001d\u001bÈ\u0019[\u0019LLH\u0019Ü[ÚXÈ\u0018Ú\u0018[\u001b\u0019[ÙK\u0015\u001a\u001a\\È\u001a\\È\u001a\\\u0019[\u001b\u0019\\\u001d\u0019^\u001d\u001bÈ\u001bXZÙH\u001a\u001b\u001bÛÙ\\BB\\Ý\u0018\n",
      "Shifted characters: º3=°¯±4º/º94±µ¼¾$2¶670·2\u0010;²¶1·¶²:734¶237¹2·9´±1´0¶62·3²\u0010*44¹4¹5:¹º\u001034¶62¹\u0010:2¼:\u0010:76°µ²4º\u001067·3²¹\u0017\u0006\u000630¹º1\n",
      "Shifted characters: tf{a_bit_tricky|Hello and welcome to file11 forensic challenge. This is just filler text to make it longer.\n",
      "\n",
      "fastc\n",
      "Shifted characters: èÌöÂ¾ÄÒè¾èäÒÆÖòøÊØØÞ@ÂÜÈ@îÊØÆÞÚÊ@èÞ@ÌÒØÊbb@ÌÞäÊÜæÒÆ@ÆÐÂØØÊÜÎÊ\\@¨ÐÒæ@Òæ@Ôêæè@ÌÒØØÊä@èÊðè@èÞ@ÚÂÖÊ@Òè@ØÞÜÎÊä\\\u001a\u0014\u001a\u0014ÌÂæèÆ\n",
      "Shifted characters: Ñí}¥Ñ}ÑÉ¥­åñ!±±¼¹Ý±½µÑ¼¥±ÄÄ½É¹Í¥¡±±¹¸Q¡¥Ì¥Ì©ÕÍÐ¥±±ÈÑáÐÑ¼µ­¥Ð±½¹È¸4(4)ÍÑ\n",
      "Shifted characters: £3Û\n",
      "û\u0013K¢û£K\u001b[ËâC+ccy\u0003\u000bs!\u0003»+c\u001b{k)\u0003£y\u00033Kc)\u00033{+sK\u0019\u0003\u001bC\u000bcc+s;)q\u0002£CK\u0003K\u0003S«¡\u00033Kcc+\u0003£+Ã¡\u0003£y\u0003k\u000b[)\u0003K¡\u0003c{s;+phPhS3\u000b£\u001b\n",
      "Shifted characters: Fg¶\u0015ö&E÷G&6·ÄVÆÆò\u0006\u0016æB\u0007vVÆ6öÖR\u0007Fò\u0006fÆS\u0013\u0012\u0006f÷&Vç62\u00066\u0016ÆÆVævRâ\u0005F2\u00062\u0006§W7B\u0006fÆÆW\"\u0007FWB\u0007Fò\u0006Ö\u0016¶R\u0006B\u0006ÆöævW\"àÐ Ð¦f\u00177F7\n",
      "Shifted characters: Ïl+ìM.îM,mo/\f­ä\f-Ì\u000eì­mí¬¤\u000eä\fÍ-¦&$\fÍîL­Îm,d\fm\f-­Ìì¥Ä\n",
      "íÌì®EÁ¡A¡LÌ.nn\u000eä\n",
      "Shifted characters: \u0019ØWØ]\u0017Ý\u001cXÚÞ_\u0012\u0019[\u001b\u001bÈ\u0018[\u001dÙ[\u0018ÛÛYH\u001d\u001bÈ\u0019[\u0019LLH\u0019Ü[ÚXÈ\u0018Ú\u0018[\u001b\u0019[ÙK\u0015\u001a\u001a\\È\u001a\\È\u001a\\\u0019[\u001b\u0019\\\u001d\u0019^\u001d\u001bÈ\u001bXZÙH\u001a\u001b\u001bÛÙ\\BB\\Ý\u0018Ý\n",
      "Shifted characters: 3=°¯±4º/º94±µ¼¾$2¶670·2\u0010;²¶1·¶²:734¶237¹2·9´±1´0¶62·3²\u0010*44¹4¹5:¹º\u001034¶62¹\u0010:2¼:\u0010:76°µ²4º\u001067·3²¹\u0017\u0006\u000630¹º1º\n",
      "Shifted characters: f{a_bit_tricky|Hello and welcome to file11 forensic challenge. This is just filler text to make it longer.\n",
      "\n",
      "fastct\n",
      "Shifted characters: ÌöÂ¾ÄÒè¾èäÒÆÖòøÊØØÞ@ÂÜÈ@îÊØÆÞÚÊ@èÞ@ÌÒØÊbb@ÌÞäÊÜæÒÆ@ÆÐÂØØÊÜÎÊ\\@¨ÐÒæ@Òæ@Ôêæè@ÌÒØØÊä@èÊðè@èÞ@ÚÂÖÊ@Òè@ØÞÜÎÊä\\\u001a\u0014\u001a\u0014ÌÂæèÆè\n",
      "Shifted characters: í}¥Ñ}ÑÉ¥­åñ!±±¼¹Ý±½µÑ¼¥±ÄÄ½É¹Í¥¡±±¹¸Q¡¥Ì¥Ì©ÕÍÐ¥±±ÈÑáÐÑ¼µ­¥Ð±½¹È¸4(4)ÍÑÑ\n",
      "Shifted characters: 3Û\n",
      "û\u0013K¢û£K\u001b[ËâC+ccy\u0003\u000bs!\u0003»+c\u001b{k)\u0003£y\u00033Kc)\u00033{+sK\u0019\u0003\u001bC\u000bcc+s;)q\u0002£CK\u0003K\u0003S«¡\u00033Kcc+\u0003£+Ã¡\u0003£y\u0003k\u000b[)\u0003K¡\u0003c{s;+phPhS3\u000b£\u001b£\n",
      "Shifted characters: g¶\u0015ö&E÷G&6·ÄVÆÆò\u0006\u0016æB\u0007vVÆ6öÖR\u0007Fò\u0006fÆS\u0013\u0012\u0006f÷&Vç62\u00066\u0016ÆÆVævRâ\u0005F2\u00062\u0006§W7B\u0006fÆÆW\"\u0007FWB\u0007Fò\u0006Ö\u0016¶R\u0006B\u0006ÆöævW\"àÐ Ð¦f\u00177F7F\n",
      "Shifted characters: Ïl+ìM.îM,mo/\f­ä\f-Ì\u000eì­mí¬¤\u000eä\fÍ-¦&$\fÍîL­Îm,d\fm\f-­Ìì¥Ä\n",
      "íÌì®EÁ¡A¡LÌ.nnä\n",
      "Shifted characters: ØWØ]\u0017Ý\u001cXÚÞ_\u0012\u0019[\u001b\u001bÈ\u0018[\u001dÙ[\u0018ÛÛYH\u001d\u001bÈ\u0019[\u0019LLH\u0019Ü[ÚXÈ\u0018Ú\u0018[\u001b\u0019[ÙK\u0015\u001a\u001a\\È\u001a\\È\u001a\\\u0019[\u001b\u0019\\\u001d\u0019^\u001d\u001bÈ\u001bXZÙH\u001a\u001b\u001bÛÙ\\BB\\Ý\u0018Ý\u0019\n",
      "Shifted characters: =°¯±4º/º94±µ¼¾$2¶670·2\u0010;²¶1·¶²:734¶237¹2·9´±1´0¶62·3²\u0010*44¹4¹5:¹º\u001034¶62¹\u0010:2¼:\u0010:76°µ²4º\u001067·3²¹\u0017\u0006\u000630¹º1º3\n",
      "Shifted characters: {a_bit_tricky|Hello and welcome to file11 forensic challenge. This is just filler text to make it longer.\n",
      "\n",
      "fastctf\n",
      "Shifted characters: öÂ¾ÄÒè¾èäÒÆÖòøÊØØÞ@ÂÜÈ@îÊØÆÞÚÊ@èÞ@ÌÒØÊbb@ÌÞäÊÜæÒÆ@ÆÐÂØØÊÜÎÊ\\@¨ÐÒæ@Òæ@Ôêæè@ÌÒØØÊä@èÊðè@èÞ@ÚÂÖÊ@Òè@ØÞÜÎÊä\\\u001a\u0014\u001a\u0014ÌÂæèÆèÌ\n",
      "Shifted characters: í}¥Ñ}ÑÉ¥­åñ!±±¼¹Ý±½µÑ¼¥±ÄÄ½É¹Í¥¡±±¹¸Q¡¥Ì¥Ì©ÕÍÐ¥±±ÈÑáÐÑ¼µ­¥Ð±½¹È¸4(4)ÍÑÑ\n",
      "Shifted characters: Û\n",
      "û\u0013K¢û£K\u001b[ËâC+ccy\u0003\u000bs!\u0003»+c\u001b{k)\u0003£y\u00033Kc)\u00033{+sK\u0019\u0003\u001bC\u000bcc+s;)q\u0002£CK\u0003K\u0003S«¡\u00033Kcc+\u0003£+Ã¡\u0003£y\u0003k\u000b[)\u0003K¡\u0003c{s;+phPhS3\u000b£\u001b£3\n",
      "Shifted characters: ¶\u0015ö&E÷G&6·ÄVÆÆò\u0006\u0016æB\u0007vVÆ6öÖR\u0007Fò\u0006fÆS\u0013\u0012\u0006f÷&Vç62\u00066\u0016ÆÆVævRâ\u0005F2\u00062\u0006§W7B\u0006fÆÆW\"\u0007FWB\u0007Fò\u0006Ö\u0016¶R\u0006B\u0006ÆöævW\"àÐ Ð¦f\u00177F7Fg\n",
      "Shifted characters: l+ìM.îM,mo/\f­ä\f-Ì\u000eì­mí¬¤\u000eä\fÍ-¦&$\fÍîL­Îm,d\fm\f-­Ìì¥Ä\n",
      "íÌì®EÁ¡A¡LÌ.nnÏä\n",
      "Shifted characters: ØWØ]\u0017Ý\u001cXÚÞ_\u0012\u0019[\u001b\u001bÈ\u0018[\u001dÙ[\u0018ÛÛYH\u001d\u001bÈ\u0019[\u0019LLH\u0019Ü[ÚXÈ\u0018Ú\u0018[\u001b\u0019[ÙK\u0015\u001a\u001a\\È\u001a\\È\u001a\\\u0019[\u001b\u0019\\\u001d\u0019^\u001d\u001bÈ\u001bXZÙH\u001a\u001b\u001bÛÙ\\BB\\Ý\u0018Ý\u0019\n",
      "Shifted characters: °¯±4º/º94±µ¼¾$2¶670·2\u0010;²¶1·¶²:734¶237¹2·9´±1´0¶62·3²\u0010*44¹4¹5:¹º\u001034¶62¹\u0010:2¼:\u0010:76°µ²4º\u001067·3²¹\u0017\u0006\u000630¹º1º3=\n",
      "Shifted characters: a_bit_tricky|Hello and welcome to file11 forensic challenge. This is just filler text to make it longer.\n",
      "\n",
      "fastctf{\n",
      "Shifted characters: Â¾ÄÒè¾èäÒÆÖòøÊØØÞ@ÂÜÈ@îÊØÆÞÚÊ@èÞ@ÌÒØÊbb@ÌÞäÊÜæÒÆ@ÆÐÂØØÊÜÎÊ\\@¨ÐÒæ@Òæ@Ôêæè@ÌÒØØÊä@èÊðè@èÞ@ÚÂÖÊ@Òè@ØÞÜÎÊä\\\u001a\u0014\u001a\u0014ÌÂæèÆèÌö\n",
      "Shifted characters: }¥Ñ}ÑÉ¥­åñ!±±¼¹Ý±½µÑ¼¥±ÄÄ½É¹Í¥¡±±¹¸Q¡¥Ì¥Ì©ÕÍÐ¥±±ÈÑáÐÑ¼µ­¥Ð±½¹È¸4(4)ÍÑÑí\n",
      "Shifted characters: \n",
      "û\u0013K¢û£K\u001b[ËâC+ccy\u0003\u000bs!\u0003»+c\u001b{k)\u0003£y\u00033Kc)\u00033{+sK\u0019\u0003\u001bC\u000bcc+s;)q\u0002£CK\u0003K\u0003S«¡\u00033Kcc+\u0003£+Ã¡\u0003£y\u0003k\u000b[)\u0003K¡\u0003c{s;+phPhS3\u000b£\u001b£3Û\n",
      "Shifted characters: \u0015ö&E÷G&6·ÄVÆÆò\u0006\u0016æB\u0007vVÆ6öÖR\u0007Fò\u0006fÆS\u0013\u0012\u0006f÷&Vç62\u00066\u0016ÆÆVævRâ\u0005F2\u00062\u0006§W7B\u0006fÆÆW\"\u0007FWB\u0007Fò\u0006Ö\u0016¶R\u0006B\u0006ÆöævW\"àÐ Ð¦f\u00177F7Fg¶\n",
      "Shifted characters: +ìM.îM,mo/\f­ä\f-Ì\u000eì­mí¬¤\u000eä\fÍ-¦&$\fÍîL­Îm,d\fm\f-­Ìì¥Ä\n",
      "íÌì®EÁ¡A¡LÌ.nnÏl\n",
      "Shifted characters: WØ]\u0017Ý\u001cXÚÞ_\u0012\u0019[\u001b\u001bÈ\u0018[\u001dÙ[\u0018ÛÛYH\u001d\u001bÈ\u0019[\u0019LLH\u0019Ü[ÚXÈ\u0018Ú\u0018[\u001b\u0019[ÙK\u0015\u001a\u001a\\È\u001a\\È\u001a\\\u0019[\u001b\u0019\\\u001d\u0019^\u001d\u001bÈ\u001bXZÙH\u001a\u001b\u001bÛÙ\\BB\\Ý\u0018Ý\u0019Ø\n",
      "Shifted characters: ¯±4º/º94±µ¼¾$2¶670·2\u0010;²¶1·¶²:734¶237¹2·9´±1´0¶62·3²\u0010*44¹4¹5:¹º\u001034¶62¹\u0010:2¼:\u0010:76°µ²4º\u001067·3²¹\u0017\u0006\u000630¹º1º3=°\n",
      "Shifted characters: _bit_tricky|Hello and welcome to file11 forensic challenge. This is just filler text to make it longer.\n",
      "\n",
      "fastctf{a\n",
      "Shifted characters: ¾ÄÒè¾èäÒÆÖòøÊØØÞ@ÂÜÈ@îÊØÆÞÚÊ@èÞ@ÌÒØÊbb@ÌÞäÊÜæÒÆ@ÆÐÂØØÊÜÎÊ\\@¨ÐÒæ@Òæ@Ôêæè@ÌÒØØÊä@èÊðè@èÞ@ÚÂÖÊ@Òè@ØÞÜÎÊä\\\u001a\u0014\u001a\u0014ÌÂæèÆèÌöÂ\n",
      "Shifted characters: }¥Ñ}ÑÉ¥­åñ!±±¼¹Ý±½µÑ¼¥±ÄÄ½É¹Í¥¡±±¹¸Q¡¥Ì¥Ì©ÕÍÐ¥±±ÈÑáÐÑ¼µ­¥Ð±½¹È¸4(4)ÍÑÑí\n",
      "Shifted characters: û\u0013K¢û£K\u001b[ËâC+ccy\u0003\u000bs!\u0003»+c\u001b{k)\u0003£y\u00033Kc)\u00033{+sK\u0019\u0003\u001bC\u000bcc+s;)q\u0002£CK\u0003K\u0003S«¡\u00033Kcc+\u0003£+Ã¡\u0003£y\u0003k\u000b[)\u0003K¡\u0003c{s;+phPhS3\u000b£\u001b£3Û\n",
      "\n",
      "Shifted characters: ö&E÷G&6·ÄVÆÆò\u0006\u0016æB\u0007vVÆ6öÖR\u0007Fò\u0006fÆS\u0013\u0012\u0006f÷&Vç62\u00066\u0016ÆÆVævRâ\u0005F2\u00062\u0006§W7B\u0006fÆÆW\"\u0007FWB\u0007Fò\u0006Ö\u0016¶R\u0006B\u0006ÆöævW\"àÐ Ð¦f\u00177F7Fg¶\u0015\n",
      "Shifted characters: ìM.îM,mo/\f­ä\f-Ì\u000eì­mí¬¤\u000eä\fÍ-¦&$\fÍîL­Îm,d\fm\f-­Ìì¥Ä\n",
      "íÌì®EÁ¡A¡LÌ.nnÏl+\n",
      "Shifted characters: Ø]\u0017Ý\u001cXÚÞ_\u0012\u0019[\u001b\u001bÈ\u0018[\u001dÙ[\u0018ÛÛYH\u001d\u001bÈ\u0019[\u0019LLH\u0019Ü[ÚXÈ\u0018Ú\u0018[\u001b\u0019[ÙK\u0015\u001a\u001a\\È\u001a\\È\u001a\\\u0019[\u001b\u0019\\\u001d\u0019^\u001d\u001bÈ\u001bXZÙH\u001a\u001b\u001bÛÙ\\BB\\Ý\u0018Ý\u0019ØW\n",
      "Shifted characters: ±4º/º94±µ¼¾$2¶670·2\u0010;²¶1·¶²:734¶237¹2·9´±1´0¶62·3²\u0010*44¹4¹5:¹º\u001034¶62¹\u0010:2¼:\u0010:76°µ²4º\u001067·3²¹\u0017\u0006\u000630¹º1º3=°¯\n",
      "Shifted characters: bit_tricky|Hello and welcome to file11 forensic challenge. This is just filler text to make it longer.\n",
      "\n",
      "fastctf{a_\n",
      "Shifted characters: ÄÒè¾èäÒÆÖòøÊØØÞ@ÂÜÈ@îÊØÆÞÚÊ@èÞ@ÌÒØÊbb@ÌÞäÊÜæÒÆ@ÆÐÂØØÊÜÎÊ\\@¨ÐÒæ@Òæ@Ôêæè@ÌÒØØÊä@èÊðè@èÞ@ÚÂÖÊ@Òè@ØÞÜÎÊä\\\u001a\u0014\u001a\u0014ÌÂæèÆèÌöÂ¾\n",
      "Shifted characters: ¥Ñ}ÑÉ¥­åñ!±±¼¹Ý±½µÑ¼¥±ÄÄ½É¹Í¥¡±±¹¸Q¡¥Ì¥Ì©ÕÍÐ¥±±ÈÑáÐÑ¼µ­¥Ð±½¹È¸4(4)ÍÑÑí}\n",
      "Shifted characters: \u0013K¢û£K\u001b[ËâC+ccy\u0003\u000bs!\u0003»+c\u001b{k)\u0003£y\u00033Kc)\u00033{+sK\u0019\u0003\u001bC\u000bcc+s;)q\u0002£CK\u0003K\u0003S«¡\u00033Kcc+\u0003£+Ã¡\u0003£y\u0003k\u000b[)\u0003K¡\u0003c{s;+phPhS3\u000b£\u001b£3Û\n",
      "û\n",
      "Shifted characters: &E÷G&6·ÄVÆÆò\u0006\u0016æB\u0007vVÆ6öÖR\u0007Fò\u0006fÆS\u0013\u0012\u0006f÷&Vç62\u00066\u0016ÆÆVævRâ\u0005F2\u00062\u0006§W7B\u0006fÆÆW\"\u0007FWB\u0007Fò\u0006Ö\u0016¶R\u0006B\u0006ÆöævW\"àÐ Ð¦f\u00177F7Fg¶\u0015ö\n",
      "Shifted characters: M.îM,mo/\f­ä\f-Ì\u000eì­mí¬¤\u000eä\fÍ-¦&$\fÍîL­Îm,d\fm\f-­Ìì¥Ä\n",
      "íÌì®EÁ¡A¡LÌ.nnÏl+ì\n",
      "Shifted characters: ]\u0017Ý\u001cXÚÞ_\u0012\u0019[\u001b\u001bÈ\u0018[\u001dÙ[\u0018ÛÛYH\u001d\u001bÈ\u0019[\u0019LLH\u0019Ü[ÚXÈ\u0018Ú\u0018[\u001b\u0019[ÙK\u0015\u001a\u001a\\È\u001a\\È\u001a\\\u0019[\u001b\u0019\\\u001d\u0019^\u001d\u001bÈ\u001bXZÙH\u001a\u001b\u001bÛÙ\\BB\\Ý\u0018Ý\u0019ØWØ\n",
      "Shifted characters: 4º/º94±µ¼¾$2¶670·2\u0010;²¶1·¶²:734¶237¹2·9´±1´0¶62·3²\u0010*44¹4¹5:¹º\u001034¶62¹\u0010:2¼:\u0010:76°µ²4º\u001067·3²¹\u0017\u0006\u000630¹º1º3=°¯±\n",
      "Shifted characters: it_tricky|Hello and welcome to file11 forensic challenge. This is just filler text to make it longer.\n",
      "\n",
      "fastctf{a_b\n",
      "Shifted characters: Òè¾èäÒÆÖòøÊØØÞ@ÂÜÈ@îÊØÆÞÚÊ@èÞ@ÌÒØÊbb@ÌÞäÊÜæÒÆ@ÆÐÂØØÊÜÎÊ\\@¨ÐÒæ@Òæ@Ôêæè@ÌÒØØÊä@èÊðè@èÞ@ÚÂÖÊ@Òè@ØÞÜÎÊä\\\u001a\u0014\u001a\u0014ÌÂæèÆèÌöÂ¾Ä\n",
      "Shifted characters: ¥Ñ}ÑÉ¥­åñ!±±¼¹Ý±½µÑ¼¥±ÄÄ½É¹Í¥¡±±¹¸Q¡¥Ì¥Ì©ÕÍÐ¥±±ÈÑáÐÑ¼µ­¥Ð±½¹È¸4(4)ÍÑÑí}\n",
      "Shifted characters: K¢û£K\u001b[ËâC+ccy\u0003\u000bs!\u0003»+c\u001b{k)\u0003£y\u00033Kc)\u00033{+sK\u0019\u0003\u001bC\u000bcc+s;)q\u0002£CK\u0003K\u0003S«¡\u00033Kcc+\u0003£+Ã¡\u0003£y\u0003k\u000b[)\u0003K¡\u0003c{s;+phPhS3\u000b£\u001b£3Û\n",
      "û\u0013\n",
      "Shifted characters: E÷G&6·ÄVÆÆò\u0006\u0016æB\u0007vVÆ6öÖR\u0007Fò\u0006fÆS\u0013\u0012\u0006f÷&Vç62\u00066\u0016ÆÆVævRâ\u0005F2\u00062\u0006§W7B\u0006fÆÆW\"\u0007FWB\u0007Fò\u0006Ö\u0016¶R\u0006B\u0006ÆöævW\"àÐ Ð¦f\u00177F7Fg¶\u0015ö&\n",
      "Shifted characters: .îM,mo/\f­ä\f-Ì\u000eì­mí¬¤\u000eä\fÍ-¦&$\fÍîL­Îm,d\fm\f-­Ìì¥Ä\n",
      "íÌì®EÁ¡A¡LÌ.nnÏl+ìM\n",
      "Shifted characters: ]\u0017Ý\u001cXÚÞ_\u0012\u0019[\u001b\u001bÈ\u0018[\u001dÙ[\u0018ÛÛYH\u001d\u001bÈ\u0019[\u0019LLH\u0019Ü[ÚXÈ\u0018Ú\u0018[\u001b\u0019[ÙK\u0015\u001a\u001a\\È\u001a\\È\u001a\\\u0019[\u001b\u0019\\\u001d\u0019^\u001d\u001bÈ\u001bXZÙH\u001a\u001b\u001bÛÙ\\BB\\Ý\u0018Ý\u0019ØWØ\n",
      "Shifted characters: º/º94±µ¼¾$2¶670·2\u0010;²¶1·¶²:734¶237¹2·9´±1´0¶62·3²\u0010*44¹4¹5:¹º\u001034¶62¹\u0010:2¼:\u0010:76°µ²4º\u001067·3²¹\u0017\u0006\u000630¹º1º3=°¯±4\n",
      "Shifted characters: t_tricky|Hello and welcome to file11 forensic challenge. This is just filler text to make it longer.\n",
      "\n",
      "fastctf{a_bi\n",
      "Shifted characters: è¾èäÒÆÖòøÊØØÞ@ÂÜÈ@îÊØÆÞÚÊ@èÞ@ÌÒØÊbb@ÌÞäÊÜæÒÆ@ÆÐÂØØÊÜÎÊ\\@¨ÐÒæ@Òæ@Ôêæè@ÌÒØØÊä@èÊðè@èÞ@ÚÂÖÊ@Òè@ØÞÜÎÊä\\\u001a\u0014\u001a\u0014ÌÂæèÆèÌöÂ¾ÄÒ\n",
      "Shifted characters: Ñ}ÑÉ¥­åñ!±±¼¹Ý±½µÑ¼¥±ÄÄ½É¹Í¥¡±±¹¸Q¡¥Ì¥Ì©ÕÍÐ¥±±ÈÑáÐÑ¼µ­¥Ð±½¹È¸4(4)ÍÑÑí}¥\n",
      "Shifted characters: ¢û£K\u001b[ËâC+ccy\u0003\u000bs!\u0003»+c\u001b{k)\u0003£y\u00033Kc)\u00033{+sK\u0019\u0003\u001bC\u000bcc+s;)q\u0002£CK\u0003K\u0003S«¡\u00033Kcc+\u0003£+Ã¡\u0003£y\u0003k\u000b[)\u0003K¡\u0003c{s;+phPhS3\u000b£\u001b£3Û\n",
      "û\u0013K\n",
      "Shifted characters: E÷G&6·ÄVÆÆò\u0006\u0016æB\u0007vVÆ6öÖR\u0007Fò\u0006fÆS\u0013\u0012\u0006f÷&Vç62\u00066\u0016ÆÆVævRâ\u0005F2\u00062\u0006§W7B\u0006fÆÆW\"\u0007FWB\u0007Fò\u0006Ö\u0016¶R\u0006B\u0006ÆöævW\"àÐ Ð¦f\u00177F7Fg¶\u0015ö&\n",
      "Shifted characters: îM,mo/\f­ä\f-Ì\u000eì­mí¬¤\u000eä\fÍ-¦&$\fÍîL­Îm,d\fm\f-­Ìì¥Ä\n",
      "íÌì®EÁ¡A¡LÌ.nnÏl+ìM.\n",
      "Shifted characters: \u0017Ý\u001cXÚÞ_\u0012\u0019[\u001b\u001bÈ\u0018[\u001dÙ[\u0018ÛÛYH\u001d\u001bÈ\u0019[\u0019LLH\u0019Ü[ÚXÈ\u0018Ú\u0018[\u001b\u0019[ÙK\u0015\u001a\u001a\\È\u001a\\È\u001a\\\u0019[\u001b\u0019\\\u001d\u0019^\u001d\u001bÈ\u001bXZÙH\u001a\u001b\u001bÛÙ\\BB\\Ý\u0018Ý\u0019ØWØ]\n",
      "Shifted characters: /º94±µ¼¾$2¶670·2\u0010;²¶1·¶²:734¶237¹2·9´±1´0¶62·3²\u0010*44¹4¹5:¹º\u001034¶62¹\u0010:2¼:\u0010:76°µ²4º\u001067·3²¹\u0017\u0006\u000630¹º1º3=°¯±4º\n",
      "Shifted characters: _tricky|Hello and welcome to file11 forensic challenge. This is just filler text to make it longer.\n",
      "\n",
      "fastctf{a_bit\n",
      "Shifted characters: ¾èäÒÆÖòøÊØØÞ@ÂÜÈ@îÊØÆÞÚÊ@èÞ@ÌÒØÊbb@ÌÞäÊÜæÒÆ@ÆÐÂØØÊÜÎÊ\\@¨ÐÒæ@Òæ@Ôêæè@ÌÒØØÊä@èÊðè@èÞ@ÚÂÖÊ@Òè@ØÞÜÎÊä\\\u001a\u0014\u001a\u0014ÌÂæèÆèÌöÂ¾ÄÒè\n",
      "Shifted characters: }ÑÉ¥­åñ!±±¼¹Ý±½µÑ¼¥±ÄÄ½É¹Í¥¡±±¹¸Q¡¥Ì¥Ì©ÕÍÐ¥±±ÈÑáÐÑ¼µ­¥Ð±½¹È¸4(4)ÍÑÑí}¥Ñ\n",
      "Shifted characters: û£K\u001b[ËâC+ccy\u0003\u000bs!\u0003»+c\u001b{k)\u0003£y\u00033Kc)\u00033{+sK\u0019\u0003\u001bC\u000bcc+s;)q\u0002£CK\u0003K\u0003S«¡\u00033Kcc+\u0003£+Ã¡\u0003£y\u0003k\u000b[)\u0003K¡\u0003c{s;+phPhS3\u000b£\u001b£3Û\n",
      "û\u0013K¢\n",
      "Shifted characters: ÷G&6·ÄVÆÆò\u0006\u0016æB\u0007vVÆ6öÖR\u0007Fò\u0006fÆS\u0013\u0012\u0006f÷&Vç62\u00066\u0016ÆÆVævRâ\u0005F2\u00062\u0006§W7B\u0006fÆÆW\"\u0007FWB\u0007Fò\u0006Ö\u0016¶R\u0006B\u0006ÆöævW\"àÐ Ð¦f\u00177F7Fg¶\u0015ö&E\n",
      "Shifted characters: îM,mo/\f­ä\f-Ì\u000eì­mí¬¤\u000eä\fÍ-¦&$\fÍîL­Îm,d\fm\f-­Ìì¥Ä\n",
      "íÌì®EÁ¡A¡LÌ.nnÏl+ìM.\n",
      "Shifted characters: Ý\u001cXÚÞ_\u0012\u0019[\u001b\u001bÈ\u0018[\u001dÙ[\u0018ÛÛYH\u001d\u001bÈ\u0019[\u0019LLH\u0019Ü[ÚXÈ\u0018Ú\u0018[\u001b\u0019[ÙK\u0015\u001a\u001a\\È\u001a\\È\u001a\\\u0019[\u001b\u0019\\\u001d\u0019^\u001d\u001bÈ\u001bXZÙH\u001a\u001b\u001bÛÙ\\BB\\Ý\u0018Ý\u0019ØWØ]\u0017\n",
      "Shifted characters: º94±µ¼¾$2¶670·2\u0010;²¶1·¶²:734¶237¹2·9´±1´0¶62·3²\u0010*44¹4¹5:¹º\u001034¶62¹\u0010:2¼:\u0010:76°µ²4º\u001067·3²¹\u0017\u0006\u000630¹º1º3=°¯±4º/\n",
      "Shifted characters: tricky|Hello and welcome to file11 forensic challenge. This is just filler text to make it longer.\n",
      "\n",
      "fastctf{a_bit_\n",
      "Shifted characters: èäÒÆÖòøÊØØÞ@ÂÜÈ@îÊØÆÞÚÊ@èÞ@ÌÒØÊbb@ÌÞäÊÜæÒÆ@ÆÐÂØØÊÜÎÊ\\@¨ÐÒæ@Òæ@Ôêæè@ÌÒØØÊä@èÊðè@èÞ@ÚÂÖÊ@Òè@ØÞÜÎÊä\\\u001a\u0014\u001a\u0014ÌÂæèÆèÌöÂ¾ÄÒè¾\n",
      "Shifted characters: ÑÉ¥­åñ!±±¼¹Ý±½µÑ¼¥±ÄÄ½É¹Í¥¡±±¹¸Q¡¥Ì¥Ì©ÕÍÐ¥±±ÈÑáÐÑ¼µ­¥Ð±½¹È¸4(4)ÍÑÑí}¥Ñ}\n",
      "Shifted characters: £K\u001b[ËâC+ccy\u0003\u000bs!\u0003»+c\u001b{k)\u0003£y\u00033Kc)\u00033{+sK\u0019\u0003\u001bC\u000bcc+s;)q\u0002£CK\u0003K\u0003S«¡\u00033Kcc+\u0003£+Ã¡\u0003£y\u0003k\u000b[)\u0003K¡\u0003c{s;+phPhS3\u000b£\u001b£3Û\n",
      "û\u0013K¢û\n",
      "Shifted characters: G&6·ÄVÆÆò\u0006\u0016æB\u0007vVÆ6öÖR\u0007Fò\u0006fÆS\u0013\u0012\u0006f÷&Vç62\u00066\u0016ÆÆVævRâ\u0005F2\u00062\u0006§W7B\u0006fÆÆW\"\u0007FWB\u0007Fò\u0006Ö\u0016¶R\u0006B\u0006ÆöævW\"àÐ Ð¦f\u00177F7Fg¶\u0015ö&E÷\n",
      "Shifted characters: M,mo/\f­ä\f-Ì\u000eì­mí¬¤\u000eä\fÍ-¦&$\fÍîL­Îm,d\fm\f-­Ìì¥Ä\n",
      "íÌì®EÁ¡A¡LÌ.nnÏl+ìM.î\n",
      "Shifted characters: \u001cXÚÞ_\u0012\u0019[\u001b\u001bÈ\u0018[\u001dÙ[\u0018ÛÛYH\u001d\u001bÈ\u0019[\u0019LLH\u0019Ü[ÚXÈ\u0018Ú\u0018[\u001b\u0019[ÙK\u0015\u001a\u001a\\È\u001a\\È\u001a\\\u0019[\u001b\u0019\\\u001d\u0019^\u001d\u001bÈ\u001bXZÙH\u001a\u001b\u001bÛÙ\\BB\\Ý\u0018Ý\u0019ØWØ]\u0017Ý\n",
      "Shifted characters: 94±µ¼¾$2¶670·2\u0010;²¶1·¶²:734¶237¹2·9´±1´0¶62·3²\u0010*44¹4¹5:¹º\u001034¶62¹\u0010:2¼:\u0010:76°µ²4º\u001067·3²¹\u0017\u0006\u000630¹º1º3=°¯±4º/º\n",
      "Shifted characters: ricky|Hello and welcome to file11 forensic challenge. This is just filler text to make it longer.\n",
      "\n",
      "fastctf{a_bit_t\n",
      "Shifted characters: äÒÆÖòøÊØØÞ@ÂÜÈ@îÊØÆÞÚÊ@èÞ@ÌÒØÊbb@ÌÞäÊÜæÒÆ@ÆÐÂØØÊÜÎÊ\\@¨ÐÒæ@Òæ@Ôêæè@ÌÒØØÊä@èÊðè@èÞ@ÚÂÖÊ@Òè@ØÞÜÎÊä\\\u001a\u0014\u001a\u0014ÌÂæèÆèÌöÂ¾ÄÒè¾è\n",
      "Shifted characters: É¥­åñ!±±¼¹Ý±½µÑ¼¥±ÄÄ½É¹Í¥¡±±¹¸Q¡¥Ì¥Ì©ÕÍÐ¥±±ÈÑáÐÑ¼µ­¥Ð±½¹È¸4(4)ÍÑÑí}¥Ñ}Ñ\n",
      "Shifted characters: K\u001b[ËâC+ccy\u0003\u000bs!\u0003»+c\u001b{k)\u0003£y\u00033Kc)\u00033{+sK\u0019\u0003\u001bC\u000bcc+s;)q\u0002£CK\u0003K\u0003S«¡\u00033Kcc+\u0003£+Ã¡\u0003£y\u0003k\u000b[)\u0003K¡\u0003c{s;+phPhS3\u000b£\u001b£3Û\n",
      "û\u0013K¢û£\n",
      "Shifted characters: &6·ÄVÆÆò\u0006\u0016æB\u0007vVÆ6öÖR\u0007Fò\u0006fÆS\u0013\u0012\u0006f÷&Vç62\u00066\u0016ÆÆVævRâ\u0005F2\u00062\u0006§W7B\u0006fÆÆW\"\u0007FWB\u0007Fò\u0006Ö\u0016¶R\u0006B\u0006ÆöævW\"àÐ Ð¦f\u00177F7Fg¶\u0015ö&E÷G\n",
      "Shifted characters: M,mo/\f­ä\f-Ì\u000eì­mí¬¤\u000eä\fÍ-¦&$\fÍîL­Îm,d\fm\f-­Ìì¥Ä\n",
      "íÌì®EÁ¡A¡LÌ.nnÏl+ìM.î\n",
      "Shifted characters: XÚÞ_\u0012\u0019[\u001b\u001bÈ\u0018[\u001dÙ[\u0018ÛÛYH\u001d\u001bÈ\u0019[\u0019LLH\u0019Ü[ÚXÈ\u0018Ú\u0018[\u001b\u0019[ÙK\u0015\u001a\u001a\\È\u001a\\È\u001a\\\u0019[\u001b\u0019\\\u001d\u0019^\u001d\u001bÈ\u001bXZÙH\u001a\u001b\u001bÛÙ\\BB\\Ý\u0018Ý\u0019ØWØ]\u0017Ý\u001c\n",
      "Shifted characters: 4±µ¼¾$2¶670·2\u0010;²¶1·¶²:734¶237¹2·9´±1´0¶62·3²\u0010*44¹4¹5:¹º\u001034¶62¹\u0010:2¼:\u0010:76°µ²4º\u001067·3²¹\u0017\u0006\u000630¹º1º3=°¯±4º/º9\n",
      "Shifted characters: icky|Hello and welcome to file11 forensic challenge. This is just filler text to make it longer.\n",
      "\n",
      "fastctf{a_bit_tr\n",
      "Shifted characters: ÒÆÖòøÊØØÞ@ÂÜÈ@îÊØÆÞÚÊ@èÞ@ÌÒØÊbb@ÌÞäÊÜæÒÆ@ÆÐÂØØÊÜÎÊ\\@¨ÐÒæ@Òæ@Ôêæè@ÌÒØØÊä@èÊðè@èÞ@ÚÂÖÊ@Òè@ØÞÜÎÊä\\\u001a\u0014\u001a\u0014ÌÂæèÆèÌöÂ¾ÄÒè¾èä\n",
      "Shifted characters: ¥­åñ!±±¼¹Ý±½µÑ¼¥±ÄÄ½É¹Í¥¡±±¹¸Q¡¥Ì¥Ì©ÕÍÐ¥±±ÈÑáÐÑ¼µ­¥Ð±½¹È¸4(4)ÍÑÑí}¥Ñ}ÑÉ\n",
      "Shifted characters: K\u001b[ËâC+ccy\u0003\u000bs!\u0003»+c\u001b{k)\u0003£y\u00033Kc)\u00033{+sK\u0019\u0003\u001bC\u000bcc+s;)q\u0002£CK\u0003K\u0003S«¡\u00033Kcc+\u0003£+Ã¡\u0003£y\u0003k\u000b[)\u0003K¡\u0003c{s;+phPhS3\u000b£\u001b£3Û\n",
      "û\u0013K¢û£\n",
      "Shifted characters: 6·ÄVÆÆò\u0006\u0016æB\u0007vVÆ6öÖR\u0007Fò\u0006fÆS\u0013\u0012\u0006f÷&Vç62\u00066\u0016ÆÆVævRâ\u0005F2\u00062\u0006§W7B\u0006fÆÆW\"\u0007FWB\u0007Fò\u0006Ö\u0016¶R\u0006B\u0006ÆöævW\"àÐ Ð¦f\u00177F7Fg¶\u0015ö&E÷G&\n",
      "Shifted characters: ,mo/\f­ä\f-Ì\u000eì­mí¬¤\u000eä\fÍ-¦&$\fÍîL­Îm,d\fm\f-­Ìì¥Ä\n",
      "íÌì®EÁ¡A¡LÌ.nnÏl+ìM.îM\n",
      "Shifted characters: XÚÞ_\u0012\u0019[\u001b\u001bÈ\u0018[\u001dÙ[\u0018ÛÛYH\u001d\u001bÈ\u0019[\u0019LLH\u0019Ü[ÚXÈ\u0018Ú\u0018[\u001b\u0019[ÙK\u0015\u001a\u001a\\È\u001a\\È\u001a\\\u0019[\u001b\u0019\\\u001d\u0019^\u001d\u001bÈ\u001bXZÙH\u001a\u001b\u001bÛÙ\\BB\\Ý\u0018Ý\u0019ØWØ]\u0017Ý\u001c\n",
      "Shifted characters: ±µ¼¾$2¶670·2\u0010;²¶1·¶²:734¶237¹2·9´±1´0¶62·3²\u0010*44¹4¹5:¹º\u001034¶62¹\u0010:2¼:\u0010:76°µ²4º\u001067·3²¹\u0017\u0006\u000630¹º1º3=°¯±4º/º94\n",
      "Shifted characters: cky|Hello and welcome to file11 forensic challenge. This is just filler text to make it longer.\n",
      "\n",
      "fastctf{a_bit_tri\n",
      "Shifted characters: ÆÖòøÊØØÞ@ÂÜÈ@îÊØÆÞÚÊ@èÞ@ÌÒØÊbb@ÌÞäÊÜæÒÆ@ÆÐÂØØÊÜÎÊ\\@¨ÐÒæ@Òæ@Ôêæè@ÌÒØØÊä@èÊðè@èÞ@ÚÂÖÊ@Òè@ØÞÜÎÊä\\\u001a\u0014\u001a\u0014ÌÂæèÆèÌöÂ¾ÄÒè¾èäÒ\n",
      "Shifted characters: ­åñ!±±¼¹Ý±½µÑ¼¥±ÄÄ½É¹Í¥¡±±¹¸Q¡¥Ì¥Ì©ÕÍÐ¥±±ÈÑáÐÑ¼µ­¥Ð±½¹È¸4(4)ÍÑÑí}¥Ñ}ÑÉ¥\n",
      "Shifted characters: \u001b[ËâC+ccy\u0003\u000bs!\u0003»+c\u001b{k)\u0003£y\u00033Kc)\u00033{+sK\u0019\u0003\u001bC\u000bcc+s;)q\u0002£CK\u0003K\u0003S«¡\u00033Kcc+\u0003£+Ã¡\u0003£y\u0003k\u000b[)\u0003K¡\u0003c{s;+phPhS3\u000b£\u001b£3Û\n",
      "û\u0013K¢û£K\n",
      "Shifted characters: 6·ÄVÆÆò\u0006\u0016æB\u0007vVÆ6öÖR\u0007Fò\u0006fÆS\u0013\u0012\u0006f÷&Vç62\u00066\u0016ÆÆVævRâ\u0005F2\u00062\u0006§W7B\u0006fÆÆW\"\u0007FWB\u0007Fò\u0006Ö\u0016¶R\u0006B\u0006ÆöævW\"àÐ Ð¦f\u00177F7Fg¶\u0015ö&E÷G&\n",
      "Shifted characters: mo/\f­ä\f-Ì\u000eì­mí¬¤\u000eä\fÍ-¦&$\fÍîL­Îm,d\fm\f-­Ìì¥Ä\n",
      "íÌì®EÁ¡A¡LÌ.nnÏl+ìM.îM,\n",
      "Shifted characters: ÚÞ_\u0012\u0019[\u001b\u001bÈ\u0018[\u001dÙ[\u0018ÛÛYH\u001d\u001bÈ\u0019[\u0019LLH\u0019Ü[ÚXÈ\u0018Ú\u0018[\u001b\u0019[ÙK\u0015\u001a\u001a\\È\u001a\\È\u001a\\\u0019[\u001b\u0019\\\u001d\u0019^\u001d\u001bÈ\u001bXZÙH\u001a\u001b\u001bÛÙ\\BB\\Ý\u0018Ý\u0019ØWØ]\u0017Ý\u001cX\n",
      "Shifted characters: µ¼¾$2¶670·2\u0010;²¶1·¶²:734¶237¹2·9´±1´0¶62·3²\u0010*44¹4¹5:¹º\u001034¶62¹\u0010:2¼:\u0010:76°µ²4º\u001067·3²¹\u0017\u0006\u000630¹º1º3=°¯±4º/º94±\n",
      "Shifted characters: ky|Hello and welcome to file11 forensic challenge. This is just filler text to make it longer.\n",
      "\n",
      "fastctf{a_bit_tric\n",
      "Shifted characters: ÖòøÊØØÞ@ÂÜÈ@îÊØÆÞÚÊ@èÞ@ÌÒØÊbb@ÌÞäÊÜæÒÆ@ÆÐÂØØÊÜÎÊ\\@¨ÐÒæ@Òæ@Ôêæè@ÌÒØØÊä@èÊðè@èÞ@ÚÂÖÊ@Òè@ØÞÜÎÊä\\\u001a\u0014\u001a\u0014ÌÂæèÆèÌöÂ¾ÄÒè¾èäÒÆ\n",
      "Shifted characters: ­åñ!±±¼¹Ý±½µÑ¼¥±ÄÄ½É¹Í¥¡±±¹¸Q¡¥Ì¥Ì©ÕÍÐ¥±±ÈÑáÐÑ¼µ­¥Ð±½¹È¸4(4)ÍÑÑí}¥Ñ}ÑÉ¥\n",
      "Shifted characters: [ËâC+ccy\u0003\u000bs!\u0003»+c\u001b{k)\u0003£y\u00033Kc)\u00033{+sK\u0019\u0003\u001bC\u000bcc+s;)q\u0002£CK\u0003K\u0003S«¡\u00033Kcc+\u0003£+Ã¡\u0003£y\u0003k\u000b[)\u0003K¡\u0003c{s;+phPhS3\u000b£\u001b£3Û\n",
      "û\u0013K¢û£K\u001b\n",
      "Shifted characters: ·ÄVÆÆò\u0006\u0016æB\u0007vVÆ6öÖR\u0007Fò\u0006fÆS\u0013\u0012\u0006f÷&Vç62\u00066\u0016ÆÆVævRâ\u0005F2\u00062\u0006§W7B\u0006fÆÆW\"\u0007FWB\u0007Fò\u0006Ö\u0016¶R\u0006B\u0006ÆöævW\"àÐ Ð¦f\u00177F7Fg¶\u0015ö&E÷G&6\n",
      "Shifted characters: o/\f­ä\f-Ì\u000eì­mí¬¤\u000eä\fÍ-¦&$\fÍîL­Îm,d\fm\f-­Ìì¥Ä\n",
      "íÌì®EÁ¡A¡LÌ.nnÏl+ìM.îM,m\n",
      "Shifted characters: Þ_\u0012\u0019[\u001b\u001bÈ\u0018[\u001dÙ[\u0018ÛÛYH\u001d\u001bÈ\u0019[\u0019LLH\u0019Ü[ÚXÈ\u0018Ú\u0018[\u001b\u0019[ÙK\u0015\u001a\u001a\\È\u001a\\È\u001a\\\u0019[\u001b\u0019\\\u001d\u0019^\u001d\u001bÈ\u001bXZÙH\u001a\u001b\u001bÛÙ\\BB\\Ý\u0018Ý\u0019ØWØ]\u0017Ý\u001cXÚ\n",
      "Shifted characters: ¼¾$2¶670·2\u0010;²¶1·¶²:734¶237¹2·9´±1´0¶62·3²\u0010*44¹4¹5:¹º\u001034¶62¹\u0010:2¼:\u0010:76°µ²4º\u001067·3²¹\u0017\u0006\u000630¹º1º3=°¯±4º/º94±µ\n",
      "Shifted characters: y|Hello and welcome to file11 forensic challenge. This is just filler text to make it longer.\n",
      "\n",
      "fastctf{a_bit_trick\n",
      "Shifted characters: òøÊØØÞ@ÂÜÈ@îÊØÆÞÚÊ@èÞ@ÌÒØÊbb@ÌÞäÊÜæÒÆ@ÆÐÂØØÊÜÎÊ\\@¨ÐÒæ@Òæ@Ôêæè@ÌÒØØÊä@èÊðè@èÞ@ÚÂÖÊ@Òè@ØÞÜÎÊä\\\u001a\u0014\u001a\u0014ÌÂæèÆèÌöÂ¾ÄÒè¾èäÒÆÖ\n",
      "Shifted characters: åñ!±±¼¹Ý±½µÑ¼¥±ÄÄ½É¹Í¥¡±±¹¸Q¡¥Ì¥Ì©ÕÍÐ¥±±ÈÑáÐÑ¼µ­¥Ð±½¹È¸4(4)ÍÑÑí}¥Ñ}ÑÉ¥­\n",
      "Shifted characters: ËâC+ccy\u0003\u000bs!\u0003»+c\u001b{k)\u0003£y\u00033Kc)\u00033{+sK\u0019\u0003\u001bC\u000bcc+s;)q\u0002£CK\u0003K\u0003S«¡\u00033Kcc+\u0003£+Ã¡\u0003£y\u0003k\u000b[)\u0003K¡\u0003c{s;+phPhS3\u000b£\u001b£3Û\n",
      "û\u0013K¢û£K\u001b[\n",
      "Shifted characters: ÄVÆÆò\u0006\u0016æB\u0007vVÆ6öÖR\u0007Fò\u0006fÆS\u0013\u0012\u0006f÷&Vç62\u00066\u0016ÆÆVævRâ\u0005F2\u00062\u0006§W7B\u0006fÆÆW\"\u0007FWB\u0007Fò\u0006Ö\u0016¶R\u0006B\u0006ÆöævW\"àÐ Ð¦f\u00177F7Fg¶\u0015ö&E÷G&6·\n",
      "Shifted characters: /\f­ä\f-Ì\u000eì­mí¬¤\u000eä\fÍ-¦&$\fÍîL­Îm,d\fm\f-­Ìì¥Ä\n",
      "íÌì®EÁ¡A¡LÌ.nnÏl+ìM.îM,mo\n",
      "Shifted characters: _\u0012\u0019[\u001b\u001bÈ\u0018[\u001dÙ[\u0018ÛÛYH\u001d\u001bÈ\u0019[\u0019LLH\u0019Ü[ÚXÈ\u0018Ú\u0018[\u001b\u0019[ÙK\u0015\u001a\u001a\\È\u001a\\È\u001a\\\u0019[\u001b\u0019\\\u001d\u0019^\u001d\u001bÈ\u001bXZÙH\u001a\u001b\u001bÛÙ\\BB\\Ý\u0018Ý\u0019ØWØ]\u0017Ý\u001cXÚÞ\n",
      "Shifted characters: ¾$2¶670·2\u0010;²¶1·¶²:734¶237¹2·9´±1´0¶62·3²\u0010*44¹4¹5:¹º\u001034¶62¹\u0010:2¼:\u0010:76°µ²4º\u001067·3²¹\u0017\u0006\u000630¹º1º3=°¯±4º/º94±µ¼\n",
      "Shifted characters: |Hello and welcome to file11 forensic challenge. This is just filler text to make it longer.\n",
      "\n",
      "fastctf{a_bit_tricky\n",
      "Shifted characters: øÊØØÞ@ÂÜÈ@îÊØÆÞÚÊ@èÞ@ÌÒØÊbb@ÌÞäÊÜæÒÆ@ÆÐÂØØÊÜÎÊ\\@¨ÐÒæ@Òæ@Ôêæè@ÌÒØØÊä@èÊðè@èÞ@ÚÂÖÊ@Òè@ØÞÜÎÊä\\\u001a\u0014\u001a\u0014ÌÂæèÆèÌöÂ¾ÄÒè¾èäÒÆÖò\n",
      "Shifted characters: ñ!±±¼¹Ý±½µÑ¼¥±ÄÄ½É¹Í¥¡±±¹¸Q¡¥Ì¥Ì©ÕÍÐ¥±±ÈÑáÐÑ¼µ­¥Ð±½¹È¸4(4)ÍÑÑí}¥Ñ}ÑÉ¥­å\n",
      "Shifted characters: âC+ccy\u0003\u000bs!\u0003»+c\u001b{k)\u0003£y\u00033Kc)\u00033{+sK\u0019\u0003\u001bC\u000bcc+s;)q\u0002£CK\u0003K\u0003S«¡\u00033Kcc+\u0003£+Ã¡\u0003£y\u0003k\u000b[)\u0003K¡\u0003c{s;+phPhS3\u000b£\u001b£3Û\n",
      "û\u0013K¢û£K\u001b[Ë\n",
      "Shifted characters: ÄVÆÆò\u0006\u0016æB\u0007vVÆ6öÖR\u0007Fò\u0006fÆS\u0013\u0012\u0006f÷&Vç62\u00066\u0016ÆÆVævRâ\u0005F2\u00062\u0006§W7B\u0006fÆÆW\"\u0007FWB\u0007Fò\u0006Ö\u0016¶R\u0006B\u0006ÆöævW\"àÐ Ð¦f\u00177F7Fg¶\u0015ö&E÷G&6·\n",
      "Shifted characters: \f­ä\f-Ì\u000eì­mí¬¤\u000eä\fÍ-¦&$\fÍîL­Îm,d\fm\f-­Ìì¥Ä\n",
      "íÌì®EÁ¡A¡LÌ.nnÏl+ìM.îM,mo/\n",
      "Shifted characters: \u0012\u0019[\u001b\u001bÈ\u0018[\u001dÙ[\u0018ÛÛYH\u001d\u001bÈ\u0019[\u0019LLH\u0019Ü[ÚXÈ\u0018Ú\u0018[\u001b\u0019[ÙK\u0015\u001a\u001a\\È\u001a\\È\u001a\\\u0019[\u001b\u0019\\\u001d\u0019^\u001d\u001bÈ\u001bXZÙH\u001a\u001b\u001bÛÙ\\BB\\Ý\u0018Ý\u0019ØWØ]\u0017Ý\u001cXÚÞ_\n"
     ]
    }
   ],
   "source": [
    "# Try shifting the bit stream by 1 bit left and convert it to characters\n",
    "for i in range(len(bit_stream)):\n",
    "    # Shift the bit stream by 1 bit left\n",
    "    shifted_bit_stream = bit_stream[i:] + bit_stream[:i]\n",
    "    # Convert the shifted bit stream to characters\n",
    "    shifted_characters = \"\"\n",
    "    for j in range(0, len(shifted_bit_stream), 8):\n",
    "        byte = shifted_bit_stream[j:j+8]\n",
    "        shifted_characters += chr(int(byte, 2))\n",
    "    # Print the shifted characters\n",
    "    print(\"Shifted characters:\", shifted_characters)"
   ]
  },
  {
   "cell_type": "code",
   "execution_count": 7,
   "metadata": {},
   "outputs": [
    {
     "name": "stdout",
     "output_type": "stream",
     "text": [
      "00100100 00110010 10110110 00110110 00110111 10010000 00110000 10110111 00110010 00010000 00111011 10110010 10110110 00110001 10110111 10110110 10110010 10010000 00111010 00110111 10010000 00110011 00110100 10110110 00110010 10011000 10011000 10010000 00110011 00110111 10111001 00110010 10110111 00111001 10110100 10110001 10010000 00110001 10110100 00110000 10110110 00110110 00110010 10110111 00110011 10110010 10010111 00010000 00101010 00110100 00110100 10111001 10010000 00110100 10111001 10010000 00110101 00111010 10111001 10111010 00010000 00110011 00110100 10110110 00110110 00110010 10111001 00010000 00111010 00110010 10111100 00111010 00010000 00111010 00110111 10010000 00110110 10110000 10110101 10110010 10010000 00110100 10111010 00010000 00110110 00110111 10110111 00110011 10110010 10111001 00010111 00000110 10000101 00000110 10000101 00110011 00110000 10111001 10111010 00110001 10111010 00110011 00111101 10110000 10101111 10110001 00110100 10111010 00101111 10111010 00111001 00110100 10110001 10110101 10111100 10111110 Shift Amount: 1, Decoded Text: \u0012\u0019[\u001b\u001bH\u0018[\u001dY[\u0018[[YH\u001d\u001bH\u0019\u001a[\u0019LLH\u0019\u001b\\\u0019[\u001cZXH\u0018Z\u0018[\u001b\u0019[\u0019Y\u0015\u001a\u001a\\H\u001a\\H\u001a\u001d\\\u0019\u001a[\u001b\u0019\u001d\u0019^\u001d\u001bH\u001bXZYH\u001a\u001b\u001b[\u0019Y\\\u000b\u0003B\u0003B\u0019\u0018\\]\u0018]\u0019\u001eXWX\u001a]\u0017]\u001c\u001aXZ^_\n",
      "\f-\f,%\u0004$\f-\f-,$\u000e2, Decoded Text: \t\f-\n",
      ",-//\u0005\u0001!\u0001!\f\f..\f.\f\u000f,+,\n",
      "Shift Amount: 3, Decoded Text: \u0004\u0006\u0016\u0006\u0006\u0012\u0006\u0016\u0006\u0002\u0007\u0016\u0016\u0006\u0016\u0016\u0016\u0012\u0007\u0006\u0012\u0006\u0006\u0016\u0006\u0013\u0013\u0012\u0006\u0006\u0017\u0006\u0016\u0007\u0016\u0016\u0012\u0006\u0016\u0006\u0016\u0006\u0006\u0016\u0006\u0016\u0012\u0002\u0005\u0006\u0006\u0017\u0012\u0006\u0017\u0012\u0006\u0007\u0017\u0017\u0002\u0006\u0006\u0016\u0006\u0006\u0017\u0002\u0007\u0006\u0017\u0007\u0002\u0007\u0006\u0012\u0006\u0016\u0016\u0016\u0012\u0006\u0017\u0002\u0006\u0006\u0016\u0006\u0016\u0017\u0002\u0000\u0010\u0000\u0010\u0006\u0006\u0017\u0017\u0006\u0017\u0006\u0007\u0016\u0015\u0016\u0006\u0017\u0005\u0017\u0007\u0006\u0016\u0016\u0017\u0017\n",
      "Shift Amount: 4, Decoded Text: \u0002\u0003\u000b\u0003\u0003\t\u0003\u000b\u0003\u0001\u0003\u000b\u000b\u0003\u000b\u000b\u000b\t\u0003\u0003\t\u0003\u0003\u000b\u0003\t\t\t\u0003\u0003\u000b\u0003\u000b\u0003\u000b\u000b\t\u0003\u000b\u0003\u000b\u0003\u0003\u000b\u0003\u000b\t\u0001\u0002\u0003\u0003\u000b\t\u0003\u000b\t\u0003\u0003\u000b\u000b\u0001\u0003\u0003\u000b\u0003\u0003\u000b\u0001\u0003\u0003\u000b\u0003\u0001\u0003\u0003\t\u0003\u000b\u000b\u000b\t\u0003\u000b\u0001\u0003\u0003\u000b\u0003\u000b\u000b\u0001\u0003\u0003\u000b\u000b\u0003\u000b\u0003\u0003\u000b\n",
      "\u000b\u0003\u000b\u0002\u000b\u0003\u0003\u000b\u000b\u000b\u000b\n",
      "Shift Amount: 5, Decoded Text: \u0001\u0001\u0005\u0001\u0001\u0004\u0001\u0005\u0001\u0000\u0001\u0005\u0005\u0001\u0005\u0005\u0005\u0004\u0001\u0001\u0004\u0001\u0001\u0005\u0001\u0004\u0004\u0004\u0001\u0001\u0005\u0001\u0005\u0001\u0005\u0005\u0004\u0001\u0005\u0001\u0005\u0001\u0001\u0005\u0001\u0005\u0004\u0000\u0001\u0001\u0001\u0005\u0004\u0001\u0005\u0004\u0001\u0001\u0005\u0005\u0000\u0001\u0001\u0005\u0001\u0001\u0005\u0000\u0001\u0001\u0005\u0001\u0000\u0001\u0001\u0004\u0001\u0005\u0005\u0005\u0004\u0001\u0005\u0000\u0001\u0001\u0005\u0001\u0005\u0005\u0000\u0000\u0004\u0000\u0004\u0001\u0001\u0005\u0005\u0001\u0005\u0001\u0001\u0005\u0005\u0005\u0001\u0005\u0001\u0005\u0001\u0001\u0005\u0005\u0005\u0005\n",
      "Shift Amount: 6, Decoded Text: \u0000\u0000\u0002\u0000\u0000\u0002\u0000\u0002\u0000\u0000\u0000\u0002\u0002\u0000\u0002\u0002\u0002\u0002\u0000\u0000\u0002\u0000\u0000\u0002\u0000\u0002\u0002\u0002\u0000\u0000\u0002\u0000\u0002\u0000\u0002\u0002\u0002\u0000\u0002\u0000\u0002\u0000\u0000\u0002\u0000\u0002\u0002\u0000\u0000\u0000\u0000\u0002\u0002\u0000\u0002\u0002\u0000\u0000\u0002\u0002\u0000\u0000\u0000\u0002\u0000\u0000\u0002\u0000\u0000\u0000\u0002\u0000\u0000\u0000\u0000\u0002\u0000\u0002\u0002\u0002\u0002\u0000\u0002\u0000\u0000\u0000\u0002\u0000\u0002\u0002\u0000\u0000\u0002\u0000\u0002\u0000\u0000\u0002\u0002\u0000\u0002\u0000\u0000\u0002\u0002\u0002\u0000\u0002\u0000\u0002\u0000\u0000\u0002\u0002\u0002\u0002\n",
      "Shift Amount: 7, Decoded Text: \u0000\u0000\u0001\u0000\u0000\u0001\u0000\u0001\u0000\u0000\u0000\u0001\u0001\u0000\u0001\u0001\u0001\u0001\u0000\u0000\u0001\u0000\u0000\u0001\u0000\u0001\u0001\u0001\u0000\u0000\u0001\u0000\u0001\u0000\u0001\u0001\u0001\u0000\u0001\u0000\u0001\u0000\u0000\u0001\u0000\u0001\u0001\u0000\u0000\u0000\u0000\u0001\u0001\u0000\u0001\u0001\u0000\u0000\u0001\u0001\u0000\u0000\u0000\u0001\u0000\u0000\u0001\u0000\u0000\u0000\u0001\u0000\u0000\u0000\u0000\u0001\u0000\u0001\u0001\u0001\u0001\u0000\u0001\u0000\u0000\u0000\u0001\u0000\u0001\u0001\u0000\u0000\u0001\u0000\u0001\u0000\u0000\u0001\u0001\u0000\u0001\u0000\u0000\u0001\u0001\u0001\u0000\u0001\u0000\u0001\u0000\u0000\u0001\u0001\u0001\u0001\n"
     ]
    }
   ],
   "source": [
    "# Read the contents of the \"bits.txt\" file\n",
    "# Read the contents of the \"bits.txt\" file as bits\n",
    "with open(\"bits.txt\", \"rb\") as file:\n",
    "    # Read the file byte by byte\n",
    "    byte = file.read(1)\n",
    "    while byte:\n",
    "        # Convert the byte to its binary representation\n",
    "        bits = bin(int.from_bytes(byte, \"big\"))[2:].zfill(8)\n",
    "        # Print the binary representation\n",
    "        print(bits, end=\" \")\n",
    "        # Read the next byte\n",
    "        byte = file.read(1)\n",
    "\n",
    "# Function to decode the text using bit shifting\n",
    "def decode(text, shift_amount):\n",
    "    decoded = \"\"\n",
    "    # Iterate through each character in the text\n",
    "    for char in text:\n",
    "        # Perform bit shifting operation on the ASCII value\n",
    "        shifted_value = ord(char) >> shift_amount\n",
    "        # Convert the shifted ASCII value back to a character and append it to the result\n",
    "        decoded += chr(shifted_value)\n",
    "    return decoded\n",
    "\n",
    "# Try different shift amounts to decode the text\n",
    "for shift_amount in range(1, 8):  # You can adjust the range as needed\n",
    "    decoded_text = decode(text, shift_amount)\n",
    "    print(f\"Shift Amount: {shift_amount}, Decoded Text: {decoded_text}\")\n"
   ]
  },
  {
   "cell_type": "code",
   "execution_count": null,
   "metadata": {},
   "outputs": [],
   "source": []
  }
 ],
 "metadata": {
  "kernelspec": {
   "display_name": "Python 3",
   "language": "python",
   "name": "python3"
  },
  "language_info": {
   "codemirror_mode": {
    "name": "ipython",
    "version": 3
   },
   "file_extension": ".py",
   "mimetype": "text/x-python",
   "name": "python",
   "nbconvert_exporter": "python",
   "pygments_lexer": "ipython3",
   "version": "3.8.10"
  }
 },
 "nbformat": 4,
 "nbformat_minor": 2
}
