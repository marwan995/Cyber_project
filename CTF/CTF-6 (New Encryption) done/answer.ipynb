{
 "cells": [
  {
   "cell_type": "code",
   "execution_count": 19,
   "metadata": {},
   "outputs": [],
   "source": [
    "encrypted_text = \"jikmkjgekjkckjkbknkjlhgekflgkjgekbkfkpknkcklgekfgekbkdlkkjgcgejlkjgekckjkjkigelikdgekfkhligekkkflhligc\""
   ]
  },
  {
   "cell_type": "code",
   "execution_count": 6,
   "metadata": {},
   "outputs": [
    {
     "name": "stdout",
     "output_type": "stream",
     "text": [
      "gcgb\n"
     ]
    }
   ],
   "source": [
    "import string\n",
    "\n",
    "START = ord(\"a\")\n",
    "CHARSET = string.ascii_lowercase[:16]\n",
    "\n",
    "def encode_b16(plain):\n",
    "\tencoded = \"\"\n",
    "\tfor c in plain:\n",
    "\t\tbinary = \"{0:08b}\".format(ord(c))\n",
    "\t\tencoded += (CHARSET[int(binary[:4], 2)] + CHARSET[int(binary[4:], 2)])\n",
    "\treturn encoded\n",
    "\n",
    "def caesar_shift(c, k):\n",
    "\treturn CHARSET[(ord(c) + ord(k) - 2 * START) % len(CHARSET)]\n",
    "\n",
    "\n",
    "\n",
    "flag = \"ba\"\n",
    "# hint: key is a single letter\n",
    "key = \"a\"\n",
    "\n",
    "b16 = encode_b16(flag)\n",
    "enc = \"\"\n",
    "for i, c in enumerate(b16):\n",
    "\tenc += caesar_shift(c, key[i % len(key)])\n",
    "print(enc)"
   ]
  },
  {
   "cell_type": "code",
   "execution_count": 20,
   "metadata": {},
   "outputs": [
    {
     "name": "stdout",
     "output_type": "stream",
     "text": [
      "0 Decrypted text: ¬©d©¢©¡­©·d¥¶©d¡¥¯­¢«d¥d¡£º©bd©d¢©©¨d¸£d¥§¸dª¥·¸b\n",
      "1 Decrypted text: S¦S¥SSS©QSSS§S§S¦§Q\n",
      "2 Decrypted text: vBBBBB@ByBBBB@\n",
      "3 Decrypted text: eyv1vv~zv1rv1~r|zx1r1~pv?1hv1vvu1p1rt1wr?\n",
      "4 Decrypted text: The enemies are making a move. We need to act fast.\n",
      "5 Decrypted text: CWT\u001fT]T\\XTb\u001fPaT\u001f\\PZX]V\u001fP\u001f\\^eT\u001d\u001fFT\u001f]TTS\u001fc^\u001fPRc\u001fUPbc\u001d\n",
      "6 Decrypted text: 2FC\u000eCLCKGCQ\u000eOPC\u000eKOIGLE\u000eO\u000eKMTC\f\u000e5C\u000eLCCB\u000eRM\u000eOAR\u000eDOQR\f\n",
      "7 Decrypted text: !52ý2;2:62@ý>O2ý:>86;4ý>ý:<C2ûý$2ý;221ýA<ý>0Aý3>@Aû\n",
      "8 Decrypted text: \u0010$!ì!*!)%!?ì->!ì)-'%*#ì-ì)+2!êì\u0013!ì*!! ì0+ì-/0ì\"-?0ê\n",
      "9 Decrypted text: \u000f\u0013\u0010Û\u0010\u0019\u0010\u0018\u0014\u0010.Û\u001c-\u0010Û\u0018\u001c\u0016\u0014\u0019\u0012Û\u001cÛ\u0018\u001a!\u0010ÙÛ\u0002\u0010Û\u0019\u0010\u0010\u001fÛ/\u001aÛ\u001c\u001e/Û\u0011\u001c./Ù\n",
      "\u001eÊ\u0000\u000b\u001d\u001eÈypted text: þ\u0002\u000fÊ\u000f\u0007\u0003\u000f\u001dÊ\u000b\u001c\u000fÊ\u0007\u000b\u0005\u0001Ê\u000bÊ\u0007\t\u0010\u000fÈÊñ\u000f\u000f\u000f\u000eÊ\u001e\tÊ\u000b\n",
      "·ÿú\fecrypted text: íñþ¹þ÷þöòþ\f¹ú\u000bþ¹öúôò÷ð¹ú¹öø\u000fþ·¹àþ¹÷þþý¹\n",
      "12 Decrypted text: Üàí¨íæíåáíû¨éúí¨åéãáæï¨é¨åçþí¦¨ßí¨æííì¨üç¨éëü¨îéûü¦\n",
      "13 Decrypted text: ËßÜÜÕÜÔÐÜêØéÜÔØÒÐÕÞØÔÖíÜÎÜÕÜÜÛëÖØÚëÝØêë\n",
      "14 Decrypted text: ºÎËËÄËÃÏËÙÇØËÃÇÁÏÄÍÇÃÅÜË½ËÄËËÊÚÅÇÉÚÌÇÙÚ\n",
      "15 Decrypted text: ©½ºuº³º²¾ºÈu¶Çºu²¶°¾³¼u¶u²´Ëºsu¬ºu³ºº¹uÉ´u¶¸Éu»¶ÈÉs\n",
      "16 Decrypted text: ¬©d©¢©¡­©·d¥¶©d¡¥¯­¢«d¥d¡£º©bd©d¢©©¨d¸£d¥§¸dª¥·¸b\n",
      "17 Decrypted text: S¦S¥SSS©QSSS§S§S¦§Q\n",
      "18 Decrypted text: vBBBBB@ByBBBB@\n",
      "19 Decrypted text: eyv1vv~zv1rv1~r|zx1r1~pv?1hv1vvu1p1rt1wr?\n",
      "20 Decrypted text: The enemies are making a move. We need to act fast.\n",
      "21 Decrypted text: CWT\u001fT]T\\XTb\u001fPaT\u001f\\PZX]V\u001fP\u001f\\^eT\u001d\u001fFT\u001f]TTS\u001fc^\u001fPRc\u001fUPbc\u001d\n",
      "22 Decrypted text: 2FC\u000eCLCKGCQ\u000eOPC\u000eKOIGLE\u000eO\u000eKMTC\f\u000e5C\u000eLCCB\u000eRM\u000eOAR\u000eDOQR\f\n",
      "23 Decrypted text: !52ý2;2:62@ý>O2ý:>86;4ý>ý:<C2ûý$2ý;221ýA<ý>0Aý3>@Aû\n",
      "24 Decrypted text: \u0010$!ì!*!)%!?ì->!ì)-'%*#ì-ì)+2!êì\u0013!ì*!! ì0+ì-/0ì\"-?0ê\n",
      "25 Decrypted text: \u000f\u0013\u0010Û\u0010\u0019\u0010\u0018\u0014\u0010.Û\u001c-\u0010Û\u0018\u001c\u0016\u0014\u0019\u0012Û\u001cÛ\u0018\u001a!\u0010ÙÛ\u0002\u0010Û\u0019\u0010\u0010\u001fÛ/\u001aÛ\u001c\u001e/Û\u0011\u001c./Ù\n",
      "\u001eÊ\u0000\u000b\u001d\u001eÈypted text: þ\u0002\u000fÊ\u000f\u0007\u0003\u000f\u001dÊ\u000b\u001c\u000fÊ\u0007\u000b\u0005\u0001Ê\u000bÊ\u0007\t\u0010\u000fÈÊñ\u000f\u000f\u000f\u000eÊ\u001e\tÊ\u000b\n"
     ]
    }
   ],
   "source": [
    "def decode_b16(encoded):\n",
    "    decoded = \"\"\n",
    "    for i in range(0, len(encoded), 2):\n",
    "        binary = \"{:04b}{:04b}\".format(CHARSET.index(encoded[i]), CHARSET.index(encoded[i+1]))\n",
    "        decoded += chr(int(binary, 2))\n",
    "    return decoded\n",
    "\n",
    "def caesar_shift_back(c, k):\n",
    "    return CHARSET[(ord(c) - ord(k) + len(CHARSET)) % len(CHARSET)]\n",
    "\n",
    "# Encrypted text to decrypt\n",
    "def decrypt(key):\n",
    "    # Decrypting the text\n",
    "    decrypted_text = \"\"\n",
    "    for i, c in enumerate(encrypted_text):\n",
    "        decrypted_text += caesar_shift_back(c, key[i % len(key)])\n",
    "\n",
    "    # Decode Base16\n",
    "\n",
    "    decoded_text = decode_b16(decrypted_text)\n",
    "    return decoded_text;\n",
    "for i in range(0,27):\n",
    "    print( f\"{i} Decrypted text:\", decrypt(chr(ord('a')+i)))\n"
   ]
  },
  {
   "cell_type": "code",
   "execution_count": null,
   "metadata": {},
   "outputs": [],
   "source": []
  }
 ],
 "metadata": {
  "kernelspec": {
   "display_name": "Python 3",
   "language": "python",
   "name": "python3"
  },
  "language_info": {
   "codemirror_mode": {
    "name": "ipython",
    "version": 3
   },
   "file_extension": ".py",
   "mimetype": "text/x-python",
   "name": "python",
   "nbconvert_exporter": "python",
   "pygments_lexer": "ipython3",
   "version": "3.8.10"
  }
 },
 "nbformat": 4,
 "nbformat_minor": 2
}
