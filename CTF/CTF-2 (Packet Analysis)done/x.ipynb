{
 "cells": [
  {
   "cell_type": "code",
   "execution_count": 4,
   "metadata": {},
   "outputs": [
    {
     "name": "stdout",
     "output_type": "stream",
     "text": [
      "Decoded Text: Error decoding octet-stream: non-hexadecimal number found in fromhex() arg at position 0\n"
     ]
    }
   ],
   "source": [
    "def decode_octet_stream(hex_data):\n",
    "    try:\n",
    "        # Convert hexadecimal string to bytes\n",
    "        octet_data = bytes.fromhex(hex_data)\n",
    "\n",
    "        # Decode binary data as UTF-8 string\n",
    "        decoded_data = octet_data.decode('utf-8')\n",
    "        return decoded_data\n",
    "    except Exception as e:\n",
    "        return f\"Error decoding octet-stream: {e}\"\n",
    "\n",
    "\n",
    "if __name__ == \"__main__\":\n",
    "    octet_stream_hex = input(\"Enter the octet-stream data in hexadecimal format: \")\n",
    "    decoded_text = decode_octet_stream(octet_stream_hex)\n",
    "    print(\"Decoded Text:\", decoded_text)\n"
   ]
  },
  {
   "cell_type": "code",
   "execution_count": 5,
   "metadata": {},
   "outputs": [
    {
     "name": "stdout",
     "output_type": "stream",
     "text": [
      "Decrypted text: Gur synt vf cvpbPGS{c33xno00_1_f33_h_qrnqorrs}\n",
      "Decrypted text: Ftq rxms ue buoaOFR{b33wmn00_1_e33_g_pqmpnqqr}\n",
      "Decrypted text: Esp qwlr td atnzNEQ{a33vlm00_1_d33_f_oplomppq}\n",
      "Decrypted text: Dro pvkq sc zsmyMDP{z33ukl00_1_c33_e_noknloop}\n",
      "Decrypted text: Cqn oujp rb yrlxLCO{y33tjk00_1_b33_d_mnjmknno}\n",
      "Decrypted text: Bpm ntio qa xqkwKBN{x33sij00_1_a33_c_lmiljmmn}\n",
      "Decrypted text: Aol mshn pz wpjvJAM{w33rhi00_1_z33_b_klhkillm}\n",
      "Decrypted text: Znk lrgm oy voiuIZL{v33qgh00_1_y33_a_jkgjhkkl}\n",
      "Decrypted text: Ymj kqfl nx unhtHYK{u33pfg00_1_x33_z_ijfigjjk}\n",
      "Decrypted text: Xli jpek mw tmgsGXJ{t33oef00_1_w33_y_hiehfiij}\n",
      "Decrypted text: Wkh iodj lv slfrFWI{s33nde00_1_v33_x_ghdgehhi}\n",
      "Decrypted text: Vjg hnci ku rkeqEVH{r33mcd00_1_u33_w_fgcfdggh}\n",
      "Decrypted text: Uif gmbh jt qjdpDUG{q33lbc00_1_t33_v_efbecffg}\n",
      "Decrypted text: The flag is picoCTF{p33kab00_1_s33_u_deadbeef}\n",
      "Decrypted text: Sgd ekzf hr ohbnBSE{o33jza00_1_r33_t_cdzcadde}\n",
      "Decrypted text: Rfc djye gq ngamARD{n33iyz00_1_q33_s_bcybzccd}\n",
      "Decrypted text: Qeb cixd fp mfzlZQC{m33hxy00_1_p33_r_abxaybbc}\n",
      "Decrypted text: Pda bhwc eo leykYPB{l33gwx00_1_o33_q_zawzxaab}\n",
      "Decrypted text: Ocz agvb dn kdxjXOA{k33fvw00_1_n33_p_yzvywzza}\n",
      "Decrypted text: Nby zfua cm jcwiWNZ{j33euv00_1_m33_o_xyuxvyyz}\n",
      "Decrypted text: Max yetz bl ibvhVMY{i33dtu00_1_l33_n_wxtwuxxy}\n",
      "Decrypted text: Lzw xdsy ak haugULX{h33cst00_1_k33_m_vwsvtwwx}\n",
      "Decrypted text: Kyv wcrx zj gztfTKW{g33brs00_1_j33_l_uvrusvvw}\n",
      "Decrypted text: Jxu vbqw yi fyseSJV{f33aqr00_1_i33_k_tuqtruuv}\n",
      "Decrypted text: Iwt uapv xh exrdRIU{e33zpq00_1_h33_j_stpsqttu}\n",
      "Decrypted text: Hvs tzou wg dwqcQHT{d33yop00_1_g33_i_rsorpsst}\n"
     ]
    }
   ],
   "source": [
    "def caesar_cipher_decrypt(text, shift):\n",
    "    decrypted_text = ''\n",
    "    for char in text:\n",
    "        if char.isalpha():\n",
    "            shifted_char = chr(((ord(char) - shift - 65) % 26) + 65) if char.isupper() else chr(((ord(char) - shift - 97) % 26) + 97)\n",
    "            decrypted_text += shifted_char\n",
    "        else:\n",
    "            decrypted_text += char\n",
    "    return decrypted_text\n",
    "\n",
    "# Example usage:\n",
    "encrypted_text = \"Gur synt vf cvpbPGS{c33xno00_1_f33_h_qrnqorrs}\"\n",
    "for i in range(0,26):    \n",
    "    decrypted_text = caesar_cipher_decrypt(encrypted_text, i)\n",
    "    print(\"Decrypted text:\", decrypted_text)"
   ]
  },
  {
   "cell_type": "code",
   "execution_count": null,
   "metadata": {},
   "outputs": [],
   "source": []
  }
 ],
 "metadata": {
  "kernelspec": {
   "display_name": "Python 3",
   "language": "python",
   "name": "python3"
  },
  "language_info": {
   "codemirror_mode": {
    "name": "ipython",
    "version": 3
   },
   "file_extension": ".py",
   "mimetype": "text/x-python",
   "name": "python",
   "nbconvert_exporter": "python",
   "pygments_lexer": "ipython3",
   "version": "3.8.10"
  }
 },
 "nbformat": 4,
 "nbformat_minor": 2
}
